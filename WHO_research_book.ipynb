{
 "cells": [
  {
   "cell_type": "markdown",
   "id": "4c98af6e",
   "metadata": {},
   "source": [
    "![S Legend](https://encrypted-tbn0.gstatic.com/images?q=tbn:ANd9GcSTwIpP7v3ycNMnjghyjhgmuA91On6Ylqd3BA&s)"
   ]
  },
  {
   "cell_type": "markdown",
   "id": "186951d1",
   "metadata": {},
   "source": [
    "# Team S Legend"
   ]
  },
  {
   "cell_type": "code",
   "execution_count": 6,
   "id": "7d2f98c6",
   "metadata": {},
   "outputs": [],
   "source": [
    "import pandas as pd\n",
    "import numpy as np\n",
    "from sklearn.model_selection import train_test_split\n",
    "import statsmodels.api as sm\n",
    "from statsmodels.stats.outliers_influence import variance_inflation_factor\n",
    "\n",
    "import matplotlib.pyplot as plt\n",
    "import seaborn as sns"
   ]
  },
  {
   "cell_type": "code",
   "execution_count": 3,
   "id": "b22fb1f7",
   "metadata": {},
   "outputs": [],
   "source": [
    "raw_data = pd.read_csv('Life Expectancy Data.csv')"
   ]
  },
  {
   "cell_type": "code",
   "execution_count": 4,
   "id": "f02c7949",
   "metadata": {},
   "outputs": [
    {
     "data": {
      "text/html": [
       "<div>\n",
       "<style scoped>\n",
       "    .dataframe tbody tr th:only-of-type {\n",
       "        vertical-align: middle;\n",
       "    }\n",
       "\n",
       "    .dataframe tbody tr th {\n",
       "        vertical-align: top;\n",
       "    }\n",
       "\n",
       "    .dataframe thead th {\n",
       "        text-align: right;\n",
       "    }\n",
       "</style>\n",
       "<table border=\"1\" class=\"dataframe\">\n",
       "  <thead>\n",
       "    <tr style=\"text-align: right;\">\n",
       "      <th></th>\n",
       "      <th>Country</th>\n",
       "      <th>Region</th>\n",
       "      <th>Year</th>\n",
       "      <th>Infant_deaths</th>\n",
       "      <th>Under_five_deaths</th>\n",
       "      <th>Adult_mortality</th>\n",
       "      <th>Alcohol_consumption</th>\n",
       "      <th>Hepatitis_B</th>\n",
       "      <th>Measles</th>\n",
       "      <th>BMI</th>\n",
       "      <th>...</th>\n",
       "      <th>Diphtheria</th>\n",
       "      <th>Incidents_HIV</th>\n",
       "      <th>GDP_per_capita</th>\n",
       "      <th>Population_mln</th>\n",
       "      <th>Thinness_ten_nineteen_years</th>\n",
       "      <th>Thinness_five_nine_years</th>\n",
       "      <th>Schooling</th>\n",
       "      <th>Economy_status_Developed</th>\n",
       "      <th>Economy_status_Developing</th>\n",
       "      <th>Life_expectancy</th>\n",
       "    </tr>\n",
       "  </thead>\n",
       "  <tbody>\n",
       "    <tr>\n",
       "      <th>0</th>\n",
       "      <td>Turkiye</td>\n",
       "      <td>Middle East</td>\n",
       "      <td>2015</td>\n",
       "      <td>11.1</td>\n",
       "      <td>13.0</td>\n",
       "      <td>105.8240</td>\n",
       "      <td>1.32</td>\n",
       "      <td>97</td>\n",
       "      <td>65</td>\n",
       "      <td>27.8</td>\n",
       "      <td>...</td>\n",
       "      <td>97</td>\n",
       "      <td>0.08</td>\n",
       "      <td>11006</td>\n",
       "      <td>78.53</td>\n",
       "      <td>4.9</td>\n",
       "      <td>4.8</td>\n",
       "      <td>7.8</td>\n",
       "      <td>0</td>\n",
       "      <td>1</td>\n",
       "      <td>76.5</td>\n",
       "    </tr>\n",
       "    <tr>\n",
       "      <th>1</th>\n",
       "      <td>Spain</td>\n",
       "      <td>European Union</td>\n",
       "      <td>2015</td>\n",
       "      <td>2.7</td>\n",
       "      <td>3.3</td>\n",
       "      <td>57.9025</td>\n",
       "      <td>10.35</td>\n",
       "      <td>97</td>\n",
       "      <td>94</td>\n",
       "      <td>26.0</td>\n",
       "      <td>...</td>\n",
       "      <td>97</td>\n",
       "      <td>0.09</td>\n",
       "      <td>25742</td>\n",
       "      <td>46.44</td>\n",
       "      <td>0.6</td>\n",
       "      <td>0.5</td>\n",
       "      <td>9.7</td>\n",
       "      <td>1</td>\n",
       "      <td>0</td>\n",
       "      <td>82.8</td>\n",
       "    </tr>\n",
       "    <tr>\n",
       "      <th>2</th>\n",
       "      <td>India</td>\n",
       "      <td>Asia</td>\n",
       "      <td>2007</td>\n",
       "      <td>51.5</td>\n",
       "      <td>67.9</td>\n",
       "      <td>201.0765</td>\n",
       "      <td>1.57</td>\n",
       "      <td>60</td>\n",
       "      <td>35</td>\n",
       "      <td>21.2</td>\n",
       "      <td>...</td>\n",
       "      <td>64</td>\n",
       "      <td>0.13</td>\n",
       "      <td>1076</td>\n",
       "      <td>1183.21</td>\n",
       "      <td>27.1</td>\n",
       "      <td>28.0</td>\n",
       "      <td>5.0</td>\n",
       "      <td>0</td>\n",
       "      <td>1</td>\n",
       "      <td>65.4</td>\n",
       "    </tr>\n",
       "    <tr>\n",
       "      <th>3</th>\n",
       "      <td>Guyana</td>\n",
       "      <td>South America</td>\n",
       "      <td>2006</td>\n",
       "      <td>32.8</td>\n",
       "      <td>40.5</td>\n",
       "      <td>222.1965</td>\n",
       "      <td>5.68</td>\n",
       "      <td>93</td>\n",
       "      <td>74</td>\n",
       "      <td>25.3</td>\n",
       "      <td>...</td>\n",
       "      <td>93</td>\n",
       "      <td>0.79</td>\n",
       "      <td>4146</td>\n",
       "      <td>0.75</td>\n",
       "      <td>5.7</td>\n",
       "      <td>5.5</td>\n",
       "      <td>7.9</td>\n",
       "      <td>0</td>\n",
       "      <td>1</td>\n",
       "      <td>67.0</td>\n",
       "    </tr>\n",
       "    <tr>\n",
       "      <th>4</th>\n",
       "      <td>Israel</td>\n",
       "      <td>Middle East</td>\n",
       "      <td>2012</td>\n",
       "      <td>3.4</td>\n",
       "      <td>4.3</td>\n",
       "      <td>57.9510</td>\n",
       "      <td>2.89</td>\n",
       "      <td>97</td>\n",
       "      <td>89</td>\n",
       "      <td>27.0</td>\n",
       "      <td>...</td>\n",
       "      <td>94</td>\n",
       "      <td>0.08</td>\n",
       "      <td>33995</td>\n",
       "      <td>7.91</td>\n",
       "      <td>1.2</td>\n",
       "      <td>1.1</td>\n",
       "      <td>12.8</td>\n",
       "      <td>1</td>\n",
       "      <td>0</td>\n",
       "      <td>81.7</td>\n",
       "    </tr>\n",
       "  </tbody>\n",
       "</table>\n",
       "<p>5 rows × 21 columns</p>\n",
       "</div>"
      ],
      "text/plain": [
       "   Country          Region  Year  Infant_deaths  Under_five_deaths  \\\n",
       "0  Turkiye     Middle East  2015           11.1               13.0   \n",
       "1    Spain  European Union  2015            2.7                3.3   \n",
       "2    India            Asia  2007           51.5               67.9   \n",
       "3   Guyana   South America  2006           32.8               40.5   \n",
       "4   Israel     Middle East  2012            3.4                4.3   \n",
       "\n",
       "   Adult_mortality  Alcohol_consumption  Hepatitis_B  Measles   BMI  ...  \\\n",
       "0         105.8240                 1.32           97       65  27.8  ...   \n",
       "1          57.9025                10.35           97       94  26.0  ...   \n",
       "2         201.0765                 1.57           60       35  21.2  ...   \n",
       "3         222.1965                 5.68           93       74  25.3  ...   \n",
       "4          57.9510                 2.89           97       89  27.0  ...   \n",
       "\n",
       "   Diphtheria  Incidents_HIV  GDP_per_capita  Population_mln  \\\n",
       "0          97           0.08           11006           78.53   \n",
       "1          97           0.09           25742           46.44   \n",
       "2          64           0.13            1076         1183.21   \n",
       "3          93           0.79            4146            0.75   \n",
       "4          94           0.08           33995            7.91   \n",
       "\n",
       "   Thinness_ten_nineteen_years  Thinness_five_nine_years  Schooling  \\\n",
       "0                          4.9                       4.8        7.8   \n",
       "1                          0.6                       0.5        9.7   \n",
       "2                         27.1                      28.0        5.0   \n",
       "3                          5.7                       5.5        7.9   \n",
       "4                          1.2                       1.1       12.8   \n",
       "\n",
       "   Economy_status_Developed  Economy_status_Developing  Life_expectancy  \n",
       "0                         0                          1             76.5  \n",
       "1                         1                          0             82.8  \n",
       "2                         0                          1             65.4  \n",
       "3                         0                          1             67.0  \n",
       "4                         1                          0             81.7  \n",
       "\n",
       "[5 rows x 21 columns]"
      ]
     },
     "execution_count": 4,
     "metadata": {},
     "output_type": "execute_result"
    }
   ],
   "source": [
    "raw_data.head()"
   ]
  },
  {
   "cell_type": "code",
   "execution_count": 16,
   "id": "097d0c05",
   "metadata": {},
   "outputs": [
    {
     "data": {
      "text/plain": [
       "(2864, 21)"
      ]
     },
     "execution_count": 16,
     "metadata": {},
     "output_type": "execute_result"
    }
   ],
   "source": [
    "raw_data.shape"
   ]
  },
  {
   "cell_type": "code",
   "execution_count": 5,
   "id": "775cdeb3",
   "metadata": {},
   "outputs": [
    {
     "data": {
      "text/plain": [
       "Country                        0\n",
       "Region                         0\n",
       "Year                           0\n",
       "Infant_deaths                  0\n",
       "Under_five_deaths              0\n",
       "Adult_mortality                0\n",
       "Alcohol_consumption            0\n",
       "Hepatitis_B                    0\n",
       "Measles                        0\n",
       "BMI                            0\n",
       "Polio                          0\n",
       "Diphtheria                     0\n",
       "Incidents_HIV                  0\n",
       "GDP_per_capita                 0\n",
       "Population_mln                 0\n",
       "Thinness_ten_nineteen_years    0\n",
       "Thinness_five_nine_years       0\n",
       "Schooling                      0\n",
       "Economy_status_Developed       0\n",
       "Economy_status_Developing      0\n",
       "Life_expectancy                0\n",
       "dtype: int64"
      ]
     },
     "execution_count": 5,
     "metadata": {},
     "output_type": "execute_result"
    }
   ],
   "source": [
    "raw_data.isnull().sum()"
   ]
  },
  {
   "cell_type": "code",
   "execution_count": 12,
   "id": "50a13215",
   "metadata": {},
   "outputs": [
    {
     "data": {
      "text/plain": [
       "Country                         object\n",
       "Region                          object\n",
       "Year                             int64\n",
       "Infant_deaths                  float64\n",
       "Under_five_deaths              float64\n",
       "Adult_mortality                float64\n",
       "Alcohol_consumption            float64\n",
       "Hepatitis_B                      int64\n",
       "Measles                          int64\n",
       "BMI                            float64\n",
       "Polio                            int64\n",
       "Diphtheria                       int64\n",
       "Incidents_HIV                  float64\n",
       "GDP_per_capita                   int64\n",
       "Population_mln                 float64\n",
       "Thinness_ten_nineteen_years    float64\n",
       "Thinness_five_nine_years       float64\n",
       "Schooling                      float64\n",
       "Economy_status_Developed         int64\n",
       "Economy_status_Developing        int64\n",
       "Life_expectancy                float64\n",
       "dtype: object"
      ]
     },
     "execution_count": 12,
     "metadata": {},
     "output_type": "execute_result"
    }
   ],
   "source": [
    "raw_data.dtypes"
   ]
  },
  {
   "cell_type": "code",
   "execution_count": 13,
   "id": "2dead15d",
   "metadata": {},
   "outputs": [],
   "source": [
    "raw_data.Region = raw_data.Region.astype('category')"
   ]
  },
  {
   "cell_type": "code",
   "execution_count": 14,
   "id": "92448952",
   "metadata": {},
   "outputs": [
    {
     "data": {
      "text/plain": [
       "['Middle East', 'European Union', 'Asia', 'South America', 'Central America and Caribbean', 'Rest of Europe', 'Africa', 'Oceania', 'North America']\n",
       "Categories (9, object): ['Africa', 'Asia', 'Central America and Caribbean', 'European Union', ..., 'North America', 'Oceania', 'Rest of Europe', 'South America']"
      ]
     },
     "execution_count": 14,
     "metadata": {},
     "output_type": "execute_result"
    }
   ],
   "source": [
    "raw_data.Region.unique()"
   ]
  },
  {
   "cell_type": "code",
   "execution_count": 40,
   "id": "3db6b56c",
   "metadata": {},
   "outputs": [],
   "source": [
    "raw_data.Country = raw_data.Country.astype('category')"
   ]
  },
  {
   "cell_type": "code",
   "execution_count": 41,
   "id": "4abe50a2",
   "metadata": {},
   "outputs": [],
   "source": [
    "raw_data=raw_data.sort_values(by=['Country', 'Year']).reset_index(drop=True)"
   ]
  },
  {
   "cell_type": "code",
   "execution_count": 42,
   "id": "0b48ded6",
   "metadata": {},
   "outputs": [
    {
     "data": {
      "text/html": [
       "<div>\n",
       "<style scoped>\n",
       "    .dataframe tbody tr th:only-of-type {\n",
       "        vertical-align: middle;\n",
       "    }\n",
       "\n",
       "    .dataframe tbody tr th {\n",
       "        vertical-align: top;\n",
       "    }\n",
       "\n",
       "    .dataframe thead th {\n",
       "        text-align: right;\n",
       "    }\n",
       "</style>\n",
       "<table border=\"1\" class=\"dataframe\">\n",
       "  <thead>\n",
       "    <tr style=\"text-align: right;\">\n",
       "      <th></th>\n",
       "      <th>Country</th>\n",
       "      <th>Region</th>\n",
       "      <th>Year</th>\n",
       "      <th>Infant_deaths</th>\n",
       "      <th>Under_five_deaths</th>\n",
       "      <th>Adult_mortality</th>\n",
       "      <th>Alcohol_consumption</th>\n",
       "      <th>Hepatitis_B</th>\n",
       "      <th>Measles</th>\n",
       "      <th>BMI</th>\n",
       "      <th>...</th>\n",
       "      <th>Diphtheria</th>\n",
       "      <th>Incidents_HIV</th>\n",
       "      <th>GDP_per_capita</th>\n",
       "      <th>Population_mln</th>\n",
       "      <th>Thinness_ten_nineteen_years</th>\n",
       "      <th>Thinness_five_nine_years</th>\n",
       "      <th>Schooling</th>\n",
       "      <th>Economy_status_Developed</th>\n",
       "      <th>Economy_status_Developing</th>\n",
       "      <th>Life_expectancy</th>\n",
       "    </tr>\n",
       "  </thead>\n",
       "  <tbody>\n",
       "    <tr>\n",
       "      <th>0</th>\n",
       "      <td>Afghanistan</td>\n",
       "      <td>Asia</td>\n",
       "      <td>2000</td>\n",
       "      <td>90.5</td>\n",
       "      <td>129.2</td>\n",
       "      <td>310.8305</td>\n",
       "      <td>0.02</td>\n",
       "      <td>62</td>\n",
       "      <td>12</td>\n",
       "      <td>21.7</td>\n",
       "      <td>...</td>\n",
       "      <td>24</td>\n",
       "      <td>0.02</td>\n",
       "      <td>148</td>\n",
       "      <td>20.78</td>\n",
       "      <td>2.3</td>\n",
       "      <td>2.5</td>\n",
       "      <td>2.2</td>\n",
       "      <td>0</td>\n",
       "      <td>1</td>\n",
       "      <td>55.8</td>\n",
       "    </tr>\n",
       "    <tr>\n",
       "      <th>1</th>\n",
       "      <td>Afghanistan</td>\n",
       "      <td>Asia</td>\n",
       "      <td>2001</td>\n",
       "      <td>87.9</td>\n",
       "      <td>125.2</td>\n",
       "      <td>304.8580</td>\n",
       "      <td>0.02</td>\n",
       "      <td>63</td>\n",
       "      <td>13</td>\n",
       "      <td>21.8</td>\n",
       "      <td>...</td>\n",
       "      <td>33</td>\n",
       "      <td>0.02</td>\n",
       "      <td>163</td>\n",
       "      <td>21.61</td>\n",
       "      <td>2.1</td>\n",
       "      <td>2.4</td>\n",
       "      <td>2.2</td>\n",
       "      <td>0</td>\n",
       "      <td>1</td>\n",
       "      <td>56.3</td>\n",
       "    </tr>\n",
       "    <tr>\n",
       "      <th>2</th>\n",
       "      <td>Afghanistan</td>\n",
       "      <td>Asia</td>\n",
       "      <td>2002</td>\n",
       "      <td>85.3</td>\n",
       "      <td>121.1</td>\n",
       "      <td>298.8855</td>\n",
       "      <td>0.02</td>\n",
       "      <td>64</td>\n",
       "      <td>14</td>\n",
       "      <td>21.9</td>\n",
       "      <td>...</td>\n",
       "      <td>36</td>\n",
       "      <td>0.02</td>\n",
       "      <td>320</td>\n",
       "      <td>22.60</td>\n",
       "      <td>19.9</td>\n",
       "      <td>2.2</td>\n",
       "      <td>2.3</td>\n",
       "      <td>0</td>\n",
       "      <td>1</td>\n",
       "      <td>56.8</td>\n",
       "    </tr>\n",
       "    <tr>\n",
       "      <th>3</th>\n",
       "      <td>Afghanistan</td>\n",
       "      <td>Asia</td>\n",
       "      <td>2003</td>\n",
       "      <td>82.7</td>\n",
       "      <td>116.9</td>\n",
       "      <td>292.0365</td>\n",
       "      <td>0.02</td>\n",
       "      <td>65</td>\n",
       "      <td>15</td>\n",
       "      <td>22.0</td>\n",
       "      <td>...</td>\n",
       "      <td>41</td>\n",
       "      <td>0.02</td>\n",
       "      <td>332</td>\n",
       "      <td>23.68</td>\n",
       "      <td>19.7</td>\n",
       "      <td>19.9</td>\n",
       "      <td>2.4</td>\n",
       "      <td>0</td>\n",
       "      <td>1</td>\n",
       "      <td>57.3</td>\n",
       "    </tr>\n",
       "    <tr>\n",
       "      <th>4</th>\n",
       "      <td>Afghanistan</td>\n",
       "      <td>Asia</td>\n",
       "      <td>2004</td>\n",
       "      <td>80.0</td>\n",
       "      <td>112.6</td>\n",
       "      <td>285.1880</td>\n",
       "      <td>0.02</td>\n",
       "      <td>67</td>\n",
       "      <td>16</td>\n",
       "      <td>22.1</td>\n",
       "      <td>...</td>\n",
       "      <td>50</td>\n",
       "      <td>0.02</td>\n",
       "      <td>323</td>\n",
       "      <td>24.73</td>\n",
       "      <td>19.5</td>\n",
       "      <td>19.7</td>\n",
       "      <td>2.5</td>\n",
       "      <td>0</td>\n",
       "      <td>1</td>\n",
       "      <td>57.8</td>\n",
       "    </tr>\n",
       "  </tbody>\n",
       "</table>\n",
       "<p>5 rows × 21 columns</p>\n",
       "</div>"
      ],
      "text/plain": [
       "       Country Region  Year  Infant_deaths  Under_five_deaths  \\\n",
       "0  Afghanistan   Asia  2000           90.5              129.2   \n",
       "1  Afghanistan   Asia  2001           87.9              125.2   \n",
       "2  Afghanistan   Asia  2002           85.3              121.1   \n",
       "3  Afghanistan   Asia  2003           82.7              116.9   \n",
       "4  Afghanistan   Asia  2004           80.0              112.6   \n",
       "\n",
       "   Adult_mortality  Alcohol_consumption  Hepatitis_B  Measles   BMI  ...  \\\n",
       "0         310.8305                 0.02           62       12  21.7  ...   \n",
       "1         304.8580                 0.02           63       13  21.8  ...   \n",
       "2         298.8855                 0.02           64       14  21.9  ...   \n",
       "3         292.0365                 0.02           65       15  22.0  ...   \n",
       "4         285.1880                 0.02           67       16  22.1  ...   \n",
       "\n",
       "   Diphtheria  Incidents_HIV  GDP_per_capita  Population_mln  \\\n",
       "0          24           0.02             148           20.78   \n",
       "1          33           0.02             163           21.61   \n",
       "2          36           0.02             320           22.60   \n",
       "3          41           0.02             332           23.68   \n",
       "4          50           0.02             323           24.73   \n",
       "\n",
       "   Thinness_ten_nineteen_years  Thinness_five_nine_years  Schooling  \\\n",
       "0                          2.3                       2.5        2.2   \n",
       "1                          2.1                       2.4        2.2   \n",
       "2                         19.9                       2.2        2.3   \n",
       "3                         19.7                      19.9        2.4   \n",
       "4                         19.5                      19.7        2.5   \n",
       "\n",
       "   Economy_status_Developed  Economy_status_Developing  Life_expectancy  \n",
       "0                         0                          1             55.8  \n",
       "1                         0                          1             56.3  \n",
       "2                         0                          1             56.8  \n",
       "3                         0                          1             57.3  \n",
       "4                         0                          1             57.8  \n",
       "\n",
       "[5 rows x 21 columns]"
      ]
     },
     "execution_count": 42,
     "metadata": {},
     "output_type": "execute_result"
    }
   ],
   "source": [
    "raw_data.head()"
   ]
  },
  {
   "cell_type": "code",
   "execution_count": 43,
   "id": "37906c57",
   "metadata": {},
   "outputs": [
    {
     "name": "stderr",
     "output_type": "stream",
     "text": [
      "C:\\Users\\mpjau\\AppData\\Local\\Temp\\ipykernel_12580\\3956474153.py:3: FutureWarning: The default of observed=False is deprecated and will be changed to True in a future version of pandas. Pass observed=False to retain current behavior or observed=True to adopt the future default and silence this warning.\n",
      "  missing_years_countries = raw_data.groupby('Country').filter(\n"
     ]
    }
   ],
   "source": [
    "years_required = set(raw_data.Year)\n",
    "\n",
    "missing_years_countries = raw_data.groupby('Country').filter(\n",
    "    lambda x: set(x['Year']) != years_required\n",
    ")['Country']\n"
   ]
  },
  {
   "cell_type": "code",
   "execution_count": 44,
   "id": "858d65f0",
   "metadata": {},
   "outputs": [
    {
     "data": {
      "text/plain": [
       "Series([], Name: Country, dtype: category\n",
       "Categories (179, object): ['Afghanistan', 'Albania', 'Algeria', 'Angola', ..., 'Vietnam', 'Yemen, Rep.', 'Zambia', 'Zimbabwe'])"
      ]
     },
     "execution_count": 44,
     "metadata": {},
     "output_type": "execute_result"
    }
   ],
   "source": [
    "missing_years_countries"
   ]
  },
  {
   "cell_type": "markdown",
   "id": "15b9508c",
   "metadata": {},
   "source": [
    "SPLIT INTO TEST AND TRAIN"
   ]
  },
  {
   "cell_type": "code",
   "execution_count": 46,
   "id": "769eb731",
   "metadata": {},
   "outputs": [],
   "source": [
    "X = raw_data.drop(columns=['Life_expectancy'])\n",
    "y = raw_data['Life_expectancy']\n",
    "\n",
    "X_train, X_test, y_train, y_test = train_test_split(X, y, test_size=0.2, random_state=42)"
   ]
  },
  {
   "cell_type": "code",
   "execution_count": null,
   "id": "1bf7a8be",
   "metadata": {},
   "outputs": [],
   "source": []
  }
 ],
 "metadata": {
  "kernelspec": {
   "display_name": "Python 3",
   "language": "python",
   "name": "python3"
  },
  "language_info": {
   "codemirror_mode": {
    "name": "ipython",
    "version": 3
   },
   "file_extension": ".py",
   "mimetype": "text/x-python",
   "name": "python",
   "nbconvert_exporter": "python",
   "pygments_lexer": "ipython3",
   "version": "3.13.5"
  }
 },
 "nbformat": 4,
 "nbformat_minor": 5
}

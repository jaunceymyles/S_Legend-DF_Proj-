{
 "cells": [
  {
   "cell_type": "markdown",
   "id": "dd9f2926-6150-4e79-a28a-c570dee454be",
   "metadata": {},
   "source": [
    "# Validation"
   ]
  },
  {
   "cell_type": "markdown",
   "id": "d13bb7ff-7470-4f67-acf8-2361b0d11640",
   "metadata": {},
   "source": [
    "> Team Name: *S Legends*\n",
    ">\n",
    "> Team Members: Myles, Tani, Arjan, Archie"
   ]
  },
  {
   "cell_type": "code",
   "execution_count": 7,
   "id": "74879d22-4fd8-4ce8-8b83-4545181bd6b1",
   "metadata": {},
   "outputs": [],
   "source": [
    "import numpy as np\n",
    "import pandas as pd\n",
    "from sklearn.model_selection import train_test_split\n",
    "from sklearn.model_selection import KFold\n",
    "import statsmodels.api as sm\n",
    "import statsmodels.tools"
   ]
  },
  {
   "cell_type": "markdown",
   "id": "f059d615-ea9d-47d2-a819-27d3fe15ac74",
   "metadata": {},
   "source": [
    "**The validation method we use is K-fold cross-validation:**  "
   ]
  },
  {
   "cell_type": "markdown",
   "id": "b734367b-e700-4e78-a493-e6ad2bccdb1d",
   "metadata": {},
   "source": [
    "**What is K-fold cross-validation?**  \n",
    "This splits up the whole dataset into a K number of subsets (folds), and then uses K-1 folds as the training set and validates on the remaining 1 fold."
   ]
  },
  {
   "cell_type": "markdown",
   "id": "080b3c64-da1c-4321-be3d-c3fe9e61e280",
   "metadata": {},
   "source": [
    "**Why use K-fold cross_validation?**  \n",
    "This means that every observation in the data is used to test at least once and can provide a better estimate of the accuracy of the model."
   ]
  },
  {
   "cell_type": "code",
   "execution_count": 19,
   "id": "84757e2b-7d00-42f4-9213-e14a2cded95f",
   "metadata": {},
   "outputs": [],
   "source": [
    "df = pd.read_csv('Life Expectancy Data.csv') # Load the original dataset"
   ]
  },
  {
   "cell_type": "code",
   "execution_count": null,
   "id": "9a0a9ae0-410b-4208-93fb-81734ad1d261",
   "metadata": {},
   "outputs": [],
   "source": [
    "kf = KFold(n_splits = 5)\n"
   ]
  }
 ],
 "metadata": {
  "kernelspec": {
   "display_name": "Python [conda env:base] *",
   "language": "python",
   "name": "conda-base-py"
  },
  "language_info": {
   "codemirror_mode": {
    "name": "ipython",
    "version": 3
   },
   "file_extension": ".py",
   "mimetype": "text/x-python",
   "name": "python",
   "nbconvert_exporter": "python",
   "pygments_lexer": "ipython3",
   "version": "3.12.7"
  }
 },
 "nbformat": 4,
 "nbformat_minor": 5
}

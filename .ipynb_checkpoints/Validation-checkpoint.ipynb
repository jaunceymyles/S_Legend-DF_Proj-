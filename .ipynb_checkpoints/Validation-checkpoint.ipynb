{
 "cells": [
  {
   "cell_type": "markdown",
   "id": "dd9f2926-6150-4e79-a28a-c570dee454be",
   "metadata": {},
   "source": [
    "# Validation"
   ]
  },
  {
   "cell_type": "markdown",
   "id": "d13bb7ff-7470-4f67-acf8-2361b0d11640",
   "metadata": {},
   "source": [
    "> Team Name: *S Legends*\n",
    ">\n",
    "> Team Members: Myles, Tani, Arjan, Archie"
   ]
  },
  {
   "cell_type": "code",
   "execution_count": 106,
   "id": "74879d22-4fd8-4ce8-8b83-4545181bd6b1",
   "metadata": {},
   "outputs": [],
   "source": [
    "import numpy as np\n",
    "import pandas as pd\n",
    "from sklearn.model_selection import train_test_split\n",
    "from sklearn.model_selection import KFold\n",
    "import statsmodels.api as sm\n",
    "import statsmodels.tools\n",
    "from sklearn.preprocessing import StandardScaler\n",
    "from statsmodels.stats.outliers_influence import variance_inflation_factor"
   ]
  },
  {
   "cell_type": "markdown",
   "id": "f059d615-ea9d-47d2-a819-27d3fe15ac74",
   "metadata": {},
   "source": [
    "**The validation method we use is K-fold cross-validation:**  "
   ]
  },
  {
   "cell_type": "markdown",
   "id": "b734367b-e700-4e78-a493-e6ad2bccdb1d",
   "metadata": {},
   "source": [
    "**What is K-fold cross-validation?**  \n",
    "This splits up the whole dataset into a K number of subsets (folds), and then uses K-1 folds as the training set and validates on the remaining 1 fold."
   ]
  },
  {
   "cell_type": "markdown",
   "id": "080b3c64-da1c-4321-be3d-c3fe9e61e280",
   "metadata": {},
   "source": [
    "**Why use K-fold cross_validation?**  \n",
    "This means that every observation in the data is used to test one time and it can provide a better estimate of the accuracy of the model."
   ]
  },
  {
   "cell_type": "code",
   "execution_count": 19,
   "id": "84757e2b-7d00-42f4-9213-e14a2cded95f",
   "metadata": {},
   "outputs": [],
   "source": [
    "df = pd.read_csv('Life Expectancy Data.csv') # Load the original dataset"
   ]
  },
  {
   "cell_type": "code",
   "execution_count": 189,
   "id": "9a0a9ae0-410b-4208-93fb-81734ad1d261",
   "metadata": {},
   "outputs": [],
   "source": [
    "kf = KFold(n_splits = 5, shuffle=True, random_state = 42) # Initialise the KFold function, informing it how many splits to make"
   ]
  },
  {
   "cell_type": "code",
   "execution_count": 164,
   "id": "e5b16aea-6a01-4539-bf83-538946b877a8",
   "metadata": {},
   "outputs": [],
   "source": [
    "feature_cols = list(df.columns)\n",
    "feature_cols.remove('Life_expectancy')\n",
    "\n",
    "X = df[feature_cols]\n",
    "y = df['Life_expectancy']"
   ]
  },
  {
   "cell_type": "code",
   "execution_count": 193,
   "id": "51ec31ec-aa16-413d-a007-e090efaa5dc9",
   "metadata": {},
   "outputs": [],
   "source": [
    "fold_indices = [] # Store the train-test indices as a tuple for each fold\n",
    "\n",
    "for i, (train_indices, test_indices) in enumerate(kf.split(X)):\n",
    "    fold_indices.append((train_indices, test_indices))"
   ]
  },
  {
   "cell_type": "markdown",
   "id": "acfe88a1-a75c-4846-b6e6-f417fe9aa424",
   "metadata": {},
   "source": [
    "Feature Engineer using function made previously:"
   ]
  },
  {
   "cell_type": "code",
   "execution_count": 205,
   "id": "0bd1056e-fdf6-4797-8d35-96f64a264959",
   "metadata": {},
   "outputs": [],
   "source": [
    "# Function created to feature engineer.\n",
    "def feature_engineering(X):\n",
    "    \n",
    "    X = X.drop(columns = [\"Country\", \"Region\", \"Year\"])\n",
    "    \n",
    "    # Remove highly correlated features to reduce multicollinearity.\n",
    "    corr_matrix = X.corr().abs() # Creates a correlation matrix for all the values in the X dataframe, making sure its absolute values (this prevents a division by zero error).\n",
    "    upper = corr_matrix.where(np.triu(np.ones(corr_matrix.shape), k = 1).astype(bool)) # Takes the upper triangle of the correlation matrix, k = 1, is the upper diagonal, and changes the type to boolean.\n",
    "    to_drop = [column for column in upper.columns if any(upper[column] > 0.9)] # Takes all the columns with correlation greater than 0.9 in one list.\n",
    "    X = X.drop(columns=to_drop) # Drops all of the columns with the correlations > 0.9 - this is the feature selection step.\n",
    "\n",
    "    # Remove features with low variance or high VIF\n",
    "    X_scaled = StandardScaler().fit_transform(X) # Uses the StandardScaler() from sklearn and uses fit_transform on X to scale it using the mean and standard deviation.\n",
    "    X_df = pd.DataFrame(X_scaled, columns = X.columns) # Converts the above X_scaled back into a dataframe - as it is an np array.\n",
    "    \n",
    "    vif_data = pd.DataFrame()\n",
    "    vif_data[\"feature\"] = X_df.columns # Adds a column called feature and fills it with the columns from X.\n",
    "    vif_data[\"VIF\"] = [variance_inflation_factor(X_df.values, i) for i in range(X_df.shape[1])] # Iterates through and calculates the VIF for each feature.\n",
    "    X = X_df.drop(columns = vif_data[vif_data[\"VIF\"] > 10][\"feature\"]) # Drops the columns with a VIF value > 10, as this suggests high multicollinearity.\n",
    "\n",
    "    # Returns the feature engineered version of X.\n",
    "    return X"
   ]
  },
  {
   "cell_type": "markdown",
   "id": "081d8636-187e-41e4-be9f-35294e37a7e9",
   "metadata": {},
   "source": [
    "**Validation:**"
   ]
  },
  {
   "cell_type": "code",
   "execution_count": 211,
   "id": "70c79277-7a7d-49c5-87e0-0e4142ba83c7",
   "metadata": {},
   "outputs": [],
   "source": [
    "def validation(kf, fold_indices, X, y):\n",
    "    rmse = []\n",
    "    rsquared = []\n",
    "    cond_no = []\n",
    "    \n",
    "    for fold in range(kf.get_n_splits(X)+1):\n",
    "\n",
    "        # Training on the fold's training set\n",
    "        train_index = fold_indices[fold][0]\n",
    "        test_index = fold_indices[fold][1]\n",
    "        \n",
    "        X_fold_train = X.loc[train_index]\n",
    "        y_fold_train = y.loc[train_index]\n",
    "        \n",
    "        X_fold_train_fe = feature_engineering(X_fold_train)\n",
    "        y_fold_train = y_fold_train.loc[X_fold_train_fe.index] \n",
    "\n",
    "        model = sm.OLS(y_fold_train, X_fold_train_fe)\n",
    "        results = model.fit()\n",
    "\n",
    "\n",
    "        # Testing on the fold's testing set\n",
    "        X_fold_test = X.loc[test_index]\n",
    "        y_fold_test = y.loc[test_index]\n",
    "\n",
    "        X_fold_test_fe = feature_engineering(X_fold_test)\n",
    "        y_fold_test = y_fold_test.loc[X_fold_test_fe.index]\n",
    "        y_pred = results.predict(X_fold_test_fe)\n",
    "    \n",
    "        R_squared1 = results.rsquared\n",
    "        cond_no1 = results.condition_number\n",
    "        rmse1 = statsmodels.tools.eval_measures.rmse(y_fold_test, y_pred)\n",
    "\n",
    "        rmse.append(rmse1)\n",
    "        rsquared.append(R_squared1)\n",
    "        cond_no.append(cond_no1)\n",
    "\n",
    "    mean_rmse = np.mean(rmse)\n",
    "    mean_rsquared = np.mean(rsquared)\n",
    "    mean_cond_no = np.mean(cond_no)\n",
    "\n",
    "    return mean_rmse, mean_rsquared, mean_cond_no"
   ]
  },
  {
   "cell_type": "code",
   "execution_count": 213,
   "id": "2b6996c0-d8b1-4b6f-9f80-bafc6ae3f6be",
   "metadata": {},
   "outputs": [
    {
     "ename": "KeyError",
     "evalue": "'[29, 30, 32, 43, 44, 45, 51, 56, 63, 67, 70, 73, 80, 87, 93, 96, 102, 104, 108, 109, 111, 124, 134, 135, 141, 149, 152, 163, 168, 170, 173, 175, 178, 188, 194, 196, 199, 210, 211, 212, 218, 221, 226, 231, 233, 237, 239, 246, 251, 252, 254, 257, 259, 270, 272, 282, 289, 291, 296, 298, 309, 313, 314, 318, 321, 322, 324, 331, 332, 354, 358, 365, 367, 368, 381, 387, 393, 402, 407, 408, 410, 411, 414, 415, 420, 422, 430, 432, 433, 435, 436, 439, 443, 450, 456, 457, 460, 462, 463, 464, 471, 478, 479, 485, 486, 495, 498, 506, 507, 509, 511, 518, 521, 527, 528, 532, 533, 535, 542, 543, 544, 554, 557, 564, 565, 567, 568, 572, 581, 594, 598, 599, 602, 605, 610, 612, 642, 644, 650, 655, 662, 676, 677, 678, 679, 685, 691, 693, 695, 700, 705, 707, 727, 736, 741, 742, 744, 755, 759, 765, 767, 772, 783, 785, 787, 790, 794, 798, 802, 807, 809, 817, 819, 831, 834, 840, 841, 847, 857, 869, 879, 889, 900, 903, 907, 911, 912, 926, 927, 930, 937, 940, 941, 942, 958, 962, 965, 978, 986, 999, 1005, 1011, 1017, 1023, 1025, 1027, 1029, 1033, 1034, 1053, 1055, 1058, 1061, 1064, 1068, 1075, 1080, 1088, 1090, 1091, 1093, 1097, 1099, 1102, 1103, 1110, 1114, 1117, 1123, 1125, 1151, 1159, 1161, 1177, 1179, 1187, 1190, 1196, 1200, 1206, 1207, 1208, 1221, 1225, 1228, 1229, 1230, 1234, 1236, 1242, 1244, 1251, 1255, 1260, 1268, 1270, 1271, 1278, 1286, 1288, 1289, 1292, 1293, 1298, 1313, 1316, 1317, 1323, 1334, 1336, 1338, 1339, 1344, 1350, 1352, 1361, 1362, 1368, 1370, 1376, 1378, 1380, 1381, 1389, 1391, 1392, 1393, 1395, 1398, 1410, 1412, 1413, 1417, 1418, 1419, 1421, 1422, 1427, 1431, 1436, 1444, 1449, 1453, 1457, 1461, 1467, 1472, 1480, 1494, 1503, 1507, 1511, 1512, 1533, 1536, 1539, 1550, 1554, 1556, 1575, 1577, 1580, 1583, 1584, 1586, 1588, 1590, 1599, 1600, 1602, 1608, 1612, 1620, 1652, 1655, 1657, 1662, 1672, 1674, 1675, 1702, 1703, 1711, 1727, 1729, 1730, 1735, 1737, 1744, 1748, 1752, 1760, 1767, 1771, 1788, 1789, 1790, 1791, 1800, 1803, 1805, 1807, 1808, 1811, 1812, 1813, 1826, 1830, 1835, 1837, 1845, 1846, 1861, 1868, 1878, 1879, 1894, 1897, 1905, 1909, 1913, 1918, 1926, 1937, 1939, 1949, 1952, 1954, 1961, 1962, 1963, 1964, 1967, 1970, 1971, 1972, 1991, 1999, 2001, 2002, 2005, 2007, 2015, 2016, 2029, 2039, 2044, 2050, 2051, 2063, 2064, 2066, 2069, 2079, 2089, 2106, 2119, 2120, 2123, 2124, 2125, 2129, 2130, 2132, 2138, 2149, 2151, 2162, 2164, 2168, 2176, 2179, 2189, 2206, 2210, 2211, 2230, 2236, 2242, 2248, 2250, 2252, 2256, 2258, 2262, 2268, 2274, 2282, 2284, 2285] not in index'",
     "output_type": "error",
     "traceback": [
      "\u001b[0;31m---------------------------------------------------------------------------\u001b[0m",
      "\u001b[0;31mKeyError\u001b[0m                                  Traceback (most recent call last)",
      "Cell \u001b[0;32mIn[213], line 1\u001b[0m\n\u001b[0;32m----> 1\u001b[0m (rmse, rsquared, mean_cond_no) \u001b[38;5;241m=\u001b[39m  validation(kf, fold_indices, X, y)\n",
      "Cell \u001b[0;32mIn[211], line 16\u001b[0m, in \u001b[0;36mvalidation\u001b[0;34m(kf, fold_indices, X, y)\u001b[0m\n\u001b[1;32m     13\u001b[0m y_fold_train \u001b[38;5;241m=\u001b[39m y\u001b[38;5;241m.\u001b[39mloc[train_index]\n\u001b[1;32m     15\u001b[0m X_fold_train_fe \u001b[38;5;241m=\u001b[39m feature_engineering(X_fold_train)\n\u001b[0;32m---> 16\u001b[0m y_fold_train \u001b[38;5;241m=\u001b[39m y_fold_train\u001b[38;5;241m.\u001b[39mloc[X_fold_train_fe\u001b[38;5;241m.\u001b[39mindex] \n\u001b[1;32m     18\u001b[0m model \u001b[38;5;241m=\u001b[39m sm\u001b[38;5;241m.\u001b[39mOLS(y_fold_train, X_fold_train_fe)\n\u001b[1;32m     19\u001b[0m results \u001b[38;5;241m=\u001b[39m model\u001b[38;5;241m.\u001b[39mfit()\n",
      "File \u001b[0;32m/opt/anaconda3/lib/python3.12/site-packages/pandas/core/indexing.py:1191\u001b[0m, in \u001b[0;36m_LocationIndexer.__getitem__\u001b[0;34m(self, key)\u001b[0m\n\u001b[1;32m   1189\u001b[0m maybe_callable \u001b[38;5;241m=\u001b[39m com\u001b[38;5;241m.\u001b[39mapply_if_callable(key, \u001b[38;5;28mself\u001b[39m\u001b[38;5;241m.\u001b[39mobj)\n\u001b[1;32m   1190\u001b[0m maybe_callable \u001b[38;5;241m=\u001b[39m \u001b[38;5;28mself\u001b[39m\u001b[38;5;241m.\u001b[39m_check_deprecated_callable_usage(key, maybe_callable)\n\u001b[0;32m-> 1191\u001b[0m \u001b[38;5;28;01mreturn\u001b[39;00m \u001b[38;5;28mself\u001b[39m\u001b[38;5;241m.\u001b[39m_getitem_axis(maybe_callable, axis\u001b[38;5;241m=\u001b[39maxis)\n",
      "File \u001b[0;32m/opt/anaconda3/lib/python3.12/site-packages/pandas/core/indexing.py:1420\u001b[0m, in \u001b[0;36m_LocIndexer._getitem_axis\u001b[0;34m(self, key, axis)\u001b[0m\n\u001b[1;32m   1417\u001b[0m     \u001b[38;5;28;01mif\u001b[39;00m \u001b[38;5;28mhasattr\u001b[39m(key, \u001b[38;5;124m\"\u001b[39m\u001b[38;5;124mndim\u001b[39m\u001b[38;5;124m\"\u001b[39m) \u001b[38;5;129;01mand\u001b[39;00m key\u001b[38;5;241m.\u001b[39mndim \u001b[38;5;241m>\u001b[39m \u001b[38;5;241m1\u001b[39m:\n\u001b[1;32m   1418\u001b[0m         \u001b[38;5;28;01mraise\u001b[39;00m \u001b[38;5;167;01mValueError\u001b[39;00m(\u001b[38;5;124m\"\u001b[39m\u001b[38;5;124mCannot index with multidimensional key\u001b[39m\u001b[38;5;124m\"\u001b[39m)\n\u001b[0;32m-> 1420\u001b[0m     \u001b[38;5;28;01mreturn\u001b[39;00m \u001b[38;5;28mself\u001b[39m\u001b[38;5;241m.\u001b[39m_getitem_iterable(key, axis\u001b[38;5;241m=\u001b[39maxis)\n\u001b[1;32m   1422\u001b[0m \u001b[38;5;66;03m# nested tuple slicing\u001b[39;00m\n\u001b[1;32m   1423\u001b[0m \u001b[38;5;28;01mif\u001b[39;00m is_nested_tuple(key, labels):\n",
      "File \u001b[0;32m/opt/anaconda3/lib/python3.12/site-packages/pandas/core/indexing.py:1360\u001b[0m, in \u001b[0;36m_LocIndexer._getitem_iterable\u001b[0;34m(self, key, axis)\u001b[0m\n\u001b[1;32m   1357\u001b[0m \u001b[38;5;28mself\u001b[39m\u001b[38;5;241m.\u001b[39m_validate_key(key, axis)\n\u001b[1;32m   1359\u001b[0m \u001b[38;5;66;03m# A collection of keys\u001b[39;00m\n\u001b[0;32m-> 1360\u001b[0m keyarr, indexer \u001b[38;5;241m=\u001b[39m \u001b[38;5;28mself\u001b[39m\u001b[38;5;241m.\u001b[39m_get_listlike_indexer(key, axis)\n\u001b[1;32m   1361\u001b[0m \u001b[38;5;28;01mreturn\u001b[39;00m \u001b[38;5;28mself\u001b[39m\u001b[38;5;241m.\u001b[39mobj\u001b[38;5;241m.\u001b[39m_reindex_with_indexers(\n\u001b[1;32m   1362\u001b[0m     {axis: [keyarr, indexer]}, copy\u001b[38;5;241m=\u001b[39m\u001b[38;5;28;01mTrue\u001b[39;00m, allow_dups\u001b[38;5;241m=\u001b[39m\u001b[38;5;28;01mTrue\u001b[39;00m\n\u001b[1;32m   1363\u001b[0m )\n",
      "File \u001b[0;32m/opt/anaconda3/lib/python3.12/site-packages/pandas/core/indexing.py:1558\u001b[0m, in \u001b[0;36m_LocIndexer._get_listlike_indexer\u001b[0;34m(self, key, axis)\u001b[0m\n\u001b[1;32m   1555\u001b[0m ax \u001b[38;5;241m=\u001b[39m \u001b[38;5;28mself\u001b[39m\u001b[38;5;241m.\u001b[39mobj\u001b[38;5;241m.\u001b[39m_get_axis(axis)\n\u001b[1;32m   1556\u001b[0m axis_name \u001b[38;5;241m=\u001b[39m \u001b[38;5;28mself\u001b[39m\u001b[38;5;241m.\u001b[39mobj\u001b[38;5;241m.\u001b[39m_get_axis_name(axis)\n\u001b[0;32m-> 1558\u001b[0m keyarr, indexer \u001b[38;5;241m=\u001b[39m ax\u001b[38;5;241m.\u001b[39m_get_indexer_strict(key, axis_name)\n\u001b[1;32m   1560\u001b[0m \u001b[38;5;28;01mreturn\u001b[39;00m keyarr, indexer\n",
      "File \u001b[0;32m/opt/anaconda3/lib/python3.12/site-packages/pandas/core/indexes/base.py:6200\u001b[0m, in \u001b[0;36mIndex._get_indexer_strict\u001b[0;34m(self, key, axis_name)\u001b[0m\n\u001b[1;32m   6197\u001b[0m \u001b[38;5;28;01melse\u001b[39;00m:\n\u001b[1;32m   6198\u001b[0m     keyarr, indexer, new_indexer \u001b[38;5;241m=\u001b[39m \u001b[38;5;28mself\u001b[39m\u001b[38;5;241m.\u001b[39m_reindex_non_unique(keyarr)\n\u001b[0;32m-> 6200\u001b[0m \u001b[38;5;28mself\u001b[39m\u001b[38;5;241m.\u001b[39m_raise_if_missing(keyarr, indexer, axis_name)\n\u001b[1;32m   6202\u001b[0m keyarr \u001b[38;5;241m=\u001b[39m \u001b[38;5;28mself\u001b[39m\u001b[38;5;241m.\u001b[39mtake(indexer)\n\u001b[1;32m   6203\u001b[0m \u001b[38;5;28;01mif\u001b[39;00m \u001b[38;5;28misinstance\u001b[39m(key, Index):\n\u001b[1;32m   6204\u001b[0m     \u001b[38;5;66;03m# GH 42790 - Preserve name from an Index\u001b[39;00m\n",
      "File \u001b[0;32m/opt/anaconda3/lib/python3.12/site-packages/pandas/core/indexes/base.py:6252\u001b[0m, in \u001b[0;36mIndex._raise_if_missing\u001b[0;34m(self, key, indexer, axis_name)\u001b[0m\n\u001b[1;32m   6249\u001b[0m     \u001b[38;5;28;01mraise\u001b[39;00m \u001b[38;5;167;01mKeyError\u001b[39;00m(\u001b[38;5;124mf\u001b[39m\u001b[38;5;124m\"\u001b[39m\u001b[38;5;124mNone of [\u001b[39m\u001b[38;5;132;01m{\u001b[39;00mkey\u001b[38;5;132;01m}\u001b[39;00m\u001b[38;5;124m] are in the [\u001b[39m\u001b[38;5;132;01m{\u001b[39;00maxis_name\u001b[38;5;132;01m}\u001b[39;00m\u001b[38;5;124m]\u001b[39m\u001b[38;5;124m\"\u001b[39m)\n\u001b[1;32m   6251\u001b[0m not_found \u001b[38;5;241m=\u001b[39m \u001b[38;5;28mlist\u001b[39m(ensure_index(key)[missing_mask\u001b[38;5;241m.\u001b[39mnonzero()[\u001b[38;5;241m0\u001b[39m]]\u001b[38;5;241m.\u001b[39munique())\n\u001b[0;32m-> 6252\u001b[0m \u001b[38;5;28;01mraise\u001b[39;00m \u001b[38;5;167;01mKeyError\u001b[39;00m(\u001b[38;5;124mf\u001b[39m\u001b[38;5;124m\"\u001b[39m\u001b[38;5;132;01m{\u001b[39;00mnot_found\u001b[38;5;132;01m}\u001b[39;00m\u001b[38;5;124m not in index\u001b[39m\u001b[38;5;124m\"\u001b[39m)\n",
      "\u001b[0;31mKeyError\u001b[0m: '[29, 30, 32, 43, 44, 45, 51, 56, 63, 67, 70, 73, 80, 87, 93, 96, 102, 104, 108, 109, 111, 124, 134, 135, 141, 149, 152, 163, 168, 170, 173, 175, 178, 188, 194, 196, 199, 210, 211, 212, 218, 221, 226, 231, 233, 237, 239, 246, 251, 252, 254, 257, 259, 270, 272, 282, 289, 291, 296, 298, 309, 313, 314, 318, 321, 322, 324, 331, 332, 354, 358, 365, 367, 368, 381, 387, 393, 402, 407, 408, 410, 411, 414, 415, 420, 422, 430, 432, 433, 435, 436, 439, 443, 450, 456, 457, 460, 462, 463, 464, 471, 478, 479, 485, 486, 495, 498, 506, 507, 509, 511, 518, 521, 527, 528, 532, 533, 535, 542, 543, 544, 554, 557, 564, 565, 567, 568, 572, 581, 594, 598, 599, 602, 605, 610, 612, 642, 644, 650, 655, 662, 676, 677, 678, 679, 685, 691, 693, 695, 700, 705, 707, 727, 736, 741, 742, 744, 755, 759, 765, 767, 772, 783, 785, 787, 790, 794, 798, 802, 807, 809, 817, 819, 831, 834, 840, 841, 847, 857, 869, 879, 889, 900, 903, 907, 911, 912, 926, 927, 930, 937, 940, 941, 942, 958, 962, 965, 978, 986, 999, 1005, 1011, 1017, 1023, 1025, 1027, 1029, 1033, 1034, 1053, 1055, 1058, 1061, 1064, 1068, 1075, 1080, 1088, 1090, 1091, 1093, 1097, 1099, 1102, 1103, 1110, 1114, 1117, 1123, 1125, 1151, 1159, 1161, 1177, 1179, 1187, 1190, 1196, 1200, 1206, 1207, 1208, 1221, 1225, 1228, 1229, 1230, 1234, 1236, 1242, 1244, 1251, 1255, 1260, 1268, 1270, 1271, 1278, 1286, 1288, 1289, 1292, 1293, 1298, 1313, 1316, 1317, 1323, 1334, 1336, 1338, 1339, 1344, 1350, 1352, 1361, 1362, 1368, 1370, 1376, 1378, 1380, 1381, 1389, 1391, 1392, 1393, 1395, 1398, 1410, 1412, 1413, 1417, 1418, 1419, 1421, 1422, 1427, 1431, 1436, 1444, 1449, 1453, 1457, 1461, 1467, 1472, 1480, 1494, 1503, 1507, 1511, 1512, 1533, 1536, 1539, 1550, 1554, 1556, 1575, 1577, 1580, 1583, 1584, 1586, 1588, 1590, 1599, 1600, 1602, 1608, 1612, 1620, 1652, 1655, 1657, 1662, 1672, 1674, 1675, 1702, 1703, 1711, 1727, 1729, 1730, 1735, 1737, 1744, 1748, 1752, 1760, 1767, 1771, 1788, 1789, 1790, 1791, 1800, 1803, 1805, 1807, 1808, 1811, 1812, 1813, 1826, 1830, 1835, 1837, 1845, 1846, 1861, 1868, 1878, 1879, 1894, 1897, 1905, 1909, 1913, 1918, 1926, 1937, 1939, 1949, 1952, 1954, 1961, 1962, 1963, 1964, 1967, 1970, 1971, 1972, 1991, 1999, 2001, 2002, 2005, 2007, 2015, 2016, 2029, 2039, 2044, 2050, 2051, 2063, 2064, 2066, 2069, 2079, 2089, 2106, 2119, 2120, 2123, 2124, 2125, 2129, 2130, 2132, 2138, 2149, 2151, 2162, 2164, 2168, 2176, 2179, 2189, 2206, 2210, 2211, 2230, 2236, 2242, 2248, 2250, 2252, 2256, 2258, 2262, 2268, 2274, 2282, 2284, 2285] not in index'"
     ]
    }
   ],
   "source": [
    "(rmse, rsquared, mean_cond_no) =  validation(kf, fold_indices, X, y)"
   ]
  },
  {
   "cell_type": "code",
   "execution_count": 201,
   "id": "2301f583-8ab2-4518-bd8a-0c4ac66675ad",
   "metadata": {},
   "outputs": [],
   "source": [
    "train_index = fold_indices[0][0]"
   ]
  },
  {
   "cell_type": "code",
   "execution_count": 203,
   "id": "00d8caa9-5a95-42f2-ab07-f3c25190d4e2",
   "metadata": {},
   "outputs": [
    {
     "data": {
      "text/plain": [
       "array([   0,    1,    2, ..., 2861, 2862, 2863])"
      ]
     },
     "execution_count": 203,
     "metadata": {},
     "output_type": "execute_result"
    }
   ],
   "source": [
    "train_index"
   ]
  },
  {
   "cell_type": "code",
   "execution_count": null,
   "id": "7ebf3c21-fb8b-4869-ab43-daf34aefbc4b",
   "metadata": {},
   "outputs": [],
   "source": []
  }
 ],
 "metadata": {
  "kernelspec": {
   "display_name": "Python [conda env:base] *",
   "language": "python",
   "name": "conda-base-py"
  },
  "language_info": {
   "codemirror_mode": {
    "name": "ipython",
    "version": 3
   },
   "file_extension": ".py",
   "mimetype": "text/x-python",
   "name": "python",
   "nbconvert_exporter": "python",
   "pygments_lexer": "ipython3",
   "version": "3.12.7"
  }
 },
 "nbformat": 4,
 "nbformat_minor": 5
}

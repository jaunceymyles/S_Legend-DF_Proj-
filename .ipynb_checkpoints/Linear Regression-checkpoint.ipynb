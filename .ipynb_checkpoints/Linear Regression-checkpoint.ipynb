{
 "cells": [
  {
   "cell_type": "markdown",
   "id": "6ac8a2aa-b440-4632-abb3-c33678d2ebf2",
   "metadata": {},
   "source": [
    "# Linear Regression "
   ]
  },
  {
   "cell_type": "markdown",
   "id": "33cd013c-4c84-4e61-8998-9a5dcee89c8d",
   "metadata": {},
   "source": [
    "> Team Name: *S Legends*\n",
    "> \n",
    "> Team Members: Myles, Tani, Arjan, Archie "
   ]
  },
  {
   "cell_type": "markdown",
   "id": "e647aae5-d0eb-4d05-abf6-1e0681a923d3",
   "metadata": {
    "jp-MarkdownHeadingCollapsed": true
   },
   "source": [
    "## Train-Test Split"
   ]
  },
  {
   "cell_type": "code",
   "execution_count": 4,
   "id": "d013d4ba-5cdc-43fc-93d5-7af8f41dfe8c",
   "metadata": {},
   "outputs": [],
   "source": [
    "import numpy as np\n",
    "import pandas as pd\n",
    "\n",
    "from sklearn.model_selection import train_test_split\n",
    "\n",
    "import statsmodels.api as sm\n",
    "import statsmodels.tools\n",
    "\n",
    "from statsmodels.stats.outliers_influence import variance_inflation_factor"
   ]
  },
  {
   "cell_type": "code",
   "execution_count": 5,
   "id": "022c5280-ec5b-428b-92b1-83a5703f9471",
   "metadata": {},
   "outputs": [
    {
     "data": {
      "text/html": [
       "<div>\n",
       "<style scoped>\n",
       "    .dataframe tbody tr th:only-of-type {\n",
       "        vertical-align: middle;\n",
       "    }\n",
       "\n",
       "    .dataframe tbody tr th {\n",
       "        vertical-align: top;\n",
       "    }\n",
       "\n",
       "    .dataframe thead th {\n",
       "        text-align: right;\n",
       "    }\n",
       "</style>\n",
       "<table border=\"1\" class=\"dataframe\">\n",
       "  <thead>\n",
       "    <tr style=\"text-align: right;\">\n",
       "      <th></th>\n",
       "      <th>Country</th>\n",
       "      <th>Region</th>\n",
       "      <th>Year</th>\n",
       "      <th>Infant_deaths</th>\n",
       "      <th>Under_five_deaths</th>\n",
       "      <th>Adult_mortality</th>\n",
       "      <th>Alcohol_consumption</th>\n",
       "      <th>Hepatitis_B</th>\n",
       "      <th>Measles</th>\n",
       "      <th>BMI</th>\n",
       "      <th>...</th>\n",
       "      <th>Diphtheria</th>\n",
       "      <th>Incidents_HIV</th>\n",
       "      <th>GDP_per_capita</th>\n",
       "      <th>Population_mln</th>\n",
       "      <th>Thinness_ten_nineteen_years</th>\n",
       "      <th>Thinness_five_nine_years</th>\n",
       "      <th>Schooling</th>\n",
       "      <th>Economy_status_Developed</th>\n",
       "      <th>Economy_status_Developing</th>\n",
       "      <th>Life_expectancy</th>\n",
       "    </tr>\n",
       "  </thead>\n",
       "  <tbody>\n",
       "    <tr>\n",
       "      <th>0</th>\n",
       "      <td>Turkiye</td>\n",
       "      <td>Middle East</td>\n",
       "      <td>2015</td>\n",
       "      <td>11.1</td>\n",
       "      <td>13.0</td>\n",
       "      <td>105.8240</td>\n",
       "      <td>1.32</td>\n",
       "      <td>97</td>\n",
       "      <td>65</td>\n",
       "      <td>27.8</td>\n",
       "      <td>...</td>\n",
       "      <td>97</td>\n",
       "      <td>0.08</td>\n",
       "      <td>11006</td>\n",
       "      <td>78.53</td>\n",
       "      <td>4.9</td>\n",
       "      <td>4.8</td>\n",
       "      <td>7.8</td>\n",
       "      <td>0</td>\n",
       "      <td>1</td>\n",
       "      <td>76.5</td>\n",
       "    </tr>\n",
       "    <tr>\n",
       "      <th>1</th>\n",
       "      <td>Spain</td>\n",
       "      <td>European Union</td>\n",
       "      <td>2015</td>\n",
       "      <td>2.7</td>\n",
       "      <td>3.3</td>\n",
       "      <td>57.9025</td>\n",
       "      <td>10.35</td>\n",
       "      <td>97</td>\n",
       "      <td>94</td>\n",
       "      <td>26.0</td>\n",
       "      <td>...</td>\n",
       "      <td>97</td>\n",
       "      <td>0.09</td>\n",
       "      <td>25742</td>\n",
       "      <td>46.44</td>\n",
       "      <td>0.6</td>\n",
       "      <td>0.5</td>\n",
       "      <td>9.7</td>\n",
       "      <td>1</td>\n",
       "      <td>0</td>\n",
       "      <td>82.8</td>\n",
       "    </tr>\n",
       "    <tr>\n",
       "      <th>2</th>\n",
       "      <td>India</td>\n",
       "      <td>Asia</td>\n",
       "      <td>2007</td>\n",
       "      <td>51.5</td>\n",
       "      <td>67.9</td>\n",
       "      <td>201.0765</td>\n",
       "      <td>1.57</td>\n",
       "      <td>60</td>\n",
       "      <td>35</td>\n",
       "      <td>21.2</td>\n",
       "      <td>...</td>\n",
       "      <td>64</td>\n",
       "      <td>0.13</td>\n",
       "      <td>1076</td>\n",
       "      <td>1183.21</td>\n",
       "      <td>27.1</td>\n",
       "      <td>28.0</td>\n",
       "      <td>5.0</td>\n",
       "      <td>0</td>\n",
       "      <td>1</td>\n",
       "      <td>65.4</td>\n",
       "    </tr>\n",
       "    <tr>\n",
       "      <th>3</th>\n",
       "      <td>Guyana</td>\n",
       "      <td>South America</td>\n",
       "      <td>2006</td>\n",
       "      <td>32.8</td>\n",
       "      <td>40.5</td>\n",
       "      <td>222.1965</td>\n",
       "      <td>5.68</td>\n",
       "      <td>93</td>\n",
       "      <td>74</td>\n",
       "      <td>25.3</td>\n",
       "      <td>...</td>\n",
       "      <td>93</td>\n",
       "      <td>0.79</td>\n",
       "      <td>4146</td>\n",
       "      <td>0.75</td>\n",
       "      <td>5.7</td>\n",
       "      <td>5.5</td>\n",
       "      <td>7.9</td>\n",
       "      <td>0</td>\n",
       "      <td>1</td>\n",
       "      <td>67.0</td>\n",
       "    </tr>\n",
       "    <tr>\n",
       "      <th>4</th>\n",
       "      <td>Israel</td>\n",
       "      <td>Middle East</td>\n",
       "      <td>2012</td>\n",
       "      <td>3.4</td>\n",
       "      <td>4.3</td>\n",
       "      <td>57.9510</td>\n",
       "      <td>2.89</td>\n",
       "      <td>97</td>\n",
       "      <td>89</td>\n",
       "      <td>27.0</td>\n",
       "      <td>...</td>\n",
       "      <td>94</td>\n",
       "      <td>0.08</td>\n",
       "      <td>33995</td>\n",
       "      <td>7.91</td>\n",
       "      <td>1.2</td>\n",
       "      <td>1.1</td>\n",
       "      <td>12.8</td>\n",
       "      <td>1</td>\n",
       "      <td>0</td>\n",
       "      <td>81.7</td>\n",
       "    </tr>\n",
       "  </tbody>\n",
       "</table>\n",
       "<p>5 rows × 21 columns</p>\n",
       "</div>"
      ],
      "text/plain": [
       "   Country          Region  Year  Infant_deaths  Under_five_deaths  \\\n",
       "0  Turkiye     Middle East  2015           11.1               13.0   \n",
       "1    Spain  European Union  2015            2.7                3.3   \n",
       "2    India            Asia  2007           51.5               67.9   \n",
       "3   Guyana   South America  2006           32.8               40.5   \n",
       "4   Israel     Middle East  2012            3.4                4.3   \n",
       "\n",
       "   Adult_mortality  Alcohol_consumption  Hepatitis_B  Measles   BMI  ...  \\\n",
       "0         105.8240                 1.32           97       65  27.8  ...   \n",
       "1          57.9025                10.35           97       94  26.0  ...   \n",
       "2         201.0765                 1.57           60       35  21.2  ...   \n",
       "3         222.1965                 5.68           93       74  25.3  ...   \n",
       "4          57.9510                 2.89           97       89  27.0  ...   \n",
       "\n",
       "   Diphtheria  Incidents_HIV  GDP_per_capita  Population_mln  \\\n",
       "0          97           0.08           11006           78.53   \n",
       "1          97           0.09           25742           46.44   \n",
       "2          64           0.13            1076         1183.21   \n",
       "3          93           0.79            4146            0.75   \n",
       "4          94           0.08           33995            7.91   \n",
       "\n",
       "   Thinness_ten_nineteen_years  Thinness_five_nine_years  Schooling  \\\n",
       "0                          4.9                       4.8        7.8   \n",
       "1                          0.6                       0.5        9.7   \n",
       "2                         27.1                      28.0        5.0   \n",
       "3                          5.7                       5.5        7.9   \n",
       "4                          1.2                       1.1       12.8   \n",
       "\n",
       "   Economy_status_Developed  Economy_status_Developing  Life_expectancy  \n",
       "0                         0                          1             76.5  \n",
       "1                         1                          0             82.8  \n",
       "2                         0                          1             65.4  \n",
       "3                         0                          1             67.0  \n",
       "4                         1                          0             81.7  \n",
       "\n",
       "[5 rows x 21 columns]"
      ]
     },
     "execution_count": 5,
     "metadata": {},
     "output_type": "execute_result"
    }
   ],
   "source": [
    "df = pd.read_csv('Life Expectancy Data.csv')\n",
    "\n",
    "df.head()"
   ]
  },
  {
   "cell_type": "code",
   "execution_count": 6,
   "id": "2839b7af-10ca-4d25-a9ac-1a4ac214b17e",
   "metadata": {},
   "outputs": [],
   "source": [
    "feature_cols = list(df.columns)\n",
    "feature_cols.remove('Life_expectancy')"
   ]
  },
  {
   "cell_type": "code",
   "execution_count": 7,
   "id": "d66db0ba-f106-489e-bad7-c7bbb7118b43",
   "metadata": {},
   "outputs": [],
   "source": [
    "X = df[feature_cols]\n",
    "y = df['Life_expectancy']"
   ]
  },
  {
   "cell_type": "code",
   "execution_count": 8,
   "id": "ab4d7819-e2c1-461a-8279-3e228d60efa2",
   "metadata": {},
   "outputs": [],
   "source": [
    "X_train, X_test, y_train, y_test = train_test_split(X, y, test_size = 0.2, random_state = 42)"
   ]
  },
  {
   "cell_type": "markdown",
   "id": "09947b15-89b6-49bf-b55e-dba858a3f2f2",
   "metadata": {
    "jp-MarkdownHeadingCollapsed": true
   },
   "source": [
    "## Feature Engineering"
   ]
  },
  {
   "cell_type": "code",
   "execution_count": 10,
   "id": "9aa93dab-40e6-41e3-96b0-2f63949a28bf",
   "metadata": {},
   "outputs": [
    {
     "data": {
      "text/html": [
       "<div>\n",
       "<style scoped>\n",
       "    .dataframe tbody tr th:only-of-type {\n",
       "        vertical-align: middle;\n",
       "    }\n",
       "\n",
       "    .dataframe tbody tr th {\n",
       "        vertical-align: top;\n",
       "    }\n",
       "\n",
       "    .dataframe thead th {\n",
       "        text-align: right;\n",
       "    }\n",
       "</style>\n",
       "<table border=\"1\" class=\"dataframe\">\n",
       "  <thead>\n",
       "    <tr style=\"text-align: right;\">\n",
       "      <th></th>\n",
       "      <th>Country</th>\n",
       "      <th>Region</th>\n",
       "      <th>Year</th>\n",
       "      <th>Infant_deaths</th>\n",
       "      <th>Under_five_deaths</th>\n",
       "      <th>Adult_mortality</th>\n",
       "      <th>Alcohol_consumption</th>\n",
       "      <th>Hepatitis_B</th>\n",
       "      <th>Measles</th>\n",
       "      <th>BMI</th>\n",
       "      <th>Polio</th>\n",
       "      <th>Diphtheria</th>\n",
       "      <th>Incidents_HIV</th>\n",
       "      <th>GDP_per_capita</th>\n",
       "      <th>Population_mln</th>\n",
       "      <th>Thinness_ten_nineteen_years</th>\n",
       "      <th>Thinness_five_nine_years</th>\n",
       "      <th>Schooling</th>\n",
       "      <th>Economy_status_Developed</th>\n",
       "      <th>Economy_status_Developing</th>\n",
       "    </tr>\n",
       "  </thead>\n",
       "  <tbody>\n",
       "    <tr>\n",
       "      <th>2026</th>\n",
       "      <td>Sri Lanka</td>\n",
       "      <td>Asia</td>\n",
       "      <td>2014</td>\n",
       "      <td>7.9</td>\n",
       "      <td>9.3</td>\n",
       "      <td>111.2825</td>\n",
       "      <td>2.45</td>\n",
       "      <td>99</td>\n",
       "      <td>99</td>\n",
       "      <td>22.9</td>\n",
       "      <td>99</td>\n",
       "      <td>99</td>\n",
       "      <td>0.01</td>\n",
       "      <td>3694</td>\n",
       "      <td>20.78</td>\n",
       "      <td>15.2</td>\n",
       "      <td>15.0</td>\n",
       "      <td>10.9</td>\n",
       "      <td>0</td>\n",
       "      <td>1</td>\n",
       "    </tr>\n",
       "    <tr>\n",
       "      <th>651</th>\n",
       "      <td>Czechia</td>\n",
       "      <td>European Union</td>\n",
       "      <td>2004</td>\n",
       "      <td>3.7</td>\n",
       "      <td>4.6</td>\n",
       "      <td>114.2985</td>\n",
       "      <td>13.42</td>\n",
       "      <td>98</td>\n",
       "      <td>98</td>\n",
       "      <td>26.6</td>\n",
       "      <td>96</td>\n",
       "      <td>98</td>\n",
       "      <td>0.08</td>\n",
       "      <td>14070</td>\n",
       "      <td>10.20</td>\n",
       "      <td>2.1</td>\n",
       "      <td>2.2</td>\n",
       "      <td>11.6</td>\n",
       "      <td>1</td>\n",
       "      <td>0</td>\n",
       "    </tr>\n",
       "    <tr>\n",
       "      <th>2225</th>\n",
       "      <td>Venezuela, RB</td>\n",
       "      <td>South America</td>\n",
       "      <td>2014</td>\n",
       "      <td>15.4</td>\n",
       "      <td>18.0</td>\n",
       "      <td>143.0785</td>\n",
       "      <td>6.60</td>\n",
       "      <td>78</td>\n",
       "      <td>83</td>\n",
       "      <td>26.6</td>\n",
       "      <td>79</td>\n",
       "      <td>78</td>\n",
       "      <td>0.40</td>\n",
       "      <td>16056</td>\n",
       "      <td>30.04</td>\n",
       "      <td>1.6</td>\n",
       "      <td>1.5</td>\n",
       "      <td>10.0</td>\n",
       "      <td>0</td>\n",
       "      <td>1</td>\n",
       "    </tr>\n",
       "    <tr>\n",
       "      <th>2357</th>\n",
       "      <td>Albania</td>\n",
       "      <td>Rest of Europe</td>\n",
       "      <td>2010</td>\n",
       "      <td>11.8</td>\n",
       "      <td>13.3</td>\n",
       "      <td>80.9365</td>\n",
       "      <td>4.88</td>\n",
       "      <td>99</td>\n",
       "      <td>98</td>\n",
       "      <td>26.1</td>\n",
       "      <td>99</td>\n",
       "      <td>99</td>\n",
       "      <td>0.03</td>\n",
       "      <td>3577</td>\n",
       "      <td>2.91</td>\n",
       "      <td>1.4</td>\n",
       "      <td>1.5</td>\n",
       "      <td>9.3</td>\n",
       "      <td>0</td>\n",
       "      <td>1</td>\n",
       "    </tr>\n",
       "    <tr>\n",
       "      <th>670</th>\n",
       "      <td>Namibia</td>\n",
       "      <td>Africa</td>\n",
       "      <td>2003</td>\n",
       "      <td>43.3</td>\n",
       "      <td>74.4</td>\n",
       "      <td>495.7265</td>\n",
       "      <td>2.29</td>\n",
       "      <td>83</td>\n",
       "      <td>64</td>\n",
       "      <td>23.2</td>\n",
       "      <td>82</td>\n",
       "      <td>79</td>\n",
       "      <td>9.74</td>\n",
       "      <td>3298</td>\n",
       "      <td>1.88</td>\n",
       "      <td>14.2</td>\n",
       "      <td>14.3</td>\n",
       "      <td>5.8</td>\n",
       "      <td>0</td>\n",
       "      <td>1</td>\n",
       "    </tr>\n",
       "  </tbody>\n",
       "</table>\n",
       "</div>"
      ],
      "text/plain": [
       "            Country          Region  Year  Infant_deaths  Under_five_deaths  \\\n",
       "2026      Sri Lanka            Asia  2014            7.9                9.3   \n",
       "651         Czechia  European Union  2004            3.7                4.6   \n",
       "2225  Venezuela, RB   South America  2014           15.4               18.0   \n",
       "2357        Albania  Rest of Europe  2010           11.8               13.3   \n",
       "670         Namibia          Africa  2003           43.3               74.4   \n",
       "\n",
       "      Adult_mortality  Alcohol_consumption  Hepatitis_B  Measles   BMI  Polio  \\\n",
       "2026         111.2825                 2.45           99       99  22.9     99   \n",
       "651          114.2985                13.42           98       98  26.6     96   \n",
       "2225         143.0785                 6.60           78       83  26.6     79   \n",
       "2357          80.9365                 4.88           99       98  26.1     99   \n",
       "670          495.7265                 2.29           83       64  23.2     82   \n",
       "\n",
       "      Diphtheria  Incidents_HIV  GDP_per_capita  Population_mln  \\\n",
       "2026          99           0.01            3694           20.78   \n",
       "651           98           0.08           14070           10.20   \n",
       "2225          78           0.40           16056           30.04   \n",
       "2357          99           0.03            3577            2.91   \n",
       "670           79           9.74            3298            1.88   \n",
       "\n",
       "      Thinness_ten_nineteen_years  Thinness_five_nine_years  Schooling  \\\n",
       "2026                         15.2                      15.0       10.9   \n",
       "651                           2.1                       2.2       11.6   \n",
       "2225                          1.6                       1.5       10.0   \n",
       "2357                          1.4                       1.5        9.3   \n",
       "670                          14.2                      14.3        5.8   \n",
       "\n",
       "      Economy_status_Developed  Economy_status_Developing  \n",
       "2026                         0                          1  \n",
       "651                          1                          0  \n",
       "2225                         0                          1  \n",
       "2357                         0                          1  \n",
       "670                          0                          1  "
      ]
     },
     "execution_count": 10,
     "metadata": {},
     "output_type": "execute_result"
    }
   ],
   "source": [
    "X_train.head()"
   ]
  },
  {
   "cell_type": "markdown",
   "id": "7e74e76c-cf2a-452c-b7da-56d77ef8688b",
   "metadata": {
    "jp-MarkdownHeadingCollapsed": true
   },
   "source": [
    "### One-Hot Endcoding"
   ]
  },
  {
   "cell_type": "code",
   "execution_count": 12,
   "id": "fb221d23-c790-47ff-9b54-4b6a7fce259b",
   "metadata": {},
   "outputs": [],
   "source": [
    "def ohe(df):\n",
    "    df = df.copy()\n",
    "    df.drop(columns = ['Country'], inplace = True)\n",
    "    df = pd.get_dummies(df, columns = ['Region'], drop_first = True, prefix = 'Region', dtype=int)\n",
    "    return df"
   ]
  },
  {
   "cell_type": "markdown",
   "id": "61c80e98-7b1f-49ef-90de-6a2a5949a0da",
   "metadata": {},
   "source": [
    "**Get new column names from after the OHE and feature engineering**  \n",
    " (OHE created many new columns and the feature engineering added a constant column)"
   ]
  },
  {
   "cell_type": "code",
   "execution_count": 14,
   "id": "0b1b6652-cc2f-4327-96e5-543384bfbcf5",
   "metadata": {},
   "outputs": [
    {
     "data": {
      "text/plain": [
       "['Constant',\n",
       " 'Year',\n",
       " 'Infant_deaths',\n",
       " 'Under_five_deaths',\n",
       " 'Adult_mortality',\n",
       " 'Alcohol_consumption',\n",
       " 'Hepatitis_B',\n",
       " 'Measles',\n",
       " 'BMI',\n",
       " 'Polio',\n",
       " 'Diphtheria',\n",
       " 'Incidents_HIV',\n",
       " 'GDP_per_capita',\n",
       " 'Population_mln',\n",
       " 'Thinness_ten_nineteen_years',\n",
       " 'Thinness_five_nine_years',\n",
       " 'Schooling',\n",
       " 'Economy_status_Developed',\n",
       " 'Economy_status_Developing',\n",
       " 'Region_Asia',\n",
       " 'Region_Central America and Caribbean',\n",
       " 'Region_European Union',\n",
       " 'Region_Middle East',\n",
       " 'Region_North America',\n",
       " 'Region_Oceania',\n",
       " 'Region_Rest of Europe',\n",
       " 'Region_South America']"
      ]
     },
     "execution_count": 14,
     "metadata": {},
     "output_type": "execute_result"
    }
   ],
   "source": [
    "columns = list(ohe(X_train))\n",
    "columns.insert(0,'Constant')\n",
    "columns"
   ]
  },
  {
   "cell_type": "markdown",
   "id": "508b1a89-59c7-48a3-807b-1016a496eb4b",
   "metadata": {
    "jp-MarkdownHeadingCollapsed": true
   },
   "source": [
    "### Scaling"
   ]
  },
  {
   "cell_type": "code",
   "execution_count": 16,
   "id": "69d1199e-ebdb-4a3c-8f19-a5d2554414e5",
   "metadata": {},
   "outputs": [],
   "source": [
    "from sklearn.preprocessing import PowerTransformer"
   ]
  },
  {
   "cell_type": "code",
   "execution_count": 17,
   "id": "6a75798b-f16d-40e9-9abf-aed4b3b444f9",
   "metadata": {},
   "outputs": [],
   "source": [
    "def scaling(df):\n",
    "    pt = PowerTransformer()\n",
    "    pt.fit(df)\n",
    "    df = pt.transform(df)\n",
    "    return df"
   ]
  },
  {
   "cell_type": "code",
   "execution_count": 18,
   "id": "0b46ef07-1aa3-4ae9-a390-c4aebd3fe425",
   "metadata": {},
   "outputs": [],
   "source": [
    "def feature_eng(df):\n",
    "        df = df.copy()\n",
    "        df = ohe(df)\n",
    "        df = scaling(df)\n",
    "        df = sm.add_constant(df) # CRUCIAL for statsmodels!!\n",
    "        return pd.DataFrame(df, columns = columns)"
   ]
  },
  {
   "cell_type": "code",
   "execution_count": 20,
   "id": "90389c53-6ad4-4f3f-a876-acbf9322b35a",
   "metadata": {},
   "outputs": [],
   "source": [
    "X_train_fe = feature_eng(X_train)"
   ]
  },
  {
   "cell_type": "markdown",
   "id": "f9b08837-52f5-423f-876e-a9ae7e425eee",
   "metadata": {
    "jp-MarkdownHeadingCollapsed": true
   },
   "source": [
    "### Feature Selection (By Variation Inflation Factor Method)"
   ]
  },
  {
   "cell_type": "code",
   "execution_count": 23,
   "id": "3780515b-c49d-4412-a41b-a2b2683781e4",
   "metadata": {},
   "outputs": [],
   "source": [
    "from statsmodels.stats.outliers_influence import variance_inflation_factor # a module to evaluate the (VIF)"
   ]
  },
  {
   "cell_type": "code",
   "execution_count": 25,
   "id": "364d90b1-870b-4323-a4ad-ddcd1c7becd3",
   "metadata": {},
   "outputs": [],
   "source": [
    "## This a piece of code from stats.stackexchange.com\n",
    "\n",
    "## It runs the model with all the variables.\n",
    "## If any of them have a higher VIF than 5, it drops the max. \n",
    "## Then it keeps going until none of them have a higher VIF than 5.\n",
    "## This leaves us with a nice set of features with no collineraity\n",
    "\n",
    "def calculate_vif(X, thresh = 5.0):\n",
    "    variables = list(range(X.shape[1]))\n",
    "    dropped = True\n",
    "    while dropped:\n",
    "        dropped = False\n",
    "        # this bit uses list comprehension to gather all the VIF values of the different variables\n",
    "        vif = [variance_inflation_factor(X.iloc[:, variables].values, ix)\n",
    "               for ix in range(X.iloc[:, variables].shape[1])]\n",
    "        \n",
    "        maxloc = vif.index(max(vif)) # getting the index of the highest VIF value\n",
    "        if max(vif) > thresh:\n",
    "            print('dropping \\'' + X.iloc[:, variables].columns[maxloc] +\n",
    "                  '\\' at index: ' + str(maxloc))\n",
    "            del variables[maxloc] # we delete the highest VIF value on condition that it's higher than the threshold\n",
    "            dropped = True # if we deleted anything, we set the 'dropped' value to True to stay in the while loop\n",
    "\n",
    "    print('Remaining variables:')\n",
    "    return list(X.columns[variables]) # finally, we print the variables that are still in our set\n",
    "   "
   ]
  },
  {
   "cell_type": "markdown",
   "id": "275f9b02-664e-43ab-906f-358ac70b942e",
   "metadata": {},
   "source": [
    "**Remember to exclude the constant column during the feature selection process, but to then use it when fitting the model**"
   ]
  },
  {
   "cell_type": "code",
   "execution_count": 28,
   "id": "c01f685a-28f0-4f10-aefe-7595282cbf90",
   "metadata": {
    "scrolled": true
   },
   "outputs": [
    {
     "name": "stderr",
     "output_type": "stream",
     "text": [
      "/opt/anaconda3/lib/python3.12/site-packages/statsmodels/stats/outliers_influence.py:197: RuntimeWarning: divide by zero encountered in scalar divide\n",
      "  vif = 1. / (1. - r_squared_i)\n"
     ]
    },
    {
     "name": "stdout",
     "output_type": "stream",
     "text": [
      "dropping 'Economy_status_Developed' at index: 16\n",
      "dropping 'Under_five_deaths' at index: 2\n",
      "dropping 'Diphtheria' at index: 8\n",
      "dropping 'Infant_deaths' at index: 1\n",
      "dropping 'Thinness_five_nine_years' at index: 11\n",
      "dropping 'Economy_status_Developing' at index: 12\n",
      "dropping 'GDP_per_capita' at index: 8\n",
      "Remaining variables:\n"
     ]
    },
    {
     "data": {
      "text/plain": [
       "['Year',\n",
       " 'Adult_mortality',\n",
       " 'Alcohol_consumption',\n",
       " 'Hepatitis_B',\n",
       " 'Measles',\n",
       " 'BMI',\n",
       " 'Polio',\n",
       " 'Incidents_HIV',\n",
       " 'Population_mln',\n",
       " 'Thinness_ten_nineteen_years',\n",
       " 'Schooling',\n",
       " 'Region_Asia',\n",
       " 'Region_Central America and Caribbean',\n",
       " 'Region_European Union',\n",
       " 'Region_Middle East',\n",
       " 'Region_North America',\n",
       " 'Region_Oceania',\n",
       " 'Region_Rest of Europe',\n",
       " 'Region_South America']"
      ]
     },
     "execution_count": 28,
     "metadata": {},
     "output_type": "execute_result"
    }
   ],
   "source": [
    "selected_features = list(calculate_vif(X_train_fe.iloc[:,1:]))\n",
    "selected_features"
   ]
  },
  {
   "cell_type": "markdown",
   "id": "450f0b45-86d0-4eb5-8669-9adf9229c1d6",
   "metadata": {
    "jp-MarkdownHeadingCollapsed": true
   },
   "source": [
    "## Test on Train"
   ]
  },
  {
   "cell_type": "markdown",
   "id": "7e02e76c-572e-4187-b393-efd18b99e366",
   "metadata": {},
   "source": [
    "**Check that indices line up between X and y**"
   ]
  },
  {
   "cell_type": "code",
   "execution_count": 31,
   "id": "84405a17-4267-438e-b3e0-e41d22571c41",
   "metadata": {},
   "outputs": [
    {
     "name": "stdout",
     "output_type": "stream",
     "text": [
      "Same number of records in Train: True\n",
      "Same number of records in Test: True\n",
      "~~~~~~~~~~~~~~~~~~~~~~~~~~~~~~~~~~~~~~~~~~~~~~~~~~\n",
      "Same indices in X_train and y_train: False\n",
      "Same indices in X_test and y_test: True\n"
     ]
    }
   ],
   "source": [
    "# Sanity check 1: Check that all record lengths match\n",
    "print(f'Same number of records in Train: {X_train_fe.shape[0] == y_train.shape[0]}')\n",
    "print(f'Same number of records in Test: {X_test.shape[0] == y_test.shape[0]}')\n",
    "\n",
    "print('~'*50)\n",
    "# Sanity check 2: Check that all indices match\n",
    "print(f'Same indices in X_train and y_train: {all(X_train_fe.index == y_train.index)}')\n",
    "print(f'Same indices in X_test and y_test: {all(X_test.index == y_test.index)}')"
   ]
  },
  {
   "cell_type": "code",
   "execution_count": 50,
   "id": "4600250f-4b0a-4068-8b58-8ce4bff1117a",
   "metadata": {},
   "outputs": [],
   "source": [
    "X_train_fe.index = y_train.index"
   ]
  },
  {
   "cell_type": "markdown",
   "id": "eacb27f8-caa7-4119-ba92-fa905a04c598",
   "metadata": {},
   "source": [
    "**Re-add the Constant column for the lin reg model**"
   ]
  },
  {
   "cell_type": "code",
   "execution_count": 35,
   "id": "b47604aa-bcad-4b23-aff8-0782c5445e99",
   "metadata": {},
   "outputs": [],
   "source": [
    "selected_features.insert(0,'Constant')"
   ]
  },
  {
   "cell_type": "markdown",
   "id": "11f354c9-f2e3-4ac9-8d7f-5290223907be",
   "metadata": {
    "jp-MarkdownHeadingCollapsed": true
   },
   "source": [
    "### Fit the Linear Regression Model"
   ]
  },
  {
   "cell_type": "code",
   "execution_count": 37,
   "id": "37e5afb2-e1c7-4b2b-b1d0-cd0d05c6c9db",
   "metadata": {},
   "outputs": [
    {
     "data": {
      "text/html": [
       "<table class=\"simpletable\">\n",
       "<caption>OLS Regression Results</caption>\n",
       "<tr>\n",
       "  <th>Dep. Variable:</th>     <td>Life_expectancy</td> <th>  R-squared:         </th> <td>   0.950</td> \n",
       "</tr>\n",
       "<tr>\n",
       "  <th>Model:</th>                   <td>OLS</td>       <th>  Adj. R-squared:    </th> <td>   0.949</td> \n",
       "</tr>\n",
       "<tr>\n",
       "  <th>Method:</th>             <td>Least Squares</td>  <th>  F-statistic:       </th> <td>   2257.</td> \n",
       "</tr>\n",
       "<tr>\n",
       "  <th>Date:</th>             <td>Sat, 12 Jul 2025</td> <th>  Prob (F-statistic):</th>  <td>  0.00</td>  \n",
       "</tr>\n",
       "<tr>\n",
       "  <th>Time:</th>                 <td>23:17:07</td>     <th>  Log-Likelihood:    </th> <td> -4977.6</td> \n",
       "</tr>\n",
       "<tr>\n",
       "  <th>No. Observations:</th>      <td>  2291</td>      <th>  AIC:               </th> <td>   9995.</td> \n",
       "</tr>\n",
       "<tr>\n",
       "  <th>Df Residuals:</th>          <td>  2271</td>      <th>  BIC:               </th> <td>1.011e+04</td>\n",
       "</tr>\n",
       "<tr>\n",
       "  <th>Df Model:</th>              <td>    19</td>      <th>                     </th>     <td> </td>    \n",
       "</tr>\n",
       "<tr>\n",
       "  <th>Covariance Type:</th>      <td>nonrobust</td>    <th>                     </th>     <td> </td>    \n",
       "</tr>\n",
       "</table>\n",
       "<table class=\"simpletable\">\n",
       "<tr>\n",
       "                    <td></td>                      <th>coef</th>     <th>std err</th>      <th>t</th>      <th>P>|t|</th>  <th>[0.025</th>    <th>0.975]</th>  \n",
       "</tr>\n",
       "<tr>\n",
       "  <th>Constant</th>                             <td>   68.7972</td> <td>    0.045</td> <td> 1542.913</td> <td> 0.000</td> <td>   68.710</td> <td>   68.885</td>\n",
       "</tr>\n",
       "<tr>\n",
       "  <th>Year</th>                                 <td>    0.2685</td> <td>    0.048</td> <td>    5.599</td> <td> 0.000</td> <td>    0.174</td> <td>    0.363</td>\n",
       "</tr>\n",
       "<tr>\n",
       "  <th>Adult_mortality</th>                      <td>   -6.2569</td> <td>    0.083</td> <td>  -75.528</td> <td> 0.000</td> <td>   -6.419</td> <td>   -6.094</td>\n",
       "</tr>\n",
       "<tr>\n",
       "  <th>Alcohol_consumption</th>                  <td>    0.4253</td> <td>    0.082</td> <td>    5.197</td> <td> 0.000</td> <td>    0.265</td> <td>    0.586</td>\n",
       "</tr>\n",
       "<tr>\n",
       "  <th>Hepatitis_B</th>                          <td>    0.1411</td> <td>    0.079</td> <td>    1.788</td> <td> 0.074</td> <td>   -0.014</td> <td>    0.296</td>\n",
       "</tr>\n",
       "<tr>\n",
       "  <th>Measles</th>                              <td>   -0.1879</td> <td>    0.063</td> <td>   -2.990</td> <td> 0.003</td> <td>   -0.311</td> <td>   -0.065</td>\n",
       "</tr>\n",
       "<tr>\n",
       "  <th>BMI</th>                                  <td>    0.4907</td> <td>    0.086</td> <td>    5.726</td> <td> 0.000</td> <td>    0.323</td> <td>    0.659</td>\n",
       "</tr>\n",
       "<tr>\n",
       "  <th>Polio</th>                                <td>    0.9143</td> <td>    0.090</td> <td>   10.174</td> <td> 0.000</td> <td>    0.738</td> <td>    1.091</td>\n",
       "</tr>\n",
       "<tr>\n",
       "  <th>Incidents_HIV</th>                        <td>   -1.0450</td> <td>    0.083</td> <td>  -12.609</td> <td> 0.000</td> <td>   -1.207</td> <td>   -0.882</td>\n",
       "</tr>\n",
       "<tr>\n",
       "  <th>Population_mln</th>                       <td>    0.2971</td> <td>    0.055</td> <td>    5.409</td> <td> 0.000</td> <td>    0.189</td> <td>    0.405</td>\n",
       "</tr>\n",
       "<tr>\n",
       "  <th>Thinness_ten_nineteen_years</th>          <td>    0.5356</td> <td>    0.077</td> <td>    6.988</td> <td> 0.000</td> <td>    0.385</td> <td>    0.686</td>\n",
       "</tr>\n",
       "<tr>\n",
       "  <th>Schooling</th>                            <td>    0.9991</td> <td>    0.096</td> <td>   10.449</td> <td> 0.000</td> <td>    0.812</td> <td>    1.187</td>\n",
       "</tr>\n",
       "<tr>\n",
       "  <th>Region_Asia</th>                          <td>    0.6270</td> <td>    0.069</td> <td>    9.109</td> <td> 0.000</td> <td>    0.492</td> <td>    0.762</td>\n",
       "</tr>\n",
       "<tr>\n",
       "  <th>Region_Central America and Caribbean</th> <td>    1.5332</td> <td>    0.062</td> <td>   24.696</td> <td> 0.000</td> <td>    1.411</td> <td>    1.655</td>\n",
       "</tr>\n",
       "<tr>\n",
       "  <th>Region_European Union</th>                <td>    0.8113</td> <td>    0.097</td> <td>    8.394</td> <td> 0.000</td> <td>    0.622</td> <td>    1.001</td>\n",
       "</tr>\n",
       "<tr>\n",
       "  <th>Region_Middle East</th>                   <td>    0.1469</td> <td>    0.069</td> <td>    2.143</td> <td> 0.032</td> <td>    0.012</td> <td>    0.281</td>\n",
       "</tr>\n",
       "<tr>\n",
       "  <th>Region_North America</th>                 <td>    0.3992</td> <td>    0.055</td> <td>    7.272</td> <td> 0.000</td> <td>    0.292</td> <td>    0.507</td>\n",
       "</tr>\n",
       "<tr>\n",
       "  <th>Region_Oceania</th>                       <td>    0.5249</td> <td>    0.066</td> <td>    7.984</td> <td> 0.000</td> <td>    0.396</td> <td>    0.654</td>\n",
       "</tr>\n",
       "<tr>\n",
       "  <th>Region_Rest of Europe</th>                <td>    0.6445</td> <td>    0.074</td> <td>    8.734</td> <td> 0.000</td> <td>    0.500</td> <td>    0.789</td>\n",
       "</tr>\n",
       "<tr>\n",
       "  <th>Region_South America</th>                 <td>    1.2135</td> <td>    0.060</td> <td>   20.187</td> <td> 0.000</td> <td>    1.096</td> <td>    1.331</td>\n",
       "</tr>\n",
       "</table>\n",
       "<table class=\"simpletable\">\n",
       "<tr>\n",
       "  <th>Omnibus:</th>       <td>58.046</td> <th>  Durbin-Watson:     </th> <td>   2.031</td>\n",
       "</tr>\n",
       "<tr>\n",
       "  <th>Prob(Omnibus):</th> <td> 0.000</td> <th>  Jarque-Bera (JB):  </th> <td> 129.034</td>\n",
       "</tr>\n",
       "<tr>\n",
       "  <th>Skew:</th>          <td>-0.079</td> <th>  Prob(JB):          </th> <td>9.57e-29</td>\n",
       "</tr>\n",
       "<tr>\n",
       "  <th>Kurtosis:</th>      <td> 4.152</td> <th>  Cond. No.          </th> <td>    7.97</td>\n",
       "</tr>\n",
       "</table><br/><br/>Notes:<br/>[1] Standard Errors assume that the covariance matrix of the errors is correctly specified."
      ],
      "text/latex": [
       "\\begin{center}\n",
       "\\begin{tabular}{lclc}\n",
       "\\toprule\n",
       "\\textbf{Dep. Variable:}                        & Life\\_expectancy & \\textbf{  R-squared:         } &     0.950   \\\\\n",
       "\\textbf{Model:}                                &       OLS        & \\textbf{  Adj. R-squared:    } &     0.949   \\\\\n",
       "\\textbf{Method:}                               &  Least Squares   & \\textbf{  F-statistic:       } &     2257.   \\\\\n",
       "\\textbf{Date:}                                 & Sat, 12 Jul 2025 & \\textbf{  Prob (F-statistic):} &     0.00    \\\\\n",
       "\\textbf{Time:}                                 &     23:17:07     & \\textbf{  Log-Likelihood:    } &   -4977.6   \\\\\n",
       "\\textbf{No. Observations:}                     &        2291      & \\textbf{  AIC:               } &     9995.   \\\\\n",
       "\\textbf{Df Residuals:}                         &        2271      & \\textbf{  BIC:               } & 1.011e+04   \\\\\n",
       "\\textbf{Df Model:}                             &          19      & \\textbf{                     } &             \\\\\n",
       "\\textbf{Covariance Type:}                      &    nonrobust     & \\textbf{                     } &             \\\\\n",
       "\\bottomrule\n",
       "\\end{tabular}\n",
       "\\begin{tabular}{lcccccc}\n",
       "                                               & \\textbf{coef} & \\textbf{std err} & \\textbf{t} & \\textbf{P$> |$t$|$} & \\textbf{[0.025} & \\textbf{0.975]}  \\\\\n",
       "\\midrule\n",
       "\\textbf{Constant}                              &      68.7972  &        0.045     &  1542.913  &         0.000        &       68.710    &       68.885     \\\\\n",
       "\\textbf{Year}                                  &       0.2685  &        0.048     &     5.599  &         0.000        &        0.174    &        0.363     \\\\\n",
       "\\textbf{Adult\\_mortality}                      &      -6.2569  &        0.083     &   -75.528  &         0.000        &       -6.419    &       -6.094     \\\\\n",
       "\\textbf{Alcohol\\_consumption}                  &       0.4253  &        0.082     &     5.197  &         0.000        &        0.265    &        0.586     \\\\\n",
       "\\textbf{Hepatitis\\_B}                          &       0.1411  &        0.079     &     1.788  &         0.074        &       -0.014    &        0.296     \\\\\n",
       "\\textbf{Measles}                               &      -0.1879  &        0.063     &    -2.990  &         0.003        &       -0.311    &       -0.065     \\\\\n",
       "\\textbf{BMI}                                   &       0.4907  &        0.086     &     5.726  &         0.000        &        0.323    &        0.659     \\\\\n",
       "\\textbf{Polio}                                 &       0.9143  &        0.090     &    10.174  &         0.000        &        0.738    &        1.091     \\\\\n",
       "\\textbf{Incidents\\_HIV}                        &      -1.0450  &        0.083     &   -12.609  &         0.000        &       -1.207    &       -0.882     \\\\\n",
       "\\textbf{Population\\_mln}                       &       0.2971  &        0.055     &     5.409  &         0.000        &        0.189    &        0.405     \\\\\n",
       "\\textbf{Thinness\\_ten\\_nineteen\\_years}        &       0.5356  &        0.077     &     6.988  &         0.000        &        0.385    &        0.686     \\\\\n",
       "\\textbf{Schooling}                             &       0.9991  &        0.096     &    10.449  &         0.000        &        0.812    &        1.187     \\\\\n",
       "\\textbf{Region\\_Asia}                          &       0.6270  &        0.069     &     9.109  &         0.000        &        0.492    &        0.762     \\\\\n",
       "\\textbf{Region\\_Central America and Caribbean} &       1.5332  &        0.062     &    24.696  &         0.000        &        1.411    &        1.655     \\\\\n",
       "\\textbf{Region\\_European Union}                &       0.8113  &        0.097     &     8.394  &         0.000        &        0.622    &        1.001     \\\\\n",
       "\\textbf{Region\\_Middle East}                   &       0.1469  &        0.069     &     2.143  &         0.032        &        0.012    &        0.281     \\\\\n",
       "\\textbf{Region\\_North America}                 &       0.3992  &        0.055     &     7.272  &         0.000        &        0.292    &        0.507     \\\\\n",
       "\\textbf{Region\\_Oceania}                       &       0.5249  &        0.066     &     7.984  &         0.000        &        0.396    &        0.654     \\\\\n",
       "\\textbf{Region\\_Rest of Europe}                &       0.6445  &        0.074     &     8.734  &         0.000        &        0.500    &        0.789     \\\\\n",
       "\\textbf{Region\\_South America}                 &       1.2135  &        0.060     &    20.187  &         0.000        &        1.096    &        1.331     \\\\\n",
       "\\bottomrule\n",
       "\\end{tabular}\n",
       "\\begin{tabular}{lclc}\n",
       "\\textbf{Omnibus:}       & 58.046 & \\textbf{  Durbin-Watson:     } &    2.031  \\\\\n",
       "\\textbf{Prob(Omnibus):} &  0.000 & \\textbf{  Jarque-Bera (JB):  } &  129.034  \\\\\n",
       "\\textbf{Skew:}          & -0.079 & \\textbf{  Prob(JB):          } & 9.57e-29  \\\\\n",
       "\\textbf{Kurtosis:}      &  4.152 & \\textbf{  Cond. No.          } &     7.97  \\\\\n",
       "\\bottomrule\n",
       "\\end{tabular}\n",
       "%\\caption{OLS Regression Results}\n",
       "\\end{center}\n",
       "\n",
       "Notes: \\newline\n",
       " [1] Standard Errors assume that the covariance matrix of the errors is correctly specified."
      ],
      "text/plain": [
       "<class 'statsmodels.iolib.summary.Summary'>\n",
       "\"\"\"\n",
       "                            OLS Regression Results                            \n",
       "==============================================================================\n",
       "Dep. Variable:        Life_expectancy   R-squared:                       0.950\n",
       "Model:                            OLS   Adj. R-squared:                  0.949\n",
       "Method:                 Least Squares   F-statistic:                     2257.\n",
       "Date:                Sat, 12 Jul 2025   Prob (F-statistic):               0.00\n",
       "Time:                        23:17:07   Log-Likelihood:                -4977.6\n",
       "No. Observations:                2291   AIC:                             9995.\n",
       "Df Residuals:                    2271   BIC:                         1.011e+04\n",
       "Df Model:                          19                                         \n",
       "Covariance Type:            nonrobust                                         \n",
       "========================================================================================================\n",
       "                                           coef    std err          t      P>|t|      [0.025      0.975]\n",
       "--------------------------------------------------------------------------------------------------------\n",
       "Constant                                68.7972      0.045   1542.913      0.000      68.710      68.885\n",
       "Year                                     0.2685      0.048      5.599      0.000       0.174       0.363\n",
       "Adult_mortality                         -6.2569      0.083    -75.528      0.000      -6.419      -6.094\n",
       "Alcohol_consumption                      0.4253      0.082      5.197      0.000       0.265       0.586\n",
       "Hepatitis_B                              0.1411      0.079      1.788      0.074      -0.014       0.296\n",
       "Measles                                 -0.1879      0.063     -2.990      0.003      -0.311      -0.065\n",
       "BMI                                      0.4907      0.086      5.726      0.000       0.323       0.659\n",
       "Polio                                    0.9143      0.090     10.174      0.000       0.738       1.091\n",
       "Incidents_HIV                           -1.0450      0.083    -12.609      0.000      -1.207      -0.882\n",
       "Population_mln                           0.2971      0.055      5.409      0.000       0.189       0.405\n",
       "Thinness_ten_nineteen_years              0.5356      0.077      6.988      0.000       0.385       0.686\n",
       "Schooling                                0.9991      0.096     10.449      0.000       0.812       1.187\n",
       "Region_Asia                              0.6270      0.069      9.109      0.000       0.492       0.762\n",
       "Region_Central America and Caribbean     1.5332      0.062     24.696      0.000       1.411       1.655\n",
       "Region_European Union                    0.8113      0.097      8.394      0.000       0.622       1.001\n",
       "Region_Middle East                       0.1469      0.069      2.143      0.032       0.012       0.281\n",
       "Region_North America                     0.3992      0.055      7.272      0.000       0.292       0.507\n",
       "Region_Oceania                           0.5249      0.066      7.984      0.000       0.396       0.654\n",
       "Region_Rest of Europe                    0.6445      0.074      8.734      0.000       0.500       0.789\n",
       "Region_South America                     1.2135      0.060     20.187      0.000       1.096       1.331\n",
       "==============================================================================\n",
       "Omnibus:                       58.046   Durbin-Watson:                   2.031\n",
       "Prob(Omnibus):                  0.000   Jarque-Bera (JB):              129.034\n",
       "Skew:                          -0.079   Prob(JB):                     9.57e-29\n",
       "Kurtosis:                       4.152   Cond. No.                         7.97\n",
       "==============================================================================\n",
       "\n",
       "Notes:\n",
       "[1] Standard Errors assume that the covariance matrix of the errors is correctly specified.\n",
       "\"\"\""
      ]
     },
     "execution_count": 37,
     "metadata": {},
     "output_type": "execute_result"
    }
   ],
   "source": [
    "lin_reg = sm.OLS(y_train, X_train_fe[selected_features])\n",
    "results = lin_reg.fit()\n",
    "results.summary()"
   ]
  },
  {
   "cell_type": "markdown",
   "id": "c79dd32d-cd76-4b2c-9381-5a781bb94c69",
   "metadata": {
    "jp-MarkdownHeadingCollapsed": true
   },
   "source": [
    "### Find RMSE of the model predicting the training target"
   ]
  },
  {
   "cell_type": "code",
   "execution_count": 56,
   "id": "e445f991-c876-492a-a719-2065a9c86923",
   "metadata": {},
   "outputs": [
    {
     "name": "stdout",
     "output_type": "stream",
     "text": [
      "2.124896129320496\n"
     ]
    }
   ],
   "source": [
    "y_pred = results.predict(X_train_fe[selected_features])\n",
    "\n",
    "rmse = statsmodels.tools.eval_measures.rmse(y_train, y_pred)\n",
    "\n",
    "print(rmse)"
   ]
  },
  {
   "cell_type": "markdown",
   "id": "3351e202-4cfa-4721-872a-89f6aa9aea56",
   "metadata": {
    "jp-MarkdownHeadingCollapsed": true
   },
   "source": [
    "## Test on the Test Set"
   ]
  },
  {
   "cell_type": "code",
   "execution_count": 41,
   "id": "62292623-1d0e-427a-b194-635eee0f4dc7",
   "metadata": {},
   "outputs": [],
   "source": [
    "## We apply feature_eng to the X_test set! \n",
    "## This is why having a nice neat function is very nice! \n",
    "X_test_fe = feature_eng(X_test)\n",
    "\n",
    "## Now we predict using the X_test_fe set!\n",
    "## We don't \"fit\" the model again! \n",
    "## We want to see test results that are similar to the training results!"
   ]
  },
  {
   "cell_type": "code",
   "execution_count": 43,
   "id": "c71be70e-c124-4bee-83a6-6e855db841a2",
   "metadata": {},
   "outputs": [
    {
     "name": "stdout",
     "output_type": "stream",
     "text": [
      "2.225885732823611\n"
     ]
    }
   ],
   "source": [
    "y_test_pred = results.predict(X_test_fe[selected_features])\n",
    "rmse = statsmodels.tools.eval_measures.rmse(y_test, y_test_pred)\n",
    "print(rmse)"
   ]
  }
 ],
 "metadata": {
  "kernelspec": {
   "display_name": "Python [conda env:base] *",
   "language": "python",
   "name": "conda-base-py"
  },
  "language_info": {
   "codemirror_mode": {
    "name": "ipython",
    "version": 3
   },
   "file_extension": ".py",
   "mimetype": "text/x-python",
   "name": "python",
   "nbconvert_exporter": "python",
   "pygments_lexer": "ipython3",
   "version": "3.12.7"
  }
 },
 "nbformat": 4,
 "nbformat_minor": 5
}

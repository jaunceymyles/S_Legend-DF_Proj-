{
 "cells": [
  {
   "cell_type": "code",
   "execution_count": 101,
   "id": "f1d73ae7-6541-4095-835d-3ec5ea2c6c69",
   "metadata": {
    "tags": []
   },
   "outputs": [],
   "source": [
    "import pandas as pd\n",
    "import numpy as np\n",
    "import seaborn as sns\n",
    "import matplotlib.pyplot as plt\n",
    " \n",
    "from sklearn.model_selection import train_test_split\n",
    "from sklearn.metrics import mean_squared_error\n",
    "from sklearn.preprocessing import StandardScaler\n",
    " \n",
    "import statsmodels.api as sm\n",
    "from statsmodels.stats.outliers_influence import variance_inflation_factor"
   ]
  },
  {
   "cell_type": "code",
   "execution_count": 102,
   "id": "211097f3",
   "metadata": {},
   "outputs": [],
   "source": [
    "def load_and_clean_data(file):\n",
    "    df = pd.read_csv(file)\n",
    "   \n",
    "   \n",
    "    df = df.dropna(subset=[\"Life_expectancy\"])\n",
    " \n",
    " \n",
    "    df = df.drop(columns=[\"Country\", \"Region\", \"Year\", 'Economy_status_Developed', 'Economy_status_Developing', 'Measles'], errors='ignore')\n",
    " \n",
    "    for col in df.select_dtypes(include=[np.number]):\n",
    "        df[col] = df[col].fillna(df[col].median())\n",
    " \n",
    "    return df"
   ]
  },
  {
   "cell_type": "code",
   "execution_count": 103,
   "id": "8a01d0b9",
   "metadata": {},
   "outputs": [],
   "source": [
    "def split_scale(data, fulldata):\n",
    "    scaler = StandardScaler()\n",
    "    data_scaled = scaler.fit_transform(data.select_dtypes(include=[np.number]))\n",
    "\n",
    "    df = pd.DataFrame(data_scaled, columns=data.select_dtypes(include=[np.number]).columns)\n",
    "\n",
    "    X = df.drop(columns=['Life_expectancy'])\n",
    "    y = df['Life_expectancy']\n",
    " \n",
    "    if fulldata:\n",
    "        return X, y\n",
    "    else:\n",
    "        X_train, X_test, y_train, y_test = train_test_split(X, y, test_size=0.2, random_state=42)\n",
    "        return X_train, X_test, y_train, y_test"
   ]
  },
  {
   "cell_type": "code",
   "execution_count": 104,
   "id": "7bdff211-06a6-464c-b3fc-82fe7580861a",
   "metadata": {
    "tags": []
   },
   "outputs": [],
   "source": [
    "def feature_engineeringV2(X):\n",
    "\n",
    "    '''\n",
    "    This function inputs a dataframe df and returns a feature engineered version of the dataframe.\n",
    "    It performs the following steps:\n",
    "    \n",
    "    1. Drops the columns 'Country', 'Region', 'Life_expectancy', 'Economy_status_Developed', 'Economy_status_Developing', and 'Measles'.\n",
    "    2. Creates a dataframe X and series y for feature engineering.\n",
    "    3. Removes highly correlated features with a correlation greater than 0.9.\n",
    "    4. Scales the features using StandardScaler.\n",
    "    5. Calculates the Variance Inflation Factor (VIF) for each feature and drops features with a VIF greater than 10.\n",
    "    6. Returns the feature engineered version of X and y.\n",
    "    '''\n",
    "    \n",
    "    transform_cols = ['GDP_per_capita', 'Incidents_HIV']  # Columns to be transformed\n",
    "    X[transform_cols] = np.log1p(X[transform_cols])  \n",
    "\n",
    "    corr_matrix = X.corr().abs() # Creates a correlation matrix for all the values in the X dataframe, making sure its absolute values (this prevents a division by zero error).\n",
    "    upper = corr_matrix.where(np.triu(np.ones(corr_matrix.shape), k = 1).astype(bool)) # Takes the upper triangle of the correlation matrix, k = 1, is the upper diagonal, and changes the type to boolean.\n",
    "    to_drop = [column for column in upper.columns if any(upper[column] > 0.9)] # Takes all the columns with correlation greater than 0.9 in one list.\n",
    "    X = X.drop(columns=to_drop) # Drops all of the columns with the correlations > 0.9 - this is the feature selection step.\n",
    "\n",
    "\n",
    "    vif_data = pd.DataFrame()\n",
    "    vif_data[\"feature\"] = X.columns # Adds a column called feature and fills it with the columns from X.\n",
    "    vif_data[\"VIF\"] = [variance_inflation_factor(X.values, i) for i in range(X.shape[1])] # Iterates through and calculates the VIF for each feature.\n",
    "    X = X.drop(columns = vif_data[vif_data[\"VIF\"] > 10][\"feature\"]) # Drops the columns with a VIF value > 10, as this suggests high multicollinearity.\n",
    "\n",
    "    print(X.columns)\n",
    "\n",
    "    # Returns the feature engineered version of X\n",
    "    return X\n"
   ]
  },
  {
   "cell_type": "code",
   "execution_count": 105,
   "id": "4fb63f0f",
   "metadata": {},
   "outputs": [],
   "source": [
    "def feature_engineeringV2_sensitive(X):\n",
    "\n",
    "    '''\n",
    "    This function inputs a dataframe df and returns a feature engineered version of the dataframe.\n",
    "    It performs the following steps:\n",
    "    \n",
    "    1. Drops the columns 'Country', 'Region', 'Life_expectancy', 'Economy_status_Developed', 'Economy_status_Developing', and 'Measles'.\n",
    "    2. Creates a dataframe X and series y for feature engineering.\n",
    "    3. Removes highly correlated features with a correlation greater than 0.9.\n",
    "    4. Scales the features using StandardScaler.\n",
    "    5. Calculates the Variance Inflation Factor (VIF) for each feature and drops features with a VIF greater than 10.\n",
    "    6. Returns the feature engineered version of X and y.\n",
    "    '''\n",
    "\n",
    "    transform_cols = ['GDP_per_capita', 'Incidents_HIV']  # Columns to be transformed\n",
    "    X[transform_cols] = np.log1p(X[transform_cols])  \n",
    "\n",
    "    # Drop sensitive columns\n",
    "    X = X.drop(columns=['Infant_deaths', 'Under_five_deaths', 'Adult_mortality', 'Hepatitis_B', 'Polio', 'Diphtheria', 'Incidents_HIV']) # Drop sensitive columns that may not be appropriate for all audiences.\n",
    "\n",
    "    corr_matrix = X.corr().abs() # Creates a correlation matrix for all the values in the X dataframe, making sure its absolute values (this prevents a division by zero error).\n",
    "    upper = corr_matrix.where(np.triu(np.ones(corr_matrix.shape), k = 1).astype(bool)) # Takes the upper triangle of the correlation matrix, k = 1, is the upper diagonal, and changes the type to boolean.\n",
    "    to_drop = [column for column in upper.columns if any(upper[column] > 0.9)] # Takes all the columns with correlation greater than 0.9 in one list.\n",
    "    X = X.drop(columns=to_drop) # Drops all of the columns with the correlations > 0.9 - this is the feature selection step.\n",
    "\n",
    "\n",
    "    vif_data = pd.DataFrame()\n",
    "    vif_data[\"feature\"] = X.columns # Adds a column called feature and fills it with the columns from X.\n",
    "    vif_data[\"VIF\"] = [variance_inflation_factor(X.values, i) for i in range(X.shape[1])] # Iterates through and calculates the VIF for each feature.\n",
    "    X = X.drop(columns = vif_data[vif_data[\"VIF\"] > 10][\"feature\"]) # Drops the columns with a VIF value > 10, as this suggests high multicollinearity.\n",
    "\n",
    "    print(X.columns)\n",
    "    # Returns the feature engineered version of X\n",
    "    return X"
   ]
  },
  {
   "cell_type": "code",
   "execution_count": 106,
   "id": "0659d324-2512-46ee-9104-4a71bfe20266",
   "metadata": {
    "tags": []
   },
   "outputs": [],
   "source": [
    "def train_model(df, sensitive, fulldata):\n",
    "    \n",
    "    if fulldata:\n",
    "        X, y = split_scale(df, fulldata)\n",
    "        if sensitive:\n",
    "            X_fe = feature_engineeringV2_sensitive(X)\n",
    "        else:\n",
    "            X_fe = feature_engineeringV2(X)\n",
    "        \n",
    "        X_fe_const = sm.add_constant(X_fe)\n",
    "\n",
    "        X_fe_const = X_fe_const.reset_index(drop=True)\n",
    "        y = y.reset_index(drop=True)\n",
    "\n",
    "        model = sm.OLS(y, X_fe_const).fit()\n",
    "        print(model.summary())\n",
    "        y_pred = model.predict(X_fe_const)\n",
    "        rmse = np.sqrt(mean_squared_error(y, y_pred))\n",
    "        condition_number = np.linalg.cond(X_fe_const)\n",
    "    else:\n",
    "        X_train, X_test, y_train, y_test = split_scale(df, fulldata)\n",
    "\n",
    "        if sensitive:\n",
    "            X_train_fe = feature_engineeringV2_sensitive(X_train)\n",
    "            X_test_fe = feature_engineeringV2_sensitive(X_test)\n",
    "        else:\n",
    "            X_train_fe = feature_engineeringV2(X_train)\n",
    "            X_test_fe = feature_engineeringV2(X_test)\n",
    "    \n",
    "        X_train_fe_const = sm.add_constant(X_train_fe)\n",
    "        X_test_fe_const = sm.add_constant(X_test_fe)\n",
    "\n",
    "        X_train_fe_const = X_train_fe_const.reset_index(drop=True)\n",
    "        y_train = y_train.reset_index(drop=True)\n",
    "\n",
    "        X_test_fe_const = X_test_fe_const.reset_index(drop=True)\n",
    "        y_test = y_test.reset_index(drop=True)\n",
    "\n",
    "    \n",
    "\n",
    "        model = sm.OLS(y_train, X_train_fe_const).fit()\n",
    "    \n",
    "        print(model.summary())\n",
    "    \n",
    "        y_pred = model.predict(X_test_fe_const)\n",
    "        rmse = np.sqrt(mean_squared_error(y_test, y_pred))\n",
    "        condition_number = np.linalg.cond(X_train_fe_const)\n",
    " \n",
    "    print(f\"\\nTest RMSE: {rmse}\")\n",
    "    print(f\"Condition Number: {condition_number}\")\n",
    "    \n",
    "    return model"
   ]
  },
  {
   "cell_type": "code",
   "execution_count": 107,
   "id": "5cfd323b-0f2b-4dd9-80dd-75d946b85e4a",
   "metadata": {
    "tags": []
   },
   "outputs": [],
   "source": [
    "def full_pipeline(file, sensitive, fulldata):\n",
    "    '''\n",
    "    This function orchestrates the full pipeline of loading, cleaning, feature engineering, and training a model.\n",
    "    '''\n",
    "    data = load_and_clean_data(file)\n",
    "\n",
    "    model = train_model(data, sensitive, fulldata)\n",
    "    return model"
   ]
  },
  {
   "cell_type": "code",
   "execution_count": 108,
   "id": "2ac7ecb5",
   "metadata": {},
   "outputs": [
    {
     "name": "stdout",
     "output_type": "stream",
     "text": [
      "Index(['Alcohol_consumption', 'BMI', 'GDP_per_capita', 'Population_mln',\n",
      "       'Thinness_ten_nineteen_years', 'Schooling'],\n",
      "      dtype='object')\n",
      "Index(['Alcohol_consumption', 'BMI', 'GDP_per_capita', 'Population_mln',\n",
      "       'Thinness_ten_nineteen_years', 'Schooling'],\n",
      "      dtype='object')\n",
      "                            OLS Regression Results                            \n",
      "==============================================================================\n",
      "Dep. Variable:        Life_expectancy   R-squared:                       0.664\n",
      "Model:                            OLS   Adj. R-squared:                  0.663\n",
      "Method:                 Least Squares   F-statistic:                     751.2\n",
      "Date:                Mon, 14 Jul 2025   Prob (F-statistic):               0.00\n",
      "Time:                        16:28:35   Log-Likelihood:                -2019.8\n",
      "No. Observations:                2291   AIC:                             4054.\n",
      "Df Residuals:                    2284   BIC:                             4094.\n",
      "Df Model:                           6                                         \n",
      "Covariance Type:            nonrobust                                         \n",
      "===============================================================================================\n",
      "                                  coef    std err          t      P>|t|      [0.025      0.975]\n",
      "-----------------------------------------------------------------------------------------------\n",
      "const                           0.1693      0.014     11.735      0.000       0.141       0.198\n",
      "Alcohol_consumption            -0.1213      0.017     -7.324      0.000      -0.154      -0.089\n",
      "BMI                             0.1812      0.018     10.116      0.000       0.146       0.216\n",
      "GDP_per_capita                  0.5694      0.024     23.494      0.000       0.522       0.617\n",
      "Population_mln                  0.0927      0.013      7.305      0.000       0.068       0.118\n",
      "Thinness_ten_nineteen_years    -0.0322      0.017     -1.882      0.060      -0.066       0.001\n",
      "Schooling                       0.3857      0.022     17.528      0.000       0.343       0.429\n",
      "==============================================================================\n",
      "Omnibus:                      210.161   Durbin-Watson:                   1.992\n",
      "Prob(Omnibus):                  0.000   Jarque-Bera (JB):              291.955\n",
      "Skew:                          -0.733   Prob(JB):                     4.01e-64\n",
      "Kurtosis:                       3.955   Cond. No.                         4.05\n",
      "==============================================================================\n",
      "\n",
      "Notes:\n",
      "[1] Standard Errors assume that the covariance matrix of the errors is correctly specified.\n",
      "\n",
      "Test RMSE: 0.5890536672737202\n",
      "Condition Number: 4.048764395831036\n"
     ]
    }
   ],
   "source": [
    "model_sensitive = full_pipeline('Life Expectancy Data.csv', True, fulldata=False)"
   ]
  },
  {
   "cell_type": "code",
   "execution_count": 109,
   "id": "6dbf6bee",
   "metadata": {},
   "outputs": [
    {
     "name": "stdout",
     "output_type": "stream",
     "text": [
      "Index(['Infant_deaths', 'Adult_mortality', 'Alcohol_consumption',\n",
      "       'Hepatitis_B', 'BMI', 'Polio', 'Incidents_HIV', 'GDP_per_capita',\n",
      "       'Population_mln', 'Thinness_ten_nineteen_years', 'Schooling'],\n",
      "      dtype='object')\n",
      "Index(['Infant_deaths', 'Adult_mortality', 'Alcohol_consumption',\n",
      "       'Hepatitis_B', 'BMI', 'Polio', 'Incidents_HIV', 'GDP_per_capita',\n",
      "       'Population_mln', 'Thinness_ten_nineteen_years', 'Schooling'],\n",
      "      dtype='object')\n",
      "                            OLS Regression Results                            \n",
      "==============================================================================\n",
      "Dep. Variable:        Life_expectancy   R-squared:                       0.978\n",
      "Model:                            OLS   Adj. R-squared:                  0.978\n",
      "Method:                 Least Squares   F-statistic:                     9365.\n",
      "Date:                Mon, 14 Jul 2025   Prob (F-statistic):               0.00\n",
      "Time:                        16:28:36   Log-Likelihood:                 1122.6\n",
      "No. Observations:                2291   AIC:                            -2221.\n",
      "Df Residuals:                    2279   BIC:                            -2152.\n",
      "Df Model:                          11                                         \n",
      "Covariance Type:            nonrobust                                         \n",
      "===============================================================================================\n",
      "                                  coef    std err          t      P>|t|      [0.025      0.975]\n",
      "-----------------------------------------------------------------------------------------------\n",
      "const                           0.0299      0.004      7.427      0.000       0.022       0.038\n",
      "Infant_deaths                  -0.3746      0.009    -43.170      0.000      -0.392      -0.358\n",
      "Adult_mortality                -0.5845      0.009    -65.401      0.000      -0.602      -0.567\n",
      "Alcohol_consumption             0.0235      0.004      5.383      0.000       0.015       0.032\n",
      "Hepatitis_B                    -0.0194      0.005     -4.315      0.000      -0.028      -0.011\n",
      "BMI                            -0.0315      0.005     -6.500      0.000      -0.041      -0.022\n",
      "Polio                           0.0233      0.006      3.983      0.000       0.012       0.035\n",
      "Incidents_HIV                   0.0127      0.013      1.011      0.312      -0.012       0.037\n",
      "GDP_per_capita                  0.0914      0.007     12.663      0.000       0.077       0.106\n",
      "Population_mln              -5.516e-05      0.003     -0.017      0.987      -0.006       0.006\n",
      "Thinness_ten_nineteen_years    -0.0127      0.004     -2.896      0.004      -0.021      -0.004\n",
      "Schooling                       0.0444      0.006      7.029      0.000       0.032       0.057\n",
      "==============================================================================\n",
      "Omnibus:                        6.718   Durbin-Watson:                   1.989\n",
      "Prob(Omnibus):                  0.035   Jarque-Bera (JB):                5.629\n",
      "Skew:                          -0.039   Prob(JB):                       0.0599\n",
      "Kurtosis:                       2.770   Cond. No.                         10.9\n",
      "==============================================================================\n",
      "\n",
      "Notes:\n",
      "[1] Standard Errors assume that the covariance matrix of the errors is correctly specified.\n",
      "\n",
      "Test RMSE: 0.15245887197036204\n",
      "Condition Number: 10.932676593912895\n"
     ]
    }
   ],
   "source": [
    "model_non_sensitive = full_pipeline('Life Expectancy Data.csv', False, fulldata=False)"
   ]
  },
  {
   "cell_type": "markdown",
   "id": "219c4118",
   "metadata": {},
   "source": [
    "# Now training Model on entire dataset to feed into function"
   ]
  },
  {
   "cell_type": "code",
   "execution_count": 110,
   "id": "f6e25002",
   "metadata": {},
   "outputs": [
    {
     "name": "stdout",
     "output_type": "stream",
     "text": [
      "Index(['Alcohol_consumption', 'BMI', 'GDP_per_capita', 'Population_mln',\n",
      "       'Thinness_ten_nineteen_years', 'Schooling'],\n",
      "      dtype='object')\n",
      "                            OLS Regression Results                            \n",
      "==============================================================================\n",
      "Dep. Variable:        Life_expectancy   R-squared:                       0.658\n",
      "Model:                            OLS   Adj. R-squared:                  0.657\n",
      "Method:                 Least Squares   F-statistic:                     914.8\n",
      "Date:                Mon, 14 Jul 2025   Prob (F-statistic):               0.00\n",
      "Time:                        16:29:40   Log-Likelihood:                -2528.8\n",
      "No. Observations:                2864   AIC:                             5072.\n",
      "Df Residuals:                    2857   BIC:                             5113.\n",
      "Df Model:                           6                                         \n",
      "Covariance Type:            nonrobust                                         \n",
      "===============================================================================================\n",
      "                                  coef    std err          t      P>|t|      [0.025      0.975]\n",
      "-----------------------------------------------------------------------------------------------\n",
      "const                           0.1830      0.013     14.106      0.000       0.158       0.208\n",
      "Alcohol_consumption            -0.1233      0.015     -8.339      0.000      -0.152      -0.094\n",
      "BMI                             0.1839      0.016     11.581      0.000       0.153       0.215\n",
      "GDP_per_capita                  0.5730      0.022     26.272      0.000       0.530       0.616\n",
      "Population_mln                  0.0917      0.011      7.982      0.000       0.069       0.114\n",
      "Thinness_ten_nineteen_years    -0.0242      0.015     -1.596      0.111      -0.054       0.006\n",
      "Schooling                       0.3877      0.020     19.720      0.000       0.349       0.426\n",
      "==============================================================================\n",
      "Omnibus:                      300.018   Durbin-Watson:                   1.972\n",
      "Prob(Omnibus):                  0.000   Jarque-Bera (JB):              438.727\n",
      "Skew:                          -0.791   Prob(JB):                     5.39e-96\n",
      "Kurtosis:                       4.084   Cond. No.                         4.04\n",
      "==============================================================================\n",
      "\n",
      "Notes:\n",
      "[1] Standard Errors assume that the covariance matrix of the errors is correctly specified.\n",
      "\n",
      "Test RMSE: 0.5850952063008522\n",
      "Condition Number: 4.039712658915256\n"
     ]
    }
   ],
   "source": [
    "model_sensitive_full = full_pipeline('Life Expectancy Data.csv', True, fulldata=True)"
   ]
  },
  {
   "cell_type": "code",
   "execution_count": 111,
   "id": "aaf33176",
   "metadata": {},
   "outputs": [
    {
     "name": "stdout",
     "output_type": "stream",
     "text": [
      "Index(['Infant_deaths', 'Adult_mortality', 'Alcohol_consumption',\n",
      "       'Hepatitis_B', 'BMI', 'Polio', 'Incidents_HIV', 'GDP_per_capita',\n",
      "       'Population_mln', 'Thinness_ten_nineteen_years', 'Schooling'],\n",
      "      dtype='object')\n",
      "                            OLS Regression Results                            \n",
      "==============================================================================\n",
      "Dep. Variable:        Life_expectancy   R-squared:                       0.978\n",
      "Model:                            OLS   Adj. R-squared:                  0.978\n",
      "Method:                 Least Squares   F-statistic:                 1.141e+04\n",
      "Date:                Mon, 14 Jul 2025   Prob (F-statistic):               0.00\n",
      "Time:                        16:29:40   Log-Likelihood:                 1387.8\n",
      "No. Observations:                2864   AIC:                            -2752.\n",
      "Df Residuals:                    2852   BIC:                            -2680.\n",
      "Df Model:                          11                                         \n",
      "Covariance Type:            nonrobust                                         \n",
      "===============================================================================================\n",
      "                                  coef    std err          t      P>|t|      [0.025      0.975]\n",
      "-----------------------------------------------------------------------------------------------\n",
      "const                           0.0312      0.004      8.547      0.000       0.024       0.038\n",
      "Infant_deaths                  -0.3768      0.008    -48.730      0.000      -0.392      -0.362\n",
      "Adult_mortality                -0.5858      0.008    -72.885      0.000      -0.602      -0.570\n",
      "Alcohol_consumption             0.0219      0.004      5.605      0.000       0.014       0.030\n",
      "Hepatitis_B                    -0.0205      0.004     -4.996      0.000      -0.029      -0.012\n",
      "BMI                            -0.0338      0.004     -7.806      0.000      -0.042      -0.025\n",
      "Polio                           0.0235      0.005      4.478      0.000       0.013       0.034\n",
      "Incidents_HIV                   0.0129      0.011      1.127      0.260      -0.010       0.035\n",
      "GDP_per_capita                  0.0904      0.007     13.887      0.000       0.078       0.103\n",
      "Population_mln              -4.155e-06      0.003     -0.001      0.999      -0.006       0.006\n",
      "Thinness_ten_nineteen_years    -0.0109      0.004     -2.788      0.005      -0.019      -0.003\n",
      "Schooling                       0.0466      0.006      8.217      0.000       0.035       0.058\n",
      "==============================================================================\n",
      "Omnibus:                       10.584   Durbin-Watson:                   2.005\n",
      "Prob(Omnibus):                  0.005   Jarque-Bera (JB):                8.616\n",
      "Skew:                          -0.049   Prob(JB):                       0.0135\n",
      "Kurtosis:                       2.750   Cond. No.                         10.9\n",
      "==============================================================================\n",
      "\n",
      "Notes:\n",
      "[1] Standard Errors assume that the covariance matrix of the errors is correctly specified.\n",
      "\n",
      "Test RMSE: 0.14904294199340634\n",
      "Condition Number: 10.900881995050797\n"
     ]
    }
   ],
   "source": [
    "model_non_sensitive_full = full_pipeline('Life Expectancy Data.csv', False, fulldata=True)"
   ]
  },
  {
   "cell_type": "code",
   "execution_count": 112,
   "id": "2c0c1650-a86f-4a55-8156-f1458ee9f2c1",
   "metadata": {
    "tags": []
   },
   "outputs": [],
   "source": [
    "model_sensitive_full.save(\"non_sensitive_model.pkl\")"
   ]
  },
  {
   "cell_type": "code",
   "execution_count": 113,
   "id": "459883d2-61b9-420e-8775-b4eca0bb99e1",
   "metadata": {
    "tags": []
   },
   "outputs": [
    {
     "data": {
      "text/plain": [
       "'\\nuser_info_specs_Sensitive = [\\n    {\\'prompt\\': \"Alcohol consumption per person per year in litres?\", \\'type\\': float},\\n    {\\'prompt\\': \"average BMI\", \\'type\\': float},\\n    {\\'prompt\\': \"GDP per capita\", \\'type\\': int},\\n    {\\'prompt\\': \"Population in million\", \\'type\\': float},\\n    {\\'prompt\\': \"what percentage of the population between1 1-19 years are thin(%)\", \\'type\\': float},\\n    {\\'prompt\\': \"Number of years of Schooling(years)\",\\'type\\':float}\\n    '"
      ]
     },
     "execution_count": 113,
     "metadata": {},
     "output_type": "execute_result"
    }
   ],
   "source": [
    "model_non_sensitive_full.save(\"sensitive_model.pkl\")\n",
    "'''\n",
    "user_info_specs_Sensitive = [\n",
    "    {'prompt': \"Alcohol consumption per person per year in litres?\", 'type': float},\n",
    "    {'prompt': \"average BMI\", 'type': float},\n",
    "    {'prompt': \"GDP per capita\", 'type': int},\n",
    "    {'prompt': \"Population in million\", 'type': float},\n",
    "    {'prompt': \"what percentage of the population between1 1-19 years are thin(%)\", 'type': float},\n",
    "    {'prompt': \"Number of years of Schooling(years)\",'type':float}\n",
    "    '''"
   ]
  }
 ],
 "metadata": {
  "kernelspec": {
   "display_name": "Python (Data Analytics)",
   "language": "python",
   "name": "data-analytics"
  },
  "language_info": {
   "codemirror_mode": {
    "name": "ipython",
    "version": 3
   },
   "file_extension": ".py",
   "mimetype": "text/x-python",
   "name": "python",
   "nbconvert_exporter": "python",
   "pygments_lexer": "ipython3",
   "version": "3.13.5"
  }
 },
 "nbformat": 4,
 "nbformat_minor": 5
}

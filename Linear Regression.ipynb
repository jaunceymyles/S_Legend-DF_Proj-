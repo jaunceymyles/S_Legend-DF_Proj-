{
 "cells": [
  {
   "cell_type": "markdown",
   "id": "6ac8a2aa-b440-4632-abb3-c33678d2ebf2",
   "metadata": {},
   "source": [
    "# Linear Regression "
   ]
  },
  {
   "cell_type": "markdown",
   "id": "33cd013c-4c84-4e61-8998-9a5dcee89c8d",
   "metadata": {},
   "source": [
    "> Team Name: *S Legends*\n",
    "> \n",
    "> Team Members: Myles, Tani, Arjan, Archie "
   ]
  },
  {
   "cell_type": "markdown",
   "id": "e647aae5-d0eb-4d05-abf6-1e0681a923d3",
   "metadata": {},
   "source": [
    "## Train-Test Split"
   ]
  },
  {
   "cell_type": "code",
   "execution_count": 4,
   "id": "d013d4ba-5cdc-43fc-93d5-7af8f41dfe8c",
   "metadata": {},
   "outputs": [],
   "source": [
    "import numpy as np\n",
    "import pandas as pd\n",
    "import matplotlib.pyplot as plt\n",
    "import seaborn as sns\n",
    "\n",
    "from sklearn.model_selection import train_test_split\n",
    "\n",
    "import statsmodels.api as sm\n",
    "import statsmodels.tools\n",
    "\n",
    "from statsmodels.stats.outliers_influence import variance_inflation_factor"
   ]
  },
  {
   "cell_type": "code",
   "execution_count": 5,
   "id": "022c5280-ec5b-428b-92b1-83a5703f9471",
   "metadata": {},
   "outputs": [
    {
     "data": {
      "text/html": [
       "<div>\n",
       "<style scoped>\n",
       "    .dataframe tbody tr th:only-of-type {\n",
       "        vertical-align: middle;\n",
       "    }\n",
       "\n",
       "    .dataframe tbody tr th {\n",
       "        vertical-align: top;\n",
       "    }\n",
       "\n",
       "    .dataframe thead th {\n",
       "        text-align: right;\n",
       "    }\n",
       "</style>\n",
       "<table border=\"1\" class=\"dataframe\">\n",
       "  <thead>\n",
       "    <tr style=\"text-align: right;\">\n",
       "      <th></th>\n",
       "      <th>Country</th>\n",
       "      <th>Region</th>\n",
       "      <th>Year</th>\n",
       "      <th>Infant_deaths</th>\n",
       "      <th>Under_five_deaths</th>\n",
       "      <th>Adult_mortality</th>\n",
       "      <th>Alcohol_consumption</th>\n",
       "      <th>Hepatitis_B</th>\n",
       "      <th>Measles</th>\n",
       "      <th>BMI</th>\n",
       "      <th>...</th>\n",
       "      <th>Diphtheria</th>\n",
       "      <th>Incidents_HIV</th>\n",
       "      <th>GDP_per_capita</th>\n",
       "      <th>Population_mln</th>\n",
       "      <th>Thinness_ten_nineteen_years</th>\n",
       "      <th>Thinness_five_nine_years</th>\n",
       "      <th>Schooling</th>\n",
       "      <th>Economy_status_Developed</th>\n",
       "      <th>Economy_status_Developing</th>\n",
       "      <th>Life_expectancy</th>\n",
       "    </tr>\n",
       "  </thead>\n",
       "  <tbody>\n",
       "    <tr>\n",
       "      <th>0</th>\n",
       "      <td>Turkiye</td>\n",
       "      <td>Middle East</td>\n",
       "      <td>2015</td>\n",
       "      <td>11.1</td>\n",
       "      <td>13.0</td>\n",
       "      <td>105.8240</td>\n",
       "      <td>1.32</td>\n",
       "      <td>97</td>\n",
       "      <td>65</td>\n",
       "      <td>27.8</td>\n",
       "      <td>...</td>\n",
       "      <td>97</td>\n",
       "      <td>0.08</td>\n",
       "      <td>11006</td>\n",
       "      <td>78.53</td>\n",
       "      <td>4.9</td>\n",
       "      <td>4.8</td>\n",
       "      <td>7.8</td>\n",
       "      <td>0</td>\n",
       "      <td>1</td>\n",
       "      <td>76.5</td>\n",
       "    </tr>\n",
       "    <tr>\n",
       "      <th>1</th>\n",
       "      <td>Spain</td>\n",
       "      <td>European Union</td>\n",
       "      <td>2015</td>\n",
       "      <td>2.7</td>\n",
       "      <td>3.3</td>\n",
       "      <td>57.9025</td>\n",
       "      <td>10.35</td>\n",
       "      <td>97</td>\n",
       "      <td>94</td>\n",
       "      <td>26.0</td>\n",
       "      <td>...</td>\n",
       "      <td>97</td>\n",
       "      <td>0.09</td>\n",
       "      <td>25742</td>\n",
       "      <td>46.44</td>\n",
       "      <td>0.6</td>\n",
       "      <td>0.5</td>\n",
       "      <td>9.7</td>\n",
       "      <td>1</td>\n",
       "      <td>0</td>\n",
       "      <td>82.8</td>\n",
       "    </tr>\n",
       "    <tr>\n",
       "      <th>2</th>\n",
       "      <td>India</td>\n",
       "      <td>Asia</td>\n",
       "      <td>2007</td>\n",
       "      <td>51.5</td>\n",
       "      <td>67.9</td>\n",
       "      <td>201.0765</td>\n",
       "      <td>1.57</td>\n",
       "      <td>60</td>\n",
       "      <td>35</td>\n",
       "      <td>21.2</td>\n",
       "      <td>...</td>\n",
       "      <td>64</td>\n",
       "      <td>0.13</td>\n",
       "      <td>1076</td>\n",
       "      <td>1183.21</td>\n",
       "      <td>27.1</td>\n",
       "      <td>28.0</td>\n",
       "      <td>5.0</td>\n",
       "      <td>0</td>\n",
       "      <td>1</td>\n",
       "      <td>65.4</td>\n",
       "    </tr>\n",
       "    <tr>\n",
       "      <th>3</th>\n",
       "      <td>Guyana</td>\n",
       "      <td>South America</td>\n",
       "      <td>2006</td>\n",
       "      <td>32.8</td>\n",
       "      <td>40.5</td>\n",
       "      <td>222.1965</td>\n",
       "      <td>5.68</td>\n",
       "      <td>93</td>\n",
       "      <td>74</td>\n",
       "      <td>25.3</td>\n",
       "      <td>...</td>\n",
       "      <td>93</td>\n",
       "      <td>0.79</td>\n",
       "      <td>4146</td>\n",
       "      <td>0.75</td>\n",
       "      <td>5.7</td>\n",
       "      <td>5.5</td>\n",
       "      <td>7.9</td>\n",
       "      <td>0</td>\n",
       "      <td>1</td>\n",
       "      <td>67.0</td>\n",
       "    </tr>\n",
       "    <tr>\n",
       "      <th>4</th>\n",
       "      <td>Israel</td>\n",
       "      <td>Middle East</td>\n",
       "      <td>2012</td>\n",
       "      <td>3.4</td>\n",
       "      <td>4.3</td>\n",
       "      <td>57.9510</td>\n",
       "      <td>2.89</td>\n",
       "      <td>97</td>\n",
       "      <td>89</td>\n",
       "      <td>27.0</td>\n",
       "      <td>...</td>\n",
       "      <td>94</td>\n",
       "      <td>0.08</td>\n",
       "      <td>33995</td>\n",
       "      <td>7.91</td>\n",
       "      <td>1.2</td>\n",
       "      <td>1.1</td>\n",
       "      <td>12.8</td>\n",
       "      <td>1</td>\n",
       "      <td>0</td>\n",
       "      <td>81.7</td>\n",
       "    </tr>\n",
       "  </tbody>\n",
       "</table>\n",
       "<p>5 rows × 21 columns</p>\n",
       "</div>"
      ],
      "text/plain": [
       "   Country          Region  Year  Infant_deaths  Under_five_deaths  \\\n",
       "0  Turkiye     Middle East  2015           11.1               13.0   \n",
       "1    Spain  European Union  2015            2.7                3.3   \n",
       "2    India            Asia  2007           51.5               67.9   \n",
       "3   Guyana   South America  2006           32.8               40.5   \n",
       "4   Israel     Middle East  2012            3.4                4.3   \n",
       "\n",
       "   Adult_mortality  Alcohol_consumption  Hepatitis_B  Measles   BMI  ...  \\\n",
       "0         105.8240                 1.32           97       65  27.8  ...   \n",
       "1          57.9025                10.35           97       94  26.0  ...   \n",
       "2         201.0765                 1.57           60       35  21.2  ...   \n",
       "3         222.1965                 5.68           93       74  25.3  ...   \n",
       "4          57.9510                 2.89           97       89  27.0  ...   \n",
       "\n",
       "   Diphtheria  Incidents_HIV  GDP_per_capita  Population_mln  \\\n",
       "0          97           0.08           11006           78.53   \n",
       "1          97           0.09           25742           46.44   \n",
       "2          64           0.13            1076         1183.21   \n",
       "3          93           0.79            4146            0.75   \n",
       "4          94           0.08           33995            7.91   \n",
       "\n",
       "   Thinness_ten_nineteen_years  Thinness_five_nine_years  Schooling  \\\n",
       "0                          4.9                       4.8        7.8   \n",
       "1                          0.6                       0.5        9.7   \n",
       "2                         27.1                      28.0        5.0   \n",
       "3                          5.7                       5.5        7.9   \n",
       "4                          1.2                       1.1       12.8   \n",
       "\n",
       "   Economy_status_Developed  Economy_status_Developing  Life_expectancy  \n",
       "0                         0                          1             76.5  \n",
       "1                         1                          0             82.8  \n",
       "2                         0                          1             65.4  \n",
       "3                         0                          1             67.0  \n",
       "4                         1                          0             81.7  \n",
       "\n",
       "[5 rows x 21 columns]"
      ]
     },
     "execution_count": 5,
     "metadata": {},
     "output_type": "execute_result"
    }
   ],
   "source": [
    "df = pd.read_csv('Life Expectancy Data.csv')\n",
    "\n",
    "df.head()"
   ]
  },
  {
   "cell_type": "code",
   "execution_count": 6,
   "id": "2839b7af-10ca-4d25-a9ac-1a4ac214b17e",
   "metadata": {},
   "outputs": [],
   "source": [
    "feature_cols = list(df.columns)\n",
    "feature_cols.remove('Life_expectancy')"
   ]
  },
  {
   "cell_type": "code",
   "execution_count": 7,
   "id": "d66db0ba-f106-489e-bad7-c7bbb7118b43",
   "metadata": {},
   "outputs": [],
   "source": [
    "X = df[feature_cols]\n",
    "y = df['Life_expectancy']"
   ]
  },
  {
   "cell_type": "code",
   "execution_count": 8,
   "id": "ab4d7819-e2c1-461a-8279-3e228d60efa2",
   "metadata": {},
   "outputs": [],
   "source": [
    "X_train, X_test, y_train, y_test = train_test_split(X, y, test_size = 0.2, random_state = 42)"
   ]
  },
  {
   "cell_type": "markdown",
   "id": "09947b15-89b6-49bf-b55e-dba858a3f2f2",
   "metadata": {},
   "source": [
    "## Feature Engineering"
   ]
  },
  {
   "cell_type": "code",
   "execution_count": 10,
   "id": "9aa93dab-40e6-41e3-96b0-2f63949a28bf",
   "metadata": {},
   "outputs": [
    {
     "data": {
      "text/html": [
       "<div>\n",
       "<style scoped>\n",
       "    .dataframe tbody tr th:only-of-type {\n",
       "        vertical-align: middle;\n",
       "    }\n",
       "\n",
       "    .dataframe tbody tr th {\n",
       "        vertical-align: top;\n",
       "    }\n",
       "\n",
       "    .dataframe thead th {\n",
       "        text-align: right;\n",
       "    }\n",
       "</style>\n",
       "<table border=\"1\" class=\"dataframe\">\n",
       "  <thead>\n",
       "    <tr style=\"text-align: right;\">\n",
       "      <th></th>\n",
       "      <th>Country</th>\n",
       "      <th>Region</th>\n",
       "      <th>Year</th>\n",
       "      <th>Infant_deaths</th>\n",
       "      <th>Under_five_deaths</th>\n",
       "      <th>Adult_mortality</th>\n",
       "      <th>Alcohol_consumption</th>\n",
       "      <th>Hepatitis_B</th>\n",
       "      <th>Measles</th>\n",
       "      <th>BMI</th>\n",
       "      <th>Polio</th>\n",
       "      <th>Diphtheria</th>\n",
       "      <th>Incidents_HIV</th>\n",
       "      <th>GDP_per_capita</th>\n",
       "      <th>Population_mln</th>\n",
       "      <th>Thinness_ten_nineteen_years</th>\n",
       "      <th>Thinness_five_nine_years</th>\n",
       "      <th>Schooling</th>\n",
       "      <th>Economy_status_Developed</th>\n",
       "      <th>Economy_status_Developing</th>\n",
       "    </tr>\n",
       "  </thead>\n",
       "  <tbody>\n",
       "    <tr>\n",
       "      <th>2026</th>\n",
       "      <td>Sri Lanka</td>\n",
       "      <td>Asia</td>\n",
       "      <td>2014</td>\n",
       "      <td>7.9</td>\n",
       "      <td>9.3</td>\n",
       "      <td>111.2825</td>\n",
       "      <td>2.45</td>\n",
       "      <td>99</td>\n",
       "      <td>99</td>\n",
       "      <td>22.9</td>\n",
       "      <td>99</td>\n",
       "      <td>99</td>\n",
       "      <td>0.01</td>\n",
       "      <td>3694</td>\n",
       "      <td>20.78</td>\n",
       "      <td>15.2</td>\n",
       "      <td>15.0</td>\n",
       "      <td>10.9</td>\n",
       "      <td>0</td>\n",
       "      <td>1</td>\n",
       "    </tr>\n",
       "    <tr>\n",
       "      <th>651</th>\n",
       "      <td>Czechia</td>\n",
       "      <td>European Union</td>\n",
       "      <td>2004</td>\n",
       "      <td>3.7</td>\n",
       "      <td>4.6</td>\n",
       "      <td>114.2985</td>\n",
       "      <td>13.42</td>\n",
       "      <td>98</td>\n",
       "      <td>98</td>\n",
       "      <td>26.6</td>\n",
       "      <td>96</td>\n",
       "      <td>98</td>\n",
       "      <td>0.08</td>\n",
       "      <td>14070</td>\n",
       "      <td>10.20</td>\n",
       "      <td>2.1</td>\n",
       "      <td>2.2</td>\n",
       "      <td>11.6</td>\n",
       "      <td>1</td>\n",
       "      <td>0</td>\n",
       "    </tr>\n",
       "    <tr>\n",
       "      <th>2225</th>\n",
       "      <td>Venezuela, RB</td>\n",
       "      <td>South America</td>\n",
       "      <td>2014</td>\n",
       "      <td>15.4</td>\n",
       "      <td>18.0</td>\n",
       "      <td>143.0785</td>\n",
       "      <td>6.60</td>\n",
       "      <td>78</td>\n",
       "      <td>83</td>\n",
       "      <td>26.6</td>\n",
       "      <td>79</td>\n",
       "      <td>78</td>\n",
       "      <td>0.40</td>\n",
       "      <td>16056</td>\n",
       "      <td>30.04</td>\n",
       "      <td>1.6</td>\n",
       "      <td>1.5</td>\n",
       "      <td>10.0</td>\n",
       "      <td>0</td>\n",
       "      <td>1</td>\n",
       "    </tr>\n",
       "    <tr>\n",
       "      <th>2357</th>\n",
       "      <td>Albania</td>\n",
       "      <td>Rest of Europe</td>\n",
       "      <td>2010</td>\n",
       "      <td>11.8</td>\n",
       "      <td>13.3</td>\n",
       "      <td>80.9365</td>\n",
       "      <td>4.88</td>\n",
       "      <td>99</td>\n",
       "      <td>98</td>\n",
       "      <td>26.1</td>\n",
       "      <td>99</td>\n",
       "      <td>99</td>\n",
       "      <td>0.03</td>\n",
       "      <td>3577</td>\n",
       "      <td>2.91</td>\n",
       "      <td>1.4</td>\n",
       "      <td>1.5</td>\n",
       "      <td>9.3</td>\n",
       "      <td>0</td>\n",
       "      <td>1</td>\n",
       "    </tr>\n",
       "    <tr>\n",
       "      <th>670</th>\n",
       "      <td>Namibia</td>\n",
       "      <td>Africa</td>\n",
       "      <td>2003</td>\n",
       "      <td>43.3</td>\n",
       "      <td>74.4</td>\n",
       "      <td>495.7265</td>\n",
       "      <td>2.29</td>\n",
       "      <td>83</td>\n",
       "      <td>64</td>\n",
       "      <td>23.2</td>\n",
       "      <td>82</td>\n",
       "      <td>79</td>\n",
       "      <td>9.74</td>\n",
       "      <td>3298</td>\n",
       "      <td>1.88</td>\n",
       "      <td>14.2</td>\n",
       "      <td>14.3</td>\n",
       "      <td>5.8</td>\n",
       "      <td>0</td>\n",
       "      <td>1</td>\n",
       "    </tr>\n",
       "  </tbody>\n",
       "</table>\n",
       "</div>"
      ],
      "text/plain": [
       "            Country          Region  Year  Infant_deaths  Under_five_deaths  \\\n",
       "2026      Sri Lanka            Asia  2014            7.9                9.3   \n",
       "651         Czechia  European Union  2004            3.7                4.6   \n",
       "2225  Venezuela, RB   South America  2014           15.4               18.0   \n",
       "2357        Albania  Rest of Europe  2010           11.8               13.3   \n",
       "670         Namibia          Africa  2003           43.3               74.4   \n",
       "\n",
       "      Adult_mortality  Alcohol_consumption  Hepatitis_B  Measles   BMI  Polio  \\\n",
       "2026         111.2825                 2.45           99       99  22.9     99   \n",
       "651          114.2985                13.42           98       98  26.6     96   \n",
       "2225         143.0785                 6.60           78       83  26.6     79   \n",
       "2357          80.9365                 4.88           99       98  26.1     99   \n",
       "670          495.7265                 2.29           83       64  23.2     82   \n",
       "\n",
       "      Diphtheria  Incidents_HIV  GDP_per_capita  Population_mln  \\\n",
       "2026          99           0.01            3694           20.78   \n",
       "651           98           0.08           14070           10.20   \n",
       "2225          78           0.40           16056           30.04   \n",
       "2357          99           0.03            3577            2.91   \n",
       "670           79           9.74            3298            1.88   \n",
       "\n",
       "      Thinness_ten_nineteen_years  Thinness_five_nine_years  Schooling  \\\n",
       "2026                         15.2                      15.0       10.9   \n",
       "651                           2.1                       2.2       11.6   \n",
       "2225                          1.6                       1.5       10.0   \n",
       "2357                          1.4                       1.5        9.3   \n",
       "670                          14.2                      14.3        5.8   \n",
       "\n",
       "      Economy_status_Developed  Economy_status_Developing  \n",
       "2026                         0                          1  \n",
       "651                          1                          0  \n",
       "2225                         0                          1  \n",
       "2357                         0                          1  \n",
       "670                          0                          1  "
      ]
     },
     "execution_count": 10,
     "metadata": {},
     "output_type": "execute_result"
    }
   ],
   "source": [
    "X_train.head()"
   ]
  },
  {
   "cell_type": "markdown",
   "id": "7e74e76c-cf2a-452c-b7da-56d77ef8688b",
   "metadata": {},
   "source": [
    "### Feature Enrichment (Combining Country with every Feature)"
   ]
  },
  {
   "cell_type": "markdown",
   "id": "c48acb28-b333-4ba5-aaff-3a1ba316fcb9",
   "metadata": {},
   "source": [
    "**Can we make a model for each country and then have the User pick their country's model?**"
   ]
  },
  {
   "cell_type": "code",
   "execution_count": 13,
   "id": "fb221d23-c790-47ff-9b54-4b6a7fce259b",
   "metadata": {},
   "outputs": [],
   "source": [
    "# train = pd.concat([X_train, y_train], axis=1)\n",
    "\n",
    "# Decomposing the training data\n",
    "\n",
    "\n",
    "def data_decomposition(X_data):\n",
    "    # Unique Country names in data\n",
    "\n",
    "    countries = X_data.Country.unique()\n",
    "    \n",
    "    dataframes = {}\n",
    "    for country in countries:\n",
    "        dataframes[country] = pd.DataFrame(data = X_data[X_data['Country']==country])\n",
    "    return dataframes"
   ]
  },
  {
   "cell_type": "markdown",
   "id": "508b1a89-59c7-48a3-807b-1016a496eb4b",
   "metadata": {},
   "source": [
    "### Scaling"
   ]
  },
  {
   "cell_type": "code",
   "execution_count": 15,
   "id": "69d1199e-ebdb-4a3c-8f19-a5d2554414e5",
   "metadata": {},
   "outputs": [],
   "source": [
    "from sklearn.preprocessing import StandardScaler, MinMaxScaler, RobustScaler"
   ]
  },
  {
   "cell_type": "code",
   "execution_count": 16,
   "id": "6a75798b-f16d-40e9-9abf-aed4b3b444f9",
   "metadata": {},
   "outputs": [],
   "source": [
    "# Robust Scaler - Ignores Outliers\n",
    "\n",
    "# Features for Robust Scaling:\n",
    "\n",
    "rcolumns = list(X_train.columns) # Get all columns from dataframe\n",
    "rcolumns.remove('Country')\n",
    "rcolumns.remove('Region')\n",
    "rcolumns.remove('Year')\n",
    "rcolumns.remove('Economy_status_Developed')\n",
    "rcolumns.remove('Economy_status_Developing')\n",
    "rcolumns.remove('Schooling')\n",
    "\n",
    "def rscaling(df):\n",
    "    df = df.copy()\n",
    "    for cols in rcolumns:\n",
    "        r = RobustScaler()\n",
    "        r.fit(df[[cols]])\n",
    "        df[cols] = r.transform(df[[cols]])\n",
    "    return df"
   ]
  },
  {
   "cell_type": "code",
   "execution_count": 17,
   "id": "4787417a-b59b-4072-9e45-cefda1f6b01e",
   "metadata": {},
   "outputs": [
    {
     "data": {
      "text/html": [
       "<div>\n",
       "<style scoped>\n",
       "    .dataframe tbody tr th:only-of-type {\n",
       "        vertical-align: middle;\n",
       "    }\n",
       "\n",
       "    .dataframe tbody tr th {\n",
       "        vertical-align: top;\n",
       "    }\n",
       "\n",
       "    .dataframe thead th {\n",
       "        text-align: right;\n",
       "    }\n",
       "</style>\n",
       "<table border=\"1\" class=\"dataframe\">\n",
       "  <thead>\n",
       "    <tr style=\"text-align: right;\">\n",
       "      <th></th>\n",
       "      <th>Country</th>\n",
       "      <th>Region</th>\n",
       "      <th>Year</th>\n",
       "      <th>Infant_deaths</th>\n",
       "      <th>Under_five_deaths</th>\n",
       "      <th>Adult_mortality</th>\n",
       "      <th>Alcohol_consumption</th>\n",
       "      <th>Hepatitis_B</th>\n",
       "      <th>Measles</th>\n",
       "      <th>BMI</th>\n",
       "      <th>Polio</th>\n",
       "      <th>Diphtheria</th>\n",
       "      <th>Incidents_HIV</th>\n",
       "      <th>GDP_per_capita</th>\n",
       "      <th>Population_mln</th>\n",
       "      <th>Thinness_ten_nineteen_years</th>\n",
       "      <th>Thinness_five_nine_years</th>\n",
       "      <th>Schooling</th>\n",
       "      <th>Economy_status_Developed</th>\n",
       "      <th>Economy_status_Developing</th>\n",
       "    </tr>\n",
       "  </thead>\n",
       "  <tbody>\n",
       "    <tr>\n",
       "      <th>2026</th>\n",
       "      <td>Sri Lanka</td>\n",
       "      <td>Asia</td>\n",
       "      <td>0.933333</td>\n",
       "      <td>7.9</td>\n",
       "      <td>9.3</td>\n",
       "      <td>111.2825</td>\n",
       "      <td>2.45</td>\n",
       "      <td>99</td>\n",
       "      <td>99</td>\n",
       "      <td>22.9</td>\n",
       "      <td>99</td>\n",
       "      <td>99</td>\n",
       "      <td>0.01</td>\n",
       "      <td>3694</td>\n",
       "      <td>20.78</td>\n",
       "      <td>15.2</td>\n",
       "      <td>15.0</td>\n",
       "      <td>10.9</td>\n",
       "      <td>0</td>\n",
       "      <td>1</td>\n",
       "    </tr>\n",
       "    <tr>\n",
       "      <th>651</th>\n",
       "      <td>Czechia</td>\n",
       "      <td>European Union</td>\n",
       "      <td>0.266667</td>\n",
       "      <td>3.7</td>\n",
       "      <td>4.6</td>\n",
       "      <td>114.2985</td>\n",
       "      <td>13.42</td>\n",
       "      <td>98</td>\n",
       "      <td>98</td>\n",
       "      <td>26.6</td>\n",
       "      <td>96</td>\n",
       "      <td>98</td>\n",
       "      <td>0.08</td>\n",
       "      <td>14070</td>\n",
       "      <td>10.20</td>\n",
       "      <td>2.1</td>\n",
       "      <td>2.2</td>\n",
       "      <td>11.6</td>\n",
       "      <td>1</td>\n",
       "      <td>0</td>\n",
       "    </tr>\n",
       "    <tr>\n",
       "      <th>2225</th>\n",
       "      <td>Venezuela, RB</td>\n",
       "      <td>South America</td>\n",
       "      <td>0.933333</td>\n",
       "      <td>15.4</td>\n",
       "      <td>18.0</td>\n",
       "      <td>143.0785</td>\n",
       "      <td>6.60</td>\n",
       "      <td>78</td>\n",
       "      <td>83</td>\n",
       "      <td>26.6</td>\n",
       "      <td>79</td>\n",
       "      <td>78</td>\n",
       "      <td>0.40</td>\n",
       "      <td>16056</td>\n",
       "      <td>30.04</td>\n",
       "      <td>1.6</td>\n",
       "      <td>1.5</td>\n",
       "      <td>10.0</td>\n",
       "      <td>0</td>\n",
       "      <td>1</td>\n",
       "    </tr>\n",
       "    <tr>\n",
       "      <th>2357</th>\n",
       "      <td>Albania</td>\n",
       "      <td>Rest of Europe</td>\n",
       "      <td>0.666667</td>\n",
       "      <td>11.8</td>\n",
       "      <td>13.3</td>\n",
       "      <td>80.9365</td>\n",
       "      <td>4.88</td>\n",
       "      <td>99</td>\n",
       "      <td>98</td>\n",
       "      <td>26.1</td>\n",
       "      <td>99</td>\n",
       "      <td>99</td>\n",
       "      <td>0.03</td>\n",
       "      <td>3577</td>\n",
       "      <td>2.91</td>\n",
       "      <td>1.4</td>\n",
       "      <td>1.5</td>\n",
       "      <td>9.3</td>\n",
       "      <td>0</td>\n",
       "      <td>1</td>\n",
       "    </tr>\n",
       "    <tr>\n",
       "      <th>670</th>\n",
       "      <td>Namibia</td>\n",
       "      <td>Africa</td>\n",
       "      <td>0.200000</td>\n",
       "      <td>43.3</td>\n",
       "      <td>74.4</td>\n",
       "      <td>495.7265</td>\n",
       "      <td>2.29</td>\n",
       "      <td>83</td>\n",
       "      <td>64</td>\n",
       "      <td>23.2</td>\n",
       "      <td>82</td>\n",
       "      <td>79</td>\n",
       "      <td>9.74</td>\n",
       "      <td>3298</td>\n",
       "      <td>1.88</td>\n",
       "      <td>14.2</td>\n",
       "      <td>14.3</td>\n",
       "      <td>5.8</td>\n",
       "      <td>0</td>\n",
       "      <td>1</td>\n",
       "    </tr>\n",
       "  </tbody>\n",
       "</table>\n",
       "</div>"
      ],
      "text/plain": [
       "            Country          Region      Year  Infant_deaths  \\\n",
       "2026      Sri Lanka            Asia  0.933333            7.9   \n",
       "651         Czechia  European Union  0.266667            3.7   \n",
       "2225  Venezuela, RB   South America  0.933333           15.4   \n",
       "2357        Albania  Rest of Europe  0.666667           11.8   \n",
       "670         Namibia          Africa  0.200000           43.3   \n",
       "\n",
       "      Under_five_deaths  Adult_mortality  Alcohol_consumption  Hepatitis_B  \\\n",
       "2026                9.3         111.2825                 2.45           99   \n",
       "651                 4.6         114.2985                13.42           98   \n",
       "2225               18.0         143.0785                 6.60           78   \n",
       "2357               13.3          80.9365                 4.88           99   \n",
       "670                74.4         495.7265                 2.29           83   \n",
       "\n",
       "      Measles   BMI  Polio  Diphtheria  Incidents_HIV  GDP_per_capita  \\\n",
       "2026       99  22.9     99          99           0.01            3694   \n",
       "651        98  26.6     96          98           0.08           14070   \n",
       "2225       83  26.6     79          78           0.40           16056   \n",
       "2357       98  26.1     99          99           0.03            3577   \n",
       "670        64  23.2     82          79           9.74            3298   \n",
       "\n",
       "      Population_mln  Thinness_ten_nineteen_years  Thinness_five_nine_years  \\\n",
       "2026           20.78                         15.2                      15.0   \n",
       "651            10.20                          2.1                       2.2   \n",
       "2225           30.04                          1.6                       1.5   \n",
       "2357            2.91                          1.4                       1.5   \n",
       "670             1.88                         14.2                      14.3   \n",
       "\n",
       "      Schooling  Economy_status_Developed  Economy_status_Developing  \n",
       "2026       10.9                         0                          1  \n",
       "651        11.6                         1                          0  \n",
       "2225       10.0                         0                          1  \n",
       "2357        9.3                         0                          1  \n",
       "670         5.8                         0                          1  "
      ]
     },
     "execution_count": 17,
     "metadata": {},
     "output_type": "execute_result"
    }
   ],
   "source": [
    "X_train_scale = X_train.copy()\n",
    "\n",
    "mm = MinMaxScaler()\n",
    "mm.fit(X_train_scale[['Year']])\n",
    "X_train_scale['Year'] = mm.transform(X_train_scale[['Year']])\n",
    "X_train_scale.head()"
   ]
  },
  {
   "cell_type": "code",
   "execution_count": 18,
   "id": "a145b80e-5696-4a95-835f-78720673694d",
   "metadata": {},
   "outputs": [],
   "source": [
    "# Min-Max Scaler - Preserves distribution\n",
    "\n",
    "# Features for Min_Max Scaler:\n",
    "\n",
    "mmcolumns = ['Year']\n",
    "\n",
    "def mmscaling(df):\n",
    "    df = df.copy()\n",
    "    for cols in mmcolumns:\n",
    "        mm = MinMaxScaler()\n",
    "        mm.fit(df[[cols]])\n",
    "        df[cols]= mm.transform(df[[cols]])\n",
    "    return df"
   ]
  },
  {
   "cell_type": "code",
   "execution_count": 19,
   "id": "e3527022-a975-44e4-bd1d-c396ee01d89e",
   "metadata": {},
   "outputs": [],
   "source": [
    "# Standard Scaler - Good for normally distributed data\n",
    "\n",
    "# Features for Standard Scaler:\n",
    "\n",
    "zcolumns = ['Schooling']\n",
    "\n",
    "def zscaling(df):\n",
    "    df = df.copy()\n",
    "    for cols in zcolumns:  \n",
    "        z = StandardScaler() \n",
    "        z.fit(df[[cols]]) \n",
    "        df[cols] = z.transform(df[[cols]])\n",
    "    return df"
   ]
  },
  {
   "cell_type": "markdown",
   "id": "2f49d8a2-83da-4948-9710-47769ad1e0f2",
   "metadata": {},
   "source": [
    "### Feature Transformation"
   ]
  },
  {
   "cell_type": "code",
   "execution_count": 21,
   "id": "37e41448-f981-4663-be00-20c6659498cb",
   "metadata": {},
   "outputs": [],
   "source": [
    "# Apply an exponential transform to features: GDP_per_capita and BMI\n",
    "\n",
    "exp_columns = ['GDP_per_capita','BMI']\n",
    "def exp(df):\n",
    "    df = df.copy()\n",
    "    df['exp_GDP'] = np.exp(df['GDP_per_capita'])\n",
    "    df['exp_BMI'] = np.exp(df['BMI'])\n",
    "    return df"
   ]
  },
  {
   "cell_type": "markdown",
   "id": "e7023617-f6b9-44ac-8f71-5fd3dc498c19",
   "metadata": {},
   "source": [
    "### Apply Feature Engineering to all training sets"
   ]
  },
  {
   "cell_type": "code",
   "execution_count": 23,
   "id": "0b46ef07-1aa3-4ae9-a390-c4aebd3fe425",
   "metadata": {},
   "outputs": [],
   "source": [
    "def feature_eng(X_data):\n",
    "    dataframes = data_decomposition(X_data)\n",
    "    dataframes_fe = {} \n",
    "    feature_selections = {}\n",
    "    for name, df in dataframes.items():\n",
    "        df = df.copy()\n",
    "        df.drop(columns = ['Country','Region'], inplace = True)\n",
    "        df = rscaling(df)\n",
    "        df = mmscaling(df)\n",
    "        df = zscaling(df)\n",
    "        df = exp(df)\n",
    "        df['const'] = 1 # CRUCIAL for statsmodels!!\n",
    "        dataframes_fe[name] = df\n",
    "    return dataframes_fe"
   ]
  },
  {
   "cell_type": "code",
   "execution_count": 24,
   "id": "90389c53-6ad4-4f3f-a876-acbf9322b35a",
   "metadata": {},
   "outputs": [],
   "source": [
    "X_trains_fe = feature_eng(X_train)"
   ]
  },
  {
   "cell_type": "markdown",
   "id": "f9b08837-52f5-423f-876e-a9ae7e425eee",
   "metadata": {},
   "source": [
    "### Feature Selection"
   ]
  },
  {
   "cell_type": "code",
   "execution_count": 26,
   "id": "3780515b-c49d-4412-a41b-a2b2683781e4",
   "metadata": {},
   "outputs": [],
   "source": [
    "from statsmodels.stats.outliers_influence import variance_inflation_factor # a module to evaluate the (VIF)"
   ]
  },
  {
   "cell_type": "code",
   "execution_count": 27,
   "id": "364d90b1-870b-4323-a4ad-ddcd1c7becd3",
   "metadata": {},
   "outputs": [],
   "source": [
    "## This a piece of code from stats.stackexchange.com\n",
    "\n",
    "## It runs the model with all the variables.\n",
    "## If any of them have a higher VIF than 4, it drops the max. \n",
    "## Then it keeps going until none of them have a higher VIF than 5.\n",
    "## This leaves us with a nice set of features with no collineraity\n",
    "\n",
    "def calculate_vif(X, thresh = 8.0):\n",
    "    variables = list(range(X.shape[1]))\n",
    "    dropped = True\n",
    "    while dropped:\n",
    "        dropped = False\n",
    "        # this bit uses list comprehension to gather all the VIF values of the different variables\n",
    "        vif = [variance_inflation_factor(X.iloc[:, variables].values, ix)\n",
    "               for ix in range(X.iloc[:, variables].shape[1])]\n",
    "        \n",
    "        maxloc = vif.index(max(vif)) # getting the index of the highest VIF value\n",
    "        if max(vif) > thresh:\n",
    "            print('dropping \\'' + X.iloc[:, variables].columns[maxloc] +\n",
    "                  '\\' at index: ' + str(maxloc))\n",
    "            del variables[maxloc] # we delete the highest VIF value on condition that it's higher than the threshold\n",
    "            dropped = True # if we deleted anything, we set the 'dropped' value to True to stay in the while loop\n",
    "\n",
    "    print('Remaining variables:')\n",
    "    return list(X.columns[variables]) # finally, we print the variables that are still in our set\n",
    "   "
   ]
  },
  {
   "cell_type": "markdown",
   "id": "275f9b02-664e-43ab-906f-358ac70b942e",
   "metadata": {},
   "source": [
    "**Remember to exclude the constant column during the feature selection process, but to then use it when fitting the model.**"
   ]
  },
  {
   "cell_type": "code",
   "execution_count": 29,
   "id": "c01f685a-28f0-4f10-aefe-7595282cbf90",
   "metadata": {
    "scrolled": true
   },
   "outputs": [],
   "source": [
    "def feature_selection(X_trains): # Input all training sets\n",
    "    selected_features = {}\n",
    "    for country in X_train.Country.unique():\n",
    "        #  By Variation Inflation Factor Method\n",
    "        \n",
    "        vif_features = calculate_vif(X_trains[country])\n",
    "\n",
    "        # Feature Selection based on linear relationship to the target\n",
    "        \n",
    "        training_set = pd.concat([X_trains[country], y_train.loc[X_trains[country].index]], axis=1)\n",
    "        corr_features = [col for col in training_set.columns if abs(training_set.corr()['Life_expectancy'][col]) >= 0.6]\n",
    "\n",
    "        # Taking features that satisfy both VIF and Correlation theshold\n",
    "        \n",
    "        selected_features[country] = [feature for feature in corr_features if feature in vif_features]\n",
    "    return selected_features # Output a dictionary with a selection of features for each country's dataframe\n",
    "    "
   ]
  },
  {
   "cell_type": "code",
   "execution_count": 30,
   "id": "760da866-b96c-4087-86d0-6366349680c5",
   "metadata": {
    "scrolled": true
   },
   "outputs": [
    {
     "name": "stderr",
     "output_type": "stream",
     "text": [
      "/opt/anaconda3/lib/python3.12/site-packages/statsmodels/stats/outliers_influence.py:197: RuntimeWarning: divide by zero encountered in scalar divide\n",
      "  vif = 1. / (1. - r_squared_i)\n",
      "/opt/anaconda3/lib/python3.12/site-packages/statsmodels/regression/linear_model.py:1783: RuntimeWarning: invalid value encountered in scalar divide\n",
      "  return 1 - self.ssr/self.centered_tss\n",
      "/opt/anaconda3/lib/python3.12/site-packages/statsmodels/regression/linear_model.py:1783: RuntimeWarning: divide by zero encountered in scalar divide\n",
      "  return 1 - self.ssr/self.centered_tss\n"
     ]
    },
    {
     "name": "stdout",
     "output_type": "stream",
     "text": [
      "dropping 'Year' at index: 0\n",
      "dropping 'Infant_deaths' at index: 0\n",
      "dropping 'Under_five_deaths' at index: 0\n",
      "dropping 'Adult_mortality' at index: 0\n",
      "dropping 'Alcohol_consumption' at index: 0\n",
      "dropping 'Hepatitis_B' at index: 0\n",
      "dropping 'Measles' at index: 0\n",
      "dropping 'BMI' at index: 0\n",
      "dropping 'exp_GDP' at index: 10\n",
      "dropping 'exp_BMI' at index: 10\n",
      "dropping 'GDP_per_capita' at index: 3\n",
      "dropping 'Population_mln' at index: 3\n",
      "dropping 'Thinness_five_nine_years' at index: 4\n",
      "dropping 'Polio' at index: 0\n",
      "dropping 'Incidents_HIV' at index: 1\n",
      "Remaining variables:\n"
     ]
    },
    {
     "name": "stderr",
     "output_type": "stream",
     "text": [
      "/opt/anaconda3/lib/python3.12/site-packages/statsmodels/stats/outliers_influence.py:197: RuntimeWarning: divide by zero encountered in scalar divide\n",
      "  vif = 1. / (1. - r_squared_i)\n",
      "/opt/anaconda3/lib/python3.12/site-packages/statsmodels/regression/linear_model.py:1783: RuntimeWarning: invalid value encountered in scalar divide\n",
      "  return 1 - self.ssr/self.centered_tss\n",
      "/opt/anaconda3/lib/python3.12/site-packages/statsmodels/regression/linear_model.py:1783: RuntimeWarning: divide by zero encountered in scalar divide\n",
      "  return 1 - self.ssr/self.centered_tss\n"
     ]
    },
    {
     "name": "stdout",
     "output_type": "stream",
     "text": [
      "dropping 'Year' at index: 0\n",
      "dropping 'Infant_deaths' at index: 0\n",
      "dropping 'Under_five_deaths' at index: 0\n",
      "dropping 'Adult_mortality' at index: 0\n",
      "dropping 'Alcohol_consumption' at index: 0\n",
      "dropping 'Hepatitis_B' at index: 0\n",
      "dropping 'GDP_per_capita' at index: 5\n",
      "dropping 'exp_BMI' at index: 12\n",
      "dropping 'BMI' at index: 1\n",
      "dropping 'Thinness_five_nine_years' at index: 6\n",
      "dropping 'Thinness_ten_nineteen_years' at index: 5\n",
      "dropping 'exp_GDP' at index: 8\n",
      "Remaining variables:\n"
     ]
    },
    {
     "name": "stderr",
     "output_type": "stream",
     "text": [
      "/opt/anaconda3/lib/python3.12/site-packages/statsmodels/stats/outliers_influence.py:197: RuntimeWarning: divide by zero encountered in scalar divide\n",
      "  vif = 1. / (1. - r_squared_i)\n",
      "/opt/anaconda3/lib/python3.12/site-packages/statsmodels/regression/linear_model.py:1783: RuntimeWarning: invalid value encountered in scalar divide\n",
      "  return 1 - self.ssr/self.centered_tss\n",
      "/opt/anaconda3/lib/python3.12/site-packages/statsmodels/regression/linear_model.py:1783: RuntimeWarning: divide by zero encountered in scalar divide\n",
      "  return 1 - self.ssr/self.centered_tss\n"
     ]
    },
    {
     "name": "stdout",
     "output_type": "stream",
     "text": [
      "dropping 'Year' at index: 0\n",
      "dropping 'Infant_deaths' at index: 0\n",
      "dropping 'Under_five_deaths' at index: 0\n",
      "dropping 'Adult_mortality' at index: 0\n",
      "dropping 'BMI' at index: 3\n",
      "dropping 'Population_mln' at index: 7\n",
      "dropping 'GDP_per_capita' at index: 6\n",
      "dropping 'Thinness_ten_nineteen_years' at index: 6\n",
      "dropping 'Hepatitis_B' at index: 1\n",
      "dropping 'exp_BMI' at index: 10\n",
      "dropping 'Schooling' at index: 6\n",
      "Remaining variables:\n"
     ]
    },
    {
     "name": "stderr",
     "output_type": "stream",
     "text": [
      "/opt/anaconda3/lib/python3.12/site-packages/statsmodels/stats/outliers_influence.py:197: RuntimeWarning: divide by zero encountered in scalar divide\n",
      "  vif = 1. / (1. - r_squared_i)\n",
      "/opt/anaconda3/lib/python3.12/site-packages/statsmodels/regression/linear_model.py:1783: RuntimeWarning: invalid value encountered in scalar divide\n",
      "  return 1 - self.ssr/self.centered_tss\n",
      "/opt/anaconda3/lib/python3.12/site-packages/statsmodels/regression/linear_model.py:1783: RuntimeWarning: divide by zero encountered in scalar divide\n",
      "  return 1 - self.ssr/self.centered_tss\n"
     ]
    },
    {
     "name": "stdout",
     "output_type": "stream",
     "text": [
      "dropping 'Year' at index: 0\n",
      "dropping 'Infant_deaths' at index: 0\n",
      "dropping 'Under_five_deaths' at index: 0\n",
      "dropping 'Adult_mortality' at index: 0\n",
      "dropping 'Alcohol_consumption' at index: 0\n",
      "dropping 'GDP_per_capita' at index: 6\n",
      "dropping 'exp_GDP' at index: 12\n",
      "dropping 'BMI' at index: 2\n",
      "dropping 'Thinness_ten_nineteen_years' at index: 6\n",
      "dropping 'Thinness_five_nine_years' at index: 6\n",
      "dropping 'exp_BMI' at index: 9\n",
      "dropping 'Population_mln' at index: 5\n",
      "dropping 'Measles' at index: 1\n",
      "Remaining variables:\n"
     ]
    },
    {
     "name": "stderr",
     "output_type": "stream",
     "text": [
      "/opt/anaconda3/lib/python3.12/site-packages/statsmodels/stats/outliers_influence.py:197: RuntimeWarning: divide by zero encountered in scalar divide\n",
      "  vif = 1. / (1. - r_squared_i)\n",
      "/opt/anaconda3/lib/python3.12/site-packages/statsmodels/regression/linear_model.py:1783: RuntimeWarning: invalid value encountered in scalar divide\n",
      "  return 1 - self.ssr/self.centered_tss\n",
      "/opt/anaconda3/lib/python3.12/site-packages/statsmodels/regression/linear_model.py:1783: RuntimeWarning: divide by zero encountered in scalar divide\n",
      "  return 1 - self.ssr/self.centered_tss\n"
     ]
    },
    {
     "name": "stdout",
     "output_type": "stream",
     "text": [
      "dropping 'Year' at index: 0\n",
      "dropping 'Infant_deaths' at index: 0\n",
      "dropping 'Under_five_deaths' at index: 0\n",
      "dropping 'Adult_mortality' at index: 0\n",
      "dropping 'Alcohol_consumption' at index: 0\n",
      "dropping 'Thinness_five_nine_years' at index: 9\n",
      "dropping 'Population_mln' at index: 7\n",
      "dropping 'BMI' at index: 2\n",
      "dropping 'exp_GDP' at index: 10\n",
      "dropping 'GDP_per_capita' at index: 5\n",
      "dropping 'Schooling' at index: 6\n",
      "dropping 'exp_BMI' at index: 8\n",
      "Remaining variables:\n",
      "dropping 'Year' at index: 0\n",
      "dropping 'Infant_deaths' at index: 0\n",
      "dropping 'Under_five_deaths' at index: 0\n",
      "dropping 'Adult_mortality' at index: 0\n",
      "dropping 'exp_GDP' at index: 14\n",
      "dropping 'BMI' at index: 3\n"
     ]
    },
    {
     "name": "stderr",
     "output_type": "stream",
     "text": [
      "/opt/anaconda3/lib/python3.12/site-packages/statsmodels/stats/outliers_influence.py:197: RuntimeWarning: divide by zero encountered in scalar divide\n",
      "  vif = 1. / (1. - r_squared_i)\n",
      "/opt/anaconda3/lib/python3.12/site-packages/statsmodels/regression/linear_model.py:1783: RuntimeWarning: invalid value encountered in scalar divide\n",
      "  return 1 - self.ssr/self.centered_tss\n",
      "/opt/anaconda3/lib/python3.12/site-packages/statsmodels/regression/linear_model.py:1783: RuntimeWarning: divide by zero encountered in scalar divide\n",
      "  return 1 - self.ssr/self.centered_tss\n"
     ]
    },
    {
     "name": "stdout",
     "output_type": "stream",
     "text": [
      "dropping 'exp_BMI' at index: 13\n",
      "dropping 'Population_mln' at index: 7\n",
      "dropping 'Thinness_ten_nineteen_years' at index: 7\n",
      "dropping 'Diphtheria' at index: 4\n",
      "dropping 'Incidents_HIV' at index: 4\n",
      "Remaining variables:\n",
      "dropping 'Year' at index: 0\n",
      "dropping 'Infant_deaths' at index: 0\n",
      "dropping 'Under_five_deaths' at index: 0\n",
      "dropping 'Adult_mortality' at index: 0\n"
     ]
    },
    {
     "name": "stderr",
     "output_type": "stream",
     "text": [
      "/opt/anaconda3/lib/python3.12/site-packages/statsmodels/stats/outliers_influence.py:197: RuntimeWarning: divide by zero encountered in scalar divide\n",
      "  vif = 1. / (1. - r_squared_i)\n",
      "/opt/anaconda3/lib/python3.12/site-packages/statsmodels/regression/linear_model.py:1783: RuntimeWarning: invalid value encountered in scalar divide\n",
      "  return 1 - self.ssr/self.centered_tss\n",
      "/opt/anaconda3/lib/python3.12/site-packages/statsmodels/regression/linear_model.py:1783: RuntimeWarning: divide by zero encountered in scalar divide\n",
      "  return 1 - self.ssr/self.centered_tss\n"
     ]
    },
    {
     "name": "stdout",
     "output_type": "stream",
     "text": [
      "dropping 'Alcohol_consumption' at index: 0\n",
      "dropping 'GDP_per_capita' at index: 6\n",
      "dropping 'Population_mln' at index: 6\n",
      "dropping 'BMI' at index: 2\n",
      "dropping 'Schooling' at index: 7\n",
      "dropping 'Hepatitis_B' at index: 0\n",
      "dropping 'Measles' at index: 0\n",
      "dropping 'exp_BMI' at index: 8\n",
      "dropping 'Polio' at index: 0\n",
      "Remaining variables:\n",
      "dropping 'Year' at index: 0\n",
      "dropping 'Infant_deaths' at index: 0\n"
     ]
    },
    {
     "name": "stderr",
     "output_type": "stream",
     "text": [
      "/opt/anaconda3/lib/python3.12/site-packages/statsmodels/stats/outliers_influence.py:197: RuntimeWarning: divide by zero encountered in scalar divide\n",
      "  vif = 1. / (1. - r_squared_i)\n",
      "/opt/anaconda3/lib/python3.12/site-packages/statsmodels/regression/linear_model.py:1783: RuntimeWarning: invalid value encountered in scalar divide\n",
      "  return 1 - self.ssr/self.centered_tss\n",
      "/opt/anaconda3/lib/python3.12/site-packages/statsmodels/regression/linear_model.py:1783: RuntimeWarning: divide by zero encountered in scalar divide\n",
      "  return 1 - self.ssr/self.centered_tss\n"
     ]
    },
    {
     "name": "stdout",
     "output_type": "stream",
     "text": [
      "dropping 'Under_five_deaths' at index: 0\n",
      "dropping 'Adult_mortality' at index: 0\n",
      "dropping 'Alcohol_consumption' at index: 0\n",
      "dropping 'Hepatitis_B' at index: 0\n",
      "dropping 'Measles' at index: 0\n",
      "dropping 'GDP_per_capita' at index: 4\n",
      "dropping 'Thinness_five_nine_years' at index: 6\n",
      "dropping 'Population_mln' at index: 4\n",
      "dropping 'BMI' at index: 0\n",
      "dropping 'Thinness_ten_nineteen_years' at index: 3\n",
      "dropping 'exp_GDP' at index: 6\n",
      "dropping 'Schooling' at index: 3\n",
      "dropping 'Polio' at index: 0\n",
      "dropping 'Incidents_HIV' at index: 1\n",
      "Remaining variables:\n",
      "dropping 'Year' at index: 0\n",
      "dropping 'Infant_deaths' at index: 0\n"
     ]
    },
    {
     "name": "stderr",
     "output_type": "stream",
     "text": [
      "/opt/anaconda3/lib/python3.12/site-packages/statsmodels/stats/outliers_influence.py:197: RuntimeWarning: divide by zero encountered in scalar divide\n",
      "  vif = 1. / (1. - r_squared_i)\n",
      "/opt/anaconda3/lib/python3.12/site-packages/statsmodels/regression/linear_model.py:1783: RuntimeWarning: invalid value encountered in scalar divide\n",
      "  return 1 - self.ssr/self.centered_tss\n",
      "/opt/anaconda3/lib/python3.12/site-packages/statsmodels/regression/linear_model.py:1783: RuntimeWarning: divide by zero encountered in scalar divide\n",
      "  return 1 - self.ssr/self.centered_tss\n"
     ]
    },
    {
     "name": "stdout",
     "output_type": "stream",
     "text": [
      "dropping 'exp_BMI' at index: 17\n",
      "dropping 'exp_GDP' at index: 16\n",
      "dropping 'BMI' at index: 5\n",
      "dropping 'Under_five_deaths' at index: 0\n",
      "dropping 'Population_mln' at index: 8\n",
      "dropping 'Adult_mortality' at index: 0\n",
      "dropping 'Polio' at index: 3\n",
      "dropping 'Schooling' at index: 8\n",
      "Remaining variables:\n"
     ]
    },
    {
     "name": "stderr",
     "output_type": "stream",
     "text": [
      "/opt/anaconda3/lib/python3.12/site-packages/statsmodels/stats/outliers_influence.py:197: RuntimeWarning: divide by zero encountered in scalar divide\n",
      "  vif = 1. / (1. - r_squared_i)\n",
      "/opt/anaconda3/lib/python3.12/site-packages/statsmodels/regression/linear_model.py:1783: RuntimeWarning: invalid value encountered in scalar divide\n",
      "  return 1 - self.ssr/self.centered_tss\n",
      "/opt/anaconda3/lib/python3.12/site-packages/statsmodels/regression/linear_model.py:1783: RuntimeWarning: divide by zero encountered in scalar divide\n",
      "  return 1 - self.ssr/self.centered_tss\n"
     ]
    },
    {
     "name": "stdout",
     "output_type": "stream",
     "text": [
      "dropping 'Year' at index: 0\n",
      "dropping 'Infant_deaths' at index: 0\n",
      "dropping 'Under_five_deaths' at index: 0\n",
      "dropping 'Adult_mortality' at index: 0\n",
      "dropping 'Alcohol_consumption' at index: 0\n",
      "dropping 'Polio' at index: 3\n",
      "dropping 'Schooling' at index: 9\n",
      "dropping 'BMI' at index: 2\n",
      "dropping 'Population_mln' at index: 5\n",
      "dropping 'exp_GDP' at index: 9\n",
      "dropping 'Incidents_HIV' at index: 3\n",
      "dropping 'exp_BMI' at index: 8\n",
      "Remaining variables:\n",
      "dropping 'Year' at index: 0\n",
      "dropping 'Infant_deaths' at index: 0\n",
      "dropping 'Under_five_deaths' at index: 0\n",
      "dropping 'Adult_mortality' at index: 0\n"
     ]
    },
    {
     "name": "stderr",
     "output_type": "stream",
     "text": [
      "/opt/anaconda3/lib/python3.12/site-packages/statsmodels/stats/outliers_influence.py:197: RuntimeWarning: divide by zero encountered in scalar divide\n",
      "  vif = 1. / (1. - r_squared_i)\n",
      "/opt/anaconda3/lib/python3.12/site-packages/statsmodels/regression/linear_model.py:1783: RuntimeWarning: divide by zero encountered in scalar divide\n",
      "  return 1 - self.ssr/self.centered_tss\n",
      "/opt/anaconda3/lib/python3.12/site-packages/statsmodels/regression/linear_model.py:1783: RuntimeWarning: invalid value encountered in scalar divide\n",
      "  return 1 - self.ssr/self.centered_tss\n"
     ]
    },
    {
     "name": "stdout",
     "output_type": "stream",
     "text": [
      "dropping 'Alcohol_consumption' at index: 0\n",
      "dropping 'Hepatitis_B' at index: 0\n",
      "dropping 'Measles' at index: 0\n",
      "dropping 'Incidents_HIV' at index: 3\n",
      "dropping 'BMI' at index: 0\n",
      "dropping 'Thinness_five_nine_years' at index: 5\n",
      "dropping 'GDP_per_capita' at index: 2\n",
      "dropping 'Population_mln' at index: 2\n",
      "dropping 'Polio' at index: 0\n",
      "Remaining variables:\n",
      "dropping 'Year' at index: 0\n"
     ]
    },
    {
     "name": "stderr",
     "output_type": "stream",
     "text": [
      "/opt/anaconda3/lib/python3.12/site-packages/statsmodels/stats/outliers_influence.py:197: RuntimeWarning: divide by zero encountered in scalar divide\n",
      "  vif = 1. / (1. - r_squared_i)\n",
      "/opt/anaconda3/lib/python3.12/site-packages/statsmodels/regression/linear_model.py:1783: RuntimeWarning: invalid value encountered in scalar divide\n",
      "  return 1 - self.ssr/self.centered_tss\n",
      "/opt/anaconda3/lib/python3.12/site-packages/statsmodels/regression/linear_model.py:1783: RuntimeWarning: divide by zero encountered in scalar divide\n",
      "  return 1 - self.ssr/self.centered_tss\n"
     ]
    },
    {
     "name": "stdout",
     "output_type": "stream",
     "text": [
      "dropping 'Infant_deaths' at index: 0\n",
      "dropping 'Under_five_deaths' at index: 0\n",
      "dropping 'Adult_mortality' at index: 0\n",
      "dropping 'BMI' at index: 3\n",
      "dropping 'Population_mln' at index: 7\n",
      "dropping 'exp_GDP' at index: 12\n",
      "dropping 'Thinness_ten_nineteen_years' at index: 7\n",
      "dropping 'Thinness_five_nine_years' at index: 7\n",
      "dropping 'exp_BMI' at index: 10\n",
      "dropping 'GDP_per_capita' at index: 6\n",
      "dropping 'Schooling' at index: 6\n",
      "Remaining variables:\n"
     ]
    },
    {
     "name": "stderr",
     "output_type": "stream",
     "text": [
      "/opt/anaconda3/lib/python3.12/site-packages/statsmodels/stats/outliers_influence.py:197: RuntimeWarning: divide by zero encountered in scalar divide\n",
      "  vif = 1. / (1. - r_squared_i)\n",
      "/opt/anaconda3/lib/python3.12/site-packages/statsmodels/regression/linear_model.py:1783: RuntimeWarning: invalid value encountered in scalar divide\n",
      "  return 1 - self.ssr/self.centered_tss\n",
      "/opt/anaconda3/lib/python3.12/site-packages/statsmodels/regression/linear_model.py:1783: RuntimeWarning: divide by zero encountered in scalar divide\n",
      "  return 1 - self.ssr/self.centered_tss\n"
     ]
    },
    {
     "name": "stdout",
     "output_type": "stream",
     "text": [
      "dropping 'Year' at index: 0\n",
      "dropping 'Infant_deaths' at index: 0\n",
      "dropping 'Under_five_deaths' at index: 0\n",
      "dropping 'Adult_mortality' at index: 0\n",
      "dropping 'Alcohol_consumption' at index: 0\n",
      "dropping 'BMI' at index: 2\n",
      "dropping 'Polio' at index: 2\n",
      "dropping 'exp_GDP' at index: 11\n",
      "dropping 'exp_BMI' at index: 11\n",
      "dropping 'GDP_per_capita' at index: 4\n",
      "dropping 'Population_mln' at index: 4\n",
      "dropping 'Thinness_five_nine_years' at index: 5\n",
      "dropping 'Incidents_HIV' at index: 3\n",
      "Remaining variables:\n"
     ]
    },
    {
     "name": "stderr",
     "output_type": "stream",
     "text": [
      "/opt/anaconda3/lib/python3.12/site-packages/statsmodels/stats/outliers_influence.py:197: RuntimeWarning: divide by zero encountered in scalar divide\n",
      "  vif = 1. / (1. - r_squared_i)\n",
      "/opt/anaconda3/lib/python3.12/site-packages/statsmodels/regression/linear_model.py:1783: RuntimeWarning: invalid value encountered in scalar divide\n",
      "  return 1 - self.ssr/self.centered_tss\n",
      "/opt/anaconda3/lib/python3.12/site-packages/statsmodels/regression/linear_model.py:1783: RuntimeWarning: divide by zero encountered in scalar divide\n",
      "  return 1 - self.ssr/self.centered_tss\n"
     ]
    },
    {
     "name": "stdout",
     "output_type": "stream",
     "text": [
      "dropping 'Year' at index: 0\n",
      "dropping 'Infant_deaths' at index: 0\n",
      "dropping 'Under_five_deaths' at index: 0\n",
      "dropping 'Adult_mortality' at index: 0\n",
      "dropping 'Alcohol_consumption' at index: 0\n",
      "dropping 'GDP_per_capita' at index: 6\n",
      "dropping 'Population_mln' at index: 6\n",
      "dropping 'exp_BMI' at index: 12\n",
      "dropping 'exp_GDP' at index: 11\n",
      "dropping 'BMI' at index: 2\n",
      "dropping 'Schooling' at index: 7\n",
      "dropping 'Incidents_HIV' at index: 4\n",
      "Remaining variables:\n"
     ]
    },
    {
     "name": "stderr",
     "output_type": "stream",
     "text": [
      "/opt/anaconda3/lib/python3.12/site-packages/statsmodels/stats/outliers_influence.py:197: RuntimeWarning: divide by zero encountered in scalar divide\n",
      "  vif = 1. / (1. - r_squared_i)\n",
      "/opt/anaconda3/lib/python3.12/site-packages/statsmodels/regression/linear_model.py:1783: RuntimeWarning: invalid value encountered in scalar divide\n",
      "  return 1 - self.ssr/self.centered_tss\n",
      "/opt/anaconda3/lib/python3.12/site-packages/statsmodels/regression/linear_model.py:1783: RuntimeWarning: divide by zero encountered in scalar divide\n",
      "  return 1 - self.ssr/self.centered_tss\n"
     ]
    },
    {
     "name": "stdout",
     "output_type": "stream",
     "text": [
      "dropping 'Year' at index: 0\n",
      "dropping 'Infant_deaths' at index: 0\n",
      "dropping 'Under_five_deaths' at index: 0\n",
      "dropping 'Adult_mortality' at index: 0\n",
      "dropping 'Alcohol_consumption' at index: 0\n",
      "dropping 'Hepatitis_B' at index: 0\n",
      "Remaining variables:\n",
      "dropping 'Year' at index: 0\n"
     ]
    },
    {
     "name": "stderr",
     "output_type": "stream",
     "text": [
      "/opt/anaconda3/lib/python3.12/site-packages/statsmodels/stats/outliers_influence.py:197: RuntimeWarning: divide by zero encountered in scalar divide\n",
      "  vif = 1. / (1. - r_squared_i)\n",
      "/opt/anaconda3/lib/python3.12/site-packages/statsmodels/regression/linear_model.py:1783: RuntimeWarning: divide by zero encountered in scalar divide\n",
      "  return 1 - self.ssr/self.centered_tss\n",
      "/opt/anaconda3/lib/python3.12/site-packages/statsmodels/regression/linear_model.py:1783: RuntimeWarning: invalid value encountered in scalar divide\n",
      "  return 1 - self.ssr/self.centered_tss\n"
     ]
    },
    {
     "name": "stdout",
     "output_type": "stream",
     "text": [
      "dropping 'Infant_deaths' at index: 0\n",
      "dropping 'Under_five_deaths' at index: 0\n",
      "dropping 'Adult_mortality' at index: 0\n",
      "dropping 'Alcohol_consumption' at index: 0\n",
      "dropping 'BMI' at index: 2\n",
      "dropping 'Thinness_ten_nineteen_years' at index: 7\n",
      "dropping 'GDP_per_capita' at index: 5\n",
      "dropping 'exp_BMI' at index: 11\n",
      "dropping 'Schooling' at index: 7\n",
      "dropping 'Diphtheria' at index: 3\n",
      "dropping 'exp_GDP' at index: 8\n",
      "Remaining variables:\n",
      "dropping 'Year' at index: 0\n"
     ]
    },
    {
     "name": "stderr",
     "output_type": "stream",
     "text": [
      "/opt/anaconda3/lib/python3.12/site-packages/statsmodels/stats/outliers_influence.py:197: RuntimeWarning: divide by zero encountered in scalar divide\n",
      "  vif = 1. / (1. - r_squared_i)\n",
      "/opt/anaconda3/lib/python3.12/site-packages/statsmodels/regression/linear_model.py:1783: RuntimeWarning: invalid value encountered in scalar divide\n",
      "  return 1 - self.ssr/self.centered_tss\n",
      "/opt/anaconda3/lib/python3.12/site-packages/statsmodels/regression/linear_model.py:1783: RuntimeWarning: divide by zero encountered in scalar divide\n",
      "  return 1 - self.ssr/self.centered_tss\n"
     ]
    },
    {
     "name": "stdout",
     "output_type": "stream",
     "text": [
      "dropping 'Infant_deaths' at index: 0\n",
      "dropping 'Under_five_deaths' at index: 0\n",
      "dropping 'Adult_mortality' at index: 0\n",
      "dropping 'Polio' at index: 4\n",
      "dropping 'Population_mln' at index: 7\n",
      "dropping 'BMI' at index: 3\n",
      "dropping 'Incidents_HIV' at index: 4\n",
      "dropping 'exp_BMI' at index: 11\n",
      "dropping 'Hepatitis_B' at index: 1\n",
      "dropping 'Measles' at index: 1\n",
      "dropping 'exp_GDP' at index: 8\n",
      "Remaining variables:\n"
     ]
    },
    {
     "name": "stderr",
     "output_type": "stream",
     "text": [
      "/opt/anaconda3/lib/python3.12/site-packages/statsmodels/stats/outliers_influence.py:197: RuntimeWarning: divide by zero encountered in scalar divide\n",
      "  vif = 1. / (1. - r_squared_i)\n",
      "/opt/anaconda3/lib/python3.12/site-packages/statsmodels/regression/linear_model.py:1783: RuntimeWarning: invalid value encountered in scalar divide\n",
      "  return 1 - self.ssr/self.centered_tss\n",
      "/opt/anaconda3/lib/python3.12/site-packages/statsmodels/regression/linear_model.py:1783: RuntimeWarning: divide by zero encountered in scalar divide\n",
      "  return 1 - self.ssr/self.centered_tss\n"
     ]
    },
    {
     "name": "stdout",
     "output_type": "stream",
     "text": [
      "dropping 'Year' at index: 0\n",
      "dropping 'Infant_deaths' at index: 0\n",
      "dropping 'Under_five_deaths' at index: 0\n",
      "dropping 'Adult_mortality' at index: 0\n",
      "dropping 'Thinness_five_nine_years' at index: 10\n",
      "dropping 'Population_mln' at index: 8\n",
      "dropping 'Polio' at index: 4\n",
      "dropping 'Thinness_ten_nineteen_years' at index: 7\n",
      "dropping 'Hepatitis_B' at index: 1\n",
      "dropping 'BMI' at index: 2\n",
      "dropping 'Incidents_HIV' at index: 3\n",
      "dropping 'exp_GDP' at index: 7\n",
      "Remaining variables:\n"
     ]
    },
    {
     "name": "stderr",
     "output_type": "stream",
     "text": [
      "/opt/anaconda3/lib/python3.12/site-packages/statsmodels/stats/outliers_influence.py:197: RuntimeWarning: divide by zero encountered in scalar divide\n",
      "  vif = 1. / (1. - r_squared_i)\n",
      "/opt/anaconda3/lib/python3.12/site-packages/statsmodels/regression/linear_model.py:1783: RuntimeWarning: invalid value encountered in scalar divide\n",
      "  return 1 - self.ssr/self.centered_tss\n",
      "/opt/anaconda3/lib/python3.12/site-packages/statsmodels/regression/linear_model.py:1783: RuntimeWarning: divide by zero encountered in scalar divide\n",
      "  return 1 - self.ssr/self.centered_tss\n"
     ]
    },
    {
     "name": "stdout",
     "output_type": "stream",
     "text": [
      "dropping 'Year' at index: 0\n",
      "dropping 'Infant_deaths' at index: 0\n",
      "dropping 'Under_five_deaths' at index: 0\n",
      "dropping 'Adult_mortality' at index: 0\n",
      "dropping 'Alcohol_consumption' at index: 0\n",
      "dropping 'Hepatitis_B' at index: 0\n",
      "dropping 'Measles' at index: 0\n",
      "dropping 'Polio' at index: 1\n",
      "dropping 'BMI' at index: 0\n",
      "dropping 'GDP_per_capita' at index: 2\n",
      "dropping 'Population_mln' at index: 2\n",
      "dropping 'exp_GDP' at index: 7\n",
      "dropping 'Schooling' at index: 4\n",
      "dropping 'Incidents_HIV' at index: 1\n",
      "Remaining variables:\n",
      "dropping 'Year' at index: 0\n"
     ]
    },
    {
     "name": "stderr",
     "output_type": "stream",
     "text": [
      "/opt/anaconda3/lib/python3.12/site-packages/statsmodels/stats/outliers_influence.py:197: RuntimeWarning: divide by zero encountered in scalar divide\n",
      "  vif = 1. / (1. - r_squared_i)\n",
      "/opt/anaconda3/lib/python3.12/site-packages/statsmodels/regression/linear_model.py:1783: RuntimeWarning: invalid value encountered in scalar divide\n",
      "  return 1 - self.ssr/self.centered_tss\n",
      "/opt/anaconda3/lib/python3.12/site-packages/statsmodels/regression/linear_model.py:1783: RuntimeWarning: divide by zero encountered in scalar divide\n",
      "  return 1 - self.ssr/self.centered_tss\n"
     ]
    },
    {
     "name": "stdout",
     "output_type": "stream",
     "text": [
      "dropping 'Infant_deaths' at index: 0\n",
      "dropping 'Under_five_deaths' at index: 0\n",
      "dropping 'Adult_mortality' at index: 0\n",
      "dropping 'Thinness_ten_nineteen_years' at index: 9\n",
      "dropping 'Population_mln' at index: 8\n",
      "dropping 'BMI' at index: 3\n",
      "dropping 'Schooling' at index: 8\n",
      "dropping 'Incidents_HIV' at index: 5\n",
      "dropping 'Polio' at index: 3\n",
      "dropping 'GDP_per_capita' at index: 4\n",
      "dropping 'Alcohol_consumption' at index: 0\n",
      "Remaining variables:\n"
     ]
    },
    {
     "name": "stderr",
     "output_type": "stream",
     "text": [
      "/opt/anaconda3/lib/python3.12/site-packages/statsmodels/stats/outliers_influence.py:197: RuntimeWarning: divide by zero encountered in scalar divide\n",
      "  vif = 1. / (1. - r_squared_i)\n",
      "/opt/anaconda3/lib/python3.12/site-packages/statsmodels/regression/linear_model.py:1783: RuntimeWarning: invalid value encountered in scalar divide\n",
      "  return 1 - self.ssr/self.centered_tss\n",
      "/opt/anaconda3/lib/python3.12/site-packages/statsmodels/regression/linear_model.py:1783: RuntimeWarning: divide by zero encountered in scalar divide\n",
      "  return 1 - self.ssr/self.centered_tss\n"
     ]
    },
    {
     "name": "stdout",
     "output_type": "stream",
     "text": [
      "dropping 'Year' at index: 0\n",
      "dropping 'Infant_deaths' at index: 0\n",
      "dropping 'Under_five_deaths' at index: 0\n",
      "dropping 'Adult_mortality' at index: 0\n",
      "dropping 'Alcohol_consumption' at index: 0\n",
      "dropping 'Hepatitis_B' at index: 0\n",
      "Remaining variables:\n"
     ]
    },
    {
     "name": "stderr",
     "output_type": "stream",
     "text": [
      "/opt/anaconda3/lib/python3.12/site-packages/statsmodels/stats/outliers_influence.py:197: RuntimeWarning: divide by zero encountered in scalar divide\n",
      "  vif = 1. / (1. - r_squared_i)\n",
      "/opt/anaconda3/lib/python3.12/site-packages/statsmodels/regression/linear_model.py:1783: RuntimeWarning: invalid value encountered in scalar divide\n",
      "  return 1 - self.ssr/self.centered_tss\n",
      "/opt/anaconda3/lib/python3.12/site-packages/statsmodels/regression/linear_model.py:1783: RuntimeWarning: divide by zero encountered in scalar divide\n",
      "  return 1 - self.ssr/self.centered_tss\n"
     ]
    },
    {
     "name": "stdout",
     "output_type": "stream",
     "text": [
      "dropping 'Year' at index: 0\n",
      "dropping 'Infant_deaths' at index: 0\n",
      "dropping 'Under_five_deaths' at index: 0\n",
      "dropping 'Adult_mortality' at index: 0\n",
      "dropping 'Alcohol_consumption' at index: 0\n",
      "dropping 'Population_mln' at index: 7\n",
      "dropping 'exp_GDP' at index: 12\n",
      "dropping 'BMI' at index: 2\n",
      "dropping 'Thinness_ten_nineteen_years' at index: 6\n",
      "dropping 'GDP_per_capita' at index: 5\n",
      "dropping 'exp_BMI' at index: 9\n",
      "dropping 'Schooling' at index: 6\n",
      "dropping 'Thinness_five_nine_years' at index: 5\n",
      "Remaining variables:\n"
     ]
    },
    {
     "name": "stderr",
     "output_type": "stream",
     "text": [
      "/opt/anaconda3/lib/python3.12/site-packages/statsmodels/stats/outliers_influence.py:197: RuntimeWarning: divide by zero encountered in scalar divide\n",
      "  vif = 1. / (1. - r_squared_i)\n",
      "/opt/anaconda3/lib/python3.12/site-packages/statsmodels/regression/linear_model.py:1783: RuntimeWarning: invalid value encountered in scalar divide\n",
      "  return 1 - self.ssr/self.centered_tss\n",
      "/opt/anaconda3/lib/python3.12/site-packages/statsmodels/regression/linear_model.py:1783: RuntimeWarning: divide by zero encountered in scalar divide\n",
      "  return 1 - self.ssr/self.centered_tss\n"
     ]
    },
    {
     "name": "stdout",
     "output_type": "stream",
     "text": [
      "dropping 'Year' at index: 0\n",
      "dropping 'Infant_deaths' at index: 0\n",
      "dropping 'Under_five_deaths' at index: 0\n",
      "dropping 'Adult_mortality' at index: 0\n",
      "dropping 'Alcohol_consumption' at index: 0\n",
      "dropping 'Hepatitis_B' at index: 0\n",
      "dropping 'BMI' at index: 1\n",
      "dropping 'exp_BMI' at index: 12\n",
      "dropping 'Population_mln' at index: 5\n",
      "dropping 'Thinness_five_nine_years' at index: 6\n",
      "dropping 'GDP_per_capita' at index: 4\n",
      "Remaining variables:\n",
      "dropping 'Year' at index: 0\n"
     ]
    },
    {
     "name": "stderr",
     "output_type": "stream",
     "text": [
      "/opt/anaconda3/lib/python3.12/site-packages/statsmodels/stats/outliers_influence.py:197: RuntimeWarning: divide by zero encountered in scalar divide\n",
      "  vif = 1. / (1. - r_squared_i)\n",
      "/opt/anaconda3/lib/python3.12/site-packages/statsmodels/regression/linear_model.py:1783: RuntimeWarning: invalid value encountered in scalar divide\n",
      "  return 1 - self.ssr/self.centered_tss\n",
      "/opt/anaconda3/lib/python3.12/site-packages/statsmodels/regression/linear_model.py:1783: RuntimeWarning: divide by zero encountered in scalar divide\n",
      "  return 1 - self.ssr/self.centered_tss\n"
     ]
    },
    {
     "name": "stdout",
     "output_type": "stream",
     "text": [
      "dropping 'Infant_deaths' at index: 0\n",
      "dropping 'Under_five_deaths' at index: 0\n",
      "dropping 'exp_GDP' at index: 15\n",
      "dropping 'Incidents_HIV' at index: 7\n",
      "dropping 'Thinness_ten_nineteen_years' at index: 9\n",
      "dropping 'Population_mln' at index: 8\n",
      "dropping 'BMI' at index: 4\n",
      "dropping 'Thinness_five_nine_years' at index: 7\n",
      "dropping 'Adult_mortality' at index: 0\n",
      "dropping 'GDP_per_capita' at index: 5\n",
      "dropping 'Schooling' at index: 5\n",
      "dropping 'Diphtheria' at index: 4\n",
      "Remaining variables:\n"
     ]
    },
    {
     "name": "stderr",
     "output_type": "stream",
     "text": [
      "/opt/anaconda3/lib/python3.12/site-packages/statsmodels/stats/outliers_influence.py:197: RuntimeWarning: divide by zero encountered in scalar divide\n",
      "  vif = 1. / (1. - r_squared_i)\n",
      "/opt/anaconda3/lib/python3.12/site-packages/statsmodels/regression/linear_model.py:1783: RuntimeWarning: invalid value encountered in scalar divide\n",
      "  return 1 - self.ssr/self.centered_tss\n",
      "/opt/anaconda3/lib/python3.12/site-packages/statsmodels/regression/linear_model.py:1783: RuntimeWarning: divide by zero encountered in scalar divide\n",
      "  return 1 - self.ssr/self.centered_tss\n"
     ]
    },
    {
     "name": "stdout",
     "output_type": "stream",
     "text": [
      "dropping 'Year' at index: 0\n",
      "dropping 'Infant_deaths' at index: 0\n",
      "dropping 'Under_five_deaths' at index: 0\n",
      "dropping 'Adult_mortality' at index: 0\n",
      "dropping 'Alcohol_consumption' at index: 0\n",
      "dropping 'Population_mln' at index: 7\n",
      "dropping 'exp_GDP' at index: 12\n",
      "dropping 'BMI' at index: 2\n",
      "dropping 'GDP_per_capita' at index: 5\n",
      "dropping 'Polio' at index: 2\n",
      "dropping 'Thinness_five_nine_years' at index: 5\n",
      "dropping 'Incidents_HIV' at index: 3\n",
      "dropping 'Schooling' at index: 4\n",
      "Remaining variables:\n"
     ]
    },
    {
     "name": "stderr",
     "output_type": "stream",
     "text": [
      "/opt/anaconda3/lib/python3.12/site-packages/statsmodels/stats/outliers_influence.py:197: RuntimeWarning: divide by zero encountered in scalar divide\n",
      "  vif = 1. / (1. - r_squared_i)\n",
      "/opt/anaconda3/lib/python3.12/site-packages/statsmodels/regression/linear_model.py:1783: RuntimeWarning: invalid value encountered in scalar divide\n",
      "  return 1 - self.ssr/self.centered_tss\n",
      "/opt/anaconda3/lib/python3.12/site-packages/statsmodels/regression/linear_model.py:1783: RuntimeWarning: divide by zero encountered in scalar divide\n",
      "  return 1 - self.ssr/self.centered_tss\n"
     ]
    },
    {
     "name": "stdout",
     "output_type": "stream",
     "text": [
      "dropping 'Year' at index: 0\n",
      "dropping 'Infant_deaths' at index: 0\n",
      "dropping 'Under_five_deaths' at index: 0\n",
      "dropping 'Thinness_five_nine_years' at index: 11\n",
      "dropping 'Population_mln' at index: 9\n",
      "dropping 'BMI' at index: 4\n",
      "dropping 'Schooling' at index: 9\n",
      "dropping 'exp_BMI' at index: 12\n",
      "dropping 'exp_GDP' at index: 11\n",
      "dropping 'Polio' at index: 4\n",
      "dropping 'Thinness_ten_nineteen_years' at index: 7\n",
      "dropping 'Adult_mortality' at index: 0\n",
      "Remaining variables:\n"
     ]
    },
    {
     "name": "stderr",
     "output_type": "stream",
     "text": [
      "/opt/anaconda3/lib/python3.12/site-packages/statsmodels/stats/outliers_influence.py:197: RuntimeWarning: divide by zero encountered in scalar divide\n",
      "  vif = 1. / (1. - r_squared_i)\n",
      "/opt/anaconda3/lib/python3.12/site-packages/statsmodels/regression/linear_model.py:1783: RuntimeWarning: invalid value encountered in scalar divide\n",
      "  return 1 - self.ssr/self.centered_tss\n",
      "/opt/anaconda3/lib/python3.12/site-packages/statsmodels/regression/linear_model.py:1783: RuntimeWarning: divide by zero encountered in scalar divide\n",
      "  return 1 - self.ssr/self.centered_tss\n"
     ]
    },
    {
     "name": "stdout",
     "output_type": "stream",
     "text": [
      "dropping 'Year' at index: 0\n",
      "dropping 'Infant_deaths' at index: 0\n",
      "dropping 'Under_five_deaths' at index: 0\n",
      "dropping 'Adult_mortality' at index: 0\n",
      "dropping 'Alcohol_consumption' at index: 0\n",
      "dropping 'Hepatitis_B' at index: 0\n",
      "Remaining variables:\n"
     ]
    },
    {
     "name": "stderr",
     "output_type": "stream",
     "text": [
      "/opt/anaconda3/lib/python3.12/site-packages/statsmodels/stats/outliers_influence.py:197: RuntimeWarning: divide by zero encountered in scalar divide\n",
      "  vif = 1. / (1. - r_squared_i)\n",
      "/opt/anaconda3/lib/python3.12/site-packages/statsmodels/regression/linear_model.py:1783: RuntimeWarning: invalid value encountered in scalar divide\n",
      "  return 1 - self.ssr/self.centered_tss\n",
      "/opt/anaconda3/lib/python3.12/site-packages/statsmodels/regression/linear_model.py:1783: RuntimeWarning: divide by zero encountered in scalar divide\n",
      "  return 1 - self.ssr/self.centered_tss\n"
     ]
    },
    {
     "name": "stdout",
     "output_type": "stream",
     "text": [
      "dropping 'Year' at index: 0\n",
      "dropping 'Infant_deaths' at index: 0\n",
      "dropping 'Under_five_deaths' at index: 0\n",
      "dropping 'exp_BMI' at index: 16\n",
      "dropping 'GDP_per_capita' at index: 8\n",
      "dropping 'Schooling' at index: 11\n",
      "dropping 'BMI' at index: 4\n",
      "dropping 'Adult_mortality' at index: 0\n",
      "dropping 'exp_GDP' at index: 11\n",
      "dropping 'Population_mln' at index: 6\n",
      "dropping 'Thinness_five_nine_years' at index: 7\n",
      "dropping 'Incidents_HIV' at index: 5\n",
      "dropping 'Thinness_ten_nineteen_years' at index: 5\n",
      "Remaining variables:\n"
     ]
    },
    {
     "name": "stderr",
     "output_type": "stream",
     "text": [
      "/opt/anaconda3/lib/python3.12/site-packages/statsmodels/stats/outliers_influence.py:197: RuntimeWarning: divide by zero encountered in scalar divide\n",
      "  vif = 1. / (1. - r_squared_i)\n",
      "/opt/anaconda3/lib/python3.12/site-packages/statsmodels/regression/linear_model.py:1783: RuntimeWarning: invalid value encountered in scalar divide\n",
      "  return 1 - self.ssr/self.centered_tss\n",
      "/opt/anaconda3/lib/python3.12/site-packages/statsmodels/regression/linear_model.py:1783: RuntimeWarning: divide by zero encountered in scalar divide\n",
      "  return 1 - self.ssr/self.centered_tss\n"
     ]
    },
    {
     "name": "stdout",
     "output_type": "stream",
     "text": [
      "dropping 'Year' at index: 0\n",
      "dropping 'Infant_deaths' at index: 0\n",
      "dropping 'Under_five_deaths' at index: 0\n",
      "dropping 'Adult_mortality' at index: 0\n",
      "dropping 'Alcohol_consumption' at index: 0\n",
      "dropping 'BMI' at index: 2\n",
      "dropping 'exp_BMI' at index: 13\n",
      "dropping 'GDP_per_capita' at index: 5\n",
      "dropping 'Population_mln' at index: 5\n",
      "dropping 'Schooling' at index: 7\n",
      "dropping 'Polio' at index: 2\n",
      "Remaining variables:\n"
     ]
    },
    {
     "name": "stderr",
     "output_type": "stream",
     "text": [
      "/opt/anaconda3/lib/python3.12/site-packages/statsmodels/stats/outliers_influence.py:197: RuntimeWarning: divide by zero encountered in scalar divide\n",
      "  vif = 1. / (1. - r_squared_i)\n",
      "/opt/anaconda3/lib/python3.12/site-packages/statsmodels/regression/linear_model.py:1783: RuntimeWarning: invalid value encountered in scalar divide\n",
      "  return 1 - self.ssr/self.centered_tss\n",
      "/opt/anaconda3/lib/python3.12/site-packages/statsmodels/regression/linear_model.py:1783: RuntimeWarning: divide by zero encountered in scalar divide\n",
      "  return 1 - self.ssr/self.centered_tss\n"
     ]
    },
    {
     "name": "stdout",
     "output_type": "stream",
     "text": [
      "dropping 'Year' at index: 0\n",
      "dropping 'Infant_deaths' at index: 0\n",
      "dropping 'Thinness_ten_nineteen_years' at index: 11\n",
      "dropping 'GDP_per_capita' at index: 9\n",
      "dropping 'BMI' at index: 5\n",
      "dropping 'Population_mln' at index: 8\n",
      "dropping 'Thinness_five_nine_years' at index: 8\n",
      "dropping 'exp_BMI' at index: 12\n",
      "dropping 'Under_five_deaths' at index: 0\n",
      "dropping 'Adult_mortality' at index: 0\n",
      "Remaining variables:\n"
     ]
    },
    {
     "name": "stderr",
     "output_type": "stream",
     "text": [
      "/opt/anaconda3/lib/python3.12/site-packages/statsmodels/stats/outliers_influence.py:197: RuntimeWarning: divide by zero encountered in scalar divide\n",
      "  vif = 1. / (1. - r_squared_i)\n",
      "/opt/anaconda3/lib/python3.12/site-packages/statsmodels/regression/linear_model.py:1783: RuntimeWarning: invalid value encountered in scalar divide\n",
      "  return 1 - self.ssr/self.centered_tss\n",
      "/opt/anaconda3/lib/python3.12/site-packages/statsmodels/regression/linear_model.py:1783: RuntimeWarning: divide by zero encountered in scalar divide\n",
      "  return 1 - self.ssr/self.centered_tss\n"
     ]
    },
    {
     "name": "stdout",
     "output_type": "stream",
     "text": [
      "dropping 'Year' at index: 0\n",
      "dropping 'Infant_deaths' at index: 0\n",
      "dropping 'Under_five_deaths' at index: 0\n",
      "dropping 'Adult_mortality' at index: 0\n",
      "dropping 'Diphtheria' at index: 5\n",
      "dropping 'GDP_per_capita' at index: 6\n",
      "dropping 'Thinness_ten_nineteen_years' at index: 7\n",
      "dropping 'Schooling' at index: 8\n",
      "dropping 'Population_mln' at index: 6\n",
      "dropping 'BMI' at index: 3\n",
      "dropping 'Thinness_five_nine_years' at index: 5\n",
      "dropping 'exp_BMI' at index: 8\n",
      "dropping 'Polio' at index: 3\n",
      "Remaining variables:\n",
      "dropping 'Year' at index: 0\n"
     ]
    },
    {
     "name": "stderr",
     "output_type": "stream",
     "text": [
      "/opt/anaconda3/lib/python3.12/site-packages/statsmodels/stats/outliers_influence.py:197: RuntimeWarning: divide by zero encountered in scalar divide\n",
      "  vif = 1. / (1. - r_squared_i)\n",
      "/opt/anaconda3/lib/python3.12/site-packages/statsmodels/regression/linear_model.py:1783: RuntimeWarning: invalid value encountered in scalar divide\n",
      "  return 1 - self.ssr/self.centered_tss\n",
      "/opt/anaconda3/lib/python3.12/site-packages/statsmodels/regression/linear_model.py:1783: RuntimeWarning: divide by zero encountered in scalar divide\n",
      "  return 1 - self.ssr/self.centered_tss\n"
     ]
    },
    {
     "name": "stdout",
     "output_type": "stream",
     "text": [
      "dropping 'Infant_deaths' at index: 0\n",
      "dropping 'Under_five_deaths' at index: 0\n",
      "dropping 'Adult_mortality' at index: 0\n",
      "dropping 'Alcohol_consumption' at index: 0\n",
      "dropping 'Incidents_HIV' at index: 5\n",
      "dropping 'GDP_per_capita' at index: 5\n",
      "dropping 'BMI' at index: 2\n",
      "dropping 'Thinness_five_nine_years' at index: 6\n",
      "dropping 'Thinness_ten_nineteen_years' at index: 5\n",
      "dropping 'Schooling' at index: 5\n",
      "dropping 'exp_GDP' at index: 7\n",
      "Remaining variables:\n"
     ]
    },
    {
     "name": "stderr",
     "output_type": "stream",
     "text": [
      "/opt/anaconda3/lib/python3.12/site-packages/statsmodels/stats/outliers_influence.py:197: RuntimeWarning: divide by zero encountered in scalar divide\n",
      "  vif = 1. / (1. - r_squared_i)\n",
      "/opt/anaconda3/lib/python3.12/site-packages/statsmodels/regression/linear_model.py:1783: RuntimeWarning: invalid value encountered in scalar divide\n",
      "  return 1 - self.ssr/self.centered_tss\n",
      "/opt/anaconda3/lib/python3.12/site-packages/statsmodels/regression/linear_model.py:1783: RuntimeWarning: divide by zero encountered in scalar divide\n",
      "  return 1 - self.ssr/self.centered_tss\n"
     ]
    },
    {
     "name": "stdout",
     "output_type": "stream",
     "text": [
      "dropping 'Year' at index: 0\n",
      "dropping 'Infant_deaths' at index: 0\n",
      "dropping 'Under_five_deaths' at index: 0\n",
      "dropping 'GDP_per_capita' at index: 8\n",
      "dropping 'Population_mln' at index: 8\n",
      "dropping 'BMI' at index: 4\n",
      "dropping 'Thinness_five_nine_years' at index: 8\n",
      "dropping 'Thinness_ten_nineteen_years' at index: 7\n",
      "dropping 'exp_BMI' at index: 11\n",
      "dropping 'Incidents_HIV' at index: 6\n",
      "dropping 'Adult_mortality' at index: 0\n",
      "dropping 'Diphtheria' at index: 4\n",
      "dropping 'Schooling' at index: 4\n",
      "dropping 'Hepatitis_B' at index: 1\n",
      "Remaining variables:\n"
     ]
    },
    {
     "name": "stderr",
     "output_type": "stream",
     "text": [
      "/opt/anaconda3/lib/python3.12/site-packages/statsmodels/stats/outliers_influence.py:197: RuntimeWarning: divide by zero encountered in scalar divide\n",
      "  vif = 1. / (1. - r_squared_i)\n",
      "/opt/anaconda3/lib/python3.12/site-packages/statsmodels/regression/linear_model.py:1783: RuntimeWarning: invalid value encountered in scalar divide\n",
      "  return 1 - self.ssr/self.centered_tss\n",
      "/opt/anaconda3/lib/python3.12/site-packages/statsmodels/regression/linear_model.py:1783: RuntimeWarning: divide by zero encountered in scalar divide\n",
      "  return 1 - self.ssr/self.centered_tss\n"
     ]
    },
    {
     "name": "stdout",
     "output_type": "stream",
     "text": [
      "dropping 'Year' at index: 0\n",
      "dropping 'Infant_deaths' at index: 0\n",
      "dropping 'Under_five_deaths' at index: 0\n",
      "dropping 'Adult_mortality' at index: 0\n",
      "dropping 'Alcohol_consumption' at index: 0\n",
      "dropping 'Hepatitis_B' at index: 0\n",
      "Remaining variables:\n"
     ]
    },
    {
     "name": "stderr",
     "output_type": "stream",
     "text": [
      "/opt/anaconda3/lib/python3.12/site-packages/statsmodels/stats/outliers_influence.py:197: RuntimeWarning: divide by zero encountered in scalar divide\n",
      "  vif = 1. / (1. - r_squared_i)\n",
      "/opt/anaconda3/lib/python3.12/site-packages/statsmodels/regression/linear_model.py:1783: RuntimeWarning: invalid value encountered in scalar divide\n",
      "  return 1 - self.ssr/self.centered_tss\n",
      "/opt/anaconda3/lib/python3.12/site-packages/statsmodels/regression/linear_model.py:1783: RuntimeWarning: divide by zero encountered in scalar divide\n",
      "  return 1 - self.ssr/self.centered_tss\n"
     ]
    },
    {
     "name": "stdout",
     "output_type": "stream",
     "text": [
      "dropping 'Year' at index: 0\n",
      "dropping 'Infant_deaths' at index: 0\n",
      "dropping 'Under_five_deaths' at index: 0\n",
      "dropping 'Adult_mortality' at index: 0\n",
      "dropping 'Alcohol_consumption' at index: 0\n",
      "dropping 'Hepatitis_B' at index: 0\n",
      "Remaining variables:\n"
     ]
    },
    {
     "name": "stderr",
     "output_type": "stream",
     "text": [
      "/opt/anaconda3/lib/python3.12/site-packages/statsmodels/stats/outliers_influence.py:197: RuntimeWarning: divide by zero encountered in scalar divide\n",
      "  vif = 1. / (1. - r_squared_i)\n",
      "/opt/anaconda3/lib/python3.12/site-packages/statsmodels/regression/linear_model.py:1783: RuntimeWarning: invalid value encountered in scalar divide\n",
      "  return 1 - self.ssr/self.centered_tss\n",
      "/opt/anaconda3/lib/python3.12/site-packages/statsmodels/regression/linear_model.py:1783: RuntimeWarning: divide by zero encountered in scalar divide\n",
      "  return 1 - self.ssr/self.centered_tss\n"
     ]
    },
    {
     "name": "stdout",
     "output_type": "stream",
     "text": [
      "dropping 'Year' at index: 0\n",
      "dropping 'Infant_deaths' at index: 0\n",
      "dropping 'Under_five_deaths' at index: 0\n",
      "dropping 'Adult_mortality' at index: 0\n",
      "dropping 'Alcohol_consumption' at index: 0\n",
      "dropping 'Hepatitis_B' at index: 0\n",
      "dropping 'Measles' at index: 0\n",
      "dropping 'BMI' at index: 0\n",
      "dropping 'exp_GDP' at index: 10\n",
      "dropping 'Population_mln' at index: 4\n",
      "dropping 'Thinness_ten_nineteen_years' at index: 4\n",
      "dropping 'Thinness_five_nine_years' at index: 4\n",
      "dropping 'Schooling' at index: 4\n",
      "dropping 'Incidents_HIV' at index: 2\n",
      "Remaining variables:\n"
     ]
    },
    {
     "name": "stderr",
     "output_type": "stream",
     "text": [
      "/opt/anaconda3/lib/python3.12/site-packages/statsmodels/stats/outliers_influence.py:197: RuntimeWarning: divide by zero encountered in scalar divide\n",
      "  vif = 1. / (1. - r_squared_i)\n",
      "/opt/anaconda3/lib/python3.12/site-packages/statsmodels/regression/linear_model.py:1783: RuntimeWarning: divide by zero encountered in scalar divide\n",
      "  return 1 - self.ssr/self.centered_tss\n",
      "/opt/anaconda3/lib/python3.12/site-packages/statsmodels/regression/linear_model.py:1783: RuntimeWarning: invalid value encountered in scalar divide\n",
      "  return 1 - self.ssr/self.centered_tss\n"
     ]
    },
    {
     "name": "stdout",
     "output_type": "stream",
     "text": [
      "dropping 'Year' at index: 0\n",
      "dropping 'Infant_deaths' at index: 0\n",
      "dropping 'Under_five_deaths' at index: 0\n",
      "dropping 'Adult_mortality' at index: 0\n",
      "dropping 'Alcohol_consumption' at index: 0\n",
      "dropping 'Hepatitis_B' at index: 0\n",
      "dropping 'Measles' at index: 0\n",
      "dropping 'BMI' at index: 0\n",
      "dropping 'Polio' at index: 0\n",
      "dropping 'Diphtheria' at index: 0\n",
      "dropping 'GDP_per_capita' at index: 1\n",
      "dropping 'Population_mln' at index: 1\n",
      "dropping 'Thinness_five_nine_years' at index: 2\n",
      "dropping 'Thinness_ten_nineteen_years' at index: 1\n",
      "dropping 'Schooling' at index: 1\n",
      "Remaining variables:\n"
     ]
    },
    {
     "name": "stderr",
     "output_type": "stream",
     "text": [
      "/opt/anaconda3/lib/python3.12/site-packages/statsmodels/stats/outliers_influence.py:197: RuntimeWarning: divide by zero encountered in scalar divide\n",
      "  vif = 1. / (1. - r_squared_i)\n",
      "/opt/anaconda3/lib/python3.12/site-packages/statsmodels/regression/linear_model.py:1783: RuntimeWarning: invalid value encountered in scalar divide\n",
      "  return 1 - self.ssr/self.centered_tss\n",
      "/opt/anaconda3/lib/python3.12/site-packages/statsmodels/regression/linear_model.py:1783: RuntimeWarning: divide by zero encountered in scalar divide\n",
      "  return 1 - self.ssr/self.centered_tss\n"
     ]
    },
    {
     "name": "stdout",
     "output_type": "stream",
     "text": [
      "dropping 'Year' at index: 0\n",
      "dropping 'Infant_deaths' at index: 0\n",
      "dropping 'Under_five_deaths' at index: 0\n",
      "dropping 'Adult_mortality' at index: 0\n",
      "dropping 'Population_mln' at index: 8\n",
      "dropping 'exp_GDP' at index: 13\n",
      "dropping 'GDP_per_capita' at index: 7\n",
      "dropping 'Thinness_five_nine_years' at index: 8\n",
      "dropping 'BMI' at index: 3\n",
      "dropping 'Thinness_ten_nineteen_years' at index: 6\n",
      "dropping 'Diphtheria' at index: 4\n",
      "dropping 'Schooling' at index: 5\n",
      "dropping 'Polio' at index: 3\n",
      "dropping 'Alcohol_consumption' at index: 0\n",
      "Remaining variables:\n"
     ]
    },
    {
     "name": "stderr",
     "output_type": "stream",
     "text": [
      "/opt/anaconda3/lib/python3.12/site-packages/statsmodels/stats/outliers_influence.py:197: RuntimeWarning: divide by zero encountered in scalar divide\n",
      "  vif = 1. / (1. - r_squared_i)\n",
      "/opt/anaconda3/lib/python3.12/site-packages/statsmodels/regression/linear_model.py:1783: RuntimeWarning: invalid value encountered in scalar divide\n",
      "  return 1 - self.ssr/self.centered_tss\n",
      "/opt/anaconda3/lib/python3.12/site-packages/statsmodels/regression/linear_model.py:1783: RuntimeWarning: divide by zero encountered in scalar divide\n",
      "  return 1 - self.ssr/self.centered_tss\n"
     ]
    },
    {
     "name": "stdout",
     "output_type": "stream",
     "text": [
      "dropping 'Year' at index: 0\n",
      "dropping 'Infant_deaths' at index: 0\n",
      "dropping 'Under_five_deaths' at index: 0\n",
      "dropping 'Adult_mortality' at index: 0\n",
      "dropping 'Alcohol_consumption' at index: 0\n",
      "dropping 'Population_mln' at index: 7\n",
      "dropping 'BMI' at index: 2\n",
      "dropping 'GDP_per_capita' at index: 5\n",
      "dropping 'Incidents_HIV' at index: 4\n",
      "dropping 'Measles' at index: 1\n",
      "dropping 'Thinness_ten_nineteen_years' at index: 3\n",
      "dropping 'exp_GDP' at index: 7\n",
      "dropping 'exp_BMI' at index: 7\n",
      "Remaining variables:\n"
     ]
    },
    {
     "name": "stderr",
     "output_type": "stream",
     "text": [
      "/opt/anaconda3/lib/python3.12/site-packages/statsmodels/regression/linear_model.py:1783: RuntimeWarning: invalid value encountered in scalar divide\n",
      "  return 1 - self.ssr/self.centered_tss\n",
      "/opt/anaconda3/lib/python3.12/site-packages/statsmodels/regression/linear_model.py:1783: RuntimeWarning: divide by zero encountered in scalar divide\n",
      "  return 1 - self.ssr/self.centered_tss\n"
     ]
    },
    {
     "name": "stdout",
     "output_type": "stream",
     "text": [
      "dropping 'GDP_per_capita' at index: 11\n",
      "dropping 'BMI' at index: 7\n",
      "dropping 'Population_mln' at index: 10\n",
      "dropping 'Under_five_deaths' at index: 2\n",
      "dropping 'Year' at index: 0\n",
      "dropping 'Infant_deaths' at index: 0\n",
      "dropping 'Adult_mortality' at index: 0\n",
      "dropping 'Polio' at index: 3\n",
      "Remaining variables:\n"
     ]
    },
    {
     "name": "stderr",
     "output_type": "stream",
     "text": [
      "/opt/anaconda3/lib/python3.12/site-packages/statsmodels/stats/outliers_influence.py:197: RuntimeWarning: divide by zero encountered in scalar divide\n",
      "  vif = 1. / (1. - r_squared_i)\n",
      "/opt/anaconda3/lib/python3.12/site-packages/statsmodels/regression/linear_model.py:1783: RuntimeWarning: invalid value encountered in scalar divide\n",
      "  return 1 - self.ssr/self.centered_tss\n",
      "/opt/anaconda3/lib/python3.12/site-packages/statsmodels/regression/linear_model.py:1783: RuntimeWarning: divide by zero encountered in scalar divide\n",
      "  return 1 - self.ssr/self.centered_tss\n"
     ]
    },
    {
     "name": "stdout",
     "output_type": "stream",
     "text": [
      "dropping 'Year' at index: 0\n",
      "dropping 'Infant_deaths' at index: 0\n",
      "dropping 'Under_five_deaths' at index: 0\n",
      "dropping 'Adult_mortality' at index: 0\n",
      "dropping 'Alcohol_consumption' at index: 0\n",
      "dropping 'Hepatitis_B' at index: 0\n",
      "dropping 'BMI' at index: 1\n",
      "dropping 'Schooling' at index: 8\n",
      "dropping 'GDP_per_capita' at index: 4\n",
      "Remaining variables:\n"
     ]
    },
    {
     "name": "stderr",
     "output_type": "stream",
     "text": [
      "/opt/anaconda3/lib/python3.12/site-packages/statsmodels/stats/outliers_influence.py:197: RuntimeWarning: divide by zero encountered in scalar divide\n",
      "  vif = 1. / (1. - r_squared_i)\n",
      "/opt/anaconda3/lib/python3.12/site-packages/statsmodels/regression/linear_model.py:1783: RuntimeWarning: invalid value encountered in scalar divide\n",
      "  return 1 - self.ssr/self.centered_tss\n",
      "/opt/anaconda3/lib/python3.12/site-packages/statsmodels/regression/linear_model.py:1783: RuntimeWarning: divide by zero encountered in scalar divide\n",
      "  return 1 - self.ssr/self.centered_tss\n"
     ]
    },
    {
     "name": "stdout",
     "output_type": "stream",
     "text": [
      "dropping 'Year' at index: 0\n",
      "dropping 'Infant_deaths' at index: 0\n",
      "dropping 'Under_five_deaths' at index: 0\n",
      "dropping 'Hepatitis_B' at index: 2\n",
      "dropping 'Polio' at index: 4\n",
      "dropping 'GDP_per_capita' at index: 6\n",
      "dropping 'Population_mln' at index: 6\n",
      "dropping 'BMI' at index: 3\n",
      "dropping 'Schooling' at index: 7\n",
      "dropping 'Adult_mortality' at index: 0\n",
      "dropping 'exp_GDP' at index: 8\n",
      "dropping 'Thinness_ten_nineteen_years' at index: 4\n",
      "dropping 'Thinness_five_nine_years' at index: 4\n",
      "Remaining variables:\n",
      "dropping 'Year' at index: 0\n"
     ]
    },
    {
     "name": "stderr",
     "output_type": "stream",
     "text": [
      "/opt/anaconda3/lib/python3.12/site-packages/statsmodels/stats/outliers_influence.py:197: RuntimeWarning: divide by zero encountered in scalar divide\n",
      "  vif = 1. / (1. - r_squared_i)\n",
      "/opt/anaconda3/lib/python3.12/site-packages/statsmodels/regression/linear_model.py:1783: RuntimeWarning: invalid value encountered in scalar divide\n",
      "  return 1 - self.ssr/self.centered_tss\n",
      "/opt/anaconda3/lib/python3.12/site-packages/statsmodels/regression/linear_model.py:1783: RuntimeWarning: divide by zero encountered in scalar divide\n",
      "  return 1 - self.ssr/self.centered_tss\n"
     ]
    },
    {
     "name": "stdout",
     "output_type": "stream",
     "text": [
      "dropping 'Infant_deaths' at index: 0\n",
      "dropping 'Under_five_deaths' at index: 0\n",
      "dropping 'Adult_mortality' at index: 0\n",
      "dropping 'Thinness_ten_nineteen_years' at index: 9\n",
      "dropping 'Polio' at index: 4\n",
      "dropping 'BMI' at index: 3\n",
      "dropping 'exp_BMI' at index: 12\n",
      "dropping 'Population_mln' at index: 6\n",
      "dropping 'Diphtheria' at index: 3\n",
      "dropping 'Schooling' at index: 6\n",
      "dropping 'Incidents_HIV' at index: 3\n",
      "dropping 'GDP_per_capita' at index: 3\n",
      "Remaining variables:\n"
     ]
    },
    {
     "name": "stderr",
     "output_type": "stream",
     "text": [
      "/opt/anaconda3/lib/python3.12/site-packages/statsmodels/stats/outliers_influence.py:197: RuntimeWarning: divide by zero encountered in scalar divide\n",
      "  vif = 1. / (1. - r_squared_i)\n",
      "/opt/anaconda3/lib/python3.12/site-packages/statsmodels/regression/linear_model.py:1783: RuntimeWarning: invalid value encountered in scalar divide\n",
      "  return 1 - self.ssr/self.centered_tss\n",
      "/opt/anaconda3/lib/python3.12/site-packages/statsmodels/regression/linear_model.py:1783: RuntimeWarning: divide by zero encountered in scalar divide\n",
      "  return 1 - self.ssr/self.centered_tss\n"
     ]
    },
    {
     "name": "stdout",
     "output_type": "stream",
     "text": [
      "dropping 'Year' at index: 0\n",
      "dropping 'Infant_deaths' at index: 0\n",
      "dropping 'Under_five_deaths' at index: 0\n",
      "dropping 'Adult_mortality' at index: 0\n",
      "dropping 'Alcohol_consumption' at index: 0\n",
      "dropping 'Hepatitis_B' at index: 0\n",
      "dropping 'exp_BMI' at index: 13\n",
      "dropping 'BMI' at index: 1\n",
      "dropping 'Schooling' at index: 8\n",
      "dropping 'exp_GDP' at index: 10\n",
      "dropping 'GDP_per_capita' at index: 4\n",
      "Remaining variables:\n",
      "dropping 'Year' at index: 0\n"
     ]
    },
    {
     "name": "stderr",
     "output_type": "stream",
     "text": [
      "/opt/anaconda3/lib/python3.12/site-packages/statsmodels/stats/outliers_influence.py:197: RuntimeWarning: divide by zero encountered in scalar divide\n",
      "  vif = 1. / (1. - r_squared_i)\n",
      "/opt/anaconda3/lib/python3.12/site-packages/statsmodels/regression/linear_model.py:1783: RuntimeWarning: invalid value encountered in scalar divide\n",
      "  return 1 - self.ssr/self.centered_tss\n",
      "/opt/anaconda3/lib/python3.12/site-packages/statsmodels/regression/linear_model.py:1783: RuntimeWarning: divide by zero encountered in scalar divide\n",
      "  return 1 - self.ssr/self.centered_tss\n"
     ]
    },
    {
     "name": "stdout",
     "output_type": "stream",
     "text": [
      "dropping 'Infant_deaths' at index: 0\n",
      "dropping 'Under_five_deaths' at index: 0\n",
      "dropping 'Adult_mortality' at index: 0\n",
      "dropping 'BMI' at index: 3\n",
      "dropping 'Population_mln' at index: 7\n",
      "dropping 'Incidents_HIV' at index: 5\n",
      "dropping 'exp_GDP' at index: 11\n",
      "dropping 'Thinness_ten_nineteen_years' at index: 6\n",
      "dropping 'Thinness_five_nine_years' at index: 6\n",
      "dropping 'Hepatitis_B' at index: 1\n",
      "dropping 'GDP_per_capita' at index: 4\n",
      "dropping 'Schooling' at index: 4\n",
      "Remaining variables:\n"
     ]
    },
    {
     "name": "stderr",
     "output_type": "stream",
     "text": [
      "/opt/anaconda3/lib/python3.12/site-packages/statsmodels/stats/outliers_influence.py:197: RuntimeWarning: divide by zero encountered in scalar divide\n",
      "  vif = 1. / (1. - r_squared_i)\n",
      "/opt/anaconda3/lib/python3.12/site-packages/statsmodels/regression/linear_model.py:1783: RuntimeWarning: invalid value encountered in scalar divide\n",
      "  return 1 - self.ssr/self.centered_tss\n",
      "/opt/anaconda3/lib/python3.12/site-packages/statsmodels/regression/linear_model.py:1783: RuntimeWarning: divide by zero encountered in scalar divide\n",
      "  return 1 - self.ssr/self.centered_tss\n"
     ]
    },
    {
     "name": "stdout",
     "output_type": "stream",
     "text": [
      "dropping 'Year' at index: 0\n",
      "dropping 'Infant_deaths' at index: 0\n",
      "dropping 'Under_five_deaths' at index: 0\n",
      "dropping 'Adult_mortality' at index: 0\n",
      "dropping 'GDP_per_capita' at index: 7\n",
      "dropping 'BMI' at index: 3\n",
      "dropping 'Thinness_ten_nineteen_years' at index: 7\n",
      "dropping 'Thinness_five_nine_years' at index: 7\n",
      "dropping 'Schooling' at index: 7\n",
      "dropping 'exp_BMI' at index: 10\n",
      "dropping 'Population_mln' at index: 6\n",
      "Remaining variables:\n"
     ]
    },
    {
     "name": "stderr",
     "output_type": "stream",
     "text": [
      "/opt/anaconda3/lib/python3.12/site-packages/statsmodels/stats/outliers_influence.py:197: RuntimeWarning: divide by zero encountered in scalar divide\n",
      "  vif = 1. / (1. - r_squared_i)\n",
      "/opt/anaconda3/lib/python3.12/site-packages/statsmodels/regression/linear_model.py:1783: RuntimeWarning: invalid value encountered in scalar divide\n",
      "  return 1 - self.ssr/self.centered_tss\n",
      "/opt/anaconda3/lib/python3.12/site-packages/statsmodels/regression/linear_model.py:1783: RuntimeWarning: divide by zero encountered in scalar divide\n",
      "  return 1 - self.ssr/self.centered_tss\n"
     ]
    },
    {
     "name": "stdout",
     "output_type": "stream",
     "text": [
      "dropping 'Year' at index: 0\n",
      "dropping 'Infant_deaths' at index: 0\n",
      "dropping 'Under_five_deaths' at index: 0\n",
      "dropping 'Thinness_ten_nineteen_years' at index: 10\n",
      "dropping 'Adult_mortality' at index: 0\n",
      "dropping 'BMI' at index: 3\n",
      "dropping 'exp_BMI' at index: 13\n",
      "dropping 'Hepatitis_B' at index: 1\n",
      "dropping 'GDP_per_capita' at index: 5\n",
      "Remaining variables:\n"
     ]
    },
    {
     "name": "stderr",
     "output_type": "stream",
     "text": [
      "/opt/anaconda3/lib/python3.12/site-packages/statsmodels/stats/outliers_influence.py:197: RuntimeWarning: divide by zero encountered in scalar divide\n",
      "  vif = 1. / (1. - r_squared_i)\n",
      "/opt/anaconda3/lib/python3.12/site-packages/statsmodels/regression/linear_model.py:1783: RuntimeWarning: invalid value encountered in scalar divide\n",
      "  return 1 - self.ssr/self.centered_tss\n",
      "/opt/anaconda3/lib/python3.12/site-packages/statsmodels/regression/linear_model.py:1783: RuntimeWarning: divide by zero encountered in scalar divide\n",
      "  return 1 - self.ssr/self.centered_tss\n"
     ]
    },
    {
     "name": "stdout",
     "output_type": "stream",
     "text": [
      "dropping 'Year' at index: 0\n",
      "dropping 'Infant_deaths' at index: 0\n",
      "dropping 'Under_five_deaths' at index: 0\n",
      "dropping 'Adult_mortality' at index: 0\n",
      "dropping 'BMI' at index: 3\n",
      "dropping 'Thinness_five_nine_years' at index: 9\n",
      "dropping 'Population_mln' at index: 7\n",
      "dropping 'Schooling' at index: 8\n",
      "dropping 'Polio' at index: 3\n",
      "dropping 'exp_BMI' at index: 10\n",
      "Remaining variables:\n",
      "dropping 'Year' at index: 0\n"
     ]
    },
    {
     "name": "stderr",
     "output_type": "stream",
     "text": [
      "/opt/anaconda3/lib/python3.12/site-packages/statsmodels/stats/outliers_influence.py:197: RuntimeWarning: divide by zero encountered in scalar divide\n",
      "  vif = 1. / (1. - r_squared_i)\n",
      "/opt/anaconda3/lib/python3.12/site-packages/statsmodels/regression/linear_model.py:1783: RuntimeWarning: invalid value encountered in scalar divide\n",
      "  return 1 - self.ssr/self.centered_tss\n",
      "/opt/anaconda3/lib/python3.12/site-packages/statsmodels/regression/linear_model.py:1783: RuntimeWarning: divide by zero encountered in scalar divide\n",
      "  return 1 - self.ssr/self.centered_tss\n"
     ]
    },
    {
     "name": "stdout",
     "output_type": "stream",
     "text": [
      "dropping 'Infant_deaths' at index: 0\n",
      "dropping 'Under_five_deaths' at index: 0\n",
      "dropping 'Adult_mortality' at index: 0\n",
      "dropping 'GDP_per_capita' at index: 7\n",
      "dropping 'exp_BMI' at index: 14\n",
      "dropping 'Population_mln' at index: 7\n",
      "dropping 'BMI' at index: 3\n",
      "dropping 'Schooling' at index: 8\n",
      "dropping 'Thinness_five_nine_years' at index: 7\n",
      "dropping 'exp_GDP' at index: 9\n",
      "dropping 'Polio' at index: 3\n",
      "Remaining variables:\n"
     ]
    },
    {
     "name": "stderr",
     "output_type": "stream",
     "text": [
      "/opt/anaconda3/lib/python3.12/site-packages/statsmodels/stats/outliers_influence.py:197: RuntimeWarning: divide by zero encountered in scalar divide\n",
      "  vif = 1. / (1. - r_squared_i)\n",
      "/opt/anaconda3/lib/python3.12/site-packages/statsmodels/regression/linear_model.py:1783: RuntimeWarning: invalid value encountered in scalar divide\n",
      "  return 1 - self.ssr/self.centered_tss\n",
      "/opt/anaconda3/lib/python3.12/site-packages/statsmodels/regression/linear_model.py:1783: RuntimeWarning: divide by zero encountered in scalar divide\n",
      "  return 1 - self.ssr/self.centered_tss\n"
     ]
    },
    {
     "name": "stdout",
     "output_type": "stream",
     "text": [
      "dropping 'Year' at index: 0\n",
      "dropping 'Infant_deaths' at index: 0\n",
      "dropping 'Under_five_deaths' at index: 0\n",
      "dropping 'GDP_per_capita' at index: 8\n",
      "dropping 'exp_BMI' at index: 15\n",
      "dropping 'Thinness_ten_nineteen_years' at index: 9\n",
      "dropping 'BMI' at index: 4\n",
      "dropping 'Schooling' at index: 9\n",
      "dropping 'Thinness_five_nine_years' at index: 8\n",
      "dropping 'Population_mln' at index: 7\n",
      "dropping 'Hepatitis_B' at index: 2\n",
      "dropping 'exp_GDP' at index: 8\n",
      "Remaining variables:\n"
     ]
    },
    {
     "name": "stderr",
     "output_type": "stream",
     "text": [
      "/opt/anaconda3/lib/python3.12/site-packages/statsmodels/stats/outliers_influence.py:197: RuntimeWarning: divide by zero encountered in scalar divide\n",
      "  vif = 1. / (1. - r_squared_i)\n",
      "/opt/anaconda3/lib/python3.12/site-packages/statsmodels/regression/linear_model.py:1783: RuntimeWarning: invalid value encountered in scalar divide\n",
      "  return 1 - self.ssr/self.centered_tss\n",
      "/opt/anaconda3/lib/python3.12/site-packages/statsmodels/regression/linear_model.py:1783: RuntimeWarning: divide by zero encountered in scalar divide\n",
      "  return 1 - self.ssr/self.centered_tss\n"
     ]
    },
    {
     "name": "stdout",
     "output_type": "stream",
     "text": [
      "dropping 'Year' at index: 0\n",
      "dropping 'Infant_deaths' at index: 0\n",
      "dropping 'Under_five_deaths' at index: 0\n",
      "dropping 'Adult_mortality' at index: 0\n",
      "dropping 'Alcohol_consumption' at index: 0\n",
      "Remaining variables:\n"
     ]
    },
    {
     "name": "stderr",
     "output_type": "stream",
     "text": [
      "/opt/anaconda3/lib/python3.12/site-packages/statsmodels/stats/outliers_influence.py:197: RuntimeWarning: divide by zero encountered in scalar divide\n",
      "  vif = 1. / (1. - r_squared_i)\n",
      "/opt/anaconda3/lib/python3.12/site-packages/statsmodels/regression/linear_model.py:1783: RuntimeWarning: invalid value encountered in scalar divide\n",
      "  return 1 - self.ssr/self.centered_tss\n",
      "/opt/anaconda3/lib/python3.12/site-packages/statsmodels/regression/linear_model.py:1783: RuntimeWarning: divide by zero encountered in scalar divide\n",
      "  return 1 - self.ssr/self.centered_tss\n"
     ]
    },
    {
     "name": "stdout",
     "output_type": "stream",
     "text": [
      "dropping 'Year' at index: 0\n",
      "dropping 'Infant_deaths' at index: 0\n",
      "dropping 'Under_five_deaths' at index: 0\n",
      "dropping 'Adult_mortality' at index: 0\n",
      "dropping 'Alcohol_consumption' at index: 0\n",
      "dropping 'Hepatitis_B' at index: 0\n",
      "dropping 'Measles' at index: 0\n",
      "dropping 'BMI' at index: 0\n",
      "dropping 'Polio' at index: 0\n",
      "dropping 'Diphtheria' at index: 0\n",
      "dropping 'exp_BMI' at index: 9\n",
      "dropping 'Incidents_HIV' at index: 0\n",
      "dropping 'Thinness_five_nine_years' at index: 3\n",
      "dropping 'GDP_per_capita' at index: 0\n",
      "Remaining variables:\n"
     ]
    },
    {
     "name": "stderr",
     "output_type": "stream",
     "text": [
      "/opt/anaconda3/lib/python3.12/site-packages/statsmodels/stats/outliers_influence.py:197: RuntimeWarning: divide by zero encountered in scalar divide\n",
      "  vif = 1. / (1. - r_squared_i)\n",
      "/opt/anaconda3/lib/python3.12/site-packages/statsmodels/regression/linear_model.py:1783: RuntimeWarning: invalid value encountered in scalar divide\n",
      "  return 1 - self.ssr/self.centered_tss\n",
      "/opt/anaconda3/lib/python3.12/site-packages/statsmodels/regression/linear_model.py:1783: RuntimeWarning: divide by zero encountered in scalar divide\n",
      "  return 1 - self.ssr/self.centered_tss\n"
     ]
    },
    {
     "name": "stdout",
     "output_type": "stream",
     "text": [
      "dropping 'Year' at index: 0\n",
      "dropping 'Infant_deaths' at index: 0\n",
      "dropping 'Under_five_deaths' at index: 0\n",
      "dropping 'Adult_mortality' at index: 0\n",
      "dropping 'Alcohol_consumption' at index: 0\n",
      "dropping 'Hepatitis_B' at index: 0\n",
      "dropping 'Measles' at index: 0\n",
      "dropping 'BMI' at index: 0\n",
      "dropping 'Polio' at index: 0\n",
      "dropping 'Diphtheria' at index: 0\n",
      "dropping 'exp_GDP' at index: 8\n",
      "dropping 'Schooling' at index: 5\n",
      "dropping 'GDP_per_capita' at index: 1\n",
      "dropping 'Thinness_five_nine_years' at index: 3\n",
      "dropping 'Population_mln' at index: 1\n",
      "dropping 'Incidents_HIV' at index: 0\n",
      "Remaining variables:\n"
     ]
    },
    {
     "name": "stderr",
     "output_type": "stream",
     "text": [
      "/opt/anaconda3/lib/python3.12/site-packages/statsmodels/stats/outliers_influence.py:197: RuntimeWarning: divide by zero encountered in scalar divide\n",
      "  vif = 1. / (1. - r_squared_i)\n",
      "/opt/anaconda3/lib/python3.12/site-packages/statsmodels/regression/linear_model.py:1783: RuntimeWarning: invalid value encountered in scalar divide\n",
      "  return 1 - self.ssr/self.centered_tss\n",
      "/opt/anaconda3/lib/python3.12/site-packages/statsmodels/regression/linear_model.py:1783: RuntimeWarning: divide by zero encountered in scalar divide\n",
      "  return 1 - self.ssr/self.centered_tss\n"
     ]
    },
    {
     "name": "stdout",
     "output_type": "stream",
     "text": [
      "dropping 'Year' at index: 0\n",
      "dropping 'Infant_deaths' at index: 0\n",
      "dropping 'Under_five_deaths' at index: 0\n",
      "dropping 'Polio' at index: 5\n",
      "dropping 'BMI' at index: 4\n",
      "dropping 'Population_mln' at index: 7\n",
      "dropping 'Adult_mortality' at index: 0\n",
      "dropping 'Hepatitis_B' at index: 1\n",
      "dropping 'exp_GDP' at index: 10\n",
      "dropping 'exp_BMI' at index: 10\n",
      "dropping 'GDP_per_capita' at index: 4\n",
      "dropping 'Thinness_ten_nineteen_years' at index: 4\n",
      "Remaining variables:\n",
      "dropping 'Year' at index: 0\n",
      "dropping 'Infant_deaths' at index: 0\n"
     ]
    },
    {
     "name": "stderr",
     "output_type": "stream",
     "text": [
      "/opt/anaconda3/lib/python3.12/site-packages/statsmodels/stats/outliers_influence.py:197: RuntimeWarning: divide by zero encountered in scalar divide\n",
      "  vif = 1. / (1. - r_squared_i)\n",
      "/opt/anaconda3/lib/python3.12/site-packages/statsmodels/regression/linear_model.py:1783: RuntimeWarning: invalid value encountered in scalar divide\n",
      "  return 1 - self.ssr/self.centered_tss\n",
      "/opt/anaconda3/lib/python3.12/site-packages/statsmodels/regression/linear_model.py:1783: RuntimeWarning: divide by zero encountered in scalar divide\n",
      "  return 1 - self.ssr/self.centered_tss\n"
     ]
    },
    {
     "name": "stdout",
     "output_type": "stream",
     "text": [
      "dropping 'Under_five_deaths' at index: 0\n",
      "dropping 'Adult_mortality' at index: 0\n",
      "dropping 'Alcohol_consumption' at index: 0\n",
      "dropping 'Hepatitis_B' at index: 0\n",
      "dropping 'Measles' at index: 0\n",
      "dropping 'BMI' at index: 0\n",
      "dropping 'Population_mln' at index: 4\n",
      "dropping 'Incidents_HIV' at index: 2\n",
      "dropping 'Schooling' at index: 5\n",
      "dropping 'Diphtheria' at index: 1\n",
      "dropping 'GDP_per_capita' at index: 1\n",
      "Remaining variables:\n"
     ]
    },
    {
     "name": "stderr",
     "output_type": "stream",
     "text": [
      "/opt/anaconda3/lib/python3.12/site-packages/statsmodels/stats/outliers_influence.py:197: RuntimeWarning: divide by zero encountered in scalar divide\n",
      "  vif = 1. / (1. - r_squared_i)\n",
      "/opt/anaconda3/lib/python3.12/site-packages/statsmodels/regression/linear_model.py:1783: RuntimeWarning: divide by zero encountered in scalar divide\n",
      "  return 1 - self.ssr/self.centered_tss\n",
      "/opt/anaconda3/lib/python3.12/site-packages/statsmodels/regression/linear_model.py:1783: RuntimeWarning: invalid value encountered in scalar divide\n",
      "  return 1 - self.ssr/self.centered_tss\n"
     ]
    },
    {
     "name": "stdout",
     "output_type": "stream",
     "text": [
      "dropping 'Year' at index: 0\n",
      "dropping 'Infant_deaths' at index: 0\n",
      "dropping 'Under_five_deaths' at index: 0\n",
      "dropping 'Adult_mortality' at index: 0\n",
      "dropping 'Alcohol_consumption' at index: 0\n",
      "dropping 'GDP_per_capita' at index: 6\n",
      "dropping 'BMI' at index: 2\n",
      "dropping 'Population_mln' at index: 5\n",
      "dropping 'exp_BMI' at index: 11\n",
      "dropping 'exp_GDP' at index: 10\n",
      "dropping 'Polio' at index: 2\n",
      "dropping 'Schooling' at index: 6\n",
      "Remaining variables:\n"
     ]
    },
    {
     "name": "stderr",
     "output_type": "stream",
     "text": [
      "/opt/anaconda3/lib/python3.12/site-packages/statsmodels/stats/outliers_influence.py:197: RuntimeWarning: divide by zero encountered in scalar divide\n",
      "  vif = 1. / (1. - r_squared_i)\n",
      "/opt/anaconda3/lib/python3.12/site-packages/statsmodels/regression/linear_model.py:1783: RuntimeWarning: invalid value encountered in scalar divide\n",
      "  return 1 - self.ssr/self.centered_tss\n",
      "/opt/anaconda3/lib/python3.12/site-packages/statsmodels/regression/linear_model.py:1783: RuntimeWarning: divide by zero encountered in scalar divide\n",
      "  return 1 - self.ssr/self.centered_tss\n"
     ]
    },
    {
     "name": "stdout",
     "output_type": "stream",
     "text": [
      "dropping 'Year' at index: 0\n",
      "dropping 'Infant_deaths' at index: 0\n",
      "dropping 'Polio' at index: 6\n",
      "dropping 'Population_mln' at index: 9\n",
      "dropping 'BMI' at index: 5\n",
      "dropping 'Under_five_deaths' at index: 0\n",
      "dropping 'GDP_per_capita' at index: 6\n",
      "dropping 'exp_BMI' at index: 12\n",
      "dropping 'Diphtheria' at index: 4\n",
      "dropping 'Thinness_ten_nineteen_years' at index: 5\n",
      "Remaining variables:\n"
     ]
    },
    {
     "name": "stderr",
     "output_type": "stream",
     "text": [
      "/opt/anaconda3/lib/python3.12/site-packages/statsmodels/stats/outliers_influence.py:197: RuntimeWarning: divide by zero encountered in scalar divide\n",
      "  vif = 1. / (1. - r_squared_i)\n",
      "/opt/anaconda3/lib/python3.12/site-packages/statsmodels/regression/linear_model.py:1783: RuntimeWarning: invalid value encountered in scalar divide\n",
      "  return 1 - self.ssr/self.centered_tss\n",
      "/opt/anaconda3/lib/python3.12/site-packages/statsmodels/regression/linear_model.py:1783: RuntimeWarning: divide by zero encountered in scalar divide\n",
      "  return 1 - self.ssr/self.centered_tss\n"
     ]
    },
    {
     "name": "stdout",
     "output_type": "stream",
     "text": [
      "dropping 'Year' at index: 0\n",
      "dropping 'Infant_deaths' at index: 0\n",
      "dropping 'Under_five_deaths' at index: 0\n",
      "dropping 'Adult_mortality' at index: 0\n",
      "dropping 'BMI' at index: 3\n",
      "dropping 'Population_mln' at index: 7\n",
      "dropping 'GDP_per_capita' at index: 6\n",
      "dropping 'exp_BMI' at index: 12\n",
      "dropping 'Thinness_five_nine_years' at index: 7\n",
      "dropping 'Schooling' at index: 7\n",
      "dropping 'Thinness_ten_nineteen_years' at index: 6\n",
      "dropping 'Diphtheria' at index: 4\n",
      "dropping 'Incidents_HIV' at index: 4\n",
      "Remaining variables:\n"
     ]
    },
    {
     "name": "stderr",
     "output_type": "stream",
     "text": [
      "/opt/anaconda3/lib/python3.12/site-packages/statsmodels/stats/outliers_influence.py:197: RuntimeWarning: divide by zero encountered in scalar divide\n",
      "  vif = 1. / (1. - r_squared_i)\n",
      "/opt/anaconda3/lib/python3.12/site-packages/statsmodels/regression/linear_model.py:1783: RuntimeWarning: invalid value encountered in scalar divide\n",
      "  return 1 - self.ssr/self.centered_tss\n",
      "/opt/anaconda3/lib/python3.12/site-packages/statsmodels/regression/linear_model.py:1783: RuntimeWarning: divide by zero encountered in scalar divide\n",
      "  return 1 - self.ssr/self.centered_tss\n"
     ]
    },
    {
     "name": "stdout",
     "output_type": "stream",
     "text": [
      "dropping 'Year' at index: 0\n",
      "dropping 'Infant_deaths' at index: 0\n",
      "dropping 'Under_five_deaths' at index: 0\n",
      "dropping 'Adult_mortality' at index: 0\n",
      "dropping 'Alcohol_consumption' at index: 0\n",
      "dropping 'Schooling' at index: 10\n",
      "dropping 'Population_mln' at index: 7\n",
      "dropping 'BMI' at index: 2\n",
      "dropping 'Thinness_ten_nineteen_years' at index: 6\n",
      "dropping 'Thinness_five_nine_years' at index: 6\n",
      "dropping 'Diphtheria' at index: 3\n",
      "dropping 'Polio' at index: 2\n",
      "dropping 'exp_BMI' at index: 7\n",
      "Remaining variables:\n"
     ]
    },
    {
     "name": "stderr",
     "output_type": "stream",
     "text": [
      "/opt/anaconda3/lib/python3.12/site-packages/statsmodels/stats/outliers_influence.py:197: RuntimeWarning: divide by zero encountered in scalar divide\n",
      "  vif = 1. / (1. - r_squared_i)\n",
      "/opt/anaconda3/lib/python3.12/site-packages/statsmodels/regression/linear_model.py:1783: RuntimeWarning: invalid value encountered in scalar divide\n",
      "  return 1 - self.ssr/self.centered_tss\n",
      "/opt/anaconda3/lib/python3.12/site-packages/statsmodels/regression/linear_model.py:1783: RuntimeWarning: divide by zero encountered in scalar divide\n",
      "  return 1 - self.ssr/self.centered_tss\n"
     ]
    },
    {
     "name": "stdout",
     "output_type": "stream",
     "text": [
      "dropping 'Year' at index: 0\n",
      "dropping 'Infant_deaths' at index: 0\n",
      "dropping 'Under_five_deaths' at index: 0\n",
      "dropping 'Adult_mortality' at index: 0\n",
      "dropping 'Alcohol_consumption' at index: 0\n",
      "dropping 'Hepatitis_B' at index: 0\n",
      "dropping 'BMI' at index: 1\n",
      "dropping 'Schooling' at index: 8\n",
      "dropping 'Thinness_five_nine_years' at index: 7\n",
      "dropping 'Population_mln' at index: 5\n",
      "dropping 'exp_BMI' at index: 9\n",
      "dropping 'GDP_per_capita' at index: 4\n",
      "Remaining variables:\n"
     ]
    },
    {
     "name": "stderr",
     "output_type": "stream",
     "text": [
      "/opt/anaconda3/lib/python3.12/site-packages/statsmodels/stats/outliers_influence.py:197: RuntimeWarning: divide by zero encountered in scalar divide\n",
      "  vif = 1. / (1. - r_squared_i)\n",
      "/opt/anaconda3/lib/python3.12/site-packages/statsmodels/regression/linear_model.py:1783: RuntimeWarning: invalid value encountered in scalar divide\n",
      "  return 1 - self.ssr/self.centered_tss\n",
      "/opt/anaconda3/lib/python3.12/site-packages/statsmodels/regression/linear_model.py:1783: RuntimeWarning: divide by zero encountered in scalar divide\n",
      "  return 1 - self.ssr/self.centered_tss\n"
     ]
    },
    {
     "name": "stdout",
     "output_type": "stream",
     "text": [
      "dropping 'Year' at index: 0\n",
      "dropping 'Infant_deaths' at index: 0\n",
      "dropping 'Under_five_deaths' at index: 0\n",
      "dropping 'Adult_mortality' at index: 0\n",
      "dropping 'BMI' at index: 3\n",
      "dropping 'GDP_per_capita' at index: 6\n",
      "dropping 'Thinness_five_nine_years' at index: 8\n",
      "dropping 'Schooling' at index: 8\n",
      "dropping 'exp_BMI' at index: 11\n",
      "Remaining variables:\n",
      "dropping 'Year' at index: 0\n"
     ]
    },
    {
     "name": "stderr",
     "output_type": "stream",
     "text": [
      "/opt/anaconda3/lib/python3.12/site-packages/statsmodels/stats/outliers_influence.py:197: RuntimeWarning: divide by zero encountered in scalar divide\n",
      "  vif = 1. / (1. - r_squared_i)\n",
      "/opt/anaconda3/lib/python3.12/site-packages/statsmodels/regression/linear_model.py:1783: RuntimeWarning: invalid value encountered in scalar divide\n",
      "  return 1 - self.ssr/self.centered_tss\n",
      "/opt/anaconda3/lib/python3.12/site-packages/statsmodels/regression/linear_model.py:1783: RuntimeWarning: divide by zero encountered in scalar divide\n",
      "  return 1 - self.ssr/self.centered_tss\n"
     ]
    },
    {
     "name": "stdout",
     "output_type": "stream",
     "text": [
      "dropping 'Infant_deaths' at index: 0\n",
      "dropping 'Under_five_deaths' at index: 0\n",
      "dropping 'Adult_mortality' at index: 0\n",
      "dropping 'BMI' at index: 3\n",
      "dropping 'Population_mln' at index: 7\n",
      "dropping 'GDP_per_capita' at index: 6\n",
      "dropping 'exp_BMI' at index: 12\n",
      "dropping 'Diphtheria' at index: 4\n",
      "dropping 'Schooling' at index: 7\n",
      "Remaining variables:\n"
     ]
    },
    {
     "name": "stderr",
     "output_type": "stream",
     "text": [
      "/opt/anaconda3/lib/python3.12/site-packages/statsmodels/stats/outliers_influence.py:197: RuntimeWarning: divide by zero encountered in scalar divide\n",
      "  vif = 1. / (1. - r_squared_i)\n",
      "/opt/anaconda3/lib/python3.12/site-packages/statsmodels/regression/linear_model.py:1783: RuntimeWarning: invalid value encountered in scalar divide\n",
      "  return 1 - self.ssr/self.centered_tss\n",
      "/opt/anaconda3/lib/python3.12/site-packages/statsmodels/regression/linear_model.py:1783: RuntimeWarning: divide by zero encountered in scalar divide\n",
      "  return 1 - self.ssr/self.centered_tss\n"
     ]
    },
    {
     "name": "stdout",
     "output_type": "stream",
     "text": [
      "dropping 'Year' at index: 0\n",
      "dropping 'Infant_deaths' at index: 0\n",
      "dropping 'Under_five_deaths' at index: 0\n",
      "dropping 'Adult_mortality' at index: 0\n",
      "dropping 'Alcohol_consumption' at index: 0\n",
      "dropping 'Hepatitis_B' at index: 0\n",
      "Remaining variables:\n"
     ]
    },
    {
     "name": "stderr",
     "output_type": "stream",
     "text": [
      "/opt/anaconda3/lib/python3.12/site-packages/statsmodels/stats/outliers_influence.py:197: RuntimeWarning: divide by zero encountered in scalar divide\n",
      "  vif = 1. / (1. - r_squared_i)\n",
      "/opt/anaconda3/lib/python3.12/site-packages/statsmodels/regression/linear_model.py:1783: RuntimeWarning: invalid value encountered in scalar divide\n",
      "  return 1 - self.ssr/self.centered_tss\n",
      "/opt/anaconda3/lib/python3.12/site-packages/statsmodels/regression/linear_model.py:1783: RuntimeWarning: divide by zero encountered in scalar divide\n",
      "  return 1 - self.ssr/self.centered_tss\n"
     ]
    },
    {
     "name": "stdout",
     "output_type": "stream",
     "text": [
      "dropping 'Year' at index: 0\n",
      "dropping 'Infant_deaths' at index: 0\n",
      "dropping 'Under_five_deaths' at index: 0\n",
      "dropping 'Adult_mortality' at index: 0\n",
      "dropping 'Alcohol_consumption' at index: 0\n",
      "dropping 'BMI' at index: 2\n",
      "dropping 'Incidents_HIV' at index: 4\n",
      "dropping 'Population_mln' at index: 5\n",
      "dropping 'Hepatitis_B' at index: 0\n",
      "dropping 'GDP_per_capita' at index: 3\n",
      "dropping 'exp_BMI' at index: 9\n",
      "dropping 'Schooling' at index: 5\n",
      "Remaining variables:\n",
      "dropping 'Year' at index: 0\n"
     ]
    },
    {
     "name": "stderr",
     "output_type": "stream",
     "text": [
      "/opt/anaconda3/lib/python3.12/site-packages/statsmodels/stats/outliers_influence.py:197: RuntimeWarning: divide by zero encountered in scalar divide\n",
      "  vif = 1. / (1. - r_squared_i)\n",
      "/opt/anaconda3/lib/python3.12/site-packages/statsmodels/regression/linear_model.py:1783: RuntimeWarning: invalid value encountered in scalar divide\n",
      "  return 1 - self.ssr/self.centered_tss\n",
      "/opt/anaconda3/lib/python3.12/site-packages/statsmodels/regression/linear_model.py:1783: RuntimeWarning: divide by zero encountered in scalar divide\n",
      "  return 1 - self.ssr/self.centered_tss\n"
     ]
    },
    {
     "name": "stdout",
     "output_type": "stream",
     "text": [
      "dropping 'Infant_deaths' at index: 0\n",
      "dropping 'Under_five_deaths' at index: 0\n",
      "dropping 'Adult_mortality' at index: 0\n",
      "dropping 'Alcohol_consumption' at index: 0\n",
      "dropping 'Hepatitis_B' at index: 0\n",
      "dropping 'Measles' at index: 0\n",
      "dropping 'BMI' at index: 0\n",
      "dropping 'Polio' at index: 0\n",
      "dropping 'exp_GDP' at index: 9\n",
      "dropping 'exp_BMI' at index: 9\n",
      "dropping 'Diphtheria' at index: 0\n",
      "Remaining variables:\n",
      "dropping 'Year' at index: 0\n"
     ]
    },
    {
     "name": "stderr",
     "output_type": "stream",
     "text": [
      "/opt/anaconda3/lib/python3.12/site-packages/statsmodels/stats/outliers_influence.py:197: RuntimeWarning: divide by zero encountered in scalar divide\n",
      "  vif = 1. / (1. - r_squared_i)\n",
      "/opt/anaconda3/lib/python3.12/site-packages/statsmodels/regression/linear_model.py:1783: RuntimeWarning: invalid value encountered in scalar divide\n",
      "  return 1 - self.ssr/self.centered_tss\n",
      "/opt/anaconda3/lib/python3.12/site-packages/statsmodels/regression/linear_model.py:1783: RuntimeWarning: divide by zero encountered in scalar divide\n",
      "  return 1 - self.ssr/self.centered_tss\n"
     ]
    },
    {
     "name": "stdout",
     "output_type": "stream",
     "text": [
      "dropping 'Infant_deaths' at index: 0\n",
      "dropping 'Under_five_deaths' at index: 0\n",
      "dropping 'Adult_mortality' at index: 0\n",
      "dropping 'Alcohol_consumption' at index: 0\n",
      "dropping 'Hepatitis_B' at index: 0\n",
      "dropping 'Measles' at index: 0\n",
      "dropping 'BMI' at index: 0\n",
      "dropping 'Polio' at index: 0\n",
      "dropping 'Diphtheria' at index: 0\n",
      "dropping 'Thinness_five_nine_years' at index: 4\n",
      "dropping 'exp_GDP' at index: 7\n",
      "dropping 'GDP_per_capita' at index: 1\n",
      "dropping 'exp_BMI' at index: 6\n",
      "dropping 'Population_mln' at index: 1\n",
      "dropping 'Schooling' at index: 2\n",
      "Remaining variables:\n",
      "dropping 'Year' at index: 0\n"
     ]
    },
    {
     "name": "stderr",
     "output_type": "stream",
     "text": [
      "/opt/anaconda3/lib/python3.12/site-packages/statsmodels/stats/outliers_influence.py:197: RuntimeWarning: divide by zero encountered in scalar divide\n",
      "  vif = 1. / (1. - r_squared_i)\n",
      "/opt/anaconda3/lib/python3.12/site-packages/statsmodels/regression/linear_model.py:1783: RuntimeWarning: invalid value encountered in scalar divide\n",
      "  return 1 - self.ssr/self.centered_tss\n",
      "/opt/anaconda3/lib/python3.12/site-packages/statsmodels/regression/linear_model.py:1783: RuntimeWarning: divide by zero encountered in scalar divide\n",
      "  return 1 - self.ssr/self.centered_tss\n"
     ]
    },
    {
     "name": "stdout",
     "output_type": "stream",
     "text": [
      "dropping 'Infant_deaths' at index: 0\n",
      "dropping 'Under_five_deaths' at index: 0\n",
      "dropping 'Adult_mortality' at index: 0\n",
      "dropping 'Alcohol_consumption' at index: 0\n",
      "dropping 'Hepatitis_B' at index: 0\n",
      "Remaining variables:\n",
      "dropping 'Year' at index: 0\n"
     ]
    },
    {
     "name": "stderr",
     "output_type": "stream",
     "text": [
      "/opt/anaconda3/lib/python3.12/site-packages/statsmodels/stats/outliers_influence.py:197: RuntimeWarning: divide by zero encountered in scalar divide\n",
      "  vif = 1. / (1. - r_squared_i)\n",
      "/opt/anaconda3/lib/python3.12/site-packages/statsmodels/regression/linear_model.py:1783: RuntimeWarning: invalid value encountered in scalar divide\n",
      "  return 1 - self.ssr/self.centered_tss\n",
      "/opt/anaconda3/lib/python3.12/site-packages/statsmodels/regression/linear_model.py:1783: RuntimeWarning: divide by zero encountered in scalar divide\n",
      "  return 1 - self.ssr/self.centered_tss\n"
     ]
    },
    {
     "name": "stdout",
     "output_type": "stream",
     "text": [
      "dropping 'Polio' at index: 7\n",
      "dropping 'Under_five_deaths' at index: 1\n",
      "dropping 'exp_BMI' at index: 16\n",
      "dropping 'Population_mln' at index: 9\n",
      "dropping 'Infant_deaths' at index: 0\n",
      "dropping 'GDP_per_capita' at index: 7\n",
      "dropping 'BMI' at index: 4\n",
      "dropping 'Adult_mortality' at index: 0\n",
      "dropping 'Thinness_ten_nineteen_years' at index: 5\n",
      "dropping 'Thinness_five_nine_years' at index: 5\n",
      "Remaining variables:\n",
      "dropping 'Polio' at index: 8\n",
      "dropping 'exp_BMI' at index: 18\n"
     ]
    },
    {
     "name": "stderr",
     "output_type": "stream",
     "text": [
      "/opt/anaconda3/lib/python3.12/site-packages/statsmodels/regression/linear_model.py:1783: RuntimeWarning: invalid value encountered in scalar divide\n",
      "  return 1 - self.ssr/self.centered_tss\n",
      "/opt/anaconda3/lib/python3.12/site-packages/statsmodels/stats/outliers_influence.py:197: RuntimeWarning: divide by zero encountered in scalar divide\n",
      "  vif = 1. / (1. - r_squared_i)\n",
      "/opt/anaconda3/lib/python3.12/site-packages/statsmodels/regression/linear_model.py:1783: RuntimeWarning: divide by zero encountered in scalar divide\n",
      "  return 1 - self.ssr/self.centered_tss\n"
     ]
    },
    {
     "name": "stdout",
     "output_type": "stream",
     "text": [
      "dropping 'Under_five_deaths' at index: 2\n",
      "dropping 'BMI' at index: 6\n",
      "dropping 'Year' at index: 0\n",
      "dropping 'Infant_deaths' at index: 0\n",
      "dropping 'Population_mln' at index: 7\n",
      "dropping 'GDP_per_capita' at index: 6\n",
      "dropping 'Adult_mortality' at index: 0\n",
      "dropping 'Diphtheria' at index: 3\n",
      "Remaining variables:\n",
      "dropping 'Year' at index: 0\n"
     ]
    },
    {
     "name": "stderr",
     "output_type": "stream",
     "text": [
      "/opt/anaconda3/lib/python3.12/site-packages/statsmodels/stats/outliers_influence.py:197: RuntimeWarning: divide by zero encountered in scalar divide\n",
      "  vif = 1. / (1. - r_squared_i)\n",
      "/opt/anaconda3/lib/python3.12/site-packages/statsmodels/regression/linear_model.py:1783: RuntimeWarning: invalid value encountered in scalar divide\n",
      "  return 1 - self.ssr/self.centered_tss\n",
      "/opt/anaconda3/lib/python3.12/site-packages/statsmodels/regression/linear_model.py:1783: RuntimeWarning: divide by zero encountered in scalar divide\n",
      "  return 1 - self.ssr/self.centered_tss\n"
     ]
    },
    {
     "name": "stdout",
     "output_type": "stream",
     "text": [
      "dropping 'Infant_deaths' at index: 0\n",
      "dropping 'Under_five_deaths' at index: 0\n",
      "dropping 'Adult_mortality' at index: 0\n",
      "dropping 'Alcohol_consumption' at index: 0\n",
      "dropping 'Hepatitis_B' at index: 0\n",
      "dropping 'Measles' at index: 0\n",
      "dropping 'Population_mln' at index: 5\n",
      "dropping 'BMI' at index: 0\n",
      "dropping 'GDP_per_capita' at index: 3\n",
      "dropping 'exp_BMI' at index: 9\n",
      "dropping 'Schooling' at index: 5\n",
      "dropping 'Thinness_five_nine_years' at index: 4\n",
      "Remaining variables:\n"
     ]
    },
    {
     "name": "stderr",
     "output_type": "stream",
     "text": [
      "/opt/anaconda3/lib/python3.12/site-packages/statsmodels/regression/linear_model.py:1783: RuntimeWarning: invalid value encountered in scalar divide\n",
      "  return 1 - self.ssr/self.centered_tss\n",
      "/opt/anaconda3/lib/python3.12/site-packages/statsmodels/regression/linear_model.py:1783: RuntimeWarning: divide by zero encountered in scalar divide\n",
      "  return 1 - self.ssr/self.centered_tss\n"
     ]
    },
    {
     "name": "stdout",
     "output_type": "stream",
     "text": [
      "dropping 'Population_mln' at index: 12\n",
      "dropping 'Under_five_deaths' at index: 2\n",
      "dropping 'Year' at index: 0\n",
      "dropping 'GDP_per_capita' at index: 9\n",
      "dropping 'BMI' at index: 5\n",
      "dropping 'Adult_mortality' at index: 1\n",
      "dropping 'Thinness_five_nine_years' at index: 8\n",
      "dropping 'exp_BMI' at index: 12\n",
      "dropping 'Infant_deaths' at index: 0\n",
      "dropping 'Polio' at index: 3\n",
      "Remaining variables:\n"
     ]
    },
    {
     "name": "stderr",
     "output_type": "stream",
     "text": [
      "/opt/anaconda3/lib/python3.12/site-packages/statsmodels/stats/outliers_influence.py:197: RuntimeWarning: divide by zero encountered in scalar divide\n",
      "  vif = 1. / (1. - r_squared_i)\n",
      "/opt/anaconda3/lib/python3.12/site-packages/statsmodels/regression/linear_model.py:1783: RuntimeWarning: invalid value encountered in scalar divide\n",
      "  return 1 - self.ssr/self.centered_tss\n",
      "/opt/anaconda3/lib/python3.12/site-packages/statsmodels/regression/linear_model.py:1783: RuntimeWarning: divide by zero encountered in scalar divide\n",
      "  return 1 - self.ssr/self.centered_tss\n"
     ]
    },
    {
     "name": "stdout",
     "output_type": "stream",
     "text": [
      "dropping 'Year' at index: 0\n",
      "dropping 'Infant_deaths' at index: 0\n",
      "dropping 'Under_five_deaths' at index: 0\n",
      "dropping 'Adult_mortality' at index: 0\n",
      "dropping 'BMI' at index: 3\n",
      "dropping 'exp_BMI' at index: 14\n",
      "dropping 'Thinness_ten_nineteen_years' at index: 8\n",
      "dropping 'Diphtheria' at index: 4\n",
      "dropping 'Thinness_five_nine_years' at index: 7\n",
      "dropping 'Alcohol_consumption' at index: 0\n",
      "dropping 'exp_GDP' at index: 9\n",
      "Remaining variables:\n",
      "dropping 'Year' at index: 0\n"
     ]
    },
    {
     "name": "stderr",
     "output_type": "stream",
     "text": [
      "/opt/anaconda3/lib/python3.12/site-packages/statsmodels/stats/outliers_influence.py:197: RuntimeWarning: divide by zero encountered in scalar divide\n",
      "  vif = 1. / (1. - r_squared_i)\n",
      "/opt/anaconda3/lib/python3.12/site-packages/statsmodels/regression/linear_model.py:1783: RuntimeWarning: invalid value encountered in scalar divide\n",
      "  return 1 - self.ssr/self.centered_tss\n",
      "/opt/anaconda3/lib/python3.12/site-packages/statsmodels/regression/linear_model.py:1783: RuntimeWarning: divide by zero encountered in scalar divide\n",
      "  return 1 - self.ssr/self.centered_tss\n"
     ]
    },
    {
     "name": "stdout",
     "output_type": "stream",
     "text": [
      "dropping 'Infant_deaths' at index: 0\n",
      "dropping 'Under_five_deaths' at index: 0\n",
      "dropping 'Adult_mortality' at index: 0\n",
      "dropping 'Alcohol_consumption' at index: 0\n",
      "dropping 'Hepatitis_B' at index: 0\n",
      "dropping 'Incidents_HIV' at index: 4\n",
      "dropping 'Polio' at index: 2\n",
      "dropping 'Thinness_five_nine_years' at index: 6\n",
      "dropping 'BMI' at index: 1\n",
      "dropping 'GDP_per_capita' at index: 2\n",
      "dropping 'Thinness_ten_nineteen_years' at index: 3\n",
      "dropping 'Population_mln' at index: 2\n",
      "dropping 'exp_BMI' at index: 6\n",
      "Remaining variables:\n",
      "dropping 'Year' at index: 0\n",
      "dropping 'Infant_deaths' at index: 0\n"
     ]
    },
    {
     "name": "stderr",
     "output_type": "stream",
     "text": [
      "/opt/anaconda3/lib/python3.12/site-packages/statsmodels/stats/outliers_influence.py:197: RuntimeWarning: divide by zero encountered in scalar divide\n",
      "  vif = 1. / (1. - r_squared_i)\n",
      "/opt/anaconda3/lib/python3.12/site-packages/statsmodels/regression/linear_model.py:1783: RuntimeWarning: invalid value encountered in scalar divide\n",
      "  return 1 - self.ssr/self.centered_tss\n",
      "/opt/anaconda3/lib/python3.12/site-packages/statsmodels/regression/linear_model.py:1783: RuntimeWarning: divide by zero encountered in scalar divide\n",
      "  return 1 - self.ssr/self.centered_tss\n"
     ]
    },
    {
     "name": "stdout",
     "output_type": "stream",
     "text": [
      "dropping 'Under_five_deaths' at index: 0\n",
      "dropping 'Adult_mortality' at index: 0\n",
      "dropping 'Alcohol_consumption' at index: 0\n",
      "dropping 'Schooling' at index: 10\n",
      "dropping 'Thinness_five_nine_years' at index: 9\n",
      "dropping 'BMI' at index: 2\n",
      "dropping 'GDP_per_capita' at index: 5\n",
      "dropping 'Polio' at index: 2\n",
      "dropping 'Population_mln' at index: 4\n",
      "dropping 'exp_BMI' at index: 8\n",
      "Remaining variables:\n",
      "dropping 'Year' at index: 0\n",
      "dropping 'Infant_deaths' at index: 0\n"
     ]
    },
    {
     "name": "stderr",
     "output_type": "stream",
     "text": [
      "/opt/anaconda3/lib/python3.12/site-packages/statsmodels/stats/outliers_influence.py:197: RuntimeWarning: divide by zero encountered in scalar divide\n",
      "  vif = 1. / (1. - r_squared_i)\n",
      "/opt/anaconda3/lib/python3.12/site-packages/statsmodels/regression/linear_model.py:1783: RuntimeWarning: invalid value encountered in scalar divide\n",
      "  return 1 - self.ssr/self.centered_tss\n",
      "/opt/anaconda3/lib/python3.12/site-packages/statsmodels/regression/linear_model.py:1783: RuntimeWarning: divide by zero encountered in scalar divide\n",
      "  return 1 - self.ssr/self.centered_tss\n"
     ]
    },
    {
     "name": "stdout",
     "output_type": "stream",
     "text": [
      "dropping 'Under_five_deaths' at index: 0\n",
      "dropping 'Adult_mortality' at index: 0\n",
      "dropping 'Alcohol_consumption' at index: 0\n",
      "dropping 'Hepatitis_B' at index: 0\n",
      "Remaining variables:\n"
     ]
    },
    {
     "name": "stderr",
     "output_type": "stream",
     "text": [
      "/opt/anaconda3/lib/python3.12/site-packages/statsmodels/stats/outliers_influence.py:197: RuntimeWarning: divide by zero encountered in scalar divide\n",
      "  vif = 1. / (1. - r_squared_i)\n",
      "/opt/anaconda3/lib/python3.12/site-packages/statsmodels/regression/linear_model.py:1783: RuntimeWarning: invalid value encountered in scalar divide\n",
      "  return 1 - self.ssr/self.centered_tss\n",
      "/opt/anaconda3/lib/python3.12/site-packages/statsmodels/regression/linear_model.py:1783: RuntimeWarning: divide by zero encountered in scalar divide\n",
      "  return 1 - self.ssr/self.centered_tss\n"
     ]
    },
    {
     "name": "stdout",
     "output_type": "stream",
     "text": [
      "dropping 'Year' at index: 0\n",
      "dropping 'Infant_deaths' at index: 0\n",
      "dropping 'Under_five_deaths' at index: 0\n",
      "dropping 'Adult_mortality' at index: 0\n",
      "dropping 'Thinness_five_nine_years' at index: 10\n",
      "dropping 'Population_mln' at index: 8\n",
      "dropping 'Polio' at index: 4\n",
      "dropping 'Incidents_HIV' at index: 5\n",
      "dropping 'BMI' at index: 3\n",
      "dropping 'Schooling' at index: 6\n",
      "dropping 'GDP_per_capita' at index: 4\n",
      "dropping 'Thinness_ten_nineteen_years' at index: 4\n",
      "dropping 'Diphtheria' at index: 3\n",
      "Remaining variables:\n"
     ]
    },
    {
     "name": "stderr",
     "output_type": "stream",
     "text": [
      "/opt/anaconda3/lib/python3.12/site-packages/statsmodels/stats/outliers_influence.py:197: RuntimeWarning: divide by zero encountered in scalar divide\n",
      "  vif = 1. / (1. - r_squared_i)\n",
      "/opt/anaconda3/lib/python3.12/site-packages/statsmodels/regression/linear_model.py:1783: RuntimeWarning: invalid value encountered in scalar divide\n",
      "  return 1 - self.ssr/self.centered_tss\n",
      "/opt/anaconda3/lib/python3.12/site-packages/statsmodels/regression/linear_model.py:1783: RuntimeWarning: divide by zero encountered in scalar divide\n",
      "  return 1 - self.ssr/self.centered_tss\n"
     ]
    },
    {
     "name": "stdout",
     "output_type": "stream",
     "text": [
      "dropping 'Year' at index: 0\n",
      "dropping 'Infant_deaths' at index: 0\n",
      "dropping 'Under_five_deaths' at index: 0\n",
      "dropping 'Adult_mortality' at index: 0\n",
      "dropping 'GDP_per_capita' at index: 7\n",
      "dropping 'BMI' at index: 3\n",
      "dropping 'exp_GDP' at index: 12\n",
      "dropping 'Incidents_HIV' at index: 5\n",
      "dropping 'Schooling' at index: 8\n",
      "dropping 'Thinness_five_nine_years' at index: 7\n",
      "dropping 'Population_mln' at index: 5\n",
      "dropping 'Alcohol_consumption' at index: 0\n",
      "dropping 'Hepatitis_B' at index: 0\n",
      "Remaining variables:\n",
      "dropping 'Year' at index: 0\n"
     ]
    },
    {
     "name": "stderr",
     "output_type": "stream",
     "text": [
      "/opt/anaconda3/lib/python3.12/site-packages/statsmodels/stats/outliers_influence.py:197: RuntimeWarning: divide by zero encountered in scalar divide\n",
      "  vif = 1. / (1. - r_squared_i)\n",
      "/opt/anaconda3/lib/python3.12/site-packages/statsmodels/regression/linear_model.py:1783: RuntimeWarning: invalid value encountered in scalar divide\n",
      "  return 1 - self.ssr/self.centered_tss\n",
      "/opt/anaconda3/lib/python3.12/site-packages/statsmodels/regression/linear_model.py:1783: RuntimeWarning: divide by zero encountered in scalar divide\n",
      "  return 1 - self.ssr/self.centered_tss\n"
     ]
    },
    {
     "name": "stdout",
     "output_type": "stream",
     "text": [
      "dropping 'Infant_deaths' at index: 0\n",
      "dropping 'Under_five_deaths' at index: 0\n",
      "dropping 'Adult_mortality' at index: 0\n",
      "dropping 'Alcohol_consumption' at index: 0\n",
      "dropping 'Hepatitis_B' at index: 0\n",
      "dropping 'Measles' at index: 0\n",
      "dropping 'GDP_per_capita' at index: 4\n",
      "dropping 'exp_BMI' at index: 11\n",
      "dropping 'exp_GDP' at index: 10\n",
      "dropping 'BMI' at index: 0\n",
      "dropping 'Polio' at index: 0\n",
      "dropping 'Population_mln' at index: 2\n",
      "Remaining variables:\n"
     ]
    },
    {
     "name": "stderr",
     "output_type": "stream",
     "text": [
      "/opt/anaconda3/lib/python3.12/site-packages/statsmodels/stats/outliers_influence.py:197: RuntimeWarning: divide by zero encountered in scalar divide\n",
      "  vif = 1. / (1. - r_squared_i)\n",
      "/opt/anaconda3/lib/python3.12/site-packages/statsmodels/regression/linear_model.py:1783: RuntimeWarning: divide by zero encountered in scalar divide\n",
      "  return 1 - self.ssr/self.centered_tss\n",
      "/opt/anaconda3/lib/python3.12/site-packages/statsmodels/regression/linear_model.py:1783: RuntimeWarning: invalid value encountered in scalar divide\n",
      "  return 1 - self.ssr/self.centered_tss\n"
     ]
    },
    {
     "name": "stdout",
     "output_type": "stream",
     "text": [
      "dropping 'Year' at index: 0\n",
      "dropping 'Infant_deaths' at index: 0\n",
      "dropping 'Under_five_deaths' at index: 0\n",
      "dropping 'Adult_mortality' at index: 0\n",
      "dropping 'Population_mln' at index: 8\n",
      "dropping 'GDP_per_capita' at index: 7\n",
      "dropping 'Schooling' at index: 9\n",
      "dropping 'BMI' at index: 3\n",
      "dropping 'Incidents_HIV' at index: 5\n",
      "dropping 'Hepatitis_B' at index: 1\n",
      "dropping 'Alcohol_consumption' at index: 0\n",
      "Remaining variables:\n"
     ]
    },
    {
     "name": "stderr",
     "output_type": "stream",
     "text": [
      "/opt/anaconda3/lib/python3.12/site-packages/statsmodels/stats/outliers_influence.py:197: RuntimeWarning: divide by zero encountered in scalar divide\n",
      "  vif = 1. / (1. - r_squared_i)\n",
      "/opt/anaconda3/lib/python3.12/site-packages/statsmodels/regression/linear_model.py:1783: RuntimeWarning: invalid value encountered in scalar divide\n",
      "  return 1 - self.ssr/self.centered_tss\n",
      "/opt/anaconda3/lib/python3.12/site-packages/statsmodels/regression/linear_model.py:1783: RuntimeWarning: divide by zero encountered in scalar divide\n",
      "  return 1 - self.ssr/self.centered_tss\n"
     ]
    },
    {
     "name": "stdout",
     "output_type": "stream",
     "text": [
      "dropping 'Year' at index: 0\n",
      "dropping 'Infant_deaths' at index: 0\n",
      "dropping 'Under_five_deaths' at index: 0\n",
      "dropping 'Adult_mortality' at index: 0\n",
      "dropping 'Alcohol_consumption' at index: 0\n",
      "dropping 'Hepatitis_B' at index: 0\n",
      "dropping 'Measles' at index: 0\n",
      "dropping 'Schooling' at index: 8\n",
      "dropping 'exp_BMI' at index: 11\n",
      "dropping 'Population_mln' at index: 5\n",
      "dropping 'exp_GDP' at index: 9\n",
      "dropping 'Thinness_ten_nineteen_years' at index: 5\n",
      "Remaining variables:\n"
     ]
    },
    {
     "name": "stderr",
     "output_type": "stream",
     "text": [
      "/opt/anaconda3/lib/python3.12/site-packages/statsmodels/stats/outliers_influence.py:197: RuntimeWarning: divide by zero encountered in scalar divide\n",
      "  vif = 1. / (1. - r_squared_i)\n",
      "/opt/anaconda3/lib/python3.12/site-packages/statsmodels/regression/linear_model.py:1783: RuntimeWarning: invalid value encountered in scalar divide\n",
      "  return 1 - self.ssr/self.centered_tss\n",
      "/opt/anaconda3/lib/python3.12/site-packages/statsmodels/regression/linear_model.py:1783: RuntimeWarning: divide by zero encountered in scalar divide\n",
      "  return 1 - self.ssr/self.centered_tss\n"
     ]
    },
    {
     "name": "stdout",
     "output_type": "stream",
     "text": [
      "dropping 'Year' at index: 0\n",
      "dropping 'Infant_deaths' at index: 0\n",
      "dropping 'Under_five_deaths' at index: 0\n",
      "dropping 'Adult_mortality' at index: 0\n",
      "dropping 'Alcohol_consumption' at index: 0\n",
      "dropping 'Population_mln' at index: 7\n",
      "dropping 'GDP_per_capita' at index: 6\n",
      "dropping 'Incidents_HIV' at index: 5\n",
      "dropping 'Polio' at index: 3\n",
      "dropping 'exp_BMI' at index: 10\n",
      "dropping 'Schooling' at index: 6\n",
      "dropping 'Diphtheria' at index: 3\n",
      "Remaining variables:\n"
     ]
    },
    {
     "name": "stderr",
     "output_type": "stream",
     "text": [
      "/opt/anaconda3/lib/python3.12/site-packages/statsmodels/stats/outliers_influence.py:197: RuntimeWarning: divide by zero encountered in scalar divide\n",
      "  vif = 1. / (1. - r_squared_i)\n",
      "/opt/anaconda3/lib/python3.12/site-packages/statsmodels/regression/linear_model.py:1783: RuntimeWarning: invalid value encountered in scalar divide\n",
      "  return 1 - self.ssr/self.centered_tss\n",
      "/opt/anaconda3/lib/python3.12/site-packages/statsmodels/regression/linear_model.py:1783: RuntimeWarning: divide by zero encountered in scalar divide\n",
      "  return 1 - self.ssr/self.centered_tss\n"
     ]
    },
    {
     "name": "stdout",
     "output_type": "stream",
     "text": [
      "dropping 'Year' at index: 0\n",
      "dropping 'Infant_deaths' at index: 0\n",
      "dropping 'Under_five_deaths' at index: 0\n",
      "dropping 'Adult_mortality' at index: 0\n",
      "dropping 'Alcohol_consumption' at index: 0\n",
      "dropping 'Hepatitis_B' at index: 0\n",
      "dropping 'Thinness_ten_nineteen_years' at index: 7\n",
      "dropping 'exp_BMI' at index: 12\n",
      "dropping 'Population_mln' at index: 6\n",
      "dropping 'GDP_per_capita' at index: 5\n",
      "dropping 'Diphtheria' at index: 3\n",
      "dropping 'BMI' at index: 1\n",
      "dropping 'Schooling' at index: 4\n",
      "dropping 'exp_GDP' at index: 6\n",
      "Remaining variables:\n"
     ]
    },
    {
     "name": "stderr",
     "output_type": "stream",
     "text": [
      "/opt/anaconda3/lib/python3.12/site-packages/statsmodels/stats/outliers_influence.py:197: RuntimeWarning: divide by zero encountered in scalar divide\n",
      "  vif = 1. / (1. - r_squared_i)\n",
      "/opt/anaconda3/lib/python3.12/site-packages/statsmodels/regression/linear_model.py:1783: RuntimeWarning: invalid value encountered in scalar divide\n",
      "  return 1 - self.ssr/self.centered_tss\n",
      "/opt/anaconda3/lib/python3.12/site-packages/statsmodels/regression/linear_model.py:1783: RuntimeWarning: divide by zero encountered in scalar divide\n",
      "  return 1 - self.ssr/self.centered_tss\n"
     ]
    },
    {
     "name": "stdout",
     "output_type": "stream",
     "text": [
      "dropping 'Year' at index: 0\n",
      "dropping 'Infant_deaths' at index: 0\n",
      "dropping 'Under_five_deaths' at index: 0\n",
      "dropping 'Adult_mortality' at index: 0\n",
      "dropping 'Alcohol_consumption' at index: 0\n",
      "dropping 'Hepatitis_B' at index: 0\n",
      "dropping 'GDP_per_capita' at index: 5\n",
      "dropping 'BMI' at index: 1\n",
      "dropping 'exp_GDP' at index: 10\n",
      "dropping 'Thinness_five_nine_years' at index: 6\n",
      "dropping 'exp_BMI' at index: 9\n",
      "dropping 'Thinness_ten_nineteen_years' at index: 5\n",
      "Remaining variables:\n",
      "dropping 'Year' at index: 0\n"
     ]
    },
    {
     "name": "stderr",
     "output_type": "stream",
     "text": [
      "/opt/anaconda3/lib/python3.12/site-packages/statsmodels/stats/outliers_influence.py:197: RuntimeWarning: divide by zero encountered in scalar divide\n",
      "  vif = 1. / (1. - r_squared_i)\n",
      "/opt/anaconda3/lib/python3.12/site-packages/statsmodels/regression/linear_model.py:1783: RuntimeWarning: invalid value encountered in scalar divide\n",
      "  return 1 - self.ssr/self.centered_tss\n",
      "/opt/anaconda3/lib/python3.12/site-packages/statsmodels/regression/linear_model.py:1783: RuntimeWarning: divide by zero encountered in scalar divide\n",
      "  return 1 - self.ssr/self.centered_tss\n"
     ]
    },
    {
     "name": "stdout",
     "output_type": "stream",
     "text": [
      "dropping 'Infant_deaths' at index: 0\n",
      "dropping 'Adult_mortality' at index: 1\n",
      "dropping 'BMI' at index: 4\n",
      "dropping 'exp_BMI' at index: 15\n",
      "dropping 'Under_five_deaths' at index: 0\n",
      "dropping 'Schooling' at index: 10\n",
      "dropping 'exp_GDP' at index: 12\n",
      "dropping 'Diphtheria' at index: 4\n",
      "Remaining variables:\n"
     ]
    },
    {
     "name": "stderr",
     "output_type": "stream",
     "text": [
      "/opt/anaconda3/lib/python3.12/site-packages/statsmodels/stats/outliers_influence.py:197: RuntimeWarning: divide by zero encountered in scalar divide\n",
      "  vif = 1. / (1. - r_squared_i)\n",
      "/opt/anaconda3/lib/python3.12/site-packages/statsmodels/regression/linear_model.py:1783: RuntimeWarning: invalid value encountered in scalar divide\n",
      "  return 1 - self.ssr/self.centered_tss\n",
      "/opt/anaconda3/lib/python3.12/site-packages/statsmodels/regression/linear_model.py:1783: RuntimeWarning: divide by zero encountered in scalar divide\n",
      "  return 1 - self.ssr/self.centered_tss\n"
     ]
    },
    {
     "name": "stdout",
     "output_type": "stream",
     "text": [
      "dropping 'Year' at index: 0\n",
      "dropping 'Infant_deaths' at index: 0\n",
      "dropping 'Under_five_deaths' at index: 0\n",
      "dropping 'Adult_mortality' at index: 0\n",
      "dropping 'Alcohol_consumption' at index: 0\n",
      "dropping 'Hepatitis_B' at index: 0\n",
      "dropping 'Thinness_five_nine_years' at index: 8\n",
      "dropping 'GDP_per_capita' at index: 5\n",
      "dropping 'BMI' at index: 1\n",
      "dropping 'exp_GDP' at index: 9\n",
      "dropping 'exp_BMI' at index: 9\n",
      "dropping 'Incidents_HIV' at index: 3\n",
      "dropping 'Diphtheria' at index: 2\n",
      "dropping 'Schooling' at index: 4\n",
      "Remaining variables:\n"
     ]
    },
    {
     "name": "stderr",
     "output_type": "stream",
     "text": [
      "/opt/anaconda3/lib/python3.12/site-packages/statsmodels/stats/outliers_influence.py:197: RuntimeWarning: divide by zero encountered in scalar divide\n",
      "  vif = 1. / (1. - r_squared_i)\n",
      "/opt/anaconda3/lib/python3.12/site-packages/statsmodels/regression/linear_model.py:1783: RuntimeWarning: invalid value encountered in scalar divide\n",
      "  return 1 - self.ssr/self.centered_tss\n",
      "/opt/anaconda3/lib/python3.12/site-packages/statsmodels/regression/linear_model.py:1783: RuntimeWarning: divide by zero encountered in scalar divide\n",
      "  return 1 - self.ssr/self.centered_tss\n"
     ]
    },
    {
     "name": "stdout",
     "output_type": "stream",
     "text": [
      "dropping 'Year' at index: 0\n",
      "dropping 'Infant_deaths' at index: 0\n",
      "dropping 'Under_five_deaths' at index: 0\n",
      "dropping 'Adult_mortality' at index: 0\n",
      "dropping 'Alcohol_consumption' at index: 0\n",
      "dropping 'Hepatitis_B' at index: 0\n",
      "Remaining variables:\n",
      "dropping 'Year' at index: 0\n"
     ]
    },
    {
     "name": "stderr",
     "output_type": "stream",
     "text": [
      "/opt/anaconda3/lib/python3.12/site-packages/statsmodels/stats/outliers_influence.py:197: RuntimeWarning: divide by zero encountered in scalar divide\n",
      "  vif = 1. / (1. - r_squared_i)\n",
      "/opt/anaconda3/lib/python3.12/site-packages/statsmodels/regression/linear_model.py:1783: RuntimeWarning: invalid value encountered in scalar divide\n",
      "  return 1 - self.ssr/self.centered_tss\n",
      "/opt/anaconda3/lib/python3.12/site-packages/statsmodels/regression/linear_model.py:1783: RuntimeWarning: divide by zero encountered in scalar divide\n",
      "  return 1 - self.ssr/self.centered_tss\n"
     ]
    },
    {
     "name": "stdout",
     "output_type": "stream",
     "text": [
      "dropping 'Infant_deaths' at index: 0\n",
      "dropping 'Under_five_deaths' at index: 0\n",
      "dropping 'Adult_mortality' at index: 0\n",
      "dropping 'Alcohol_consumption' at index: 0\n",
      "dropping 'Hepatitis_B' at index: 0\n",
      "dropping 'Measles' at index: 0\n",
      "dropping 'BMI' at index: 0\n",
      "dropping 'Thinness_five_nine_years' at index: 6\n",
      "dropping 'Schooling' at index: 6\n",
      "dropping 'GDP_per_capita' at index: 3\n",
      "dropping 'Thinness_ten_nineteen_years' at index: 4\n",
      "dropping 'Diphtheria' at index: 1\n",
      "dropping 'Population_mln' at index: 2\n",
      "dropping 'exp_GDP' at index: 4\n",
      "dropping 'Incidents_HIV' at index: 1\n",
      "Remaining variables:\n"
     ]
    },
    {
     "name": "stderr",
     "output_type": "stream",
     "text": [
      "/opt/anaconda3/lib/python3.12/site-packages/statsmodels/stats/outliers_influence.py:197: RuntimeWarning: divide by zero encountered in scalar divide\n",
      "  vif = 1. / (1. - r_squared_i)\n",
      "/opt/anaconda3/lib/python3.12/site-packages/statsmodels/regression/linear_model.py:1783: RuntimeWarning: invalid value encountered in scalar divide\n",
      "  return 1 - self.ssr/self.centered_tss\n",
      "/opt/anaconda3/lib/python3.12/site-packages/statsmodels/regression/linear_model.py:1783: RuntimeWarning: divide by zero encountered in scalar divide\n",
      "  return 1 - self.ssr/self.centered_tss\n"
     ]
    },
    {
     "name": "stdout",
     "output_type": "stream",
     "text": [
      "dropping 'Year' at index: 0\n",
      "dropping 'Infant_deaths' at index: 0\n",
      "dropping 'Thinness_ten_nineteen_years' at index: 11\n",
      "dropping 'BMI' at index: 5\n",
      "dropping 'Population_mln' at index: 9\n",
      "dropping 'Under_five_deaths' at index: 0\n",
      "dropping 'Adult_mortality' at index: 0\n",
      "dropping 'exp_GDP' at index: 11\n",
      "dropping 'exp_BMI' at index: 11\n",
      "dropping 'Incidents_HIV' at index: 5\n",
      "dropping 'GDP_per_capita' at index: 5\n",
      "dropping 'Diphtheria' at index: 4\n",
      "dropping 'Alcohol_consumption' at index: 0\n",
      "dropping 'Polio' at index: 2\n",
      "Remaining variables:\n"
     ]
    },
    {
     "name": "stderr",
     "output_type": "stream",
     "text": [
      "/opt/anaconda3/lib/python3.12/site-packages/statsmodels/stats/outliers_influence.py:197: RuntimeWarning: divide by zero encountered in scalar divide\n",
      "  vif = 1. / (1. - r_squared_i)\n",
      "/opt/anaconda3/lib/python3.12/site-packages/statsmodels/regression/linear_model.py:1783: RuntimeWarning: invalid value encountered in scalar divide\n",
      "  return 1 - self.ssr/self.centered_tss\n",
      "/opt/anaconda3/lib/python3.12/site-packages/statsmodels/regression/linear_model.py:1783: RuntimeWarning: divide by zero encountered in scalar divide\n",
      "  return 1 - self.ssr/self.centered_tss\n"
     ]
    },
    {
     "name": "stdout",
     "output_type": "stream",
     "text": [
      "dropping 'Year' at index: 0\n",
      "dropping 'Infant_deaths' at index: 0\n",
      "dropping 'Under_five_deaths' at index: 0\n",
      "dropping 'Adult_mortality' at index: 0\n",
      "dropping 'Alcohol_consumption' at index: 0\n",
      "dropping 'Hepatitis_B' at index: 0\n",
      "dropping 'Measles' at index: 0\n",
      "dropping 'BMI' at index: 0\n",
      "dropping 'Population_mln' at index: 4\n",
      "dropping 'GDP_per_capita' at index: 3\n",
      "dropping 'exp_BMI' at index: 9\n",
      "dropping 'Schooling' at index: 5\n",
      "dropping 'Polio' at index: 0\n",
      "Remaining variables:\n"
     ]
    },
    {
     "name": "stderr",
     "output_type": "stream",
     "text": [
      "/opt/anaconda3/lib/python3.12/site-packages/statsmodels/stats/outliers_influence.py:197: RuntimeWarning: divide by zero encountered in scalar divide\n",
      "  vif = 1. / (1. - r_squared_i)\n",
      "/opt/anaconda3/lib/python3.12/site-packages/statsmodels/regression/linear_model.py:1783: RuntimeWarning: invalid value encountered in scalar divide\n",
      "  return 1 - self.ssr/self.centered_tss\n",
      "/opt/anaconda3/lib/python3.12/site-packages/statsmodels/regression/linear_model.py:1783: RuntimeWarning: divide by zero encountered in scalar divide\n",
      "  return 1 - self.ssr/self.centered_tss\n"
     ]
    },
    {
     "name": "stdout",
     "output_type": "stream",
     "text": [
      "dropping 'Year' at index: 0\n",
      "dropping 'Infant_deaths' at index: 0\n",
      "dropping 'Under_five_deaths' at index: 0\n",
      "dropping 'GDP_per_capita' at index: 8\n",
      "dropping 'Schooling' at index: 11\n",
      "dropping 'Population_mln' at index: 8\n",
      "dropping 'Hepatitis_B' at index: 2\n",
      "dropping 'BMI' at index: 3\n",
      "dropping 'Adult_mortality' at index: 0\n",
      "dropping 'exp_GDP' at index: 9\n",
      "dropping 'exp_BMI' at index: 9\n",
      "Remaining variables:\n"
     ]
    },
    {
     "name": "stderr",
     "output_type": "stream",
     "text": [
      "/opt/anaconda3/lib/python3.12/site-packages/statsmodels/stats/outliers_influence.py:197: RuntimeWarning: divide by zero encountered in scalar divide\n",
      "  vif = 1. / (1. - r_squared_i)\n",
      "/opt/anaconda3/lib/python3.12/site-packages/statsmodels/regression/linear_model.py:1783: RuntimeWarning: invalid value encountered in scalar divide\n",
      "  return 1 - self.ssr/self.centered_tss\n",
      "/opt/anaconda3/lib/python3.12/site-packages/statsmodels/regression/linear_model.py:1783: RuntimeWarning: divide by zero encountered in scalar divide\n",
      "  return 1 - self.ssr/self.centered_tss\n"
     ]
    },
    {
     "name": "stdout",
     "output_type": "stream",
     "text": [
      "dropping 'Year' at index: 0\n",
      "dropping 'Infant_deaths' at index: 0\n",
      "dropping 'Under_five_deaths' at index: 0\n",
      "dropping 'Adult_mortality' at index: 0\n",
      "dropping 'Alcohol_consumption' at index: 0\n",
      "dropping 'BMI' at index: 2\n",
      "dropping 'Thinness_five_nine_years' at index: 8\n",
      "dropping 'exp_GDP' at index: 11\n",
      "dropping 'Thinness_ten_nineteen_years' at index: 7\n",
      "dropping 'exp_BMI' at index: 10\n",
      "dropping 'Population_mln' at index: 6\n",
      "dropping 'Polio' at index: 2\n",
      "dropping 'GDP_per_capita' at index: 4\n",
      "Remaining variables:\n"
     ]
    },
    {
     "name": "stderr",
     "output_type": "stream",
     "text": [
      "/opt/anaconda3/lib/python3.12/site-packages/statsmodels/stats/outliers_influence.py:197: RuntimeWarning: divide by zero encountered in scalar divide\n",
      "  vif = 1. / (1. - r_squared_i)\n",
      "/opt/anaconda3/lib/python3.12/site-packages/statsmodels/regression/linear_model.py:1783: RuntimeWarning: invalid value encountered in scalar divide\n",
      "  return 1 - self.ssr/self.centered_tss\n",
      "/opt/anaconda3/lib/python3.12/site-packages/statsmodels/regression/linear_model.py:1783: RuntimeWarning: divide by zero encountered in scalar divide\n",
      "  return 1 - self.ssr/self.centered_tss\n"
     ]
    },
    {
     "name": "stdout",
     "output_type": "stream",
     "text": [
      "dropping 'Year' at index: 0\n",
      "dropping 'Infant_deaths' at index: 0\n",
      "dropping 'Under_five_deaths' at index: 0\n",
      "dropping 'Adult_mortality' at index: 0\n",
      "dropping 'Alcohol_consumption' at index: 0\n",
      "dropping 'Population_mln' at index: 7\n",
      "dropping 'GDP_per_capita' at index: 6\n",
      "dropping 'Thinness_ten_nineteen_years' at index: 6\n",
      "dropping 'exp_BMI' at index: 11\n",
      "dropping 'Incidents_HIV' at index: 5\n",
      "dropping 'BMI' at index: 2\n",
      "dropping 'exp_GDP' at index: 8\n",
      "Remaining variables:\n"
     ]
    },
    {
     "name": "stderr",
     "output_type": "stream",
     "text": [
      "/opt/anaconda3/lib/python3.12/site-packages/statsmodels/stats/outliers_influence.py:197: RuntimeWarning: divide by zero encountered in scalar divide\n",
      "  vif = 1. / (1. - r_squared_i)\n",
      "/opt/anaconda3/lib/python3.12/site-packages/statsmodels/regression/linear_model.py:1783: RuntimeWarning: invalid value encountered in scalar divide\n",
      "  return 1 - self.ssr/self.centered_tss\n",
      "/opt/anaconda3/lib/python3.12/site-packages/statsmodels/regression/linear_model.py:1783: RuntimeWarning: divide by zero encountered in scalar divide\n",
      "  return 1 - self.ssr/self.centered_tss\n"
     ]
    },
    {
     "name": "stdout",
     "output_type": "stream",
     "text": [
      "dropping 'Year' at index: 0\n",
      "dropping 'Infant_deaths' at index: 0\n",
      "dropping 'Under_five_deaths' at index: 0\n",
      "dropping 'Adult_mortality' at index: 0\n",
      "dropping 'Alcohol_consumption' at index: 0\n",
      "dropping 'Hepatitis_B' at index: 0\n",
      "dropping 'Measles' at index: 0\n",
      "dropping 'Schooling' at index: 8\n",
      "dropping 'BMI' at index: 0\n",
      "dropping 'Population_mln' at index: 4\n",
      "dropping 'Incidents_HIV' at index: 2\n",
      "dropping 'exp_GDP' at index: 7\n",
      "dropping 'exp_BMI' at index: 7\n",
      "Remaining variables:\n"
     ]
    },
    {
     "name": "stderr",
     "output_type": "stream",
     "text": [
      "/opt/anaconda3/lib/python3.12/site-packages/statsmodels/stats/outliers_influence.py:197: RuntimeWarning: divide by zero encountered in scalar divide\n",
      "  vif = 1. / (1. - r_squared_i)\n",
      "/opt/anaconda3/lib/python3.12/site-packages/statsmodels/regression/linear_model.py:1783: RuntimeWarning: invalid value encountered in scalar divide\n",
      "  return 1 - self.ssr/self.centered_tss\n",
      "/opt/anaconda3/lib/python3.12/site-packages/statsmodels/regression/linear_model.py:1783: RuntimeWarning: divide by zero encountered in scalar divide\n",
      "  return 1 - self.ssr/self.centered_tss\n"
     ]
    },
    {
     "name": "stdout",
     "output_type": "stream",
     "text": [
      "dropping 'Year' at index: 0\n",
      "dropping 'Infant_deaths' at index: 0\n",
      "dropping 'Under_five_deaths' at index: 0\n",
      "dropping 'Adult_mortality' at index: 0\n",
      "dropping 'Alcohol_consumption' at index: 0\n",
      "Remaining variables:\n"
     ]
    },
    {
     "name": "stderr",
     "output_type": "stream",
     "text": [
      "/opt/anaconda3/lib/python3.12/site-packages/statsmodels/stats/outliers_influence.py:197: RuntimeWarning: divide by zero encountered in scalar divide\n",
      "  vif = 1. / (1. - r_squared_i)\n",
      "/opt/anaconda3/lib/python3.12/site-packages/statsmodels/regression/linear_model.py:1783: RuntimeWarning: invalid value encountered in scalar divide\n",
      "  return 1 - self.ssr/self.centered_tss\n",
      "/opt/anaconda3/lib/python3.12/site-packages/statsmodels/regression/linear_model.py:1783: RuntimeWarning: divide by zero encountered in scalar divide\n",
      "  return 1 - self.ssr/self.centered_tss\n"
     ]
    },
    {
     "name": "stdout",
     "output_type": "stream",
     "text": [
      "dropping 'Year' at index: 0\n",
      "dropping 'Infant_deaths' at index: 0\n",
      "dropping 'Under_five_deaths' at index: 0\n",
      "dropping 'Adult_mortality' at index: 0\n",
      "dropping 'Alcohol_consumption' at index: 0\n",
      "dropping 'exp_BMI' at index: 14\n",
      "dropping 'exp_GDP' at index: 13\n",
      "dropping 'Population_mln' at index: 7\n",
      "dropping 'BMI' at index: 2\n",
      "dropping 'Diphtheria' at index: 3\n",
      "dropping 'GDP_per_capita' at index: 4\n",
      "dropping 'Measles' at index: 1\n",
      "Remaining variables:\n"
     ]
    },
    {
     "name": "stderr",
     "output_type": "stream",
     "text": [
      "/opt/anaconda3/lib/python3.12/site-packages/statsmodels/stats/outliers_influence.py:197: RuntimeWarning: divide by zero encountered in scalar divide\n",
      "  vif = 1. / (1. - r_squared_i)\n",
      "/opt/anaconda3/lib/python3.12/site-packages/statsmodels/regression/linear_model.py:1783: RuntimeWarning: invalid value encountered in scalar divide\n",
      "  return 1 - self.ssr/self.centered_tss\n",
      "/opt/anaconda3/lib/python3.12/site-packages/statsmodels/regression/linear_model.py:1783: RuntimeWarning: divide by zero encountered in scalar divide\n",
      "  return 1 - self.ssr/self.centered_tss\n"
     ]
    },
    {
     "name": "stdout",
     "output_type": "stream",
     "text": [
      "dropping 'Year' at index: 0\n",
      "dropping 'Infant_deaths' at index: 0\n",
      "dropping 'Under_five_deaths' at index: 0\n",
      "dropping 'Adult_mortality' at index: 0\n",
      "dropping 'Population_mln' at index: 8\n",
      "dropping 'BMI' at index: 3\n",
      "dropping 'Schooling' at index: 9\n",
      "dropping 'GDP_per_capita' at index: 6\n",
      "dropping 'Incidents_HIV' at index: 5\n",
      "dropping 'Diphtheria' at index: 4\n",
      "Remaining variables:\n"
     ]
    },
    {
     "name": "stderr",
     "output_type": "stream",
     "text": [
      "/opt/anaconda3/lib/python3.12/site-packages/statsmodels/stats/outliers_influence.py:197: RuntimeWarning: divide by zero encountered in scalar divide\n",
      "  vif = 1. / (1. - r_squared_i)\n",
      "/opt/anaconda3/lib/python3.12/site-packages/statsmodels/regression/linear_model.py:1783: RuntimeWarning: invalid value encountered in scalar divide\n",
      "  return 1 - self.ssr/self.centered_tss\n",
      "/opt/anaconda3/lib/python3.12/site-packages/statsmodels/regression/linear_model.py:1783: RuntimeWarning: divide by zero encountered in scalar divide\n",
      "  return 1 - self.ssr/self.centered_tss\n"
     ]
    },
    {
     "name": "stdout",
     "output_type": "stream",
     "text": [
      "dropping 'Year' at index: 0\n",
      "dropping 'Infant_deaths' at index: 0\n",
      "dropping 'Under_five_deaths' at index: 0\n",
      "dropping 'Adult_mortality' at index: 0\n",
      "dropping 'Population_mln' at index: 8\n",
      "dropping 'Thinness_ten_nineteen_years' at index: 8\n",
      "dropping 'GDP_per_capita' at index: 7\n",
      "dropping 'exp_BMI' at index: 12\n",
      "dropping 'Polio' at index: 4\n",
      "dropping 'Hepatitis_B' at index: 1\n",
      "dropping 'BMI' at index: 2\n",
      "dropping 'Schooling' at index: 5\n",
      "dropping 'Diphtheria' at index: 2\n",
      "Remaining variables:\n",
      "dropping 'Year' at index: 0\n"
     ]
    },
    {
     "name": "stderr",
     "output_type": "stream",
     "text": [
      "/opt/anaconda3/lib/python3.12/site-packages/statsmodels/stats/outliers_influence.py:197: RuntimeWarning: divide by zero encountered in scalar divide\n",
      "  vif = 1. / (1. - r_squared_i)\n",
      "/opt/anaconda3/lib/python3.12/site-packages/statsmodels/regression/linear_model.py:1783: RuntimeWarning: invalid value encountered in scalar divide\n",
      "  return 1 - self.ssr/self.centered_tss\n",
      "/opt/anaconda3/lib/python3.12/site-packages/statsmodels/regression/linear_model.py:1783: RuntimeWarning: divide by zero encountered in scalar divide\n",
      "  return 1 - self.ssr/self.centered_tss\n"
     ]
    },
    {
     "name": "stdout",
     "output_type": "stream",
     "text": [
      "dropping 'Infant_deaths' at index: 0\n",
      "dropping 'Under_five_deaths' at index: 0\n",
      "dropping 'Polio' at index: 5\n",
      "dropping 'BMI' at index: 4\n",
      "dropping 'Schooling' at index: 10\n",
      "dropping 'Population_mln' at index: 7\n",
      "dropping 'GDP_per_capita' at index: 6\n",
      "dropping 'Incidents_HIV' at index: 5\n",
      "Remaining variables:\n"
     ]
    },
    {
     "name": "stderr",
     "output_type": "stream",
     "text": [
      "/opt/anaconda3/lib/python3.12/site-packages/statsmodels/stats/outliers_influence.py:197: RuntimeWarning: divide by zero encountered in scalar divide\n",
      "  vif = 1. / (1. - r_squared_i)\n",
      "/opt/anaconda3/lib/python3.12/site-packages/statsmodels/regression/linear_model.py:1783: RuntimeWarning: invalid value encountered in scalar divide\n",
      "  return 1 - self.ssr/self.centered_tss\n",
      "/opt/anaconda3/lib/python3.12/site-packages/statsmodels/regression/linear_model.py:1783: RuntimeWarning: divide by zero encountered in scalar divide\n",
      "  return 1 - self.ssr/self.centered_tss\n"
     ]
    },
    {
     "name": "stdout",
     "output_type": "stream",
     "text": [
      "dropping 'Year' at index: 0\n",
      "dropping 'Infant_deaths' at index: 0\n",
      "dropping 'Under_five_deaths' at index: 0\n",
      "dropping 'Adult_mortality' at index: 0\n",
      "dropping 'Alcohol_consumption' at index: 0\n",
      "dropping 'Hepatitis_B' at index: 0\n",
      "Remaining variables:\n"
     ]
    },
    {
     "name": "stderr",
     "output_type": "stream",
     "text": [
      "/opt/anaconda3/lib/python3.12/site-packages/statsmodels/stats/outliers_influence.py:197: RuntimeWarning: divide by zero encountered in scalar divide\n",
      "  vif = 1. / (1. - r_squared_i)\n",
      "/opt/anaconda3/lib/python3.12/site-packages/statsmodels/regression/linear_model.py:1783: RuntimeWarning: divide by zero encountered in scalar divide\n",
      "  return 1 - self.ssr/self.centered_tss\n",
      "/opt/anaconda3/lib/python3.12/site-packages/statsmodels/regression/linear_model.py:1783: RuntimeWarning: invalid value encountered in scalar divide\n",
      "  return 1 - self.ssr/self.centered_tss\n"
     ]
    },
    {
     "name": "stdout",
     "output_type": "stream",
     "text": [
      "dropping 'Year' at index: 0\n",
      "dropping 'Infant_deaths' at index: 0\n",
      "dropping 'Under_five_deaths' at index: 0\n",
      "dropping 'Adult_mortality' at index: 0\n",
      "dropping 'Alcohol_consumption' at index: 0\n",
      "dropping 'Hepatitis_B' at index: 0\n",
      "dropping 'Population_mln' at index: 6\n",
      "dropping 'BMI' at index: 1\n",
      "dropping 'GDP_per_capita' at index: 4\n",
      "dropping 'exp_BMI' at index: 10\n",
      "dropping 'Polio' at index: 1\n",
      "dropping 'Schooling' at index: 5\n",
      "dropping 'Thinness_five_nine_years' at index: 4\n",
      "dropping 'Measles' at index: 0\n",
      "Remaining variables:\n",
      "dropping 'Year' at index: 0\n",
      "dropping 'Infant_deaths' at index: 0\n"
     ]
    },
    {
     "name": "stderr",
     "output_type": "stream",
     "text": [
      "/opt/anaconda3/lib/python3.12/site-packages/statsmodels/stats/outliers_influence.py:197: RuntimeWarning: divide by zero encountered in scalar divide\n",
      "  vif = 1. / (1. - r_squared_i)\n",
      "/opt/anaconda3/lib/python3.12/site-packages/statsmodels/regression/linear_model.py:1783: RuntimeWarning: invalid value encountered in scalar divide\n",
      "  return 1 - self.ssr/self.centered_tss\n",
      "/opt/anaconda3/lib/python3.12/site-packages/statsmodels/regression/linear_model.py:1783: RuntimeWarning: divide by zero encountered in scalar divide\n",
      "  return 1 - self.ssr/self.centered_tss\n"
     ]
    },
    {
     "name": "stdout",
     "output_type": "stream",
     "text": [
      "dropping 'Under_five_deaths' at index: 0\n",
      "dropping 'Adult_mortality' at index: 0\n",
      "dropping 'Population_mln' at index: 8\n",
      "dropping 'exp_BMI' at index: 14\n",
      "dropping 'GDP_per_capita' at index: 7\n",
      "dropping 'BMI' at index: 3\n",
      "dropping 'Diphtheria' at index: 4\n",
      "dropping 'Alcohol_consumption' at index: 0\n",
      "dropping 'Hepatitis_B' at index: 0\n",
      "Remaining variables:\n",
      "dropping 'Year' at index: 0\n"
     ]
    },
    {
     "name": "stderr",
     "output_type": "stream",
     "text": [
      "/opt/anaconda3/lib/python3.12/site-packages/statsmodels/stats/outliers_influence.py:197: RuntimeWarning: divide by zero encountered in scalar divide\n",
      "  vif = 1. / (1. - r_squared_i)\n",
      "/opt/anaconda3/lib/python3.12/site-packages/statsmodels/regression/linear_model.py:1783: RuntimeWarning: invalid value encountered in scalar divide\n",
      "  return 1 - self.ssr/self.centered_tss\n",
      "/opt/anaconda3/lib/python3.12/site-packages/statsmodels/regression/linear_model.py:1783: RuntimeWarning: divide by zero encountered in scalar divide\n",
      "  return 1 - self.ssr/self.centered_tss\n"
     ]
    },
    {
     "name": "stdout",
     "output_type": "stream",
     "text": [
      "dropping 'Infant_deaths' at index: 0\n",
      "dropping 'Under_five_deaths' at index: 0\n",
      "dropping 'Adult_mortality' at index: 0\n",
      "dropping 'Hepatitis_B' at index: 1\n",
      "dropping 'BMI' at index: 2\n",
      "dropping 'Schooling' at index: 9\n",
      "dropping 'GDP_per_capita' at index: 5\n",
      "dropping 'Thinness_five_nine_years' at index: 7\n",
      "dropping 'Measles' at index: 1\n",
      "Remaining variables:\n"
     ]
    },
    {
     "name": "stderr",
     "output_type": "stream",
     "text": [
      "/opt/anaconda3/lib/python3.12/site-packages/statsmodels/stats/outliers_influence.py:197: RuntimeWarning: divide by zero encountered in scalar divide\n",
      "  vif = 1. / (1. - r_squared_i)\n",
      "/opt/anaconda3/lib/python3.12/site-packages/statsmodels/regression/linear_model.py:1783: RuntimeWarning: divide by zero encountered in scalar divide\n",
      "  return 1 - self.ssr/self.centered_tss\n",
      "/opt/anaconda3/lib/python3.12/site-packages/statsmodels/regression/linear_model.py:1783: RuntimeWarning: invalid value encountered in scalar divide\n",
      "  return 1 - self.ssr/self.centered_tss\n"
     ]
    },
    {
     "name": "stdout",
     "output_type": "stream",
     "text": [
      "dropping 'Year' at index: 0\n",
      "dropping 'Infant_deaths' at index: 0\n",
      "dropping 'Under_five_deaths' at index: 0\n",
      "dropping 'Adult_mortality' at index: 0\n",
      "dropping 'Alcohol_consumption' at index: 0\n",
      "dropping 'Hepatitis_B' at index: 0\n",
      "dropping 'Measles' at index: 0\n",
      "dropping 'BMI' at index: 0\n",
      "dropping 'Polio' at index: 0\n",
      "dropping 'Diphtheria' at index: 0\n",
      "dropping 'exp_GDP' at index: 8\n",
      "dropping 'Thinness_ten_nineteen_years' at index: 3\n",
      "dropping 'Population_mln' at index: 2\n",
      "dropping 'Thinness_five_nine_years' at index: 2\n",
      "dropping 'GDP_per_capita' at index: 1\n",
      "Remaining variables:\n"
     ]
    },
    {
     "name": "stderr",
     "output_type": "stream",
     "text": [
      "/opt/anaconda3/lib/python3.12/site-packages/statsmodels/stats/outliers_influence.py:197: RuntimeWarning: divide by zero encountered in scalar divide\n",
      "  vif = 1. / (1. - r_squared_i)\n",
      "/opt/anaconda3/lib/python3.12/site-packages/statsmodels/regression/linear_model.py:1783: RuntimeWarning: invalid value encountered in scalar divide\n",
      "  return 1 - self.ssr/self.centered_tss\n",
      "/opt/anaconda3/lib/python3.12/site-packages/statsmodels/regression/linear_model.py:1783: RuntimeWarning: divide by zero encountered in scalar divide\n",
      "  return 1 - self.ssr/self.centered_tss\n"
     ]
    },
    {
     "name": "stdout",
     "output_type": "stream",
     "text": [
      "dropping 'Year' at index: 0\n",
      "dropping 'Infant_deaths' at index: 0\n",
      "dropping 'Under_five_deaths' at index: 0\n",
      "dropping 'Adult_mortality' at index: 0\n",
      "dropping 'Alcohol_consumption' at index: 0\n",
      "dropping 'Hepatitis_B' at index: 0\n",
      "Remaining variables:\n"
     ]
    },
    {
     "name": "stderr",
     "output_type": "stream",
     "text": [
      "/opt/anaconda3/lib/python3.12/site-packages/statsmodels/stats/outliers_influence.py:197: RuntimeWarning: divide by zero encountered in scalar divide\n",
      "  vif = 1. / (1. - r_squared_i)\n",
      "/opt/anaconda3/lib/python3.12/site-packages/statsmodels/regression/linear_model.py:1783: RuntimeWarning: invalid value encountered in scalar divide\n",
      "  return 1 - self.ssr/self.centered_tss\n",
      "/opt/anaconda3/lib/python3.12/site-packages/statsmodels/regression/linear_model.py:1783: RuntimeWarning: divide by zero encountered in scalar divide\n",
      "  return 1 - self.ssr/self.centered_tss\n"
     ]
    },
    {
     "name": "stdout",
     "output_type": "stream",
     "text": [
      "dropping 'Year' at index: 0\n",
      "dropping 'Infant_deaths' at index: 0\n",
      "dropping 'Under_five_deaths' at index: 0\n",
      "dropping 'Adult_mortality' at index: 0\n",
      "dropping 'Alcohol_consumption' at index: 0\n",
      "dropping 'Hepatitis_B' at index: 0\n",
      "dropping 'Measles' at index: 0\n",
      "dropping 'BMI' at index: 0\n",
      "dropping 'exp_BMI' at index: 11\n",
      "dropping 'Population_mln' at index: 4\n",
      "dropping 'GDP_per_capita' at index: 3\n",
      "dropping 'Polio' at index: 0\n",
      "dropping 'Schooling' at index: 4\n",
      "Remaining variables:\n"
     ]
    },
    {
     "name": "stderr",
     "output_type": "stream",
     "text": [
      "/opt/anaconda3/lib/python3.12/site-packages/statsmodels/stats/outliers_influence.py:197: RuntimeWarning: divide by zero encountered in scalar divide\n",
      "  vif = 1. / (1. - r_squared_i)\n",
      "/opt/anaconda3/lib/python3.12/site-packages/statsmodels/regression/linear_model.py:1783: RuntimeWarning: invalid value encountered in scalar divide\n",
      "  return 1 - self.ssr/self.centered_tss\n",
      "/opt/anaconda3/lib/python3.12/site-packages/statsmodels/regression/linear_model.py:1783: RuntimeWarning: divide by zero encountered in scalar divide\n",
      "  return 1 - self.ssr/self.centered_tss\n"
     ]
    },
    {
     "name": "stdout",
     "output_type": "stream",
     "text": [
      "dropping 'Year' at index: 0\n",
      "dropping 'Infant_deaths' at index: 0\n",
      "dropping 'Under_five_deaths' at index: 0\n",
      "dropping 'Adult_mortality' at index: 0\n",
      "dropping 'Alcohol_consumption' at index: 0\n",
      "dropping 'Hepatitis_B' at index: 0\n",
      "dropping 'Measles' at index: 0\n",
      "dropping 'BMI' at index: 0\n",
      "dropping 'Polio' at index: 0\n",
      "dropping 'Thinness_five_nine_years' at index: 5\n",
      "dropping 'Population_mln' at index: 3\n",
      "dropping 'Schooling' at index: 4\n",
      "dropping 'GDP_per_capita' at index: 2\n",
      "Remaining variables:\n"
     ]
    },
    {
     "name": "stderr",
     "output_type": "stream",
     "text": [
      "/opt/anaconda3/lib/python3.12/site-packages/statsmodels/stats/outliers_influence.py:197: RuntimeWarning: divide by zero encountered in scalar divide\n",
      "  vif = 1. / (1. - r_squared_i)\n",
      "/opt/anaconda3/lib/python3.12/site-packages/statsmodels/regression/linear_model.py:1783: RuntimeWarning: invalid value encountered in scalar divide\n",
      "  return 1 - self.ssr/self.centered_tss\n",
      "/opt/anaconda3/lib/python3.12/site-packages/statsmodels/regression/linear_model.py:1783: RuntimeWarning: divide by zero encountered in scalar divide\n",
      "  return 1 - self.ssr/self.centered_tss\n"
     ]
    },
    {
     "name": "stdout",
     "output_type": "stream",
     "text": [
      "dropping 'Year' at index: 0\n",
      "dropping 'Infant_deaths' at index: 0\n",
      "dropping 'Under_five_deaths' at index: 0\n",
      "dropping 'Adult_mortality' at index: 0\n",
      "dropping 'Alcohol_consumption' at index: 0\n",
      "dropping 'Thinness_ten_nineteen_years' at index: 8\n",
      "dropping 'BMI' at index: 2\n",
      "dropping 'Population_mln' at index: 6\n",
      "dropping 'GDP_per_capita' at index: 5\n",
      "dropping 'Thinness_five_nine_years' at index: 5\n",
      "dropping 'Polio' at index: 2\n",
      "dropping 'exp_BMI' at index: 8\n",
      "Remaining variables:\n"
     ]
    },
    {
     "name": "stderr",
     "output_type": "stream",
     "text": [
      "/opt/anaconda3/lib/python3.12/site-packages/statsmodels/stats/outliers_influence.py:197: RuntimeWarning: divide by zero encountered in scalar divide\n",
      "  vif = 1. / (1. - r_squared_i)\n",
      "/opt/anaconda3/lib/python3.12/site-packages/statsmodels/regression/linear_model.py:1783: RuntimeWarning: invalid value encountered in scalar divide\n",
      "  return 1 - self.ssr/self.centered_tss\n",
      "/opt/anaconda3/lib/python3.12/site-packages/statsmodels/regression/linear_model.py:1783: RuntimeWarning: divide by zero encountered in scalar divide\n",
      "  return 1 - self.ssr/self.centered_tss\n"
     ]
    },
    {
     "name": "stdout",
     "output_type": "stream",
     "text": [
      "dropping 'Year' at index: 0\n",
      "dropping 'Infant_deaths' at index: 0\n",
      "dropping 'Under_five_deaths' at index: 0\n",
      "dropping 'exp_BMI' at index: 16\n",
      "dropping 'Adult_mortality' at index: 0\n",
      "dropping 'Thinness_five_nine_years' at index: 10\n",
      "dropping 'BMI' at index: 3\n",
      "dropping 'Thinness_ten_nineteen_years' at index: 8\n",
      "dropping 'GDP_per_capita' at index: 6\n",
      "dropping 'Diphtheria' at index: 4\n",
      "dropping 'Schooling' at index: 6\n",
      "dropping 'Population_mln' at index: 5\n",
      "Remaining variables:\n"
     ]
    },
    {
     "name": "stderr",
     "output_type": "stream",
     "text": [
      "/opt/anaconda3/lib/python3.12/site-packages/statsmodels/stats/outliers_influence.py:197: RuntimeWarning: divide by zero encountered in scalar divide\n",
      "  vif = 1. / (1. - r_squared_i)\n",
      "/opt/anaconda3/lib/python3.12/site-packages/statsmodels/regression/linear_model.py:1783: RuntimeWarning: invalid value encountered in scalar divide\n",
      "  return 1 - self.ssr/self.centered_tss\n",
      "/opt/anaconda3/lib/python3.12/site-packages/statsmodels/regression/linear_model.py:1783: RuntimeWarning: divide by zero encountered in scalar divide\n",
      "  return 1 - self.ssr/self.centered_tss\n"
     ]
    },
    {
     "name": "stdout",
     "output_type": "stream",
     "text": [
      "dropping 'Year' at index: 0\n",
      "dropping 'Infant_deaths' at index: 0\n",
      "dropping 'Thinness_five_nine_years' at index: 12\n",
      "dropping 'Under_five_deaths' at index: 0\n",
      "dropping 'BMI' at index: 4\n",
      "dropping 'Population_mln' at index: 8\n",
      "dropping 'Incidents_HIV' at index: 6\n",
      "dropping 'Schooling' at index: 8\n",
      "dropping 'Adult_mortality' at index: 0\n",
      "dropping 'exp_GDP' at index: 9\n",
      "dropping 'exp_BMI' at index: 9\n",
      "dropping 'Polio' at index: 3\n",
      "dropping 'GDP_per_capita' at index: 4\n",
      "Remaining variables:\n"
     ]
    },
    {
     "name": "stderr",
     "output_type": "stream",
     "text": [
      "/opt/anaconda3/lib/python3.12/site-packages/statsmodels/stats/outliers_influence.py:197: RuntimeWarning: divide by zero encountered in scalar divide\n",
      "  vif = 1. / (1. - r_squared_i)\n",
      "/opt/anaconda3/lib/python3.12/site-packages/statsmodels/regression/linear_model.py:1783: RuntimeWarning: invalid value encountered in scalar divide\n",
      "  return 1 - self.ssr/self.centered_tss\n",
      "/opt/anaconda3/lib/python3.12/site-packages/statsmodels/regression/linear_model.py:1783: RuntimeWarning: divide by zero encountered in scalar divide\n",
      "  return 1 - self.ssr/self.centered_tss\n"
     ]
    },
    {
     "name": "stdout",
     "output_type": "stream",
     "text": [
      "dropping 'Year' at index: 0\n",
      "dropping 'Infant_deaths' at index: 0\n",
      "dropping 'Under_five_deaths' at index: 0\n",
      "dropping 'Adult_mortality' at index: 0\n",
      "dropping 'Alcohol_consumption' at index: 0\n",
      "dropping 'Hepatitis_B' at index: 0\n",
      "dropping 'Measles' at index: 0\n",
      "dropping 'BMI' at index: 0\n",
      "dropping 'Polio' at index: 0\n",
      "dropping 'exp_GDP' at index: 9\n",
      "dropping 'Population_mln' at index: 3\n",
      "dropping 'Incidents_HIV' at index: 1\n",
      "dropping 'GDP_per_capita' at index: 1\n",
      "dropping 'Schooling' at index: 3\n",
      "Remaining variables:\n"
     ]
    },
    {
     "name": "stderr",
     "output_type": "stream",
     "text": [
      "/opt/anaconda3/lib/python3.12/site-packages/statsmodels/stats/outliers_influence.py:197: RuntimeWarning: divide by zero encountered in scalar divide\n",
      "  vif = 1. / (1. - r_squared_i)\n",
      "/opt/anaconda3/lib/python3.12/site-packages/statsmodels/regression/linear_model.py:1783: RuntimeWarning: invalid value encountered in scalar divide\n",
      "  return 1 - self.ssr/self.centered_tss\n",
      "/opt/anaconda3/lib/python3.12/site-packages/statsmodels/regression/linear_model.py:1783: RuntimeWarning: divide by zero encountered in scalar divide\n",
      "  return 1 - self.ssr/self.centered_tss\n"
     ]
    },
    {
     "name": "stdout",
     "output_type": "stream",
     "text": [
      "dropping 'Year' at index: 0\n",
      "dropping 'Infant_deaths' at index: 0\n",
      "dropping 'Under_five_deaths' at index: 0\n",
      "dropping 'Population_mln' at index: 9\n",
      "dropping 'Schooling' at index: 11\n",
      "dropping 'Adult_mortality' at index: 0\n",
      "dropping 'BMI' at index: 3\n",
      "dropping 'GDP_per_capita' at index: 6\n",
      "dropping 'exp_BMI' at index: 11\n",
      "dropping 'Incidents_HIV' at index: 5\n",
      "dropping 'Polio' at index: 3\n",
      "dropping 'Alcohol_consumption' at index: 0\n",
      "Remaining variables:\n"
     ]
    },
    {
     "name": "stderr",
     "output_type": "stream",
     "text": [
      "/opt/anaconda3/lib/python3.12/site-packages/statsmodels/stats/outliers_influence.py:197: RuntimeWarning: divide by zero encountered in scalar divide\n",
      "  vif = 1. / (1. - r_squared_i)\n",
      "/opt/anaconda3/lib/python3.12/site-packages/statsmodels/regression/linear_model.py:1783: RuntimeWarning: invalid value encountered in scalar divide\n",
      "  return 1 - self.ssr/self.centered_tss\n",
      "/opt/anaconda3/lib/python3.12/site-packages/statsmodels/regression/linear_model.py:1783: RuntimeWarning: divide by zero encountered in scalar divide\n",
      "  return 1 - self.ssr/self.centered_tss\n"
     ]
    },
    {
     "name": "stdout",
     "output_type": "stream",
     "text": [
      "dropping 'Year' at index: 0\n",
      "dropping 'Infant_deaths' at index: 0\n",
      "dropping 'Under_five_deaths' at index: 0\n",
      "dropping 'Adult_mortality' at index: 0\n",
      "dropping 'Alcohol_consumption' at index: 0\n",
      "dropping 'BMI' at index: 2\n",
      "dropping 'Incidents_HIV' at index: 4\n",
      "dropping 'Population_mln' at index: 5\n",
      "dropping 'GDP_per_capita' at index: 4\n",
      "dropping 'exp_BMI' at index: 10\n",
      "dropping 'exp_GDP' at index: 9\n",
      "Remaining variables:\n"
     ]
    },
    {
     "name": "stderr",
     "output_type": "stream",
     "text": [
      "/opt/anaconda3/lib/python3.12/site-packages/statsmodels/stats/outliers_influence.py:197: RuntimeWarning: divide by zero encountered in scalar divide\n",
      "  vif = 1. / (1. - r_squared_i)\n",
      "/opt/anaconda3/lib/python3.12/site-packages/statsmodels/regression/linear_model.py:1783: RuntimeWarning: invalid value encountered in scalar divide\n",
      "  return 1 - self.ssr/self.centered_tss\n",
      "/opt/anaconda3/lib/python3.12/site-packages/statsmodels/regression/linear_model.py:1783: RuntimeWarning: divide by zero encountered in scalar divide\n",
      "  return 1 - self.ssr/self.centered_tss\n"
     ]
    },
    {
     "name": "stdout",
     "output_type": "stream",
     "text": [
      "dropping 'Year' at index: 0\n",
      "dropping 'Infant_deaths' at index: 0\n",
      "dropping 'GDP_per_capita' at index: 9\n",
      "dropping 'Population_mln' at index: 9\n",
      "dropping 'BMI' at index: 5\n",
      "dropping 'exp_GDP' at index: 13\n",
      "dropping 'Under_five_deaths' at index: 0\n",
      "dropping 'exp_BMI' at index: 12\n",
      "dropping 'Thinness_ten_nineteen_years' at index: 7\n",
      "dropping 'Adult_mortality' at index: 0\n",
      "dropping 'Thinness_five_nine_years' at index: 6\n",
      "dropping 'Alcohol_consumption' at index: 0\n",
      "Remaining variables:\n"
     ]
    },
    {
     "name": "stderr",
     "output_type": "stream",
     "text": [
      "/opt/anaconda3/lib/python3.12/site-packages/statsmodels/stats/outliers_influence.py:197: RuntimeWarning: divide by zero encountered in scalar divide\n",
      "  vif = 1. / (1. - r_squared_i)\n",
      "/opt/anaconda3/lib/python3.12/site-packages/statsmodels/regression/linear_model.py:1783: RuntimeWarning: invalid value encountered in scalar divide\n",
      "  return 1 - self.ssr/self.centered_tss\n",
      "/opt/anaconda3/lib/python3.12/site-packages/statsmodels/regression/linear_model.py:1783: RuntimeWarning: divide by zero encountered in scalar divide\n",
      "  return 1 - self.ssr/self.centered_tss\n"
     ]
    },
    {
     "name": "stdout",
     "output_type": "stream",
     "text": [
      "dropping 'Year' at index: 0\n",
      "dropping 'Infant_deaths' at index: 0\n",
      "dropping 'Under_five_deaths' at index: 0\n",
      "dropping 'Adult_mortality' at index: 0\n",
      "dropping 'Alcohol_consumption' at index: 0\n",
      "dropping 'Hepatitis_B' at index: 0\n",
      "Remaining variables:\n"
     ]
    },
    {
     "name": "stderr",
     "output_type": "stream",
     "text": [
      "/opt/anaconda3/lib/python3.12/site-packages/statsmodels/stats/outliers_influence.py:197: RuntimeWarning: divide by zero encountered in scalar divide\n",
      "  vif = 1. / (1. - r_squared_i)\n",
      "/opt/anaconda3/lib/python3.12/site-packages/statsmodels/regression/linear_model.py:1783: RuntimeWarning: invalid value encountered in scalar divide\n",
      "  return 1 - self.ssr/self.centered_tss\n",
      "/opt/anaconda3/lib/python3.12/site-packages/statsmodels/regression/linear_model.py:1783: RuntimeWarning: divide by zero encountered in scalar divide\n",
      "  return 1 - self.ssr/self.centered_tss\n"
     ]
    },
    {
     "name": "stdout",
     "output_type": "stream",
     "text": [
      "dropping 'Year' at index: 0\n",
      "dropping 'Infant_deaths' at index: 0\n",
      "dropping 'Under_five_deaths' at index: 0\n",
      "dropping 'Adult_mortality' at index: 0\n",
      "dropping 'Alcohol_consumption' at index: 0\n",
      "dropping 'Hepatitis_B' at index: 0\n",
      "dropping 'Measles' at index: 0\n",
      "dropping 'Population_mln' at index: 5\n",
      "dropping 'GDP_per_capita' at index: 4\n",
      "dropping 'Thinness_five_nine_years' at index: 5\n",
      "dropping 'Schooling' at index: 5\n",
      "dropping 'BMI' at index: 0\n",
      "dropping 'Thinness_ten_nineteen_years' at index: 3\n",
      "dropping 'exp_BMI' at index: 6\n",
      "dropping 'Polio' at index: 0\n",
      "dropping 'Diphtheria' at index: 0\n",
      "Remaining variables:\n"
     ]
    },
    {
     "name": "stderr",
     "output_type": "stream",
     "text": [
      "/opt/anaconda3/lib/python3.12/site-packages/statsmodels/stats/outliers_influence.py:197: RuntimeWarning: divide by zero encountered in scalar divide\n",
      "  vif = 1. / (1. - r_squared_i)\n",
      "/opt/anaconda3/lib/python3.12/site-packages/statsmodels/regression/linear_model.py:1783: RuntimeWarning: invalid value encountered in scalar divide\n",
      "  return 1 - self.ssr/self.centered_tss\n",
      "/opt/anaconda3/lib/python3.12/site-packages/statsmodels/regression/linear_model.py:1783: RuntimeWarning: divide by zero encountered in scalar divide\n",
      "  return 1 - self.ssr/self.centered_tss\n"
     ]
    },
    {
     "name": "stdout",
     "output_type": "stream",
     "text": [
      "dropping 'Year' at index: 0\n",
      "dropping 'Infant_deaths' at index: 0\n",
      "dropping 'Under_five_deaths' at index: 0\n",
      "dropping 'Adult_mortality' at index: 0\n",
      "dropping 'Alcohol_consumption' at index: 0\n",
      "dropping 'Hepatitis_B' at index: 0\n",
      "dropping 'GDP_per_capita' at index: 5\n",
      "dropping 'BMI' at index: 1\n",
      "dropping 'Population_mln' at index: 4\n",
      "dropping 'Incidents_HIV' at index: 3\n",
      "dropping 'Thinness_five_nine_years' at index: 4\n",
      "dropping 'exp_GDP' at index: 7\n",
      "Remaining variables:\n",
      "dropping 'Year' at index: 0\n"
     ]
    },
    {
     "name": "stderr",
     "output_type": "stream",
     "text": [
      "/opt/anaconda3/lib/python3.12/site-packages/statsmodels/stats/outliers_influence.py:197: RuntimeWarning: divide by zero encountered in scalar divide\n",
      "  vif = 1. / (1. - r_squared_i)\n",
      "/opt/anaconda3/lib/python3.12/site-packages/statsmodels/regression/linear_model.py:1783: RuntimeWarning: invalid value encountered in scalar divide\n",
      "  return 1 - self.ssr/self.centered_tss\n",
      "/opt/anaconda3/lib/python3.12/site-packages/statsmodels/regression/linear_model.py:1783: RuntimeWarning: divide by zero encountered in scalar divide\n",
      "  return 1 - self.ssr/self.centered_tss\n"
     ]
    },
    {
     "name": "stdout",
     "output_type": "stream",
     "text": [
      "dropping 'Infant_deaths' at index: 0\n",
      "dropping 'Under_five_deaths' at index: 0\n",
      "dropping 'Adult_mortality' at index: 0\n",
      "dropping 'Alcohol_consumption' at index: 0\n",
      "dropping 'Hepatitis_B' at index: 0\n",
      "dropping 'Measles' at index: 0\n",
      "dropping 'BMI' at index: 0\n",
      "dropping 'Population_mln' at index: 4\n",
      "dropping 'exp_GDP' at index: 9\n",
      "dropping 'GDP_per_capita' at index: 3\n",
      "dropping 'exp_BMI' at index: 8\n",
      "Remaining variables:\n"
     ]
    },
    {
     "name": "stderr",
     "output_type": "stream",
     "text": [
      "/opt/anaconda3/lib/python3.12/site-packages/statsmodels/stats/outliers_influence.py:197: RuntimeWarning: divide by zero encountered in scalar divide\n",
      "  vif = 1. / (1. - r_squared_i)\n",
      "/opt/anaconda3/lib/python3.12/site-packages/statsmodels/regression/linear_model.py:1783: RuntimeWarning: invalid value encountered in scalar divide\n",
      "  return 1 - self.ssr/self.centered_tss\n",
      "/opt/anaconda3/lib/python3.12/site-packages/statsmodels/regression/linear_model.py:1783: RuntimeWarning: divide by zero encountered in scalar divide\n",
      "  return 1 - self.ssr/self.centered_tss\n"
     ]
    },
    {
     "name": "stdout",
     "output_type": "stream",
     "text": [
      "dropping 'Year' at index: 0\n",
      "dropping 'Infant_deaths' at index: 0\n",
      "dropping 'Under_five_deaths' at index: 0\n",
      "dropping 'Adult_mortality' at index: 0\n",
      "dropping 'Alcohol_consumption' at index: 0\n",
      "dropping 'Hepatitis_B' at index: 0\n",
      "dropping 'Measles' at index: 0\n",
      "dropping 'BMI' at index: 0\n",
      "dropping 'Polio' at index: 0\n",
      "dropping 'exp_GDP' at index: 9\n",
      "dropping 'Population_mln' at index: 3\n",
      "dropping 'GDP_per_capita' at index: 2\n",
      "dropping 'Incidents_HIV' at index: 1\n",
      "dropping 'Thinness_five_nine_years' at index: 2\n",
      "dropping 'exp_BMI' at index: 5\n",
      "Remaining variables:\n",
      "dropping 'Year' at index: 0\n"
     ]
    },
    {
     "name": "stderr",
     "output_type": "stream",
     "text": [
      "/opt/anaconda3/lib/python3.12/site-packages/statsmodels/stats/outliers_influence.py:197: RuntimeWarning: divide by zero encountered in scalar divide\n",
      "  vif = 1. / (1. - r_squared_i)\n",
      "/opt/anaconda3/lib/python3.12/site-packages/statsmodels/regression/linear_model.py:1783: RuntimeWarning: invalid value encountered in scalar divide\n",
      "  return 1 - self.ssr/self.centered_tss\n",
      "/opt/anaconda3/lib/python3.12/site-packages/statsmodels/regression/linear_model.py:1783: RuntimeWarning: divide by zero encountered in scalar divide\n",
      "  return 1 - self.ssr/self.centered_tss\n"
     ]
    },
    {
     "name": "stdout",
     "output_type": "stream",
     "text": [
      "dropping 'Infant_deaths' at index: 0\n",
      "dropping 'Under_five_deaths' at index: 0\n",
      "dropping 'Adult_mortality' at index: 0\n",
      "dropping 'Alcohol_consumption' at index: 0\n",
      "dropping 'GDP_per_capita' at index: 6\n",
      "dropping 'Incidents_HIV' at index: 5\n",
      "dropping 'Thinness_five_nine_years' at index: 7\n",
      "dropping 'Population_mln' at index: 5\n",
      "dropping 'Thinness_ten_nineteen_years' at index: 5\n",
      "dropping 'BMI' at index: 2\n",
      "dropping 'Schooling' at index: 4\n",
      "dropping 'exp_BMI' at index: 7\n",
      "dropping 'Hepatitis_B' at index: 0\n",
      "Remaining variables:\n"
     ]
    },
    {
     "name": "stderr",
     "output_type": "stream",
     "text": [
      "/opt/anaconda3/lib/python3.12/site-packages/statsmodels/stats/outliers_influence.py:197: RuntimeWarning: divide by zero encountered in scalar divide\n",
      "  vif = 1. / (1. - r_squared_i)\n",
      "/opt/anaconda3/lib/python3.12/site-packages/statsmodels/regression/linear_model.py:1783: RuntimeWarning: invalid value encountered in scalar divide\n",
      "  return 1 - self.ssr/self.centered_tss\n",
      "/opt/anaconda3/lib/python3.12/site-packages/statsmodels/regression/linear_model.py:1783: RuntimeWarning: divide by zero encountered in scalar divide\n",
      "  return 1 - self.ssr/self.centered_tss\n"
     ]
    },
    {
     "name": "stdout",
     "output_type": "stream",
     "text": [
      "dropping 'Year' at index: 0\n",
      "dropping 'Infant_deaths' at index: 0\n",
      "dropping 'Under_five_deaths' at index: 0\n",
      "dropping 'Polio' at index: 5\n",
      "dropping 'Schooling' at index: 11\n",
      "dropping 'BMI' at index: 4\n",
      "dropping 'Thinness_five_nine_years' at index: 9\n",
      "dropping 'Hepatitis_B' at index: 2\n",
      "dropping 'exp_GDP' at index: 10\n",
      "dropping 'Adult_mortality' at index: 0\n",
      "dropping 'exp_BMI' at index: 9\n",
      "dropping 'GDP_per_capita' at index: 4\n",
      "Remaining variables:\n"
     ]
    },
    {
     "name": "stderr",
     "output_type": "stream",
     "text": [
      "/opt/anaconda3/lib/python3.12/site-packages/statsmodels/stats/outliers_influence.py:197: RuntimeWarning: divide by zero encountered in scalar divide\n",
      "  vif = 1. / (1. - r_squared_i)\n",
      "/opt/anaconda3/lib/python3.12/site-packages/statsmodels/regression/linear_model.py:1783: RuntimeWarning: invalid value encountered in scalar divide\n",
      "  return 1 - self.ssr/self.centered_tss\n",
      "/opt/anaconda3/lib/python3.12/site-packages/statsmodels/regression/linear_model.py:1783: RuntimeWarning: divide by zero encountered in scalar divide\n",
      "  return 1 - self.ssr/self.centered_tss\n"
     ]
    },
    {
     "name": "stdout",
     "output_type": "stream",
     "text": [
      "dropping 'Year' at index: 0\n",
      "dropping 'Infant_deaths' at index: 0\n",
      "dropping 'Under_five_deaths' at index: 0\n",
      "dropping 'Adult_mortality' at index: 0\n",
      "dropping 'Alcohol_consumption' at index: 0\n",
      "dropping 'BMI' at index: 2\n",
      "dropping 'exp_BMI' at index: 13\n",
      "dropping 'GDP_per_capita' at index: 5\n",
      "dropping 'Population_mln' at index: 5\n",
      "dropping 'Polio' at index: 2\n",
      "dropping 'exp_GDP' at index: 9\n",
      "Remaining variables:\n"
     ]
    },
    {
     "name": "stderr",
     "output_type": "stream",
     "text": [
      "/opt/anaconda3/lib/python3.12/site-packages/statsmodels/stats/outliers_influence.py:197: RuntimeWarning: divide by zero encountered in scalar divide\n",
      "  vif = 1. / (1. - r_squared_i)\n",
      "/opt/anaconda3/lib/python3.12/site-packages/statsmodels/regression/linear_model.py:1783: RuntimeWarning: invalid value encountered in scalar divide\n",
      "  return 1 - self.ssr/self.centered_tss\n",
      "/opt/anaconda3/lib/python3.12/site-packages/statsmodels/regression/linear_model.py:1783: RuntimeWarning: divide by zero encountered in scalar divide\n",
      "  return 1 - self.ssr/self.centered_tss\n"
     ]
    },
    {
     "name": "stdout",
     "output_type": "stream",
     "text": [
      "dropping 'Year' at index: 0\n",
      "dropping 'Infant_deaths' at index: 0\n",
      "dropping 'Under_five_deaths' at index: 0\n",
      "dropping 'Adult_mortality' at index: 0\n",
      "dropping 'Alcohol_consumption' at index: 0\n",
      "dropping 'exp_BMI' at index: 14\n",
      "dropping 'BMI' at index: 2\n",
      "dropping 'Population_mln' at index: 6\n",
      "dropping 'exp_GDP' at index: 11\n",
      "dropping 'Diphtheria' at index: 3\n",
      "dropping 'Thinness_ten_nineteen_years' at index: 5\n",
      "dropping 'Schooling' at index: 6\n",
      "dropping 'GDP_per_capita' at index: 4\n",
      "Remaining variables:\n"
     ]
    },
    {
     "name": "stderr",
     "output_type": "stream",
     "text": [
      "/opt/anaconda3/lib/python3.12/site-packages/statsmodels/stats/outliers_influence.py:197: RuntimeWarning: divide by zero encountered in scalar divide\n",
      "  vif = 1. / (1. - r_squared_i)\n",
      "/opt/anaconda3/lib/python3.12/site-packages/statsmodels/regression/linear_model.py:1783: RuntimeWarning: invalid value encountered in scalar divide\n",
      "  return 1 - self.ssr/self.centered_tss\n",
      "/opt/anaconda3/lib/python3.12/site-packages/statsmodels/regression/linear_model.py:1783: RuntimeWarning: divide by zero encountered in scalar divide\n",
      "  return 1 - self.ssr/self.centered_tss\n"
     ]
    },
    {
     "name": "stdout",
     "output_type": "stream",
     "text": [
      "dropping 'Year' at index: 0\n",
      "dropping 'Infant_deaths' at index: 0\n",
      "dropping 'Under_five_deaths' at index: 0\n",
      "dropping 'Adult_mortality' at index: 0\n",
      "dropping 'Alcohol_consumption' at index: 0\n",
      "dropping 'BMI' at index: 2\n",
      "dropping 'GDP_per_capita' at index: 5\n",
      "dropping 'Population_mln' at index: 5\n",
      "dropping 'Schooling' at index: 7\n",
      "dropping 'Incidents_HIV' at index: 4\n",
      "Remaining variables:\n"
     ]
    },
    {
     "name": "stderr",
     "output_type": "stream",
     "text": [
      "/opt/anaconda3/lib/python3.12/site-packages/statsmodels/stats/outliers_influence.py:197: RuntimeWarning: divide by zero encountered in scalar divide\n",
      "  vif = 1. / (1. - r_squared_i)\n",
      "/opt/anaconda3/lib/python3.12/site-packages/statsmodels/regression/linear_model.py:1783: RuntimeWarning: invalid value encountered in scalar divide\n",
      "  return 1 - self.ssr/self.centered_tss\n",
      "/opt/anaconda3/lib/python3.12/site-packages/statsmodels/regression/linear_model.py:1783: RuntimeWarning: divide by zero encountered in scalar divide\n",
      "  return 1 - self.ssr/self.centered_tss\n"
     ]
    },
    {
     "name": "stdout",
     "output_type": "stream",
     "text": [
      "dropping 'Year' at index: 0\n",
      "dropping 'Infant_deaths' at index: 0\n",
      "dropping 'Under_five_deaths' at index: 0\n",
      "dropping 'Adult_mortality' at index: 0\n",
      "dropping 'BMI' at index: 3\n",
      "dropping 'Population_mln' at index: 7\n",
      "dropping 'Polio' at index: 3\n",
      "dropping 'GDP_per_capita' at index: 5\n",
      "dropping 'Thinness_ten_nineteen_years' at index: 5\n",
      "dropping 'Alcohol_consumption' at index: 0\n",
      "Remaining variables:\n",
      "dropping 'Year' at index: 0\n"
     ]
    },
    {
     "name": "stderr",
     "output_type": "stream",
     "text": [
      "/opt/anaconda3/lib/python3.12/site-packages/statsmodels/stats/outliers_influence.py:197: RuntimeWarning: divide by zero encountered in scalar divide\n",
      "  vif = 1. / (1. - r_squared_i)\n",
      "/opt/anaconda3/lib/python3.12/site-packages/statsmodels/regression/linear_model.py:1783: RuntimeWarning: invalid value encountered in scalar divide\n",
      "  return 1 - self.ssr/self.centered_tss\n",
      "/opt/anaconda3/lib/python3.12/site-packages/statsmodels/regression/linear_model.py:1783: RuntimeWarning: divide by zero encountered in scalar divide\n",
      "  return 1 - self.ssr/self.centered_tss\n"
     ]
    },
    {
     "name": "stdout",
     "output_type": "stream",
     "text": [
      "dropping 'Infant_deaths' at index: 0\n",
      "dropping 'Under_five_deaths' at index: 0\n",
      "dropping 'Adult_mortality' at index: 0\n",
      "dropping 'Alcohol_consumption' at index: 0\n",
      "dropping 'Population_mln' at index: 7\n",
      "dropping 'BMI' at index: 2\n",
      "dropping 'exp_BMI' at index: 12\n",
      "dropping 'Diphtheria' at index: 3\n",
      "dropping 'GDP_per_capita' at index: 4\n",
      "dropping 'Schooling' at index: 6\n",
      "dropping 'Thinness_ten_nineteen_years' at index: 4\n",
      "dropping 'Hepatitis_B' at index: 0\n",
      "Remaining variables:\n"
     ]
    },
    {
     "name": "stderr",
     "output_type": "stream",
     "text": [
      "/opt/anaconda3/lib/python3.12/site-packages/statsmodels/stats/outliers_influence.py:197: RuntimeWarning: divide by zero encountered in scalar divide\n",
      "  vif = 1. / (1. - r_squared_i)\n",
      "/opt/anaconda3/lib/python3.12/site-packages/statsmodels/regression/linear_model.py:1783: RuntimeWarning: invalid value encountered in scalar divide\n",
      "  return 1 - self.ssr/self.centered_tss\n",
      "/opt/anaconda3/lib/python3.12/site-packages/statsmodels/regression/linear_model.py:1783: RuntimeWarning: divide by zero encountered in scalar divide\n",
      "  return 1 - self.ssr/self.centered_tss\n"
     ]
    },
    {
     "name": "stdout",
     "output_type": "stream",
     "text": [
      "dropping 'Year' at index: 0\n",
      "dropping 'Infant_deaths' at index: 0\n",
      "dropping 'Under_five_deaths' at index: 0\n",
      "dropping 'Adult_mortality' at index: 0\n",
      "dropping 'exp_BMI' at index: 15\n",
      "dropping 'Polio' at index: 4\n",
      "dropping 'GDP_per_capita' at index: 6\n",
      "dropping 'Measles' at index: 2\n",
      "dropping 'Schooling' at index: 8\n",
      "dropping 'Population_mln' at index: 5\n",
      "dropping 'Thinness_five_nine_years' at index: 6\n",
      "dropping 'BMI' at index: 2\n",
      "Remaining variables:\n"
     ]
    },
    {
     "name": "stderr",
     "output_type": "stream",
     "text": [
      "/opt/anaconda3/lib/python3.12/site-packages/statsmodels/stats/outliers_influence.py:197: RuntimeWarning: divide by zero encountered in scalar divide\n",
      "  vif = 1. / (1. - r_squared_i)\n",
      "/opt/anaconda3/lib/python3.12/site-packages/statsmodels/regression/linear_model.py:1783: RuntimeWarning: invalid value encountered in scalar divide\n",
      "  return 1 - self.ssr/self.centered_tss\n",
      "/opt/anaconda3/lib/python3.12/site-packages/statsmodels/regression/linear_model.py:1783: RuntimeWarning: divide by zero encountered in scalar divide\n",
      "  return 1 - self.ssr/self.centered_tss\n"
     ]
    },
    {
     "name": "stdout",
     "output_type": "stream",
     "text": [
      "dropping 'Year' at index: 0\n",
      "dropping 'Infant_deaths' at index: 0\n",
      "dropping 'Under_five_deaths' at index: 0\n",
      "dropping 'Adult_mortality' at index: 0\n",
      "dropping 'Alcohol_consumption' at index: 0\n",
      "dropping 'Thinness_five_nine_years' at index: 9\n",
      "dropping 'BMI' at index: 2\n",
      "dropping 'exp_BMI' at index: 12\n",
      "dropping 'exp_GDP' at index: 11\n",
      "dropping 'Population_mln' at index: 6\n",
      "dropping 'Schooling' at index: 7\n",
      "dropping 'Thinness_ten_nineteen_years' at index: 6\n",
      "dropping 'Diphtheria' at index: 3\n",
      "Remaining variables:\n"
     ]
    },
    {
     "name": "stderr",
     "output_type": "stream",
     "text": [
      "/opt/anaconda3/lib/python3.12/site-packages/statsmodels/stats/outliers_influence.py:197: RuntimeWarning: divide by zero encountered in scalar divide\n",
      "  vif = 1. / (1. - r_squared_i)\n",
      "/opt/anaconda3/lib/python3.12/site-packages/statsmodels/regression/linear_model.py:1783: RuntimeWarning: invalid value encountered in scalar divide\n",
      "  return 1 - self.ssr/self.centered_tss\n",
      "/opt/anaconda3/lib/python3.12/site-packages/statsmodels/regression/linear_model.py:1783: RuntimeWarning: divide by zero encountered in scalar divide\n",
      "  return 1 - self.ssr/self.centered_tss\n"
     ]
    },
    {
     "name": "stdout",
     "output_type": "stream",
     "text": [
      "dropping 'Year' at index: 0\n",
      "dropping 'Infant_deaths' at index: 0\n",
      "dropping 'Under_five_deaths' at index: 0\n",
      "dropping 'Adult_mortality' at index: 0\n",
      "dropping 'Alcohol_consumption' at index: 0\n",
      "dropping 'Hepatitis_B' at index: 0\n",
      "dropping 'BMI' at index: 1\n",
      "dropping 'Incidents_HIV' at index: 3\n",
      "dropping 'GDP_per_capita' at index: 3\n",
      "dropping 'Thinness_ten_nineteen_years' at index: 4\n",
      "dropping 'Population_mln' at index: 3\n",
      "dropping 'exp_BMI' at index: 8\n",
      "dropping 'Polio' at index: 1\n",
      "dropping 'Thinness_five_nine_years' at index: 2\n",
      "Remaining variables:\n"
     ]
    },
    {
     "name": "stderr",
     "output_type": "stream",
     "text": [
      "/opt/anaconda3/lib/python3.12/site-packages/statsmodels/stats/outliers_influence.py:197: RuntimeWarning: divide by zero encountered in scalar divide\n",
      "  vif = 1. / (1. - r_squared_i)\n",
      "/opt/anaconda3/lib/python3.12/site-packages/statsmodels/regression/linear_model.py:1783: RuntimeWarning: divide by zero encountered in scalar divide\n",
      "  return 1 - self.ssr/self.centered_tss\n",
      "/opt/anaconda3/lib/python3.12/site-packages/statsmodels/regression/linear_model.py:1783: RuntimeWarning: invalid value encountered in scalar divide\n",
      "  return 1 - self.ssr/self.centered_tss\n"
     ]
    },
    {
     "name": "stdout",
     "output_type": "stream",
     "text": [
      "dropping 'Year' at index: 0\n",
      "dropping 'Infant_deaths' at index: 0\n",
      "dropping 'Polio' at index: 6\n",
      "dropping 'Under_five_deaths' at index: 0\n",
      "dropping 'Schooling' at index: 11\n",
      "dropping 'Adult_mortality' at index: 0\n",
      "dropping 'GDP_per_capita' at index: 6\n",
      "dropping 'Population_mln' at index: 6\n",
      "dropping 'BMI' at index: 3\n",
      "dropping 'Measles' at index: 2\n",
      "dropping 'Alcohol_consumption' at index: 0\n",
      "dropping 'exp_BMI' at index: 8\n",
      "Remaining variables:\n",
      "dropping 'Year' at index: 0\n",
      "dropping 'Infant_deaths' at index: 0\n"
     ]
    },
    {
     "name": "stderr",
     "output_type": "stream",
     "text": [
      "/opt/anaconda3/lib/python3.12/site-packages/statsmodels/stats/outliers_influence.py:197: RuntimeWarning: divide by zero encountered in scalar divide\n",
      "  vif = 1. / (1. - r_squared_i)\n",
      "/opt/anaconda3/lib/python3.12/site-packages/statsmodels/regression/linear_model.py:1783: RuntimeWarning: invalid value encountered in scalar divide\n",
      "  return 1 - self.ssr/self.centered_tss\n",
      "/opt/anaconda3/lib/python3.12/site-packages/statsmodels/regression/linear_model.py:1783: RuntimeWarning: divide by zero encountered in scalar divide\n",
      "  return 1 - self.ssr/self.centered_tss\n"
     ]
    },
    {
     "name": "stdout",
     "output_type": "stream",
     "text": [
      "dropping 'Under_five_deaths' at index: 0\n",
      "dropping 'Adult_mortality' at index: 0\n",
      "dropping 'Alcohol_consumption' at index: 0\n",
      "dropping 'Hepatitis_B' at index: 0\n",
      "Remaining variables:\n",
      "dropping 'Year' at index: 0\n",
      "dropping 'Infant_deaths' at index: 0\n"
     ]
    },
    {
     "name": "stderr",
     "output_type": "stream",
     "text": [
      "/opt/anaconda3/lib/python3.12/site-packages/statsmodels/stats/outliers_influence.py:197: RuntimeWarning: divide by zero encountered in scalar divide\n",
      "  vif = 1. / (1. - r_squared_i)\n",
      "/opt/anaconda3/lib/python3.12/site-packages/statsmodels/regression/linear_model.py:1783: RuntimeWarning: invalid value encountered in scalar divide\n",
      "  return 1 - self.ssr/self.centered_tss\n",
      "/opt/anaconda3/lib/python3.12/site-packages/statsmodels/regression/linear_model.py:1783: RuntimeWarning: divide by zero encountered in scalar divide\n",
      "  return 1 - self.ssr/self.centered_tss\n"
     ]
    },
    {
     "name": "stdout",
     "output_type": "stream",
     "text": [
      "dropping 'Under_five_deaths' at index: 0\n",
      "dropping 'Adult_mortality' at index: 0\n",
      "dropping 'Population_mln' at index: 8\n",
      "dropping 'exp_BMI' at index: 14\n",
      "dropping 'exp_GDP' at index: 13\n",
      "dropping 'Schooling' at index: 10\n",
      "dropping 'Thinness_ten_nineteen_years' at index: 8\n",
      "dropping 'BMI' at index: 3\n",
      "Remaining variables:\n"
     ]
    },
    {
     "name": "stderr",
     "output_type": "stream",
     "text": [
      "/opt/anaconda3/lib/python3.12/site-packages/statsmodels/stats/outliers_influence.py:197: RuntimeWarning: divide by zero encountered in scalar divide\n",
      "  vif = 1. / (1. - r_squared_i)\n",
      "/opt/anaconda3/lib/python3.12/site-packages/statsmodels/regression/linear_model.py:1783: RuntimeWarning: invalid value encountered in scalar divide\n",
      "  return 1 - self.ssr/self.centered_tss\n",
      "/opt/anaconda3/lib/python3.12/site-packages/statsmodels/regression/linear_model.py:1783: RuntimeWarning: divide by zero encountered in scalar divide\n",
      "  return 1 - self.ssr/self.centered_tss\n"
     ]
    },
    {
     "name": "stdout",
     "output_type": "stream",
     "text": [
      "dropping 'Year' at index: 0\n",
      "dropping 'Infant_deaths' at index: 0\n",
      "dropping 'Under_five_deaths' at index: 0\n",
      "dropping 'Adult_mortality' at index: 0\n",
      "dropping 'Alcohol_consumption' at index: 0\n",
      "dropping 'Hepatitis_B' at index: 0\n",
      "dropping 'Thinness_ten_nineteen_years' at index: 7\n",
      "dropping 'GDP_per_capita' at index: 5\n",
      "dropping 'exp_GDP' at index: 10\n",
      "dropping 'BMI' at index: 1\n",
      "dropping 'Thinness_five_nine_years' at index: 5\n",
      "dropping 'Diphtheria' at index: 2\n",
      "dropping 'Schooling' at index: 4\n",
      "dropping 'exp_BMI' at index: 6\n",
      "Remaining variables:\n",
      "dropping 'Year' at index: 0\n"
     ]
    },
    {
     "name": "stderr",
     "output_type": "stream",
     "text": [
      "/opt/anaconda3/lib/python3.12/site-packages/statsmodels/stats/outliers_influence.py:197: RuntimeWarning: divide by zero encountered in scalar divide\n",
      "  vif = 1. / (1. - r_squared_i)\n",
      "/opt/anaconda3/lib/python3.12/site-packages/statsmodels/regression/linear_model.py:1783: RuntimeWarning: invalid value encountered in scalar divide\n",
      "  return 1 - self.ssr/self.centered_tss\n",
      "/opt/anaconda3/lib/python3.12/site-packages/statsmodels/regression/linear_model.py:1783: RuntimeWarning: divide by zero encountered in scalar divide\n",
      "  return 1 - self.ssr/self.centered_tss\n"
     ]
    },
    {
     "name": "stdout",
     "output_type": "stream",
     "text": [
      "dropping 'Infant_deaths' at index: 0\n",
      "dropping 'Under_five_deaths' at index: 0\n",
      "dropping 'Adult_mortality' at index: 0\n",
      "dropping 'Alcohol_consumption' at index: 0\n",
      "dropping 'Hepatitis_B' at index: 0\n",
      "dropping 'Measles' at index: 0\n",
      "dropping 'exp_BMI' at index: 12\n",
      "dropping 'BMI' at index: 0\n",
      "dropping 'GDP_per_capita' at index: 3\n",
      "dropping 'Population_mln' at index: 3\n",
      "dropping 'Polio' at index: 0\n",
      "dropping 'exp_GDP' at index: 7\n",
      "dropping 'Thinness_ten_nineteen_years' at index: 2\n",
      "Remaining variables:\n"
     ]
    },
    {
     "name": "stderr",
     "output_type": "stream",
     "text": [
      "/opt/anaconda3/lib/python3.12/site-packages/statsmodels/stats/outliers_influence.py:197: RuntimeWarning: divide by zero encountered in scalar divide\n",
      "  vif = 1. / (1. - r_squared_i)\n",
      "/opt/anaconda3/lib/python3.12/site-packages/statsmodels/regression/linear_model.py:1783: RuntimeWarning: invalid value encountered in scalar divide\n",
      "  return 1 - self.ssr/self.centered_tss\n",
      "/opt/anaconda3/lib/python3.12/site-packages/statsmodels/regression/linear_model.py:1783: RuntimeWarning: divide by zero encountered in scalar divide\n",
      "  return 1 - self.ssr/self.centered_tss\n"
     ]
    },
    {
     "name": "stdout",
     "output_type": "stream",
     "text": [
      "dropping 'Year' at index: 0\n",
      "dropping 'Infant_deaths' at index: 0\n",
      "dropping 'Under_five_deaths' at index: 0\n",
      "dropping 'Adult_mortality' at index: 0\n",
      "dropping 'Alcohol_consumption' at index: 0\n",
      "dropping 'Hepatitis_B' at index: 0\n",
      "Remaining variables:\n"
     ]
    },
    {
     "name": "stderr",
     "output_type": "stream",
     "text": [
      "/opt/anaconda3/lib/python3.12/site-packages/statsmodels/stats/outliers_influence.py:197: RuntimeWarning: divide by zero encountered in scalar divide\n",
      "  vif = 1. / (1. - r_squared_i)\n",
      "/opt/anaconda3/lib/python3.12/site-packages/statsmodels/regression/linear_model.py:1783: RuntimeWarning: invalid value encountered in scalar divide\n",
      "  return 1 - self.ssr/self.centered_tss\n",
      "/opt/anaconda3/lib/python3.12/site-packages/statsmodels/regression/linear_model.py:1783: RuntimeWarning: divide by zero encountered in scalar divide\n",
      "  return 1 - self.ssr/self.centered_tss\n"
     ]
    },
    {
     "name": "stdout",
     "output_type": "stream",
     "text": [
      "dropping 'Year' at index: 0\n",
      "dropping 'Infant_deaths' at index: 0\n",
      "dropping 'Under_five_deaths' at index: 0\n",
      "dropping 'Adult_mortality' at index: 0\n",
      "dropping 'Alcohol_consumption' at index: 0\n",
      "dropping 'Hepatitis_B' at index: 0\n",
      "dropping 'Measles' at index: 0\n",
      "dropping 'BMI' at index: 0\n",
      "dropping 'Thinness_ten_nineteen_years' at index: 5\n",
      "dropping 'Polio' at index: 0\n",
      "dropping 'GDP_per_capita' at index: 2\n",
      "dropping 'Population_mln' at index: 2\n",
      "dropping 'Schooling' at index: 3\n",
      "dropping 'Diphtheria' at index: 0\n",
      "Remaining variables:\n"
     ]
    },
    {
     "name": "stderr",
     "output_type": "stream",
     "text": [
      "/opt/anaconda3/lib/python3.12/site-packages/statsmodels/stats/outliers_influence.py:197: RuntimeWarning: divide by zero encountered in scalar divide\n",
      "  vif = 1. / (1. - r_squared_i)\n",
      "/opt/anaconda3/lib/python3.12/site-packages/statsmodels/regression/linear_model.py:1783: RuntimeWarning: invalid value encountered in scalar divide\n",
      "  return 1 - self.ssr/self.centered_tss\n",
      "/opt/anaconda3/lib/python3.12/site-packages/statsmodels/regression/linear_model.py:1783: RuntimeWarning: divide by zero encountered in scalar divide\n",
      "  return 1 - self.ssr/self.centered_tss\n"
     ]
    },
    {
     "name": "stdout",
     "output_type": "stream",
     "text": [
      "dropping 'Year' at index: 0\n",
      "dropping 'Infant_deaths' at index: 0\n",
      "dropping 'Under_five_deaths' at index: 0\n",
      "dropping 'Adult_mortality' at index: 0\n",
      "dropping 'Alcohol_consumption' at index: 0\n",
      "dropping 'Hepatitis_B' at index: 0\n",
      "Remaining variables:\n",
      "dropping 'Year' at index: 0\n"
     ]
    },
    {
     "name": "stderr",
     "output_type": "stream",
     "text": [
      "/opt/anaconda3/lib/python3.12/site-packages/statsmodels/stats/outliers_influence.py:197: RuntimeWarning: divide by zero encountered in scalar divide\n",
      "  vif = 1. / (1. - r_squared_i)\n",
      "/opt/anaconda3/lib/python3.12/site-packages/statsmodels/regression/linear_model.py:1783: RuntimeWarning: invalid value encountered in scalar divide\n",
      "  return 1 - self.ssr/self.centered_tss\n",
      "/opt/anaconda3/lib/python3.12/site-packages/statsmodels/regression/linear_model.py:1783: RuntimeWarning: divide by zero encountered in scalar divide\n",
      "  return 1 - self.ssr/self.centered_tss\n"
     ]
    },
    {
     "name": "stdout",
     "output_type": "stream",
     "text": [
      "dropping 'Infant_deaths' at index: 0\n",
      "dropping 'Under_five_deaths' at index: 0\n",
      "dropping 'Adult_mortality' at index: 0\n",
      "dropping 'Population_mln' at index: 8\n",
      "dropping 'BMI' at index: 3\n",
      "dropping 'exp_BMI' at index: 13\n",
      "dropping 'GDP_per_capita' at index: 6\n",
      "dropping 'Schooling' at index: 8\n",
      "dropping 'Thinness_five_nine_years' at index: 7\n",
      "dropping 'Alcohol_consumption' at index: 0\n",
      "Remaining variables:\n"
     ]
    },
    {
     "name": "stderr",
     "output_type": "stream",
     "text": [
      "/opt/anaconda3/lib/python3.12/site-packages/statsmodels/stats/outliers_influence.py:197: RuntimeWarning: divide by zero encountered in scalar divide\n",
      "  vif = 1. / (1. - r_squared_i)\n",
      "/opt/anaconda3/lib/python3.12/site-packages/statsmodels/regression/linear_model.py:1783: RuntimeWarning: invalid value encountered in scalar divide\n",
      "  return 1 - self.ssr/self.centered_tss\n",
      "/opt/anaconda3/lib/python3.12/site-packages/statsmodels/regression/linear_model.py:1783: RuntimeWarning: divide by zero encountered in scalar divide\n",
      "  return 1 - self.ssr/self.centered_tss\n"
     ]
    },
    {
     "name": "stdout",
     "output_type": "stream",
     "text": [
      "dropping 'Year' at index: 0\n",
      "dropping 'Infant_deaths' at index: 0\n",
      "dropping 'Under_five_deaths' at index: 0\n",
      "dropping 'Adult_mortality' at index: 0\n",
      "dropping 'Alcohol_consumption' at index: 0\n",
      "dropping 'Hepatitis_B' at index: 0\n",
      "Remaining variables:\n"
     ]
    },
    {
     "name": "stderr",
     "output_type": "stream",
     "text": [
      "/opt/anaconda3/lib/python3.12/site-packages/statsmodels/stats/outliers_influence.py:197: RuntimeWarning: divide by zero encountered in scalar divide\n",
      "  vif = 1. / (1. - r_squared_i)\n",
      "/opt/anaconda3/lib/python3.12/site-packages/statsmodels/regression/linear_model.py:1783: RuntimeWarning: invalid value encountered in scalar divide\n",
      "  return 1 - self.ssr/self.centered_tss\n",
      "/opt/anaconda3/lib/python3.12/site-packages/statsmodels/regression/linear_model.py:1783: RuntimeWarning: divide by zero encountered in scalar divide\n",
      "  return 1 - self.ssr/self.centered_tss\n"
     ]
    },
    {
     "name": "stdout",
     "output_type": "stream",
     "text": [
      "dropping 'Year' at index: 0\n",
      "dropping 'Infant_deaths' at index: 0\n",
      "dropping 'Under_five_deaths' at index: 0\n",
      "dropping 'Adult_mortality' at index: 0\n",
      "dropping 'Alcohol_consumption' at index: 0\n",
      "dropping 'Hepatitis_B' at index: 0\n",
      "Remaining variables:\n"
     ]
    },
    {
     "name": "stderr",
     "output_type": "stream",
     "text": [
      "/opt/anaconda3/lib/python3.12/site-packages/statsmodels/stats/outliers_influence.py:197: RuntimeWarning: divide by zero encountered in scalar divide\n",
      "  vif = 1. / (1. - r_squared_i)\n",
      "/opt/anaconda3/lib/python3.12/site-packages/statsmodels/regression/linear_model.py:1783: RuntimeWarning: invalid value encountered in scalar divide\n",
      "  return 1 - self.ssr/self.centered_tss\n",
      "/opt/anaconda3/lib/python3.12/site-packages/statsmodels/regression/linear_model.py:1783: RuntimeWarning: divide by zero encountered in scalar divide\n",
      "  return 1 - self.ssr/self.centered_tss\n"
     ]
    },
    {
     "name": "stdout",
     "output_type": "stream",
     "text": [
      "dropping 'Year' at index: 0\n",
      "dropping 'Infant_deaths' at index: 0\n",
      "dropping 'Under_five_deaths' at index: 0\n",
      "dropping 'Adult_mortality' at index: 0\n",
      "dropping 'exp_BMI' at index: 15\n",
      "dropping 'exp_GDP' at index: 14\n",
      "dropping 'Population_mln' at index: 8\n",
      "dropping 'GDP_per_capita' at index: 7\n",
      "dropping 'Incidents_HIV' at index: 6\n",
      "dropping 'BMI' at index: 3\n",
      "dropping 'Diphtheria' at index: 4\n",
      "Remaining variables:\n"
     ]
    },
    {
     "name": "stderr",
     "output_type": "stream",
     "text": [
      "/opt/anaconda3/lib/python3.12/site-packages/statsmodels/stats/outliers_influence.py:197: RuntimeWarning: divide by zero encountered in scalar divide\n",
      "  vif = 1. / (1. - r_squared_i)\n",
      "/opt/anaconda3/lib/python3.12/site-packages/statsmodels/regression/linear_model.py:1783: RuntimeWarning: invalid value encountered in scalar divide\n",
      "  return 1 - self.ssr/self.centered_tss\n",
      "/opt/anaconda3/lib/python3.12/site-packages/statsmodels/regression/linear_model.py:1783: RuntimeWarning: divide by zero encountered in scalar divide\n",
      "  return 1 - self.ssr/self.centered_tss\n"
     ]
    },
    {
     "name": "stdout",
     "output_type": "stream",
     "text": [
      "dropping 'Year' at index: 0\n",
      "dropping 'Infant_deaths' at index: 0\n",
      "dropping 'Under_five_deaths' at index: 0\n",
      "dropping 'Adult_mortality' at index: 0\n",
      "dropping 'Hepatitis_B' at index: 1\n",
      "dropping 'Incidents_HIV' at index: 5\n",
      "dropping 'BMI' at index: 2\n",
      "dropping 'GDP_per_capita' at index: 4\n",
      "dropping 'exp_GDP' at index: 10\n",
      "dropping 'exp_BMI' at index: 10\n",
      "dropping 'Thinness_five_nine_years' at index: 6\n",
      "dropping 'Diphtheria' at index: 3\n",
      "dropping 'Thinness_ten_nineteen_years' at index: 4\n",
      "Remaining variables:\n",
      "dropping 'Year' at index: 0\n"
     ]
    },
    {
     "name": "stderr",
     "output_type": "stream",
     "text": [
      "/opt/anaconda3/lib/python3.12/site-packages/statsmodels/stats/outliers_influence.py:197: RuntimeWarning: divide by zero encountered in scalar divide\n",
      "  vif = 1. / (1. - r_squared_i)\n",
      "/opt/anaconda3/lib/python3.12/site-packages/statsmodels/regression/linear_model.py:1783: RuntimeWarning: invalid value encountered in scalar divide\n",
      "  return 1 - self.ssr/self.centered_tss\n",
      "/opt/anaconda3/lib/python3.12/site-packages/statsmodels/regression/linear_model.py:1783: RuntimeWarning: divide by zero encountered in scalar divide\n",
      "  return 1 - self.ssr/self.centered_tss\n"
     ]
    },
    {
     "name": "stdout",
     "output_type": "stream",
     "text": [
      "dropping 'Infant_deaths' at index: 0\n",
      "dropping 'Under_five_deaths' at index: 0\n",
      "dropping 'Adult_mortality' at index: 0\n",
      "dropping 'Alcohol_consumption' at index: 0\n",
      "dropping 'Hepatitis_B' at index: 0\n",
      "Remaining variables:\n",
      "dropping 'Year' at index: 0\n"
     ]
    },
    {
     "name": "stderr",
     "output_type": "stream",
     "text": [
      "/opt/anaconda3/lib/python3.12/site-packages/statsmodels/stats/outliers_influence.py:197: RuntimeWarning: divide by zero encountered in scalar divide\n",
      "  vif = 1. / (1. - r_squared_i)\n",
      "/opt/anaconda3/lib/python3.12/site-packages/statsmodels/regression/linear_model.py:1783: RuntimeWarning: invalid value encountered in scalar divide\n",
      "  return 1 - self.ssr/self.centered_tss\n",
      "/opt/anaconda3/lib/python3.12/site-packages/statsmodels/regression/linear_model.py:1783: RuntimeWarning: divide by zero encountered in scalar divide\n",
      "  return 1 - self.ssr/self.centered_tss\n"
     ]
    },
    {
     "name": "stdout",
     "output_type": "stream",
     "text": [
      "dropping 'Infant_deaths' at index: 0\n",
      "dropping 'Under_five_deaths' at index: 0\n",
      "dropping 'BMI' at index: 4\n",
      "dropping 'Adult_mortality' at index: 0\n",
      "dropping 'GDP_per_capita' at index: 6\n",
      "dropping 'Schooling' at index: 9\n",
      "dropping 'Population_mln' at index: 6\n",
      "dropping 'Alcohol_consumption' at index: 0\n",
      "dropping 'Diphtheria' at index: 3\n",
      "Remaining variables:\n",
      "dropping 'Year' at index: 0\n"
     ]
    },
    {
     "name": "stderr",
     "output_type": "stream",
     "text": [
      "/opt/anaconda3/lib/python3.12/site-packages/statsmodels/stats/outliers_influence.py:197: RuntimeWarning: divide by zero encountered in scalar divide\n",
      "  vif = 1. / (1. - r_squared_i)\n",
      "/opt/anaconda3/lib/python3.12/site-packages/statsmodels/regression/linear_model.py:1783: RuntimeWarning: invalid value encountered in scalar divide\n",
      "  return 1 - self.ssr/self.centered_tss\n",
      "/opt/anaconda3/lib/python3.12/site-packages/statsmodels/regression/linear_model.py:1783: RuntimeWarning: divide by zero encountered in scalar divide\n",
      "  return 1 - self.ssr/self.centered_tss\n"
     ]
    },
    {
     "name": "stdout",
     "output_type": "stream",
     "text": [
      "dropping 'Infant_deaths' at index: 0\n",
      "dropping 'Under_five_deaths' at index: 0\n",
      "dropping 'Adult_mortality' at index: 0\n",
      "dropping 'GDP_per_capita' at index: 7\n",
      "dropping 'BMI' at index: 3\n",
      "dropping 'exp_BMI' at index: 13\n",
      "dropping 'Diphtheria' at index: 4\n",
      "dropping 'Population_mln' at index: 5\n",
      "dropping 'Polio' at index: 3\n",
      "dropping 'Thinness_five_nine_years' at index: 5\n",
      "dropping 'Schooling' at index: 5\n",
      "dropping 'Thinness_ten_nineteen_years' at index: 4\n",
      "Remaining variables:\n"
     ]
    },
    {
     "name": "stderr",
     "output_type": "stream",
     "text": [
      "/opt/anaconda3/lib/python3.12/site-packages/statsmodels/stats/outliers_influence.py:197: RuntimeWarning: divide by zero encountered in scalar divide\n",
      "  vif = 1. / (1. - r_squared_i)\n",
      "/opt/anaconda3/lib/python3.12/site-packages/statsmodels/regression/linear_model.py:1783: RuntimeWarning: invalid value encountered in scalar divide\n",
      "  return 1 - self.ssr/self.centered_tss\n",
      "/opt/anaconda3/lib/python3.12/site-packages/statsmodels/regression/linear_model.py:1783: RuntimeWarning: divide by zero encountered in scalar divide\n",
      "  return 1 - self.ssr/self.centered_tss\n"
     ]
    },
    {
     "name": "stdout",
     "output_type": "stream",
     "text": [
      "dropping 'Year' at index: 0\n",
      "dropping 'Infant_deaths' at index: 0\n",
      "dropping 'Under_five_deaths' at index: 0\n",
      "dropping 'Adult_mortality' at index: 0\n",
      "dropping 'Alcohol_consumption' at index: 0\n",
      "dropping 'Hepatitis_B' at index: 0\n",
      "dropping 'Measles' at index: 0\n",
      "dropping 'Thinness_ten_nineteen_years' at index: 6\n",
      "dropping 'BMI' at index: 0\n",
      "dropping 'GDP_per_capita' at index: 3\n",
      "dropping 'Population_mln' at index: 3\n",
      "dropping 'exp_GDP' at index: 7\n",
      "dropping 'Incidents_HIV' at index: 2\n",
      "dropping 'Thinness_five_nine_years' at index: 2\n",
      "dropping 'Diphtheria' at index: 1\n",
      "dropping 'Schooling' at index: 1\n",
      "Remaining variables:\n"
     ]
    },
    {
     "name": "stderr",
     "output_type": "stream",
     "text": [
      "/opt/anaconda3/lib/python3.12/site-packages/statsmodels/stats/outliers_influence.py:197: RuntimeWarning: divide by zero encountered in scalar divide\n",
      "  vif = 1. / (1. - r_squared_i)\n",
      "/opt/anaconda3/lib/python3.12/site-packages/statsmodels/regression/linear_model.py:1783: RuntimeWarning: invalid value encountered in scalar divide\n",
      "  return 1 - self.ssr/self.centered_tss\n",
      "/opt/anaconda3/lib/python3.12/site-packages/statsmodels/regression/linear_model.py:1783: RuntimeWarning: divide by zero encountered in scalar divide\n",
      "  return 1 - self.ssr/self.centered_tss\n"
     ]
    },
    {
     "name": "stdout",
     "output_type": "stream",
     "text": [
      "dropping 'Year' at index: 0\n",
      "dropping 'Infant_deaths' at index: 0\n",
      "dropping 'Under_five_deaths' at index: 0\n",
      "dropping 'Adult_mortality' at index: 0\n",
      "dropping 'Alcohol_consumption' at index: 0\n",
      "dropping 'Hepatitis_B' at index: 0\n",
      "dropping 'GDP_per_capita' at index: 5\n",
      "dropping 'Schooling' at index: 8\n",
      "dropping 'Population_mln' at index: 5\n",
      "dropping 'Diphtheria' at index: 3\n",
      "dropping 'BMI' at index: 1\n",
      "Remaining variables:\n"
     ]
    },
    {
     "name": "stderr",
     "output_type": "stream",
     "text": [
      "/opt/anaconda3/lib/python3.12/site-packages/statsmodels/stats/outliers_influence.py:197: RuntimeWarning: divide by zero encountered in scalar divide\n",
      "  vif = 1. / (1. - r_squared_i)\n",
      "/opt/anaconda3/lib/python3.12/site-packages/statsmodels/regression/linear_model.py:1783: RuntimeWarning: divide by zero encountered in scalar divide\n",
      "  return 1 - self.ssr/self.centered_tss\n",
      "/opt/anaconda3/lib/python3.12/site-packages/statsmodels/regression/linear_model.py:1783: RuntimeWarning: invalid value encountered in scalar divide\n",
      "  return 1 - self.ssr/self.centered_tss\n"
     ]
    },
    {
     "name": "stdout",
     "output_type": "stream",
     "text": [
      "dropping 'Year' at index: 0\n",
      "dropping 'Infant_deaths' at index: 0\n",
      "dropping 'Under_five_deaths' at index: 0\n",
      "dropping 'Adult_mortality' at index: 0\n",
      "dropping 'Alcohol_consumption' at index: 0\n",
      "dropping 'Hepatitis_B' at index: 0\n",
      "dropping 'BMI' at index: 1\n",
      "dropping 'Population_mln' at index: 5\n",
      "dropping 'GDP_per_capita' at index: 4\n",
      "dropping 'Thinness_ten_nineteen_years' at index: 4\n",
      "dropping 'exp_GDP' at index: 8\n",
      "dropping 'Thinness_five_nine_years' at index: 4\n",
      "Remaining variables:\n"
     ]
    },
    {
     "name": "stderr",
     "output_type": "stream",
     "text": [
      "/opt/anaconda3/lib/python3.12/site-packages/statsmodels/stats/outliers_influence.py:197: RuntimeWarning: divide by zero encountered in scalar divide\n",
      "  vif = 1. / (1. - r_squared_i)\n",
      "/opt/anaconda3/lib/python3.12/site-packages/statsmodels/regression/linear_model.py:1783: RuntimeWarning: invalid value encountered in scalar divide\n",
      "  return 1 - self.ssr/self.centered_tss\n",
      "/opt/anaconda3/lib/python3.12/site-packages/statsmodels/regression/linear_model.py:1783: RuntimeWarning: divide by zero encountered in scalar divide\n",
      "  return 1 - self.ssr/self.centered_tss\n"
     ]
    },
    {
     "name": "stdout",
     "output_type": "stream",
     "text": [
      "dropping 'Year' at index: 0\n",
      "dropping 'Infant_deaths' at index: 0\n",
      "dropping 'Under_five_deaths' at index: 0\n",
      "dropping 'Adult_mortality' at index: 0\n",
      "dropping 'Alcohol_consumption' at index: 0\n",
      "dropping 'GDP_per_capita' at index: 6\n",
      "dropping 'exp_BMI' at index: 13\n",
      "dropping 'Population_mln' at index: 6\n",
      "dropping 'Thinness_five_nine_years' at index: 7\n",
      "dropping 'BMI' at index: 2\n",
      "dropping 'Thinness_ten_nineteen_years' at index: 5\n",
      "dropping 'Incidents_HIV' at index: 4\n",
      "dropping 'Schooling' at index: 4\n",
      "Remaining variables:\n"
     ]
    },
    {
     "name": "stderr",
     "output_type": "stream",
     "text": [
      "/opt/anaconda3/lib/python3.12/site-packages/statsmodels/stats/outliers_influence.py:197: RuntimeWarning: divide by zero encountered in scalar divide\n",
      "  vif = 1. / (1. - r_squared_i)\n",
      "/opt/anaconda3/lib/python3.12/site-packages/statsmodels/regression/linear_model.py:1783: RuntimeWarning: invalid value encountered in scalar divide\n",
      "  return 1 - self.ssr/self.centered_tss\n",
      "/opt/anaconda3/lib/python3.12/site-packages/statsmodels/regression/linear_model.py:1783: RuntimeWarning: divide by zero encountered in scalar divide\n",
      "  return 1 - self.ssr/self.centered_tss\n"
     ]
    },
    {
     "name": "stdout",
     "output_type": "stream",
     "text": [
      "dropping 'Year' at index: 0\n",
      "dropping 'Infant_deaths' at index: 0\n",
      "dropping 'Under_five_deaths' at index: 0\n",
      "dropping 'Adult_mortality' at index: 0\n",
      "dropping 'Population_mln' at index: 8\n",
      "dropping 'exp_BMI' at index: 14\n",
      "dropping 'GDP_per_capita' at index: 7\n",
      "dropping 'Polio' at index: 4\n",
      "dropping 'BMI' at index: 3\n",
      "dropping 'Hepatitis_B' at index: 1\n",
      "dropping 'Thinness_ten_nineteen_years' at index: 4\n",
      "dropping 'Thinness_five_nine_years' at index: 4\n",
      "dropping 'exp_GDP' at index: 7\n",
      "Remaining variables:\n"
     ]
    },
    {
     "name": "stderr",
     "output_type": "stream",
     "text": [
      "/opt/anaconda3/lib/python3.12/site-packages/statsmodels/stats/outliers_influence.py:197: RuntimeWarning: divide by zero encountered in scalar divide\n",
      "  vif = 1. / (1. - r_squared_i)\n",
      "/opt/anaconda3/lib/python3.12/site-packages/statsmodels/regression/linear_model.py:1783: RuntimeWarning: invalid value encountered in scalar divide\n",
      "  return 1 - self.ssr/self.centered_tss\n",
      "/opt/anaconda3/lib/python3.12/site-packages/statsmodels/regression/linear_model.py:1783: RuntimeWarning: divide by zero encountered in scalar divide\n",
      "  return 1 - self.ssr/self.centered_tss\n"
     ]
    },
    {
     "name": "stdout",
     "output_type": "stream",
     "text": [
      "dropping 'Year' at index: 0\n",
      "dropping 'Infant_deaths' at index: 0\n",
      "dropping 'Under_five_deaths' at index: 0\n",
      "dropping 'Adult_mortality' at index: 0\n",
      "dropping 'Alcohol_consumption' at index: 0\n",
      "dropping 'Thinness_five_nine_years' at index: 9\n",
      "dropping 'Population_mln' at index: 7\n",
      "dropping 'Thinness_ten_nineteen_years' at index: 7\n",
      "dropping 'BMI' at index: 2\n",
      "dropping 'exp_GDP' at index: 9\n",
      "dropping 'exp_BMI' at index: 9\n",
      "dropping 'Diphtheria' at index: 3\n",
      "dropping 'Schooling' at index: 5\n",
      "Remaining variables:\n",
      "dropping 'Year' at index: 0\n"
     ]
    },
    {
     "name": "stderr",
     "output_type": "stream",
     "text": [
      "/opt/anaconda3/lib/python3.12/site-packages/statsmodels/stats/outliers_influence.py:197: RuntimeWarning: divide by zero encountered in scalar divide\n",
      "  vif = 1. / (1. - r_squared_i)\n",
      "/opt/anaconda3/lib/python3.12/site-packages/statsmodels/regression/linear_model.py:1783: RuntimeWarning: invalid value encountered in scalar divide\n",
      "  return 1 - self.ssr/self.centered_tss\n",
      "/opt/anaconda3/lib/python3.12/site-packages/statsmodels/regression/linear_model.py:1783: RuntimeWarning: divide by zero encountered in scalar divide\n",
      "  return 1 - self.ssr/self.centered_tss\n"
     ]
    },
    {
     "name": "stdout",
     "output_type": "stream",
     "text": [
      "dropping 'Infant_deaths' at index: 0\n",
      "dropping 'Thinness_ten_nineteen_years' at index: 11\n",
      "dropping 'Population_mln' at index: 10\n",
      "dropping 'Adult_mortality' at index: 1\n",
      "dropping 'BMI' at index: 4\n",
      "dropping 'exp_GDP' at index: 12\n",
      "dropping 'GDP_per_capita' at index: 7\n",
      "dropping 'Under_five_deaths' at index: 0\n",
      "dropping 'Incidents_HIV' at index: 5\n",
      "dropping 'exp_BMI' at index: 9\n",
      "Remaining variables:\n",
      "dropping 'Year' at index: 0\n",
      "dropping 'Infant_deaths' at index: 0\n"
     ]
    },
    {
     "name": "stderr",
     "output_type": "stream",
     "text": [
      "/opt/anaconda3/lib/python3.12/site-packages/statsmodels/stats/outliers_influence.py:197: RuntimeWarning: divide by zero encountered in scalar divide\n",
      "  vif = 1. / (1. - r_squared_i)\n",
      "/opt/anaconda3/lib/python3.12/site-packages/statsmodels/regression/linear_model.py:1783: RuntimeWarning: invalid value encountered in scalar divide\n",
      "  return 1 - self.ssr/self.centered_tss\n",
      "/opt/anaconda3/lib/python3.12/site-packages/statsmodels/regression/linear_model.py:1783: RuntimeWarning: divide by zero encountered in scalar divide\n",
      "  return 1 - self.ssr/self.centered_tss\n"
     ]
    },
    {
     "name": "stdout",
     "output_type": "stream",
     "text": [
      "dropping 'Under_five_deaths' at index: 0\n",
      "dropping 'Adult_mortality' at index: 0\n",
      "dropping 'Alcohol_consumption' at index: 0\n",
      "dropping 'BMI' at index: 2\n",
      "dropping 'Polio' at index: 2\n",
      "dropping 'exp_BMI' at index: 12\n",
      "dropping 'Hepatitis_B' at index: 0\n",
      "dropping 'GDP_per_capita' at index: 3\n",
      "dropping 'Population_mln' at index: 3\n",
      "dropping 'Thinness_ten_nineteen_years' at index: 3\n",
      "Remaining variables:\n"
     ]
    },
    {
     "name": "stderr",
     "output_type": "stream",
     "text": [
      "/opt/anaconda3/lib/python3.12/site-packages/statsmodels/stats/outliers_influence.py:197: RuntimeWarning: divide by zero encountered in scalar divide\n",
      "  vif = 1. / (1. - r_squared_i)\n",
      "/opt/anaconda3/lib/python3.12/site-packages/statsmodels/regression/linear_model.py:1783: RuntimeWarning: invalid value encountered in scalar divide\n",
      "  return 1 - self.ssr/self.centered_tss\n",
      "/opt/anaconda3/lib/python3.12/site-packages/statsmodels/regression/linear_model.py:1783: RuntimeWarning: divide by zero encountered in scalar divide\n",
      "  return 1 - self.ssr/self.centered_tss\n"
     ]
    },
    {
     "name": "stdout",
     "output_type": "stream",
     "text": [
      "dropping 'Year' at index: 0\n",
      "dropping 'Infant_deaths' at index: 0\n",
      "dropping 'Under_five_deaths' at index: 0\n",
      "dropping 'Adult_mortality' at index: 0\n",
      "dropping 'Alcohol_consumption' at index: 0\n",
      "dropping 'Hepatitis_B' at index: 0\n",
      "dropping 'Measles' at index: 0\n",
      "dropping 'BMI' at index: 0\n",
      "dropping 'exp_BMI' at index: 11\n",
      "dropping 'Thinness_ten_nineteen_years' at index: 5\n",
      "dropping 'Thinness_five_nine_years' at index: 5\n",
      "dropping 'GDP_per_capita' at index: 3\n",
      "dropping 'exp_GDP' at index: 7\n",
      "dropping 'Population_mln' at index: 3\n",
      "Remaining variables:\n"
     ]
    },
    {
     "name": "stderr",
     "output_type": "stream",
     "text": [
      "/opt/anaconda3/lib/python3.12/site-packages/statsmodels/stats/outliers_influence.py:197: RuntimeWarning: divide by zero encountered in scalar divide\n",
      "  vif = 1. / (1. - r_squared_i)\n",
      "/opt/anaconda3/lib/python3.12/site-packages/statsmodels/regression/linear_model.py:1783: RuntimeWarning: invalid value encountered in scalar divide\n",
      "  return 1 - self.ssr/self.centered_tss\n",
      "/opt/anaconda3/lib/python3.12/site-packages/statsmodels/regression/linear_model.py:1783: RuntimeWarning: divide by zero encountered in scalar divide\n",
      "  return 1 - self.ssr/self.centered_tss\n"
     ]
    },
    {
     "name": "stdout",
     "output_type": "stream",
     "text": [
      "dropping 'Year' at index: 0\n",
      "dropping 'Infant_deaths' at index: 0\n",
      "dropping 'Under_five_deaths' at index: 0\n",
      "dropping 'Population_mln' at index: 9\n",
      "dropping 'BMI' at index: 4\n",
      "dropping 'Schooling' at index: 10\n",
      "dropping 'Adult_mortality' at index: 0\n",
      "dropping 'exp_BMI' at index: 12\n",
      "dropping 'GDP_per_capita' at index: 6\n",
      "dropping 'Incidents_HIV' at index: 5\n",
      "dropping 'Thinness_five_nine_years' at index: 6\n",
      "Remaining variables:\n"
     ]
    },
    {
     "name": "stderr",
     "output_type": "stream",
     "text": [
      "/opt/anaconda3/lib/python3.12/site-packages/statsmodels/stats/outliers_influence.py:197: RuntimeWarning: divide by zero encountered in scalar divide\n",
      "  vif = 1. / (1. - r_squared_i)\n",
      "/opt/anaconda3/lib/python3.12/site-packages/statsmodels/regression/linear_model.py:1783: RuntimeWarning: invalid value encountered in scalar divide\n",
      "  return 1 - self.ssr/self.centered_tss\n",
      "/opt/anaconda3/lib/python3.12/site-packages/statsmodels/regression/linear_model.py:1783: RuntimeWarning: divide by zero encountered in scalar divide\n",
      "  return 1 - self.ssr/self.centered_tss\n"
     ]
    },
    {
     "name": "stdout",
     "output_type": "stream",
     "text": [
      "dropping 'Year' at index: 0\n",
      "dropping 'Infant_deaths' at index: 0\n",
      "dropping 'Under_five_deaths' at index: 0\n",
      "dropping 'Adult_mortality' at index: 0\n",
      "dropping 'Alcohol_consumption' at index: 0\n",
      "dropping 'Hepatitis_B' at index: 0\n",
      "dropping 'Measles' at index: 0\n",
      "dropping 'BMI' at index: 0\n",
      "dropping 'Population_mln' at index: 4\n",
      "dropping 'exp_GDP' at index: 9\n",
      "dropping 'GDP_per_capita' at index: 3\n",
      "dropping 'Thinness_five_nine_years' at index: 4\n",
      "dropping 'Diphtheria' at index: 1\n",
      "dropping 'exp_BMI' at index: 6\n",
      "dropping 'Incidents_HIV' at index: 1\n",
      "Remaining variables:\n",
      "dropping 'Year' at index: 0\n"
     ]
    },
    {
     "name": "stderr",
     "output_type": "stream",
     "text": [
      "/opt/anaconda3/lib/python3.12/site-packages/statsmodels/stats/outliers_influence.py:197: RuntimeWarning: divide by zero encountered in scalar divide\n",
      "  vif = 1. / (1. - r_squared_i)\n",
      "/opt/anaconda3/lib/python3.12/site-packages/statsmodels/regression/linear_model.py:1783: RuntimeWarning: invalid value encountered in scalar divide\n",
      "  return 1 - self.ssr/self.centered_tss\n",
      "/opt/anaconda3/lib/python3.12/site-packages/statsmodels/regression/linear_model.py:1783: RuntimeWarning: divide by zero encountered in scalar divide\n",
      "  return 1 - self.ssr/self.centered_tss\n"
     ]
    },
    {
     "name": "stdout",
     "output_type": "stream",
     "text": [
      "dropping 'Infant_deaths' at index: 0\n",
      "dropping 'Under_five_deaths' at index: 0\n",
      "dropping 'Adult_mortality' at index: 0\n",
      "dropping 'Alcohol_consumption' at index: 0\n",
      "dropping 'Hepatitis_B' at index: 0\n",
      "dropping 'Measles' at index: 0\n",
      "dropping 'GDP_per_capita' at index: 4\n",
      "dropping 'BMI' at index: 0\n",
      "dropping 'Incidents_HIV' at index: 2\n",
      "dropping 'Diphtheria' at index: 1\n",
      "dropping 'Population_mln' at index: 1\n",
      "dropping 'exp_BMI' at index: 7\n",
      "Remaining variables:\n"
     ]
    },
    {
     "name": "stderr",
     "output_type": "stream",
     "text": [
      "/opt/anaconda3/lib/python3.12/site-packages/statsmodels/stats/outliers_influence.py:197: RuntimeWarning: divide by zero encountered in scalar divide\n",
      "  vif = 1. / (1. - r_squared_i)\n",
      "/opt/anaconda3/lib/python3.12/site-packages/statsmodels/regression/linear_model.py:1783: RuntimeWarning: invalid value encountered in scalar divide\n",
      "  return 1 - self.ssr/self.centered_tss\n",
      "/opt/anaconda3/lib/python3.12/site-packages/statsmodels/regression/linear_model.py:1783: RuntimeWarning: divide by zero encountered in scalar divide\n",
      "  return 1 - self.ssr/self.centered_tss\n"
     ]
    },
    {
     "name": "stdout",
     "output_type": "stream",
     "text": [
      "dropping 'Year' at index: 0\n",
      "dropping 'Infant_deaths' at index: 0\n",
      "dropping 'Under_five_deaths' at index: 0\n",
      "dropping 'Adult_mortality' at index: 0\n",
      "dropping 'Alcohol_consumption' at index: 0\n",
      "Remaining variables:\n",
      "dropping 'Year' at index: 0\n"
     ]
    },
    {
     "name": "stderr",
     "output_type": "stream",
     "text": [
      "/opt/anaconda3/lib/python3.12/site-packages/statsmodels/stats/outliers_influence.py:197: RuntimeWarning: divide by zero encountered in scalar divide\n",
      "  vif = 1. / (1. - r_squared_i)\n",
      "/opt/anaconda3/lib/python3.12/site-packages/statsmodels/regression/linear_model.py:1783: RuntimeWarning: invalid value encountered in scalar divide\n",
      "  return 1 - self.ssr/self.centered_tss\n",
      "/opt/anaconda3/lib/python3.12/site-packages/statsmodels/regression/linear_model.py:1783: RuntimeWarning: divide by zero encountered in scalar divide\n",
      "  return 1 - self.ssr/self.centered_tss\n"
     ]
    },
    {
     "name": "stdout",
     "output_type": "stream",
     "text": [
      "dropping 'Infant_deaths' at index: 0\n",
      "dropping 'Under_five_deaths' at index: 0\n",
      "dropping 'Adult_mortality' at index: 0\n",
      "dropping 'Alcohol_consumption' at index: 0\n",
      "dropping 'Hepatitis_B' at index: 0\n",
      "dropping 'Measles' at index: 0\n",
      "dropping 'BMI' at index: 0\n",
      "dropping 'GDP_per_capita' at index: 3\n",
      "dropping 'Diphtheria' at index: 1\n",
      "dropping 'exp_BMI' at index: 9\n",
      "dropping 'Thinness_five_nine_years' at index: 4\n",
      "dropping 'Schooling' at index: 4\n",
      "dropping 'Thinness_ten_nineteen_years' at index: 3\n",
      "dropping 'Population_mln' at index: 2\n",
      "Remaining variables:\n"
     ]
    },
    {
     "name": "stderr",
     "output_type": "stream",
     "text": [
      "/opt/anaconda3/lib/python3.12/site-packages/statsmodels/stats/outliers_influence.py:197: RuntimeWarning: divide by zero encountered in scalar divide\n",
      "  vif = 1. / (1. - r_squared_i)\n",
      "/opt/anaconda3/lib/python3.12/site-packages/statsmodels/regression/linear_model.py:1783: RuntimeWarning: invalid value encountered in scalar divide\n",
      "  return 1 - self.ssr/self.centered_tss\n",
      "/opt/anaconda3/lib/python3.12/site-packages/statsmodels/regression/linear_model.py:1783: RuntimeWarning: divide by zero encountered in scalar divide\n",
      "  return 1 - self.ssr/self.centered_tss\n"
     ]
    },
    {
     "name": "stdout",
     "output_type": "stream",
     "text": [
      "dropping 'Year' at index: 0\n",
      "dropping 'Infant_deaths' at index: 0\n",
      "dropping 'Under_five_deaths' at index: 0\n",
      "dropping 'Adult_mortality' at index: 0\n",
      "dropping 'Alcohol_consumption' at index: 0\n",
      "dropping 'Hepatitis_B' at index: 0\n",
      "Remaining variables:\n",
      "dropping 'Year' at index: 0\n"
     ]
    },
    {
     "name": "stderr",
     "output_type": "stream",
     "text": [
      "/opt/anaconda3/lib/python3.12/site-packages/statsmodels/stats/outliers_influence.py:197: RuntimeWarning: divide by zero encountered in scalar divide\n",
      "  vif = 1. / (1. - r_squared_i)\n",
      "/opt/anaconda3/lib/python3.12/site-packages/statsmodels/regression/linear_model.py:1783: RuntimeWarning: invalid value encountered in scalar divide\n",
      "  return 1 - self.ssr/self.centered_tss\n",
      "/opt/anaconda3/lib/python3.12/site-packages/statsmodels/regression/linear_model.py:1783: RuntimeWarning: divide by zero encountered in scalar divide\n",
      "  return 1 - self.ssr/self.centered_tss\n"
     ]
    },
    {
     "name": "stdout",
     "output_type": "stream",
     "text": [
      "dropping 'Infant_deaths' at index: 0\n",
      "dropping 'Adult_mortality' at index: 1\n",
      "dropping 'GDP_per_capita' at index: 8\n",
      "dropping 'Population_mln' at index: 8\n",
      "dropping 'Under_five_deaths' at index: 0\n",
      "dropping 'BMI' at index: 3\n",
      "dropping 'Thinness_five_nine_years' at index: 7\n",
      "dropping 'Thinness_ten_nineteen_years' at index: 6\n",
      "dropping 'exp_BMI' at index: 10\n",
      "dropping 'Schooling' at index: 6\n",
      "dropping 'exp_GDP' at index: 8\n",
      "dropping 'Diphtheria' at index: 4\n",
      "Remaining variables:\n"
     ]
    },
    {
     "name": "stderr",
     "output_type": "stream",
     "text": [
      "/opt/anaconda3/lib/python3.12/site-packages/statsmodels/stats/outliers_influence.py:197: RuntimeWarning: divide by zero encountered in scalar divide\n",
      "  vif = 1. / (1. - r_squared_i)\n",
      "/opt/anaconda3/lib/python3.12/site-packages/statsmodels/regression/linear_model.py:1783: RuntimeWarning: invalid value encountered in scalar divide\n",
      "  return 1 - self.ssr/self.centered_tss\n",
      "/opt/anaconda3/lib/python3.12/site-packages/statsmodels/regression/linear_model.py:1783: RuntimeWarning: divide by zero encountered in scalar divide\n",
      "  return 1 - self.ssr/self.centered_tss\n"
     ]
    },
    {
     "name": "stdout",
     "output_type": "stream",
     "text": [
      "dropping 'Year' at index: 0\n",
      "dropping 'Infant_deaths' at index: 0\n",
      "dropping 'Under_five_deaths' at index: 0\n",
      "dropping 'Adult_mortality' at index: 0\n",
      "dropping 'Alcohol_consumption' at index: 0\n",
      "dropping 'Thinness_five_nine_years' at index: 9\n",
      "dropping 'Incidents_HIV' at index: 5\n",
      "dropping 'exp_BMI' at index: 12\n",
      "dropping 'Population_mln' at index: 6\n",
      "dropping 'exp_GDP' at index: 10\n",
      "dropping 'GDP_per_capita' at index: 5\n",
      "Remaining variables:\n",
      "dropping 'Year' at index: 0\n"
     ]
    },
    {
     "name": "stderr",
     "output_type": "stream",
     "text": [
      "/opt/anaconda3/lib/python3.12/site-packages/statsmodels/stats/outliers_influence.py:197: RuntimeWarning: divide by zero encountered in scalar divide\n",
      "  vif = 1. / (1. - r_squared_i)\n",
      "/opt/anaconda3/lib/python3.12/site-packages/statsmodels/regression/linear_model.py:1783: RuntimeWarning: invalid value encountered in scalar divide\n",
      "  return 1 - self.ssr/self.centered_tss\n",
      "/opt/anaconda3/lib/python3.12/site-packages/statsmodels/regression/linear_model.py:1783: RuntimeWarning: divide by zero encountered in scalar divide\n",
      "  return 1 - self.ssr/self.centered_tss\n"
     ]
    },
    {
     "name": "stdout",
     "output_type": "stream",
     "text": [
      "dropping 'Infant_deaths' at index: 0\n",
      "dropping 'Under_five_deaths' at index: 0\n",
      "dropping 'Adult_mortality' at index: 0\n",
      "dropping 'Alcohol_consumption' at index: 0\n",
      "dropping 'exp_GDP' at index: 13\n",
      "dropping 'exp_BMI' at index: 13\n",
      "dropping 'BMI' at index: 2\n",
      "dropping 'GDP_per_capita' at index: 5\n",
      "dropping 'Incidents_HIV' at index: 4\n",
      "dropping 'Schooling' at index: 7\n",
      "Remaining variables:\n"
     ]
    },
    {
     "name": "stderr",
     "output_type": "stream",
     "text": [
      "/opt/anaconda3/lib/python3.12/site-packages/statsmodels/stats/outliers_influence.py:197: RuntimeWarning: divide by zero encountered in scalar divide\n",
      "  vif = 1. / (1. - r_squared_i)\n",
      "/opt/anaconda3/lib/python3.12/site-packages/statsmodels/regression/linear_model.py:1783: RuntimeWarning: invalid value encountered in scalar divide\n",
      "  return 1 - self.ssr/self.centered_tss\n",
      "/opt/anaconda3/lib/python3.12/site-packages/statsmodels/regression/linear_model.py:1783: RuntimeWarning: divide by zero encountered in scalar divide\n",
      "  return 1 - self.ssr/self.centered_tss\n"
     ]
    },
    {
     "name": "stdout",
     "output_type": "stream",
     "text": [
      "dropping 'Year' at index: 0\n",
      "dropping 'Infant_deaths' at index: 0\n",
      "dropping 'Under_five_deaths' at index: 0\n",
      "dropping 'Adult_mortality' at index: 0\n",
      "dropping 'GDP_per_capita' at index: 7\n",
      "dropping 'Polio' at index: 4\n",
      "dropping 'exp_BMI' at index: 13\n",
      "dropping 'Population_mln' at index: 6\n",
      "dropping 'Schooling' at index: 8\n",
      "dropping 'exp_GDP' at index: 10\n",
      "Remaining variables:\n"
     ]
    },
    {
     "name": "stderr",
     "output_type": "stream",
     "text": [
      "/opt/anaconda3/lib/python3.12/site-packages/statsmodels/stats/outliers_influence.py:197: RuntimeWarning: divide by zero encountered in scalar divide\n",
      "  vif = 1. / (1. - r_squared_i)\n",
      "/opt/anaconda3/lib/python3.12/site-packages/statsmodels/regression/linear_model.py:1783: RuntimeWarning: invalid value encountered in scalar divide\n",
      "  return 1 - self.ssr/self.centered_tss\n",
      "/opt/anaconda3/lib/python3.12/site-packages/statsmodels/regression/linear_model.py:1783: RuntimeWarning: divide by zero encountered in scalar divide\n",
      "  return 1 - self.ssr/self.centered_tss\n"
     ]
    },
    {
     "name": "stdout",
     "output_type": "stream",
     "text": [
      "dropping 'Year' at index: 0\n",
      "dropping 'Infant_deaths' at index: 0\n",
      "dropping 'Under_five_deaths' at index: 0\n",
      "dropping 'Adult_mortality' at index: 0\n",
      "dropping 'Alcohol_consumption' at index: 0\n",
      "dropping 'Hepatitis_B' at index: 0\n",
      "Remaining variables:\n"
     ]
    },
    {
     "name": "stderr",
     "output_type": "stream",
     "text": [
      "/opt/anaconda3/lib/python3.12/site-packages/statsmodels/stats/outliers_influence.py:197: RuntimeWarning: divide by zero encountered in scalar divide\n",
      "  vif = 1. / (1. - r_squared_i)\n",
      "/opt/anaconda3/lib/python3.12/site-packages/statsmodels/regression/linear_model.py:1783: RuntimeWarning: invalid value encountered in scalar divide\n",
      "  return 1 - self.ssr/self.centered_tss\n",
      "/opt/anaconda3/lib/python3.12/site-packages/statsmodels/regression/linear_model.py:1783: RuntimeWarning: divide by zero encountered in scalar divide\n",
      "  return 1 - self.ssr/self.centered_tss\n"
     ]
    },
    {
     "name": "stdout",
     "output_type": "stream",
     "text": [
      "dropping 'Year' at index: 0\n",
      "dropping 'Infant_deaths' at index: 0\n",
      "dropping 'Under_five_deaths' at index: 0\n",
      "dropping 'Adult_mortality' at index: 0\n",
      "dropping 'Alcohol_consumption' at index: 0\n",
      "dropping 'Hepatitis_B' at index: 0\n",
      "dropping 'Measles' at index: 0\n",
      "dropping 'BMI' at index: 0\n",
      "dropping 'Schooling' at index: 7\n",
      "dropping 'exp_GDP' at index: 9\n",
      "dropping 'Diphtheria' at index: 1\n",
      "Remaining variables:\n"
     ]
    },
    {
     "name": "stderr",
     "output_type": "stream",
     "text": [
      "/opt/anaconda3/lib/python3.12/site-packages/statsmodels/stats/outliers_influence.py:197: RuntimeWarning: divide by zero encountered in scalar divide\n",
      "  vif = 1. / (1. - r_squared_i)\n",
      "/opt/anaconda3/lib/python3.12/site-packages/statsmodels/regression/linear_model.py:1783: RuntimeWarning: invalid value encountered in scalar divide\n",
      "  return 1 - self.ssr/self.centered_tss\n",
      "/opt/anaconda3/lib/python3.12/site-packages/statsmodels/regression/linear_model.py:1783: RuntimeWarning: divide by zero encountered in scalar divide\n",
      "  return 1 - self.ssr/self.centered_tss\n"
     ]
    },
    {
     "name": "stdout",
     "output_type": "stream",
     "text": [
      "dropping 'Year' at index: 0\n",
      "dropping 'Infant_deaths' at index: 0\n",
      "dropping 'Under_five_deaths' at index: 0\n",
      "dropping 'Adult_mortality' at index: 0\n",
      "dropping 'Alcohol_consumption' at index: 0\n",
      "dropping 'Population_mln' at index: 7\n",
      "dropping 'exp_GDP' at index: 12\n",
      "dropping 'Measles' at index: 1\n",
      "dropping 'BMI' at index: 1\n",
      "dropping 'Diphtheria' at index: 2\n",
      "dropping 'GDP_per_capita' at index: 3\n",
      "dropping 'Hepatitis_B' at index: 0\n",
      "dropping 'Polio' at index: 0\n",
      "Remaining variables:\n"
     ]
    },
    {
     "name": "stderr",
     "output_type": "stream",
     "text": [
      "/opt/anaconda3/lib/python3.12/site-packages/statsmodels/stats/outliers_influence.py:197: RuntimeWarning: divide by zero encountered in scalar divide\n",
      "  vif = 1. / (1. - r_squared_i)\n",
      "/opt/anaconda3/lib/python3.12/site-packages/statsmodels/regression/linear_model.py:1783: RuntimeWarning: divide by zero encountered in scalar divide\n",
      "  return 1 - self.ssr/self.centered_tss\n",
      "/opt/anaconda3/lib/python3.12/site-packages/statsmodels/regression/linear_model.py:1783: RuntimeWarning: invalid value encountered in scalar divide\n",
      "  return 1 - self.ssr/self.centered_tss\n"
     ]
    },
    {
     "name": "stdout",
     "output_type": "stream",
     "text": [
      "dropping 'Year' at index: 0\n",
      "dropping 'Infant_deaths' at index: 0\n",
      "dropping 'Under_five_deaths' at index: 0\n",
      "dropping 'Adult_mortality' at index: 0\n",
      "dropping 'Alcohol_consumption' at index: 0\n",
      "dropping 'Polio' at index: 3\n",
      "dropping 'BMI' at index: 2\n",
      "dropping 'Schooling' at index: 8\n",
      "dropping 'GDP_per_capita' at index: 4\n",
      "dropping 'Hepatitis_B' at index: 0\n",
      "dropping 'exp_BMI' at index: 9\n",
      "dropping 'Diphtheria' at index: 1\n",
      "dropping 'Incidents_HIV' at index: 1\n",
      "Remaining variables:\n"
     ]
    },
    {
     "name": "stderr",
     "output_type": "stream",
     "text": [
      "/opt/anaconda3/lib/python3.12/site-packages/statsmodels/stats/outliers_influence.py:197: RuntimeWarning: divide by zero encountered in scalar divide\n",
      "  vif = 1. / (1. - r_squared_i)\n",
      "/opt/anaconda3/lib/python3.12/site-packages/statsmodels/regression/linear_model.py:1783: RuntimeWarning: invalid value encountered in scalar divide\n",
      "  return 1 - self.ssr/self.centered_tss\n",
      "/opt/anaconda3/lib/python3.12/site-packages/statsmodels/regression/linear_model.py:1783: RuntimeWarning: divide by zero encountered in scalar divide\n",
      "  return 1 - self.ssr/self.centered_tss\n"
     ]
    },
    {
     "name": "stdout",
     "output_type": "stream",
     "text": [
      "dropping 'Year' at index: 0\n",
      "dropping 'Infant_deaths' at index: 0\n",
      "dropping 'Under_five_deaths' at index: 0\n",
      "dropping 'Adult_mortality' at index: 0\n",
      "dropping 'Alcohol_consumption' at index: 0\n",
      "dropping 'Hepatitis_B' at index: 0\n",
      "Remaining variables:\n"
     ]
    },
    {
     "name": "stderr",
     "output_type": "stream",
     "text": [
      "/opt/anaconda3/lib/python3.12/site-packages/statsmodels/stats/outliers_influence.py:197: RuntimeWarning: divide by zero encountered in scalar divide\n",
      "  vif = 1. / (1. - r_squared_i)\n",
      "/opt/anaconda3/lib/python3.12/site-packages/statsmodels/regression/linear_model.py:1783: RuntimeWarning: invalid value encountered in scalar divide\n",
      "  return 1 - self.ssr/self.centered_tss\n",
      "/opt/anaconda3/lib/python3.12/site-packages/statsmodels/regression/linear_model.py:1783: RuntimeWarning: divide by zero encountered in scalar divide\n",
      "  return 1 - self.ssr/self.centered_tss\n"
     ]
    },
    {
     "name": "stdout",
     "output_type": "stream",
     "text": [
      "dropping 'Year' at index: 0\n",
      "dropping 'Infant_deaths' at index: 0\n",
      "dropping 'Under_five_deaths' at index: 0\n",
      "dropping 'Adult_mortality' at index: 0\n",
      "dropping 'Alcohol_consumption' at index: 0\n",
      "dropping 'BMI' at index: 2\n",
      "dropping 'exp_BMI' at index: 13\n",
      "dropping 'Population_mln' at index: 6\n",
      "dropping 'GDP_per_capita' at index: 5\n",
      "dropping 'Schooling' at index: 7\n",
      "dropping 'Measles' at index: 1\n",
      "dropping 'Thinness_ten_nineteen_years' at index: 4\n",
      "dropping 'Thinness_five_nine_years' at index: 4\n",
      "Remaining variables:\n"
     ]
    },
    {
     "name": "stderr",
     "output_type": "stream",
     "text": [
      "/opt/anaconda3/lib/python3.12/site-packages/statsmodels/stats/outliers_influence.py:197: RuntimeWarning: divide by zero encountered in scalar divide\n",
      "  vif = 1. / (1. - r_squared_i)\n",
      "/opt/anaconda3/lib/python3.12/site-packages/statsmodels/regression/linear_model.py:1783: RuntimeWarning: invalid value encountered in scalar divide\n",
      "  return 1 - self.ssr/self.centered_tss\n",
      "/opt/anaconda3/lib/python3.12/site-packages/statsmodels/regression/linear_model.py:1783: RuntimeWarning: divide by zero encountered in scalar divide\n",
      "  return 1 - self.ssr/self.centered_tss\n"
     ]
    },
    {
     "name": "stdout",
     "output_type": "stream",
     "text": [
      "dropping 'Year' at index: 0\n",
      "dropping 'Infant_deaths' at index: 0\n",
      "dropping 'Under_five_deaths' at index: 0\n",
      "dropping 'Adult_mortality' at index: 0\n",
      "dropping 'Alcohol_consumption' at index: 0\n",
      "dropping 'Hepatitis_B' at index: 0\n",
      "Remaining variables:\n"
     ]
    },
    {
     "name": "stderr",
     "output_type": "stream",
     "text": [
      "/opt/anaconda3/lib/python3.12/site-packages/statsmodels/stats/outliers_influence.py:197: RuntimeWarning: divide by zero encountered in scalar divide\n",
      "  vif = 1. / (1. - r_squared_i)\n",
      "/opt/anaconda3/lib/python3.12/site-packages/statsmodels/regression/linear_model.py:1783: RuntimeWarning: invalid value encountered in scalar divide\n",
      "  return 1 - self.ssr/self.centered_tss\n",
      "/opt/anaconda3/lib/python3.12/site-packages/statsmodels/regression/linear_model.py:1783: RuntimeWarning: divide by zero encountered in scalar divide\n",
      "  return 1 - self.ssr/self.centered_tss\n"
     ]
    },
    {
     "name": "stdout",
     "output_type": "stream",
     "text": [
      "dropping 'Year' at index: 0\n",
      "dropping 'Infant_deaths' at index: 0\n",
      "dropping 'Under_five_deaths' at index: 0\n",
      "dropping 'Adult_mortality' at index: 0\n",
      "dropping 'Alcohol_consumption' at index: 0\n",
      "dropping 'Population_mln' at index: 7\n",
      "dropping 'GDP_per_capita' at index: 6\n",
      "dropping 'BMI' at index: 2\n",
      "dropping 'exp_GDP' at index: 10\n",
      "dropping 'Thinness_ten_nineteen_years' at index: 5\n",
      "dropping 'Thinness_five_nine_years' at index: 5\n",
      "dropping 'exp_BMI' at index: 8\n",
      "dropping 'Incidents_HIV' at index: 4\n",
      "Remaining variables:\n"
     ]
    },
    {
     "name": "stderr",
     "output_type": "stream",
     "text": [
      "/opt/anaconda3/lib/python3.12/site-packages/statsmodels/stats/outliers_influence.py:197: RuntimeWarning: divide by zero encountered in scalar divide\n",
      "  vif = 1. / (1. - r_squared_i)\n",
      "/opt/anaconda3/lib/python3.12/site-packages/statsmodels/regression/linear_model.py:1783: RuntimeWarning: divide by zero encountered in scalar divide\n",
      "  return 1 - self.ssr/self.centered_tss\n",
      "/opt/anaconda3/lib/python3.12/site-packages/statsmodels/regression/linear_model.py:1783: RuntimeWarning: invalid value encountered in scalar divide\n",
      "  return 1 - self.ssr/self.centered_tss\n"
     ]
    },
    {
     "name": "stdout",
     "output_type": "stream",
     "text": [
      "dropping 'Year' at index: 0\n",
      "dropping 'Infant_deaths' at index: 0\n",
      "dropping 'Under_five_deaths' at index: 0\n",
      "dropping 'Adult_mortality' at index: 0\n",
      "dropping 'Alcohol_consumption' at index: 0\n",
      "dropping 'Hepatitis_B' at index: 0\n",
      "dropping 'Measles' at index: 0\n",
      "dropping 'exp_BMI' at index: 12\n",
      "dropping 'BMI' at index: 0\n",
      "dropping 'Thinness_five_nine_years' at index: 6\n",
      "dropping 'Thinness_ten_nineteen_years' at index: 5\n",
      "dropping 'Polio' at index: 0\n",
      "dropping 'GDP_per_capita' at index: 2\n",
      "Remaining variables:\n"
     ]
    },
    {
     "name": "stderr",
     "output_type": "stream",
     "text": [
      "/opt/anaconda3/lib/python3.12/site-packages/statsmodels/stats/outliers_influence.py:197: RuntimeWarning: divide by zero encountered in scalar divide\n",
      "  vif = 1. / (1. - r_squared_i)\n",
      "/opt/anaconda3/lib/python3.12/site-packages/statsmodels/regression/linear_model.py:1783: RuntimeWarning: invalid value encountered in scalar divide\n",
      "  return 1 - self.ssr/self.centered_tss\n",
      "/opt/anaconda3/lib/python3.12/site-packages/statsmodels/regression/linear_model.py:1783: RuntimeWarning: divide by zero encountered in scalar divide\n",
      "  return 1 - self.ssr/self.centered_tss\n"
     ]
    },
    {
     "name": "stdout",
     "output_type": "stream",
     "text": [
      "dropping 'Year' at index: 0\n",
      "dropping 'Infant_deaths' at index: 0\n",
      "dropping 'Under_five_deaths' at index: 0\n",
      "dropping 'Adult_mortality' at index: 0\n",
      "dropping 'Alcohol_consumption' at index: 0\n",
      "dropping 'Population_mln' at index: 7\n",
      "dropping 'Diphtheria' at index: 4\n",
      "dropping 'BMI' at index: 2\n",
      "dropping 'Hepatitis_B' at index: 0\n",
      "dropping 'exp_GDP' at index: 9\n",
      "dropping 'Schooling' at index: 6\n",
      "dropping 'exp_BMI' at index: 8\n",
      "dropping 'Thinness_five_nine_years' at index: 5\n",
      "Remaining variables:\n",
      "dropping 'Year' at index: 0\n"
     ]
    },
    {
     "name": "stderr",
     "output_type": "stream",
     "text": [
      "/opt/anaconda3/lib/python3.12/site-packages/statsmodels/stats/outliers_influence.py:197: RuntimeWarning: divide by zero encountered in scalar divide\n",
      "  vif = 1. / (1. - r_squared_i)\n",
      "/opt/anaconda3/lib/python3.12/site-packages/statsmodels/regression/linear_model.py:1783: RuntimeWarning: invalid value encountered in scalar divide\n",
      "  return 1 - self.ssr/self.centered_tss\n",
      "/opt/anaconda3/lib/python3.12/site-packages/statsmodels/regression/linear_model.py:1783: RuntimeWarning: divide by zero encountered in scalar divide\n",
      "  return 1 - self.ssr/self.centered_tss\n"
     ]
    },
    {
     "name": "stdout",
     "output_type": "stream",
     "text": [
      "dropping 'Infant_deaths' at index: 0\n",
      "dropping 'Under_five_deaths' at index: 0\n",
      "dropping 'Adult_mortality' at index: 0\n",
      "dropping 'Alcohol_consumption' at index: 0\n",
      "dropping 'Hepatitis_B' at index: 0\n",
      "Remaining variables:\n"
     ]
    },
    {
     "name": "stderr",
     "output_type": "stream",
     "text": [
      "/opt/anaconda3/lib/python3.12/site-packages/statsmodels/regression/linear_model.py:1783: RuntimeWarning: invalid value encountered in scalar divide\n",
      "  return 1 - self.ssr/self.centered_tss\n",
      "/opt/anaconda3/lib/python3.12/site-packages/statsmodels/regression/linear_model.py:1783: RuntimeWarning: divide by zero encountered in scalar divide\n",
      "  return 1 - self.ssr/self.centered_tss\n",
      "/opt/anaconda3/lib/python3.12/site-packages/statsmodels/stats/outliers_influence.py:197: RuntimeWarning: divide by zero encountered in scalar divide\n",
      "  vif = 1. / (1. - r_squared_i)\n"
     ]
    },
    {
     "name": "stdout",
     "output_type": "stream",
     "text": [
      "dropping 'exp_GDP' at index: 18\n",
      "dropping 'Year' at index: 0\n",
      "dropping 'Infant_deaths' at index: 0\n",
      "dropping 'Under_five_deaths' at index: 0\n",
      "dropping 'Adult_mortality' at index: 0\n",
      "dropping 'Alcohol_consumption' at index: 0\n",
      "dropping 'GDP_per_capita' at index: 6\n",
      "dropping 'Thinness_ten_nineteen_years' at index: 7\n",
      "dropping 'exp_BMI' at index: 11\n",
      "dropping 'Incidents_HIV' at index: 5\n",
      "dropping 'BMI' at index: 2\n",
      "dropping 'Schooling' at index: 6\n",
      "Remaining variables:\n",
      "dropping 'Year' at index: 0\n"
     ]
    },
    {
     "name": "stderr",
     "output_type": "stream",
     "text": [
      "/opt/anaconda3/lib/python3.12/site-packages/statsmodels/stats/outliers_influence.py:197: RuntimeWarning: divide by zero encountered in scalar divide\n",
      "  vif = 1. / (1. - r_squared_i)\n",
      "/opt/anaconda3/lib/python3.12/site-packages/statsmodels/regression/linear_model.py:1783: RuntimeWarning: invalid value encountered in scalar divide\n",
      "  return 1 - self.ssr/self.centered_tss\n",
      "/opt/anaconda3/lib/python3.12/site-packages/statsmodels/regression/linear_model.py:1783: RuntimeWarning: divide by zero encountered in scalar divide\n",
      "  return 1 - self.ssr/self.centered_tss\n"
     ]
    },
    {
     "name": "stdout",
     "output_type": "stream",
     "text": [
      "dropping 'Infant_deaths' at index: 0\n",
      "dropping 'Under_five_deaths' at index: 0\n",
      "dropping 'Adult_mortality' at index: 0\n",
      "dropping 'Alcohol_consumption' at index: 0\n",
      "dropping 'Hepatitis_B' at index: 0\n",
      "dropping 'Thinness_ten_nineteen_years' at index: 7\n",
      "dropping 'Population_mln' at index: 6\n",
      "dropping 'Incidents_HIV' at index: 4\n",
      "dropping 'Thinness_five_nine_years' at index: 5\n",
      "dropping 'exp_BMI' at index: 9\n",
      "dropping 'GDP_per_capita' at index: 4\n",
      "dropping 'Diphtheria' at index: 3\n",
      "dropping 'Measles' at index: 0\n",
      "Remaining variables:\n"
     ]
    },
    {
     "name": "stderr",
     "output_type": "stream",
     "text": [
      "/opt/anaconda3/lib/python3.12/site-packages/statsmodels/stats/outliers_influence.py:197: RuntimeWarning: divide by zero encountered in scalar divide\n",
      "  vif = 1. / (1. - r_squared_i)\n",
      "/opt/anaconda3/lib/python3.12/site-packages/statsmodels/regression/linear_model.py:1783: RuntimeWarning: invalid value encountered in scalar divide\n",
      "  return 1 - self.ssr/self.centered_tss\n",
      "/opt/anaconda3/lib/python3.12/site-packages/statsmodels/regression/linear_model.py:1783: RuntimeWarning: divide by zero encountered in scalar divide\n",
      "  return 1 - self.ssr/self.centered_tss\n"
     ]
    },
    {
     "name": "stdout",
     "output_type": "stream",
     "text": [
      "dropping 'Year' at index: 0\n",
      "dropping 'Infant_deaths' at index: 0\n",
      "dropping 'Under_five_deaths' at index: 0\n",
      "dropping 'Adult_mortality' at index: 0\n",
      "dropping 'Alcohol_consumption' at index: 0\n",
      "dropping 'Hepatitis_B' at index: 0\n",
      "dropping 'BMI' at index: 1\n",
      "dropping 'Population_mln' at index: 5\n",
      "dropping 'Thinness_five_nine_years' at index: 6\n",
      "dropping 'Schooling' at index: 6\n",
      "dropping 'GDP_per_capita' at index: 4\n",
      "dropping 'Thinness_ten_nineteen_years' at index: 4\n",
      "dropping 'Diphtheria' at index: 2\n",
      "Remaining variables:\n"
     ]
    },
    {
     "name": "stderr",
     "output_type": "stream",
     "text": [
      "/opt/anaconda3/lib/python3.12/site-packages/statsmodels/stats/outliers_influence.py:197: RuntimeWarning: divide by zero encountered in scalar divide\n",
      "  vif = 1. / (1. - r_squared_i)\n",
      "/opt/anaconda3/lib/python3.12/site-packages/statsmodels/regression/linear_model.py:1783: RuntimeWarning: invalid value encountered in scalar divide\n",
      "  return 1 - self.ssr/self.centered_tss\n",
      "/opt/anaconda3/lib/python3.12/site-packages/statsmodels/regression/linear_model.py:1783: RuntimeWarning: divide by zero encountered in scalar divide\n",
      "  return 1 - self.ssr/self.centered_tss\n"
     ]
    },
    {
     "name": "stdout",
     "output_type": "stream",
     "text": [
      "dropping 'Year' at index: 0\n",
      "dropping 'Infant_deaths' at index: 0\n",
      "dropping 'Under_five_deaths' at index: 0\n",
      "dropping 'Adult_mortality' at index: 0\n",
      "dropping 'Alcohol_consumption' at index: 0\n",
      "dropping 'Hepatitis_B' at index: 0\n",
      "Remaining variables:\n",
      "dropping 'Year' at index: 0\n"
     ]
    },
    {
     "name": "stderr",
     "output_type": "stream",
     "text": [
      "/opt/anaconda3/lib/python3.12/site-packages/statsmodels/stats/outliers_influence.py:197: RuntimeWarning: divide by zero encountered in scalar divide\n",
      "  vif = 1. / (1. - r_squared_i)\n",
      "/opt/anaconda3/lib/python3.12/site-packages/statsmodels/regression/linear_model.py:1783: RuntimeWarning: invalid value encountered in scalar divide\n",
      "  return 1 - self.ssr/self.centered_tss\n",
      "/opt/anaconda3/lib/python3.12/site-packages/statsmodels/regression/linear_model.py:1783: RuntimeWarning: divide by zero encountered in scalar divide\n",
      "  return 1 - self.ssr/self.centered_tss\n"
     ]
    },
    {
     "name": "stdout",
     "output_type": "stream",
     "text": [
      "dropping 'Infant_deaths' at index: 0\n",
      "dropping 'Under_five_deaths' at index: 0\n",
      "dropping 'Adult_mortality' at index: 0\n",
      "dropping 'Alcohol_consumption' at index: 0\n",
      "dropping 'Hepatitis_B' at index: 0\n",
      "Remaining variables:\n"
     ]
    }
   ],
   "source": [
    "features = feature_selection(X_trains_fe)"
   ]
  },
  {
   "cell_type": "markdown",
   "id": "450f0b45-86d0-4eb5-8669-9adf9229c1d6",
   "metadata": {},
   "source": [
    "## Test on Train"
   ]
  },
  {
   "cell_type": "markdown",
   "id": "11f354c9-f2e3-4ac9-8d7f-5290223907be",
   "metadata": {},
   "source": [
    "### Fit the Linear Regression Models"
   ]
  },
  {
   "cell_type": "markdown",
   "id": "eacb27f8-caa7-4119-ba92-fa905a04c598",
   "metadata": {},
   "source": [
    "**Re-add the Constant column for the lin reg model**"
   ]
  },
  {
   "cell_type": "code",
   "execution_count": 34,
   "id": "b47604aa-bcad-4b23-aff8-0782c5445e99",
   "metadata": {},
   "outputs": [],
   "source": [
    "def final_features(features):\n",
    "    final_features = {}\n",
    "    for country in list(features.keys()):\n",
    "        final_features[country] = features[country]\n",
    "        final_features[country].insert(0,'const')\n",
    "    return final_features"
   ]
  },
  {
   "cell_type": "code",
   "execution_count": 35,
   "id": "ae10415b-64d6-43e5-957f-25587f478b7f",
   "metadata": {
    "scrolled": true
   },
   "outputs": [
    {
     "data": {
      "text/plain": [
       "{'Sri Lanka': ['const', 'Thinness_ten_nineteen_years', 'Schooling'],\n",
       " 'Czechia': ['const', 'Polio', 'Population_mln', 'Schooling'],\n",
       " 'Venezuela, RB': ['const', 'Polio', 'Thinness_five_nine_years'],\n",
       " 'Albania': ['const',\n",
       "  'Hepatitis_B',\n",
       "  'Polio',\n",
       "  'Diphtheria',\n",
       "  'Incidents_HIV',\n",
       "  'Schooling'],\n",
       " 'Namibia': ['const', 'Hepatitis_B', 'Polio', 'Diphtheria', 'Incidents_HIV'],\n",
       " 'Qatar': ['const',\n",
       "  'Alcohol_consumption',\n",
       "  'Polio',\n",
       "  'GDP_per_capita',\n",
       "  'Thinness_five_nine_years',\n",
       "  'Schooling'],\n",
       " 'United Arab Emirates': ['const', 'Diphtheria', 'exp_GDP'],\n",
       " 'Thailand': ['const', 'Diphtheria', 'exp_BMI'],\n",
       " 'New Zealand': ['const', 'Hepatitis_B', 'Diphtheria', 'GDP_per_capita'],\n",
       " 'Cyprus': ['const', 'Hepatitis_B', 'Measles'],\n",
       " 'Portugal': ['const', 'Schooling'],\n",
       " 'Serbia': ['const', 'Alcohol_consumption', 'Hepatitis_B', 'Incidents_HIV'],\n",
       " 'Singapore': ['const', 'Measles', 'Thinness_ten_nineteen_years', 'Schooling'],\n",
       " 'Philippines': ['const', 'Hepatitis_B', 'Measles'],\n",
       " 'Ethiopia': ['const',\n",
       "  'BMI',\n",
       "  'Polio',\n",
       "  'Diphtheria',\n",
       "  'Incidents_HIV',\n",
       "  'GDP_per_capita',\n",
       "  'Population_mln',\n",
       "  'Thinness_ten_nineteen_years',\n",
       "  'Thinness_five_nine_years',\n",
       "  'Schooling',\n",
       "  'exp_GDP',\n",
       "  'exp_BMI'],\n",
       " 'Germany': ['const', 'Measles', 'Polio', 'Incidents_HIV', 'Population_mln'],\n",
       " 'Libya': ['const', 'Diphtheria', 'Schooling'],\n",
       " 'Madagascar': ['const', 'Schooling', 'exp_BMI'],\n",
       " 'Tunisia': ['const', 'exp_BMI'],\n",
       " 'Gambia, The': ['const', 'Hepatitis_B', 'Diphtheria', 'exp_BMI'],\n",
       " 'Equatorial Guinea': ['const',\n",
       "  'BMI',\n",
       "  'Diphtheria',\n",
       "  'Incidents_HIV',\n",
       "  'Population_mln',\n",
       "  'Schooling',\n",
       "  'exp_BMI'],\n",
       " 'Ecuador': ['const', 'Measles', 'Incidents_HIV'],\n",
       " 'Kuwait': ['const', 'Measles', 'Thinness_ten_nineteen_years', 'Schooling'],\n",
       " 'Malawi': ['const', 'Alcohol_consumption', 'exp_BMI'],\n",
       " 'Chile': ['const', 'Measles', 'Thinness_ten_nineteen_years', 'exp_BMI'],\n",
       " 'Liberia': ['const', 'Alcohol_consumption', 'Diphtheria'],\n",
       " 'Solomon Islands': ['const',\n",
       "  'BMI',\n",
       "  'Diphtheria',\n",
       "  'GDP_per_capita',\n",
       "  'Population_mln',\n",
       "  'Thinness_ten_nineteen_years',\n",
       "  'Thinness_five_nine_years',\n",
       "  'Schooling',\n",
       "  'exp_GDP',\n",
       "  'exp_BMI'],\n",
       " 'Myanmar': ['const', 'Alcohol_consumption', 'Measles'],\n",
       " 'Bangladesh': ['const',\n",
       "  'Hepatitis_B',\n",
       "  'Diphtheria',\n",
       "  'Thinness_ten_nineteen_years',\n",
       "  'exp_GDP'],\n",
       " 'Hungary': ['const', 'Alcohol_consumption', 'Schooling', 'exp_GDP'],\n",
       " 'Djibouti': ['const',\n",
       "  'Alcohol_consumption',\n",
       "  'Hepatitis_B',\n",
       "  'Incidents_HIV',\n",
       "  'exp_GDP'],\n",
       " 'Belarus': ['const', 'Population_mln', 'exp_BMI'],\n",
       " 'Ghana': ['const', 'Polio', 'exp_GDP'],\n",
       " 'Comoros': ['const',\n",
       "  'BMI',\n",
       "  'Polio',\n",
       "  'Diphtheria',\n",
       "  'Incidents_HIV',\n",
       "  'GDP_per_capita',\n",
       "  'Population_mln',\n",
       "  'Thinness_ten_nineteen_years',\n",
       "  'Thinness_five_nine_years',\n",
       "  'Schooling',\n",
       "  'exp_GDP',\n",
       "  'exp_BMI'],\n",
       " 'Nicaragua': ['const',\n",
       "  'BMI',\n",
       "  'Polio',\n",
       "  'Diphtheria',\n",
       "  'Incidents_HIV',\n",
       "  'GDP_per_capita',\n",
       "  'Population_mln',\n",
       "  'Thinness_ten_nineteen_years',\n",
       "  'Thinness_five_nine_years',\n",
       "  'Schooling',\n",
       "  'exp_GDP',\n",
       "  'exp_BMI'],\n",
       " 'Brazil': ['const', 'Polio', 'Diphtheria', 'GDP_per_capita', 'exp_BMI'],\n",
       " 'Romania': ['const', 'Incidents_HIV', 'exp_GDP', 'exp_BMI'],\n",
       " 'China': ['const', 'Hepatitis_B', 'Measles', 'exp_BMI'],\n",
       " 'Argentina': ['const',\n",
       "  'Hepatitis_B',\n",
       "  'Thinness_five_nine_years',\n",
       "  'Schooling'],\n",
       " 'Finland': ['const', 'Schooling', 'exp_BMI'],\n",
       " 'Samoa': ['const',\n",
       "  'Population_mln',\n",
       "  'Thinness_five_nine_years',\n",
       "  'exp_GDP',\n",
       "  'exp_BMI'],\n",
       " 'Egypt, Arab Rep.': ['const', 'Alcohol_consumption', 'Diphtheria', 'exp_BMI'],\n",
       " 'Fiji': ['const', 'Hepatitis_B', 'Measles', 'Thinness_five_nine_years'],\n",
       " 'Iraq': ['const', 'Population_mln', 'Thinness_ten_nineteen_years'],\n",
       " 'Kenya': ['const', 'Polio', 'Diphtheria', 'exp_BMI'],\n",
       " 'Russian Federation': ['const', 'Alcohol_consumption', 'exp_GDP'],\n",
       " 'Micronesia, Fed. Sts.': ['const', 'Schooling'],\n",
       " 'Central African Republic': ['const', 'Incidents_HIV'],\n",
       " 'Morocco': ['const',\n",
       "  'Hepatitis_B',\n",
       "  'Measles',\n",
       "  'Diphtheria',\n",
       "  'Incidents_HIV',\n",
       "  'Thinness_ten_nineteen_years'],\n",
       " 'Moldova': ['const', 'Adult_mortality', 'Polio', 'Diphtheria'],\n",
       " 'Japan': ['const',\n",
       "  'BMI',\n",
       "  'Polio',\n",
       "  'GDP_per_capita',\n",
       "  'Thinness_ten_nineteen_years',\n",
       "  'Thinness_five_nine_years',\n",
       "  'Schooling',\n",
       "  'exp_GDP',\n",
       "  'exp_BMI'],\n",
       " 'Barbados': ['const',\n",
       "  'Population_mln',\n",
       "  'Thinness_ten_nineteen_years',\n",
       "  'Schooling'],\n",
       " 'Uruguay': ['const', 'Thinness_ten_nineteen_years', 'exp_BMI'],\n",
       " 'Turkiye': ['const',\n",
       "  'Alcohol_consumption',\n",
       "  'Diphtheria',\n",
       "  'Thinness_five_nine_years',\n",
       "  'Schooling'],\n",
       " 'Senegal': ['const', 'exp_BMI'],\n",
       " 'Australia': ['const',\n",
       "  'Hepatitis_B',\n",
       "  'Measles',\n",
       "  'Thinness_ten_nineteen_years',\n",
       "  'Thinness_five_nine_years'],\n",
       " 'United Kingdom': ['const',\n",
       "  'Adult_mortality',\n",
       "  'Alcohol_consumption',\n",
       "  'Schooling',\n",
       "  'exp_GDP'],\n",
       " 'Rwanda': ['const', 'Alcohol_consumption', 'Hepatitis_B', 'Polio', 'exp_GDP'],\n",
       " 'Burundi': ['const', 'Hepatitis_B', 'Incidents_HIV'],\n",
       " 'Brunei Darussalam': ['const', 'Thinness_ten_nineteen_years', 'exp_GDP'],\n",
       " 'Kiribati': ['const',\n",
       "  'Measles',\n",
       "  'Population_mln',\n",
       "  'Thinness_ten_nineteen_years',\n",
       "  'exp_GDP'],\n",
       " 'Sweden': ['const', 'Alcohol_consumption', 'Polio', 'exp_GDP'],\n",
       " 'Vanuatu': ['const',\n",
       "  'BMI',\n",
       "  'Polio',\n",
       "  'Diphtheria',\n",
       "  'Population_mln',\n",
       "  'Thinness_ten_nineteen_years',\n",
       "  'Thinness_five_nine_years',\n",
       "  'Schooling',\n",
       "  'exp_BMI'],\n",
       " 'Botswana': ['const', 'Diphtheria', 'exp_GDP'],\n",
       " 'Syrian Arab Republic': ['const',\n",
       "  'GDP_per_capita',\n",
       "  'Thinness_ten_nineteen_years',\n",
       "  'Thinness_five_nine_years'],\n",
       " 'Algeria': ['const', 'Incidents_HIV', 'Thinness_ten_nineteen_years'],\n",
       " 'Angola': ['const',\n",
       "  'BMI',\n",
       "  'Polio',\n",
       "  'Diphtheria',\n",
       "  'Incidents_HIV',\n",
       "  'GDP_per_capita',\n",
       "  'Population_mln',\n",
       "  'Thinness_ten_nineteen_years',\n",
       "  'Thinness_five_nine_years',\n",
       "  'Schooling',\n",
       "  'exp_GDP',\n",
       "  'exp_BMI'],\n",
       " 'Denmark': ['const', 'Alcohol_consumption', 'Measles'],\n",
       " 'Ireland': ['const',\n",
       "  'Alcohol_consumption',\n",
       "  'Incidents_HIV',\n",
       "  'Thinness_five_nine_years',\n",
       "  'Schooling'],\n",
       " 'Mongolia': ['const', 'Thinness_ten_nineteen_years', 'exp_GDP'],\n",
       " 'Somalia': ['const', 'Thinness_ten_nineteen_years', 'exp_GDP'],\n",
       " 'Antigua and Barbuda': ['const',\n",
       "  'Measles',\n",
       "  'Incidents_HIV',\n",
       "  'Population_mln',\n",
       "  'Schooling'],\n",
       " 'Ukraine': ['const', 'Measles', 'Diphtheria', 'Schooling'],\n",
       " 'Estonia': ['const', 'Thinness_ten_nineteen_years', 'exp_GDP'],\n",
       " 'North Macedonia': ['const',\n",
       "  'BMI',\n",
       "  'GDP_per_capita',\n",
       "  'Population_mln',\n",
       "  'Thinness_ten_nineteen_years',\n",
       "  'Thinness_five_nine_years',\n",
       "  'Schooling',\n",
       "  'exp_GDP',\n",
       "  'exp_BMI'],\n",
       " 'Gabon': ['const', 'exp_BMI'],\n",
       " 'Georgia': ['const', 'Diphtheria', 'Thinness_ten_nineteen_years', 'exp_BMI'],\n",
       " 'Armenia': ['const', 'Schooling'],\n",
       " 'Italy': ['const', 'Thinness_five_nine_years'],\n",
       " 'Oman': ['const', 'BMI'],\n",
       " 'Sierra Leone': ['const', 'Hepatitis_B', 'BMI', 'exp_GDP'],\n",
       " 'Belgium': ['const', 'Measles', 'Polio', 'Thinness_five_nine_years'],\n",
       " 'Poland': ['const', 'Polio', 'Population_mln'],\n",
       " 'Tonga': ['const', 'Alcohol_consumption', 'GDP_per_capita'],\n",
       " 'Lesotho': ['const', 'Population_mln'],\n",
       " 'Benin': ['const',\n",
       "  'BMI',\n",
       "  'Incidents_HIV',\n",
       "  'GDP_per_capita',\n",
       "  'Population_mln',\n",
       "  'Thinness_ten_nineteen_years',\n",
       "  'Thinness_five_nine_years',\n",
       "  'Schooling',\n",
       "  'exp_GDP',\n",
       "  'exp_BMI'],\n",
       " 'Cabo Verde': ['const', 'exp_BMI'],\n",
       " 'Guatemala': ['const', 'Thinness_five_nine_years', 'Schooling'],\n",
       " 'Lebanon': ['const', 'Incidents_HIV', 'exp_GDP'],\n",
       " 'Canada': ['const', 'Alcohol_consumption'],\n",
       " 'Bosnia and Herzegovina': ['const', 'Hepatitis_B', 'Schooling'],\n",
       " 'South Africa': ['const', 'Polio', 'Thinness_five_nine_years', 'Schooling'],\n",
       " 'Jamaica': ['const', 'Thinness_ten_nineteen_years'],\n",
       " 'Switzerland': ['const',\n",
       "  'Measles',\n",
       "  'BMI',\n",
       "  'Diphtheria',\n",
       "  'Incidents_HIV',\n",
       "  'GDP_per_capita',\n",
       "  'Population_mln',\n",
       "  'Thinness_ten_nineteen_years',\n",
       "  'Thinness_five_nine_years',\n",
       "  'Schooling',\n",
       "  'exp_GDP',\n",
       "  'exp_BMI'],\n",
       " 'Cambodia': ['const', 'Polio', 'Incidents_HIV', 'Schooling'],\n",
       " 'Mauritania': ['const',\n",
       "  'Alcohol_consumption',\n",
       "  'Hepatitis_B',\n",
       "  'Thinness_ten_nineteen_years',\n",
       "  'exp_BMI'],\n",
       " 'Lao PDR': ['const',\n",
       "  'Alcohol_consumption',\n",
       "  'Incidents_HIV',\n",
       "  'Thinness_five_nine_years',\n",
       "  'exp_GDP'],\n",
       " 'Iceland': ['const', 'Adult_mortality', 'Diphtheria', 'exp_BMI'],\n",
       " \"Cote d'Ivoire\": ['const',\n",
       "  'BMI',\n",
       "  'Diphtheria',\n",
       "  'Incidents_HIV',\n",
       "  'Population_mln',\n",
       "  'Thinness_ten_nineteen_years',\n",
       "  'Thinness_five_nine_years',\n",
       "  'Schooling',\n",
       "  'exp_BMI'],\n",
       " 'Latvia': ['const',\n",
       "  'Diphtheria',\n",
       "  'Incidents_HIV',\n",
       "  'Thinness_ten_nineteen_years',\n",
       "  'exp_GDP'],\n",
       " 'Bahrain': ['const', 'Schooling', 'exp_GDP'],\n",
       " 'Grenada': ['const', 'exp_BMI'],\n",
       " 'Bulgaria': ['const', 'Incidents_HIV', 'Schooling', 'exp_BMI'],\n",
       " 'Kyrgyz Republic': ['const',\n",
       "  'BMI',\n",
       "  'GDP_per_capita',\n",
       "  'Population_mln',\n",
       "  'Schooling',\n",
       "  'exp_GDP',\n",
       "  'exp_BMI'],\n",
       " 'Pakistan': ['const', 'Thinness_five_nine_years', 'exp_GDP'],\n",
       " 'Belize': ['const',\n",
       "  'Incidents_HIV',\n",
       "  'Thinness_ten_nineteen_years',\n",
       "  'exp_BMI'],\n",
       " 'Iran, Islamic Rep.': ['const', 'Incidents_HIV', 'Schooling', 'exp_GDP'],\n",
       " 'Nepal': ['const', 'Alcohol_consumption', 'Hepatitis_B', 'Polio', 'exp_GDP'],\n",
       " 'Chad': ['const', 'Alcohol_consumption', 'Hepatitis_B', 'Diphtheria'],\n",
       " 'Burkina Faso': ['const', 'Diphtheria', 'exp_BMI'],\n",
       " 'Congo, Dem. Rep.': ['const',\n",
       "  'Diphtheria',\n",
       "  'Thinness_ten_nineteen_years',\n",
       "  'exp_GDP'],\n",
       " 'Bahamas, The': ['const', 'Hepatitis_B', 'Schooling'],\n",
       " 'Mozambique': ['const', 'Hepatitis_B', 'Polio', 'Schooling'],\n",
       " 'Yemen, Rep.': ['const',\n",
       "  'BMI',\n",
       "  'Incidents_HIV',\n",
       "  'Population_mln',\n",
       "  'Thinness_ten_nineteen_years',\n",
       "  'Thinness_five_nine_years',\n",
       "  'Schooling',\n",
       "  'exp_BMI'],\n",
       " 'India': ['const', 'Incidents_HIV', 'exp_GDP'],\n",
       " 'Kazakhstan': ['const', 'exp_BMI'],\n",
       " 'Indonesia': ['const',\n",
       "  'Polio',\n",
       "  'Diphtheria',\n",
       "  'Thinness_ten_nineteen_years',\n",
       "  'Thinness_five_nine_years',\n",
       "  'Schooling'],\n",
       " 'Costa Rica': ['const', 'Thinness_ten_nineteen_years', 'Schooling'],\n",
       " 'Zambia': ['const', 'exp_GDP'],\n",
       " 'Seychelles': ['const', 'Population_mln'],\n",
       " 'United States': ['const', 'Schooling'],\n",
       " 'Saudi Arabia': ['const', 'Hepatitis_B', 'Polio', 'Thinness_five_nine_years'],\n",
       " 'Luxembourg': ['const', 'exp_BMI'],\n",
       " 'Norway': ['const', 'Diphtheria', 'Incidents_HIV', 'Schooling', 'exp_BMI'],\n",
       " 'Panama': ['const', 'Polio', 'Thinness_five_nine_years', 'exp_GDP'],\n",
       " 'Austria': ['const',\n",
       "  'Hepatitis_B',\n",
       "  'Diphtheria',\n",
       "  'Thinness_ten_nineteen_years',\n",
       "  'exp_GDP'],\n",
       " 'Maldives': ['const', 'Measles', 'GDP_per_capita'],\n",
       " 'El Salvador': ['const', 'Schooling', 'exp_GDP'],\n",
       " 'Netherlands': ['const',\n",
       "  'Thinness_ten_nineteen_years',\n",
       "  'Thinness_five_nine_years',\n",
       "  'exp_GDP'],\n",
       " 'Dominican Republic': ['const',\n",
       "  'BMI',\n",
       "  'Polio',\n",
       "  'Diphtheria',\n",
       "  'Incidents_HIV',\n",
       "  'GDP_per_capita',\n",
       "  'Population_mln',\n",
       "  'Thinness_ten_nineteen_years',\n",
       "  'Thinness_five_nine_years',\n",
       "  'Schooling',\n",
       "  'exp_GDP',\n",
       "  'exp_BMI'],\n",
       " 'Israel': ['const', 'Alcohol_consumption', 'GDP_per_capita'],\n",
       " 'Mauritius': ['const', 'Measles', 'Incidents_HIV', 'Population_mln'],\n",
       " 'Turkmenistan': ['const', 'Thinness_five_nine_years', 'Schooling'],\n",
       " 'Sao Tome and Principe': ['const',\n",
       "  'BMI',\n",
       "  'Polio',\n",
       "  'Diphtheria',\n",
       "  'Incidents_HIV',\n",
       "  'GDP_per_capita',\n",
       "  'Population_mln',\n",
       "  'Thinness_ten_nineteen_years',\n",
       "  'Thinness_five_nine_years',\n",
       "  'Schooling',\n",
       "  'exp_GDP',\n",
       "  'exp_BMI'],\n",
       " 'Afghanistan': ['const',\n",
       "  'Incidents_HIV',\n",
       "  'Thinness_five_nine_years',\n",
       "  'exp_GDP',\n",
       "  'exp_BMI'],\n",
       " 'Timor-Leste': ['const',\n",
       "  'BMI',\n",
       "  'Polio',\n",
       "  'Diphtheria',\n",
       "  'Incidents_HIV',\n",
       "  'GDP_per_capita',\n",
       "  'Population_mln',\n",
       "  'Thinness_five_nine_years',\n",
       "  'Schooling',\n",
       "  'exp_GDP',\n",
       "  'exp_BMI'],\n",
       " 'Papua New Guinea': ['const',\n",
       "  'Hepatitis_B',\n",
       "  'Diphtheria',\n",
       "  'Incidents_HIV',\n",
       "  'Thinness_ten_nineteen_years',\n",
       "  'exp_GDP'],\n",
       " 'Slovak Republic': ['const',\n",
       "  'BMI',\n",
       "  'GDP_per_capita',\n",
       "  'Population_mln',\n",
       "  'Thinness_ten_nineteen_years',\n",
       "  'Thinness_five_nine_years',\n",
       "  'Schooling',\n",
       "  'exp_GDP',\n",
       "  'exp_BMI'],\n",
       " 'Congo, Rep.': ['const',\n",
       "  'BMI',\n",
       "  'Polio',\n",
       "  'Diphtheria',\n",
       "  'Incidents_HIV',\n",
       "  'GDP_per_capita',\n",
       "  'Population_mln',\n",
       "  'Thinness_ten_nineteen_years',\n",
       "  'Thinness_five_nine_years',\n",
       "  'Schooling',\n",
       "  'exp_GDP',\n",
       "  'exp_BMI'],\n",
       " 'Nigeria': ['const',\n",
       "  'Alcohol_consumption',\n",
       "  'Hepatitis_B',\n",
       "  'Thinness_ten_nineteen_years',\n",
       "  'Thinness_five_nine_years',\n",
       "  'Schooling'],\n",
       " 'Guyana': ['const',\n",
       "  'Alcohol_consumption',\n",
       "  'Measles',\n",
       "  'Polio',\n",
       "  'Population_mln',\n",
       "  'Schooling'],\n",
       " 'Guinea-Bissau': ['const',\n",
       "  'BMI',\n",
       "  'Polio',\n",
       "  'Diphtheria',\n",
       "  'Incidents_HIV',\n",
       "  'GDP_per_capita',\n",
       "  'Population_mln',\n",
       "  'Schooling',\n",
       "  'exp_GDP',\n",
       "  'exp_BMI'],\n",
       " 'St. Lucia': ['const',\n",
       "  'Hepatitis_B',\n",
       "  'Polio',\n",
       "  'Thinness_ten_nineteen_years',\n",
       "  'Thinness_five_nine_years',\n",
       "  'exp_GDP',\n",
       "  'exp_BMI'],\n",
       " 'Colombia': ['const', 'Incidents_HIV', 'exp_GDP'],\n",
       " 'Eswatini': ['const', 'exp_BMI'],\n",
       " 'France': ['const', 'Measles', 'Incidents_HIV', 'exp_GDP', 'exp_BMI'],\n",
       " 'Lithuania': ['const', 'Measles', 'exp_BMI'],\n",
       " 'Vietnam': ['const', 'exp_GDP'],\n",
       " 'Bolivia': ['const',\n",
       "  'Alcohol_consumption',\n",
       "  'Diphtheria',\n",
       "  'Incidents_HIV',\n",
       "  'Schooling'],\n",
       " 'Togo': ['const', 'Hepatitis_B', 'Polio', 'Incidents_HIV'],\n",
       " 'Peru': ['const',\n",
       "  'Alcohol_consumption',\n",
       "  'Thinness_five_nine_years',\n",
       "  'Schooling'],\n",
       " 'Jordan': ['const', 'Measles', 'Diphtheria', 'Schooling'],\n",
       " 'Bhutan': ['const', 'Diphtheria', 'Incidents_HIV'],\n",
       " 'Mali': ['const', 'Hepatitis_B', 'exp_GDP'],\n",
       " 'Tajikistan': ['const', 'Polio', 'Thinness_ten_nineteen_years'],\n",
       " 'Suriname': ['const', 'Thinness_ten_nineteen_years', 'Schooling', 'exp_GDP'],\n",
       " 'Slovenia': ['const',\n",
       "  'Measles',\n",
       "  'BMI',\n",
       "  'Polio',\n",
       "  'Diphtheria',\n",
       "  'GDP_per_capita',\n",
       "  'Population_mln',\n",
       "  'Thinness_ten_nineteen_years',\n",
       "  'Thinness_five_nine_years',\n",
       "  'Schooling',\n",
       "  'exp_BMI'],\n",
       " 'Montenegro': ['const', 'Incidents_HIV', 'exp_GDP'],\n",
       " 'Niger': ['const',\n",
       "  'BMI',\n",
       "  'Polio',\n",
       "  'Diphtheria',\n",
       "  'Incidents_HIV',\n",
       "  'GDP_per_capita',\n",
       "  'Population_mln',\n",
       "  'Thinness_ten_nineteen_years',\n",
       "  'Schooling',\n",
       "  'exp_GDP',\n",
       "  'exp_BMI'],\n",
       " 'Tanzania': ['const', 'Alcohol_consumption', 'Incidents_HIV'],\n",
       " 'Guinea': ['const', 'BMI', 'Schooling'],\n",
       " 'Cuba': ['const',\n",
       "  'Measles',\n",
       "  'Polio',\n",
       "  'Population_mln',\n",
       "  'Thinness_ten_nineteen_years',\n",
       "  'Thinness_five_nine_years'],\n",
       " 'Malta': ['const',\n",
       "  'Measles',\n",
       "  'BMI',\n",
       "  'Thinness_ten_nineteen_years',\n",
       "  'Thinness_five_nine_years'],\n",
       " 'Honduras': ['const',\n",
       "  'BMI',\n",
       "  'Diphtheria',\n",
       "  'Incidents_HIV',\n",
       "  'GDP_per_capita',\n",
       "  'Population_mln',\n",
       "  'Thinness_ten_nineteen_years',\n",
       "  'Thinness_five_nine_years',\n",
       "  'Schooling',\n",
       "  'exp_GDP',\n",
       "  'exp_BMI'],\n",
       " 'Spain': ['const', 'Incidents_HIV', 'Population_mln'],\n",
       " 'Azerbaijan': ['const',\n",
       "  'Incidents_HIV',\n",
       "  'Thinness_ten_nineteen_years',\n",
       "  'Thinness_five_nine_years',\n",
       "  'exp_BMI'],\n",
       " 'Greece': ['const',\n",
       "  'Measles',\n",
       "  'Thinness_ten_nineteen_years',\n",
       "  'Thinness_five_nine_years'],\n",
       " 'Uganda': ['const',\n",
       "  'BMI',\n",
       "  'Polio',\n",
       "  'Diphtheria',\n",
       "  'Incidents_HIV',\n",
       "  'GDP_per_capita',\n",
       "  'Population_mln',\n",
       "  'Thinness_ten_nineteen_years',\n",
       "  'Thinness_five_nine_years',\n",
       "  'Schooling',\n",
       "  'exp_GDP',\n",
       "  'exp_BMI'],\n",
       " 'Uzbekistan': ['const', 'Incidents_HIV', 'exp_GDP'],\n",
       " 'Haiti': ['const',\n",
       "  'BMI',\n",
       "  'Polio',\n",
       "  'Incidents_HIV',\n",
       "  'Population_mln',\n",
       "  'Thinness_ten_nineteen_years',\n",
       "  'Thinness_five_nine_years',\n",
       "  'Schooling',\n",
       "  'exp_BMI'],\n",
       " 'Paraguay': ['const', 'Measles', 'Schooling'],\n",
       " 'Croatia': ['const', 'Population_mln', 'Schooling'],\n",
       " 'Mexico': ['const'],\n",
       " 'Cameroon': ['const',\n",
       "  'BMI',\n",
       "  'Polio',\n",
       "  'Diphtheria',\n",
       "  'Incidents_HIV',\n",
       "  'GDP_per_capita',\n",
       "  'Population_mln',\n",
       "  'Thinness_ten_nineteen_years',\n",
       "  'Thinness_five_nine_years',\n",
       "  'Schooling',\n",
       "  'exp_GDP',\n",
       "  'exp_BMI'],\n",
       " 'Eritrea': ['const', 'Hepatitis_B', 'Thinness_five_nine_years'],\n",
       " 'Malaysia': ['const', 'BMI', 'Schooling', 'exp_GDP'],\n",
       " 'Trinidad and Tobago': ['const', 'Measles', 'exp_GDP', 'exp_BMI'],\n",
       " 'St. Vincent and the Grenadines': ['const',\n",
       "  'BMI',\n",
       "  'GDP_per_capita',\n",
       "  'Thinness_ten_nineteen_years',\n",
       "  'Thinness_five_nine_years',\n",
       "  'Schooling',\n",
       "  'exp_BMI'],\n",
       " 'Zimbabwe': ['const',\n",
       "  'BMI',\n",
       "  'Polio',\n",
       "  'Diphtheria',\n",
       "  'Incidents_HIV',\n",
       "  'Population_mln',\n",
       "  'Schooling',\n",
       "  'exp_BMI']}"
      ]
     },
     "execution_count": 35,
     "metadata": {},
     "output_type": "execute_result"
    }
   ],
   "source": [
    "final_features = final_features(features)\n",
    "final_features"
   ]
  },
  {
   "cell_type": "markdown",
   "id": "4c9c1ce6-2945-4023-89bb-77732f512e97",
   "metadata": {},
   "source": [
    "**Fit the linear regression models for each country and collect their rmse on the training set**"
   ]
  },
  {
   "cell_type": "code",
   "execution_count": 37,
   "id": "0ea73d42-c2ac-43bc-aee7-e0a06232e962",
   "metadata": {},
   "outputs": [],
   "source": [
    "def linreg_train_summary():\n",
    "    rmse = {}\n",
    "    R_squared = {}\n",
    "    cond_no = {}\n",
    "    \n",
    "    for country in list(X_trains_fe.keys()):\n",
    "        training_set2 = pd.concat([X_trains_fe[country], y_train.loc[X_trains_fe[country].index]], axis=1)\n",
    "        y_train2 = training_set2['Life_expectancy']\n",
    "        lin_reg = sm.OLS(y_train2, X_trains_fe[country][final_features[country]])\n",
    "        results = lin_reg.fit()\n",
    "\n",
    "        R_squared[country] = results.rsquared\n",
    "        cond_no[country] = results.condition_number\n",
    "       \n",
    "        y_pred = results.predict(X_trains_fe[country][final_features[country]])\n",
    "    \n",
    "        rmse_1 = statsmodels.tools.eval_measures.rmse(y_train2, y_pred)\n",
    "\n",
    "        rmse[country] = round(rmse_1, 3)\n",
    "        \n",
    "    return rmse, R_squared, cond_no\n",
    "    "
   ]
  },
  {
   "cell_type": "code",
   "execution_count": 62,
   "id": "73e3394f-79a4-4811-8698-ba3dfb14da3f",
   "metadata": {},
   "outputs": [],
   "source": [
    "(data2, data3, data4) = linreg_train_summary()"
   ]
  },
  {
   "cell_type": "code",
   "execution_count": 65,
   "id": "84452427-c0bc-4155-9fb7-63811be51307",
   "metadata": {
    "scrolled": true
   },
   "outputs": [
    {
     "data": {
      "image/png": "[encoded data removed]",
      "text/plain": [
       "<Figure size 640x480 with 1 Axes>"
      ]
     },
     "metadata": {},
     "output_type": "display_data"
    }
   ],
   "source": [
    "sns.barplot(data3)\n",
    "plt.show()"
   ]
  },
  {
   "cell_type": "markdown",
   "id": "21026308-9e5e-4ce1-abcc-78aff79048b4",
   "metadata": {},
   "source": [
    "## Test on Test"
   ]
  },
  {
   "cell_type": "code",
   "execution_count": null,
   "id": "2f07be28-4342-4b9b-a428-3a512d60ebd5",
   "metadata": {},
   "outputs": [],
   "source": [
    "def linreg_test_summary():\n",
    "\n",
    "    # Feature Engineer the new_data\n",
    "\n",
    "    \n",
    "    # fit the model\n",
    "    \n",
    "    training_set2 = pd.concat([X_trains_fe[country], y_train.loc[X_trains_fe[country].index]], axis=1)\n",
    "    y_train2 = training_set2['Life_expectancy']\n",
    "    lin_reg = sm.OLS(y_train2, X_trains_fe[country][final_features[country]])\n",
    "    results = lin_reg.fit()\n",
    "\n",
    "    \n",
    "    y_pred = results.predict(X_test_fe)\n",
    "    \n",
    "    rmse_1 = statsmodels.tools.eval_measures.rmse(y_train2, y_pred)\n",
    "\n",
    "    return prediction"
   ]
  },
  {
   "cell_type": "markdown",
   "id": "3351e202-4cfa-4721-872a-89f6aa9aea56",
   "metadata": {},
   "source": [
    "## Test on the Test Set"
   ]
  },
  {
   "cell_type": "code",
   "execution_count": null,
   "id": "62292623-1d0e-427a-b194-635eee0f4dc7",
   "metadata": {},
   "outputs": [],
   "source": [
    "## We apply feature_eng to the X_test set! \n",
    "## This is why having a nice neat function is very nice! \n",
    "X_test_fe = feature_eng(X_test)\n",
    "\n",
    "## Now we predict using the X_test_fe set!\n",
    "## We don't \"fit\" the model again! \n",
    "## We want to see test results that are similar to the training results!"
   ]
  },
  {
   "cell_type": "code",
   "execution_count": null,
   "id": "c71be70e-c124-4bee-83a6-6e855db841a2",
   "metadata": {},
   "outputs": [],
   "source": [
    "y_test_pred = results.predict(X_test_fe[final_features])\n",
    "rmse = statsmodels.tools.eval_measures.rmse(y_test, y_test_pred)\n",
    "print(rmse)"
   ]
  },
  {
   "cell_type": "code",
   "execution_count": null,
   "id": "ffe4c611-0e2e-420d-8502-433b60df6ebe",
   "metadata": {},
   "outputs": [],
   "source": []
  }
 ],
 "metadata": {
  "kernelspec": {
   "display_name": "Python [conda env:base] *",
   "language": "python",
   "name": "conda-base-py"
  },
  "language_info": {
   "codemirror_mode": {
    "name": "ipython",
    "version": 3
   },
   "file_extension": ".py",
   "mimetype": "text/x-python",
   "name": "python",
   "nbconvert_exporter": "python",
   "pygments_lexer": "ipython3",
   "version": "3.12.7"
  }
 },
 "nbformat": 4,
 "nbformat_minor": 5
}
